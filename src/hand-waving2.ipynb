{
 "cells": [
  {
   "cell_type": "markdown",
   "id": "683999f8689ef957",
   "metadata": {
    "collapsed": false
   },
   "source": [
    "Build dataset\n"
   ]
  },
  {
   "cell_type": "code",
   "execution_count": 1,
   "id": "7165c3cf00682744",
   "metadata": {
    "collapsed": false,
    "ExecuteTime": {
     "end_time": "2023-12-27T15:02:02.168011981Z",
     "start_time": "2023-12-27T15:02:00.863908283Z"
    }
   },
   "outputs": [],
   "source": [
    "from typing import TypedDict, Type, Any, Callable\n",
    "\n",
    "import warnings\n",
    "\n",
    "warnings.simplefilter(action='ignore', category=FutureWarning)\n",
    "\n",
    "import pandas as pd\n",
    "import numpy as np\n",
    "from matplotlib import pyplot as plt\n",
    "\n",
    "from spark.config import views\n",
    "from spark.create_session import create_session\n",
    "\n",
    "from IPython.display import display\n",
    "\n",
    "from fitter import Fitter, get_common_distributions"
   ]
  },
  {
   "cell_type": "code",
   "execution_count": 2,
   "id": "bb68bcb393edcbb9",
   "metadata": {
    "collapsed": false,
    "ExecuteTime": {
     "end_time": "2023-12-27T15:02:07.688117200Z",
     "start_time": "2023-12-27T15:02:02.170461450Z"
    }
   },
   "outputs": [
    {
     "name": "stderr",
     "output_type": "stream",
     "text": [
      "Setting default log level to \"WARN\".\n",
      "To adjust logging level use sc.setLogLevel(newLevel). For SparkR, use setLogLevel(newLevel).\n",
      "23/12/27 16:02:03 WARN NativeCodeLoader: Unable to load native-hadoop library for your platform... using builtin-java classes where applicable\n",
      "23/12/27 16:02:03 WARN Utils: Service 'SparkUI' could not bind on port 4040. Attempting port 4041.\n",
      "                                                                                \r"
     ]
    }
   ],
   "source": [
    "VIEWS = views(\"v3\")\n",
    "spark = create_session()\n",
    "\n",
    "for view, file in VIEWS.items():\n",
    "    df = spark.read.json(file)\n",
    "    df.createOrReplaceTempView(view)"
   ]
  },
  {
   "cell_type": "code",
   "execution_count": 3,
   "id": "a2f9ee82c87bf517",
   "metadata": {
    "collapsed": false,
    "ExecuteTime": {
     "end_time": "2023-12-27T15:02:12.190263470Z",
     "start_time": "2023-12-27T15:02:07.692837335Z"
    }
   },
   "outputs": [
    {
     "name": "stderr",
     "output_type": "stream",
     "text": [
      "                                                                                \r"
     ]
    }
   ],
   "source": [
    "sessions_full = spark.sql(f\"SELECT * FROM sessions\").toPandas()\n",
    "sessions = spark.sql(f\"SELECT DISTINCT user_id, track_id FROM sessions WHERE event_type like 'play' order by user_id, track_id\").toPandas()\n",
    "tracks = spark.sql(\n",
    "    f\"SELECT DISTINCT id, acousticness, danceability, duration_ms, energy, instrumentalness, key, liveness, loudness, popularity, EXTRACT(year from `release_date`) as release_year, speechiness, tempo, valence FROM tracks \").toPandas()"
   ]
  },
  {
   "cell_type": "code",
   "execution_count": 4,
   "id": "a01cee0ebc7f0da",
   "metadata": {
    "collapsed": false,
    "ExecuteTime": {
     "end_time": "2023-12-27T15:02:12.273706036Z",
     "start_time": "2023-12-27T15:02:12.201226884Z"
    }
   },
   "outputs": [
    {
     "data": {
      "text/plain": "          event_type  session_id                   timestamp  \\\n0               play         124         2023-09-20T07:18:17   \n1               like         124  2023-09-20T07:18:30.069000   \n2               play         125  2023-04-27T00:20:57.181000   \n3               play         126  2023-02-11T05:34:54.160000   \n4       advertisment         126  2023-02-11T05:34:56.685000   \n...              ...         ...                         ...   \n580241          like      102015  2023-11-12T09:06:01.022000   \n580242          play      102015  2023-11-12T09:09:17.564000   \n580243          like      102015  2023-11-12T09:12:19.739000   \n580244          skip      102015  2023-11-12T09:12:58.093000   \n580245          play      102015  2023-11-12T09:13:03.093000   \n\n                      track_id  user_id  \n0       4flBNxpPLGVAdufOzRBIen      101  \n1       4flBNxpPLGVAdufOzRBIen      101  \n2       3uMYq07Kj5m564OQwdSCrD      101  \n3       2RChe0r2cMoyOvuKobZy44      101  \n4                         None      101  \n...                        ...      ...  \n580241  4cLdpErILMO8Db8pQVAVcZ     1100  \n580242  3j8ja2Hq824OaRqIENJPTH     1100  \n580243  3j8ja2Hq824OaRqIENJPTH     1100  \n580244  3j8ja2Hq824OaRqIENJPTH     1100  \n580245  42ocGQCOT0xYtV3f5kJDsD     1100  \n\n[580246 rows x 5 columns]",
      "text/html": "<div>\n<style scoped>\n    .dataframe tbody tr th:only-of-type {\n        vertical-align: middle;\n    }\n\n    .dataframe tbody tr th {\n        vertical-align: top;\n    }\n\n    .dataframe thead th {\n        text-align: right;\n    }\n</style>\n<table border=\"1\" class=\"dataframe\">\n  <thead>\n    <tr style=\"text-align: right;\">\n      <th></th>\n      <th>event_type</th>\n      <th>session_id</th>\n      <th>timestamp</th>\n      <th>track_id</th>\n      <th>user_id</th>\n    </tr>\n  </thead>\n  <tbody>\n    <tr>\n      <th>0</th>\n      <td>play</td>\n      <td>124</td>\n      <td>2023-09-20T07:18:17</td>\n      <td>4flBNxpPLGVAdufOzRBIen</td>\n      <td>101</td>\n    </tr>\n    <tr>\n      <th>1</th>\n      <td>like</td>\n      <td>124</td>\n      <td>2023-09-20T07:18:30.069000</td>\n      <td>4flBNxpPLGVAdufOzRBIen</td>\n      <td>101</td>\n    </tr>\n    <tr>\n      <th>2</th>\n      <td>play</td>\n      <td>125</td>\n      <td>2023-04-27T00:20:57.181000</td>\n      <td>3uMYq07Kj5m564OQwdSCrD</td>\n      <td>101</td>\n    </tr>\n    <tr>\n      <th>3</th>\n      <td>play</td>\n      <td>126</td>\n      <td>2023-02-11T05:34:54.160000</td>\n      <td>2RChe0r2cMoyOvuKobZy44</td>\n      <td>101</td>\n    </tr>\n    <tr>\n      <th>4</th>\n      <td>advertisment</td>\n      <td>126</td>\n      <td>2023-02-11T05:34:56.685000</td>\n      <td>None</td>\n      <td>101</td>\n    </tr>\n    <tr>\n      <th>...</th>\n      <td>...</td>\n      <td>...</td>\n      <td>...</td>\n      <td>...</td>\n      <td>...</td>\n    </tr>\n    <tr>\n      <th>580241</th>\n      <td>like</td>\n      <td>102015</td>\n      <td>2023-11-12T09:06:01.022000</td>\n      <td>4cLdpErILMO8Db8pQVAVcZ</td>\n      <td>1100</td>\n    </tr>\n    <tr>\n      <th>580242</th>\n      <td>play</td>\n      <td>102015</td>\n      <td>2023-11-12T09:09:17.564000</td>\n      <td>3j8ja2Hq824OaRqIENJPTH</td>\n      <td>1100</td>\n    </tr>\n    <tr>\n      <th>580243</th>\n      <td>like</td>\n      <td>102015</td>\n      <td>2023-11-12T09:12:19.739000</td>\n      <td>3j8ja2Hq824OaRqIENJPTH</td>\n      <td>1100</td>\n    </tr>\n    <tr>\n      <th>580244</th>\n      <td>skip</td>\n      <td>102015</td>\n      <td>2023-11-12T09:12:58.093000</td>\n      <td>3j8ja2Hq824OaRqIENJPTH</td>\n      <td>1100</td>\n    </tr>\n    <tr>\n      <th>580245</th>\n      <td>play</td>\n      <td>102015</td>\n      <td>2023-11-12T09:13:03.093000</td>\n      <td>42ocGQCOT0xYtV3f5kJDsD</td>\n      <td>1100</td>\n    </tr>\n  </tbody>\n</table>\n<p>580246 rows × 5 columns</p>\n</div>"
     },
     "metadata": {},
     "output_type": "display_data"
    },
    {
     "data": {
      "text/plain": "        user_id                track_id\n0           101  03LNdMgu3l3Ldc3QMl1bvZ\n1           101  08QXSGwwI8Qu4IQEV3AfM6\n2           101  09WxJCWFMWAxTHBLLelpDS\n3           101  0BVCEJJFVsb8nrQGI11Dj2\n4           101  0ChHBmij3WHKGmyan2tPST\n...         ...                     ...\n318740     1100  7qRmdDl9dnHkFT4MMboG7Y\n318741     1100  7rPbzHewbn20oGdUuIxhCa\n318742     1100  7rvILFySMopzPchZq9Bnmf\n318743     1100  7s41ZGjQB5Ur8T0fQlk5uM\n318744     1100  7sqhD28PN9cK1QPzkZf9NF\n\n[318745 rows x 2 columns]",
      "text/html": "<div>\n<style scoped>\n    .dataframe tbody tr th:only-of-type {\n        vertical-align: middle;\n    }\n\n    .dataframe tbody tr th {\n        vertical-align: top;\n    }\n\n    .dataframe thead th {\n        text-align: right;\n    }\n</style>\n<table border=\"1\" class=\"dataframe\">\n  <thead>\n    <tr style=\"text-align: right;\">\n      <th></th>\n      <th>user_id</th>\n      <th>track_id</th>\n    </tr>\n  </thead>\n  <tbody>\n    <tr>\n      <th>0</th>\n      <td>101</td>\n      <td>03LNdMgu3l3Ldc3QMl1bvZ</td>\n    </tr>\n    <tr>\n      <th>1</th>\n      <td>101</td>\n      <td>08QXSGwwI8Qu4IQEV3AfM6</td>\n    </tr>\n    <tr>\n      <th>2</th>\n      <td>101</td>\n      <td>09WxJCWFMWAxTHBLLelpDS</td>\n    </tr>\n    <tr>\n      <th>3</th>\n      <td>101</td>\n      <td>0BVCEJJFVsb8nrQGI11Dj2</td>\n    </tr>\n    <tr>\n      <th>4</th>\n      <td>101</td>\n      <td>0ChHBmij3WHKGmyan2tPST</td>\n    </tr>\n    <tr>\n      <th>...</th>\n      <td>...</td>\n      <td>...</td>\n    </tr>\n    <tr>\n      <th>318740</th>\n      <td>1100</td>\n      <td>7qRmdDl9dnHkFT4MMboG7Y</td>\n    </tr>\n    <tr>\n      <th>318741</th>\n      <td>1100</td>\n      <td>7rPbzHewbn20oGdUuIxhCa</td>\n    </tr>\n    <tr>\n      <th>318742</th>\n      <td>1100</td>\n      <td>7rvILFySMopzPchZq9Bnmf</td>\n    </tr>\n    <tr>\n      <th>318743</th>\n      <td>1100</td>\n      <td>7s41ZGjQB5Ur8T0fQlk5uM</td>\n    </tr>\n    <tr>\n      <th>318744</th>\n      <td>1100</td>\n      <td>7sqhD28PN9cK1QPzkZf9NF</td>\n    </tr>\n  </tbody>\n</table>\n<p>318745 rows × 2 columns</p>\n</div>"
     },
     "metadata": {},
     "output_type": "display_data"
    },
    {
     "data": {
      "text/plain": "                           id  acousticness  danceability  duration_ms  \\\n0      3KfbEIOC7YIv90FIfNSZpo        0.4490         0.688       146333   \n1      1dxbAIfCASqv6jix2R1Taj        0.7840         0.698       148413   \n2      17PXXzOygMyXXUNLngVN5u        0.8820         0.539       173733   \n3      3Um9toULmYFGCpvaIPFw7l        0.4470         0.283       233000   \n4      0GjEhVFGZW8afUYGChu3Rr        0.3580         0.543       230400   \n...                       ...           ...           ...          ...   \n22407  3VbsXTdxBl6IavGjFZbl3R        0.0394         0.720       225012   \n22408  2zurBuX8TGOHkZLhye9Xme        0.0551         0.769       179080   \n22409  3ev1ilsHdVbpXeT7FG6Kw7        0.6410         0.838       229187   \n22410  5qTwnr6WbWeeUDS9dcl5g6        0.3370         0.444       303097   \n22411  5MAjVARSIDzwz8jFG36hFu        0.2180         0.689       186643   \n\n       energy  instrumentalness  key  liveness  loudness  popularity  \\\n0       0.435          0.000000    9    0.1130   -11.359          74   \n1       0.293          0.010600    0    0.0936   -11.361          55   \n2       0.114          0.009020    2    0.1060   -20.575          60   \n3       0.716          0.000000    1    0.3990    -9.632          72   \n4       0.870          0.000939    9    0.7920    -6.514          81   \n...       ...               ...  ...       ...       ...         ...   \n22407   0.824          0.000000   10    0.0509    -5.086          53   \n22408   0.922          0.000000    9    0.1940    -2.779          51   \n22409   0.461          0.000000    1    0.0825    -9.610          54   \n22410   0.523          0.000000    1    0.1130    -4.522          54   \n22411   0.662          0.000032    7    0.3950    -6.732          68   \n\n       release_year  speechiness    tempo  valence  \n0              1965       0.0323  103.239    0.435  \n1              1967       0.0332  117.613    0.724  \n2              1970       0.0346  141.378    0.608  \n3              1971       0.0986  201.960    0.828  \n4              1976       0.0428  100.804    0.754  \n...             ...          ...      ...      ...  \n22407          2020       0.1280  165.998    0.333  \n22408          2020       0.1020  119.991    0.804  \n22409          2017       0.2170  104.979    0.497  \n22410          2019       0.0286  185.872    0.420  \n22411          2019       0.0612  129.957    0.673  \n\n[22412 rows x 14 columns]",
      "text/html": "<div>\n<style scoped>\n    .dataframe tbody tr th:only-of-type {\n        vertical-align: middle;\n    }\n\n    .dataframe tbody tr th {\n        vertical-align: top;\n    }\n\n    .dataframe thead th {\n        text-align: right;\n    }\n</style>\n<table border=\"1\" class=\"dataframe\">\n  <thead>\n    <tr style=\"text-align: right;\">\n      <th></th>\n      <th>id</th>\n      <th>acousticness</th>\n      <th>danceability</th>\n      <th>duration_ms</th>\n      <th>energy</th>\n      <th>instrumentalness</th>\n      <th>key</th>\n      <th>liveness</th>\n      <th>loudness</th>\n      <th>popularity</th>\n      <th>release_year</th>\n      <th>speechiness</th>\n      <th>tempo</th>\n      <th>valence</th>\n    </tr>\n  </thead>\n  <tbody>\n    <tr>\n      <th>0</th>\n      <td>3KfbEIOC7YIv90FIfNSZpo</td>\n      <td>0.4490</td>\n      <td>0.688</td>\n      <td>146333</td>\n      <td>0.435</td>\n      <td>0.000000</td>\n      <td>9</td>\n      <td>0.1130</td>\n      <td>-11.359</td>\n      <td>74</td>\n      <td>1965</td>\n      <td>0.0323</td>\n      <td>103.239</td>\n      <td>0.435</td>\n    </tr>\n    <tr>\n      <th>1</th>\n      <td>1dxbAIfCASqv6jix2R1Taj</td>\n      <td>0.7840</td>\n      <td>0.698</td>\n      <td>148413</td>\n      <td>0.293</td>\n      <td>0.010600</td>\n      <td>0</td>\n      <td>0.0936</td>\n      <td>-11.361</td>\n      <td>55</td>\n      <td>1967</td>\n      <td>0.0332</td>\n      <td>117.613</td>\n      <td>0.724</td>\n    </tr>\n    <tr>\n      <th>2</th>\n      <td>17PXXzOygMyXXUNLngVN5u</td>\n      <td>0.8820</td>\n      <td>0.539</td>\n      <td>173733</td>\n      <td>0.114</td>\n      <td>0.009020</td>\n      <td>2</td>\n      <td>0.1060</td>\n      <td>-20.575</td>\n      <td>60</td>\n      <td>1970</td>\n      <td>0.0346</td>\n      <td>141.378</td>\n      <td>0.608</td>\n    </tr>\n    <tr>\n      <th>3</th>\n      <td>3Um9toULmYFGCpvaIPFw7l</td>\n      <td>0.4470</td>\n      <td>0.283</td>\n      <td>233000</td>\n      <td>0.716</td>\n      <td>0.000000</td>\n      <td>1</td>\n      <td>0.3990</td>\n      <td>-9.632</td>\n      <td>72</td>\n      <td>1971</td>\n      <td>0.0986</td>\n      <td>201.960</td>\n      <td>0.828</td>\n    </tr>\n    <tr>\n      <th>4</th>\n      <td>0GjEhVFGZW8afUYGChu3Rr</td>\n      <td>0.3580</td>\n      <td>0.543</td>\n      <td>230400</td>\n      <td>0.870</td>\n      <td>0.000939</td>\n      <td>9</td>\n      <td>0.7920</td>\n      <td>-6.514</td>\n      <td>81</td>\n      <td>1976</td>\n      <td>0.0428</td>\n      <td>100.804</td>\n      <td>0.754</td>\n    </tr>\n    <tr>\n      <th>...</th>\n      <td>...</td>\n      <td>...</td>\n      <td>...</td>\n      <td>...</td>\n      <td>...</td>\n      <td>...</td>\n      <td>...</td>\n      <td>...</td>\n      <td>...</td>\n      <td>...</td>\n      <td>...</td>\n      <td>...</td>\n      <td>...</td>\n      <td>...</td>\n    </tr>\n    <tr>\n      <th>22407</th>\n      <td>3VbsXTdxBl6IavGjFZbl3R</td>\n      <td>0.0394</td>\n      <td>0.720</td>\n      <td>225012</td>\n      <td>0.824</td>\n      <td>0.000000</td>\n      <td>10</td>\n      <td>0.0509</td>\n      <td>-5.086</td>\n      <td>53</td>\n      <td>2020</td>\n      <td>0.1280</td>\n      <td>165.998</td>\n      <td>0.333</td>\n    </tr>\n    <tr>\n      <th>22408</th>\n      <td>2zurBuX8TGOHkZLhye9Xme</td>\n      <td>0.0551</td>\n      <td>0.769</td>\n      <td>179080</td>\n      <td>0.922</td>\n      <td>0.000000</td>\n      <td>9</td>\n      <td>0.1940</td>\n      <td>-2.779</td>\n      <td>51</td>\n      <td>2020</td>\n      <td>0.1020</td>\n      <td>119.991</td>\n      <td>0.804</td>\n    </tr>\n    <tr>\n      <th>22409</th>\n      <td>3ev1ilsHdVbpXeT7FG6Kw7</td>\n      <td>0.6410</td>\n      <td>0.838</td>\n      <td>229187</td>\n      <td>0.461</td>\n      <td>0.000000</td>\n      <td>1</td>\n      <td>0.0825</td>\n      <td>-9.610</td>\n      <td>54</td>\n      <td>2017</td>\n      <td>0.2170</td>\n      <td>104.979</td>\n      <td>0.497</td>\n    </tr>\n    <tr>\n      <th>22410</th>\n      <td>5qTwnr6WbWeeUDS9dcl5g6</td>\n      <td>0.3370</td>\n      <td>0.444</td>\n      <td>303097</td>\n      <td>0.523</td>\n      <td>0.000000</td>\n      <td>1</td>\n      <td>0.1130</td>\n      <td>-4.522</td>\n      <td>54</td>\n      <td>2019</td>\n      <td>0.0286</td>\n      <td>185.872</td>\n      <td>0.420</td>\n    </tr>\n    <tr>\n      <th>22411</th>\n      <td>5MAjVARSIDzwz8jFG36hFu</td>\n      <td>0.2180</td>\n      <td>0.689</td>\n      <td>186643</td>\n      <td>0.662</td>\n      <td>0.000032</td>\n      <td>7</td>\n      <td>0.3950</td>\n      <td>-6.732</td>\n      <td>68</td>\n      <td>2019</td>\n      <td>0.0612</td>\n      <td>129.957</td>\n      <td>0.673</td>\n    </tr>\n  </tbody>\n</table>\n<p>22412 rows × 14 columns</p>\n</div>"
     },
     "metadata": {},
     "output_type": "display_data"
    }
   ],
   "source": [
    "display(sessions_full)\n",
    "display(sessions)\n",
    "display(tracks)"
   ]
  },
  {
   "cell_type": "code",
   "execution_count": 5,
   "id": "4eb93be217eeeadd",
   "metadata": {
    "collapsed": false,
    "ExecuteTime": {
     "end_time": "2023-12-27T15:02:14.702071706Z",
     "start_time": "2023-12-27T15:02:12.230093324Z"
    }
   },
   "outputs": [
    {
     "name": "stderr",
     "output_type": "stream",
     "text": [
      "                                                                                \r"
     ]
    },
    {
     "data": {
      "text/plain": "        user_id                track_id  weight  acousticness  danceability  \\\n0           101  03LNdMgu3l3Ldc3QMl1bvZ       1      0.545000         0.674   \n1           101  08QXSGwwI8Qu4IQEV3AfM6       1      0.552000         0.697   \n2           101  09WxJCWFMWAxTHBLLelpDS       1      0.127000         0.842   \n3           101  0BVCEJJFVsb8nrQGI11Dj2       1      0.005220         0.656   \n4           101  0ChHBmij3WHKGmyan2tPST       1      0.128000         0.829   \n...         ...                     ...     ...           ...           ...   \n318740     1100  7qRmdDl9dnHkFT4MMboG7Y       1      0.000333         0.505   \n318741     1100  7rPbzHewbn20oGdUuIxhCa       1      0.775000         0.651   \n318742     1100  7rvILFySMopzPchZq9Bnmf       1      0.121000         0.578   \n318743     1100  7s41ZGjQB5Ur8T0fQlk5uM       1      0.014600         0.447   \n318744     1100  7sqhD28PN9cK1QPzkZf9NF       1      0.138000         0.799   \n\n        duration_ms  energy  instrumentalness  key  liveness  loudness  \\\n0            182549   0.637          0.000002    0    0.0483    -3.400   \n1            162960   0.633          0.000000    7    0.1280    -6.983   \n2            271973   0.831          0.000000    1    0.0881    -7.072   \n3            235253   0.923          0.000000    2    0.3260    -3.541   \n4            208667   0.733          0.194000    8    0.0780    -8.590   \n...             ...     ...               ...  ...       ...       ...   \n318740       173827   0.906          0.000127    7    0.2900    -5.127   \n318741       264160   0.307          0.000000   11    0.0956    -9.304   \n318742       261307   0.940          0.000261    9    0.2580    -2.751   \n318743       205573   0.765          0.000000    6    0.0750    -5.001   \n318744       217600   0.910          0.000000    6    0.0294    -5.699   \n\n        popularity  release_year  speechiness    tempo  valence  \n0               52          2014       0.0330  139.867    0.755  \n1               60          2019       0.0793  139.074    0.716  \n2               60          1996       0.2420   92.053    0.814  \n3               56          2011       0.0339  139.930    0.652  \n4               57          1999       0.0342  102.128    0.685  \n...            ...           ...          ...      ...      ...  \n318740          56          2014       0.0399  107.855    0.553  \n318741          57          2019       0.0327  140.083    0.157  \n318742          52          2016       0.1880   89.805    0.609  \n318743          66          2007       0.0433  169.853    0.365  \n318744          51          1999       0.0374  117.043    0.966  \n\n[318745 rows x 16 columns]",
      "text/html": "<div>\n<style scoped>\n    .dataframe tbody tr th:only-of-type {\n        vertical-align: middle;\n    }\n\n    .dataframe tbody tr th {\n        vertical-align: top;\n    }\n\n    .dataframe thead th {\n        text-align: right;\n    }\n</style>\n<table border=\"1\" class=\"dataframe\">\n  <thead>\n    <tr style=\"text-align: right;\">\n      <th></th>\n      <th>user_id</th>\n      <th>track_id</th>\n      <th>weight</th>\n      <th>acousticness</th>\n      <th>danceability</th>\n      <th>duration_ms</th>\n      <th>energy</th>\n      <th>instrumentalness</th>\n      <th>key</th>\n      <th>liveness</th>\n      <th>loudness</th>\n      <th>popularity</th>\n      <th>release_year</th>\n      <th>speechiness</th>\n      <th>tempo</th>\n      <th>valence</th>\n    </tr>\n  </thead>\n  <tbody>\n    <tr>\n      <th>0</th>\n      <td>101</td>\n      <td>03LNdMgu3l3Ldc3QMl1bvZ</td>\n      <td>1</td>\n      <td>0.545000</td>\n      <td>0.674</td>\n      <td>182549</td>\n      <td>0.637</td>\n      <td>0.000002</td>\n      <td>0</td>\n      <td>0.0483</td>\n      <td>-3.400</td>\n      <td>52</td>\n      <td>2014</td>\n      <td>0.0330</td>\n      <td>139.867</td>\n      <td>0.755</td>\n    </tr>\n    <tr>\n      <th>1</th>\n      <td>101</td>\n      <td>08QXSGwwI8Qu4IQEV3AfM6</td>\n      <td>1</td>\n      <td>0.552000</td>\n      <td>0.697</td>\n      <td>162960</td>\n      <td>0.633</td>\n      <td>0.000000</td>\n      <td>7</td>\n      <td>0.1280</td>\n      <td>-6.983</td>\n      <td>60</td>\n      <td>2019</td>\n      <td>0.0793</td>\n      <td>139.074</td>\n      <td>0.716</td>\n    </tr>\n    <tr>\n      <th>2</th>\n      <td>101</td>\n      <td>09WxJCWFMWAxTHBLLelpDS</td>\n      <td>1</td>\n      <td>0.127000</td>\n      <td>0.842</td>\n      <td>271973</td>\n      <td>0.831</td>\n      <td>0.000000</td>\n      <td>1</td>\n      <td>0.0881</td>\n      <td>-7.072</td>\n      <td>60</td>\n      <td>1996</td>\n      <td>0.2420</td>\n      <td>92.053</td>\n      <td>0.814</td>\n    </tr>\n    <tr>\n      <th>3</th>\n      <td>101</td>\n      <td>0BVCEJJFVsb8nrQGI11Dj2</td>\n      <td>1</td>\n      <td>0.005220</td>\n      <td>0.656</td>\n      <td>235253</td>\n      <td>0.923</td>\n      <td>0.000000</td>\n      <td>2</td>\n      <td>0.3260</td>\n      <td>-3.541</td>\n      <td>56</td>\n      <td>2011</td>\n      <td>0.0339</td>\n      <td>139.930</td>\n      <td>0.652</td>\n    </tr>\n    <tr>\n      <th>4</th>\n      <td>101</td>\n      <td>0ChHBmij3WHKGmyan2tPST</td>\n      <td>1</td>\n      <td>0.128000</td>\n      <td>0.829</td>\n      <td>208667</td>\n      <td>0.733</td>\n      <td>0.194000</td>\n      <td>8</td>\n      <td>0.0780</td>\n      <td>-8.590</td>\n      <td>57</td>\n      <td>1999</td>\n      <td>0.0342</td>\n      <td>102.128</td>\n      <td>0.685</td>\n    </tr>\n    <tr>\n      <th>...</th>\n      <td>...</td>\n      <td>...</td>\n      <td>...</td>\n      <td>...</td>\n      <td>...</td>\n      <td>...</td>\n      <td>...</td>\n      <td>...</td>\n      <td>...</td>\n      <td>...</td>\n      <td>...</td>\n      <td>...</td>\n      <td>...</td>\n      <td>...</td>\n      <td>...</td>\n      <td>...</td>\n    </tr>\n    <tr>\n      <th>318740</th>\n      <td>1100</td>\n      <td>7qRmdDl9dnHkFT4MMboG7Y</td>\n      <td>1</td>\n      <td>0.000333</td>\n      <td>0.505</td>\n      <td>173827</td>\n      <td>0.906</td>\n      <td>0.000127</td>\n      <td>7</td>\n      <td>0.2900</td>\n      <td>-5.127</td>\n      <td>56</td>\n      <td>2014</td>\n      <td>0.0399</td>\n      <td>107.855</td>\n      <td>0.553</td>\n    </tr>\n    <tr>\n      <th>318741</th>\n      <td>1100</td>\n      <td>7rPbzHewbn20oGdUuIxhCa</td>\n      <td>1</td>\n      <td>0.775000</td>\n      <td>0.651</td>\n      <td>264160</td>\n      <td>0.307</td>\n      <td>0.000000</td>\n      <td>11</td>\n      <td>0.0956</td>\n      <td>-9.304</td>\n      <td>57</td>\n      <td>2019</td>\n      <td>0.0327</td>\n      <td>140.083</td>\n      <td>0.157</td>\n    </tr>\n    <tr>\n      <th>318742</th>\n      <td>1100</td>\n      <td>7rvILFySMopzPchZq9Bnmf</td>\n      <td>1</td>\n      <td>0.121000</td>\n      <td>0.578</td>\n      <td>261307</td>\n      <td>0.940</td>\n      <td>0.000261</td>\n      <td>9</td>\n      <td>0.2580</td>\n      <td>-2.751</td>\n      <td>52</td>\n      <td>2016</td>\n      <td>0.1880</td>\n      <td>89.805</td>\n      <td>0.609</td>\n    </tr>\n    <tr>\n      <th>318743</th>\n      <td>1100</td>\n      <td>7s41ZGjQB5Ur8T0fQlk5uM</td>\n      <td>1</td>\n      <td>0.014600</td>\n      <td>0.447</td>\n      <td>205573</td>\n      <td>0.765</td>\n      <td>0.000000</td>\n      <td>6</td>\n      <td>0.0750</td>\n      <td>-5.001</td>\n      <td>66</td>\n      <td>2007</td>\n      <td>0.0433</td>\n      <td>169.853</td>\n      <td>0.365</td>\n    </tr>\n    <tr>\n      <th>318744</th>\n      <td>1100</td>\n      <td>7sqhD28PN9cK1QPzkZf9NF</td>\n      <td>1</td>\n      <td>0.138000</td>\n      <td>0.799</td>\n      <td>217600</td>\n      <td>0.910</td>\n      <td>0.000000</td>\n      <td>6</td>\n      <td>0.0294</td>\n      <td>-5.699</td>\n      <td>51</td>\n      <td>1999</td>\n      <td>0.0374</td>\n      <td>117.043</td>\n      <td>0.966</td>\n    </tr>\n  </tbody>\n</table>\n<p>318745 rows × 16 columns</p>\n</div>"
     },
     "execution_count": 5,
     "metadata": {},
     "output_type": "execute_result"
    }
   ],
   "source": [
    "# d = spark.sql(\n",
    "#     \"\"\"\n",
    "#     SELECT s.user_id, s.track_id, s.weight, acousticness, danceability, duration_ms, energy, instrumentalness, key, liveness, loudness, popularity, EXTRACT(year from `release_date`) as release_year, speechiness, tempo, valence\n",
    "#     FROM (\n",
    "#         select user_id, track_id, sum(event_weight) as weight\n",
    "#         from (\n",
    "#             SELECT user_id, track_id, CASE WHEN event_type like 'like' THEN 1 ELSE 0.02 END as event_weight\n",
    "#             FROM sessions\n",
    "#             WHERE event_type like 'like' or event_type like 'play'\n",
    "#             ) \n",
    "#         group by user_id, track_id\n",
    "#     ) s\n",
    "#     inner join tracks t on s.track_id = t.id\n",
    "#     order by s.user_id, t.id\n",
    "#     \"\"\").toPandas()\n",
    "d = spark.sql(\n",
    "    \"\"\"\n",
    "    SELECT s.user_id, s.track_id, s.weight, acousticness, danceability, duration_ms, energy, instrumentalness, key, liveness, loudness, popularity, EXTRACT(year from `release_date`) as release_year, speechiness, tempo, valence\n",
    "    FROM (\n",
    "        select user_id, track_id, sum(event_weight) as weight\n",
    "        from (\n",
    "            SELECT user_id, track_id, 1 as event_weight\n",
    "            FROM sessions\n",
    "            WHERE event_type like 'play'\n",
    "            ) \n",
    "        group by user_id, track_id\n",
    "    ) s\n",
    "    inner join tracks t on s.track_id = t.id\n",
    "    order by s.user_id, t.id\n",
    "    \"\"\").toPandas()\n",
    "d"
   ]
  },
  {
   "cell_type": "code",
   "execution_count": 6,
   "id": "b46cbc66d87eecfa",
   "metadata": {
    "collapsed": false,
    "ExecuteTime": {
     "end_time": "2023-12-27T15:02:14.782929160Z",
     "start_time": "2023-12-27T15:02:14.702845354Z"
    }
   },
   "outputs": [
    {
     "data": {
      "text/plain": "                     track_id                      id  acousticness  \\\n0      03LNdMgu3l3Ldc3QMl1bvZ  03LNdMgu3l3Ldc3QMl1bvZ       0.54500   \n1      08QXSGwwI8Qu4IQEV3AfM6  08QXSGwwI8Qu4IQEV3AfM6       0.55200   \n2      09WxJCWFMWAxTHBLLelpDS  09WxJCWFMWAxTHBLLelpDS       0.12700   \n3      0BVCEJJFVsb8nrQGI11Dj2  0BVCEJJFVsb8nrQGI11Dj2       0.00522   \n4      0ChHBmij3WHKGmyan2tPST  0ChHBmij3WHKGmyan2tPST       0.12800   \n...                       ...                     ...           ...   \n22407  5leINazMrsgEq4SYHXWTaC  5leINazMrsgEq4SYHXWTaC       0.51600   \n22408  2GB8OypbvrvCee61FKx5dp  2GB8OypbvrvCee61FKx5dp       0.13900   \n22409  1Rr17slUHwVRkDz4A2TUcM  1Rr17slUHwVRkDz4A2TUcM       0.00144   \n22410  1gVnckXtTdCoLwtiPPqlQS  1gVnckXtTdCoLwtiPPqlQS       0.40000   \n22411  4isk4UYRcmslphcTq61xUg  4isk4UYRcmslphcTq61xUg       0.21600   \n\n       danceability  duration_ms  energy  instrumentalness  key  liveness  \\\n0             0.674       182549   0.637          0.000002    0    0.0483   \n1             0.697       162960   0.633          0.000000    7    0.1280   \n2             0.842       271973   0.831          0.000000    1    0.0881   \n3             0.656       235253   0.923          0.000000    2    0.3260   \n4             0.829       208667   0.733          0.194000    8    0.0780   \n...             ...          ...     ...               ...  ...       ...   \n22407         0.617       165853   0.497          0.000002    5    0.0634   \n22408         0.497       137480   0.590          0.000007    2    0.3780   \n22409         0.532       248467   0.931          0.263000   11    0.1590   \n22410         0.592       316546   0.371          0.000367    9    0.0953   \n22411         0.372       226360   0.641          0.000000    9    0.1140   \n\n       loudness  popularity  release_year  speechiness    tempo  valence  \n0        -3.400          52          2014       0.0330  139.867    0.755  \n1        -6.983          60          2019       0.0793  139.074    0.716  \n2        -7.072          60          1996       0.2420   92.053    0.814  \n3        -3.541          56          2011       0.0339  139.930    0.652  \n4        -8.590          57          1999       0.0342  102.128    0.685  \n...         ...         ...           ...          ...      ...      ...  \n22407    -5.430          54          2016       0.0630  169.580    0.919  \n22408   -11.203          52          1968       0.0296  142.027    0.969  \n22409    -3.662          52          2006       0.0467  113.424    0.383  \n22410    -9.965          64          2019       0.0437  127.966    0.197  \n22411    -4.819          56          2010       0.1490   67.820    0.647  \n\n[22412 rows x 15 columns]",
      "text/html": "<div>\n<style scoped>\n    .dataframe tbody tr th:only-of-type {\n        vertical-align: middle;\n    }\n\n    .dataframe tbody tr th {\n        vertical-align: top;\n    }\n\n    .dataframe thead th {\n        text-align: right;\n    }\n</style>\n<table border=\"1\" class=\"dataframe\">\n  <thead>\n    <tr style=\"text-align: right;\">\n      <th></th>\n      <th>track_id</th>\n      <th>id</th>\n      <th>acousticness</th>\n      <th>danceability</th>\n      <th>duration_ms</th>\n      <th>energy</th>\n      <th>instrumentalness</th>\n      <th>key</th>\n      <th>liveness</th>\n      <th>loudness</th>\n      <th>popularity</th>\n      <th>release_year</th>\n      <th>speechiness</th>\n      <th>tempo</th>\n      <th>valence</th>\n    </tr>\n  </thead>\n  <tbody>\n    <tr>\n      <th>0</th>\n      <td>03LNdMgu3l3Ldc3QMl1bvZ</td>\n      <td>03LNdMgu3l3Ldc3QMl1bvZ</td>\n      <td>0.54500</td>\n      <td>0.674</td>\n      <td>182549</td>\n      <td>0.637</td>\n      <td>0.000002</td>\n      <td>0</td>\n      <td>0.0483</td>\n      <td>-3.400</td>\n      <td>52</td>\n      <td>2014</td>\n      <td>0.0330</td>\n      <td>139.867</td>\n      <td>0.755</td>\n    </tr>\n    <tr>\n      <th>1</th>\n      <td>08QXSGwwI8Qu4IQEV3AfM6</td>\n      <td>08QXSGwwI8Qu4IQEV3AfM6</td>\n      <td>0.55200</td>\n      <td>0.697</td>\n      <td>162960</td>\n      <td>0.633</td>\n      <td>0.000000</td>\n      <td>7</td>\n      <td>0.1280</td>\n      <td>-6.983</td>\n      <td>60</td>\n      <td>2019</td>\n      <td>0.0793</td>\n      <td>139.074</td>\n      <td>0.716</td>\n    </tr>\n    <tr>\n      <th>2</th>\n      <td>09WxJCWFMWAxTHBLLelpDS</td>\n      <td>09WxJCWFMWAxTHBLLelpDS</td>\n      <td>0.12700</td>\n      <td>0.842</td>\n      <td>271973</td>\n      <td>0.831</td>\n      <td>0.000000</td>\n      <td>1</td>\n      <td>0.0881</td>\n      <td>-7.072</td>\n      <td>60</td>\n      <td>1996</td>\n      <td>0.2420</td>\n      <td>92.053</td>\n      <td>0.814</td>\n    </tr>\n    <tr>\n      <th>3</th>\n      <td>0BVCEJJFVsb8nrQGI11Dj2</td>\n      <td>0BVCEJJFVsb8nrQGI11Dj2</td>\n      <td>0.00522</td>\n      <td>0.656</td>\n      <td>235253</td>\n      <td>0.923</td>\n      <td>0.000000</td>\n      <td>2</td>\n      <td>0.3260</td>\n      <td>-3.541</td>\n      <td>56</td>\n      <td>2011</td>\n      <td>0.0339</td>\n      <td>139.930</td>\n      <td>0.652</td>\n    </tr>\n    <tr>\n      <th>4</th>\n      <td>0ChHBmij3WHKGmyan2tPST</td>\n      <td>0ChHBmij3WHKGmyan2tPST</td>\n      <td>0.12800</td>\n      <td>0.829</td>\n      <td>208667</td>\n      <td>0.733</td>\n      <td>0.194000</td>\n      <td>8</td>\n      <td>0.0780</td>\n      <td>-8.590</td>\n      <td>57</td>\n      <td>1999</td>\n      <td>0.0342</td>\n      <td>102.128</td>\n      <td>0.685</td>\n    </tr>\n    <tr>\n      <th>...</th>\n      <td>...</td>\n      <td>...</td>\n      <td>...</td>\n      <td>...</td>\n      <td>...</td>\n      <td>...</td>\n      <td>...</td>\n      <td>...</td>\n      <td>...</td>\n      <td>...</td>\n      <td>...</td>\n      <td>...</td>\n      <td>...</td>\n      <td>...</td>\n      <td>...</td>\n    </tr>\n    <tr>\n      <th>22407</th>\n      <td>5leINazMrsgEq4SYHXWTaC</td>\n      <td>5leINazMrsgEq4SYHXWTaC</td>\n      <td>0.51600</td>\n      <td>0.617</td>\n      <td>165853</td>\n      <td>0.497</td>\n      <td>0.000002</td>\n      <td>5</td>\n      <td>0.0634</td>\n      <td>-5.430</td>\n      <td>54</td>\n      <td>2016</td>\n      <td>0.0630</td>\n      <td>169.580</td>\n      <td>0.919</td>\n    </tr>\n    <tr>\n      <th>22408</th>\n      <td>2GB8OypbvrvCee61FKx5dp</td>\n      <td>2GB8OypbvrvCee61FKx5dp</td>\n      <td>0.13900</td>\n      <td>0.497</td>\n      <td>137480</td>\n      <td>0.590</td>\n      <td>0.000007</td>\n      <td>2</td>\n      <td>0.3780</td>\n      <td>-11.203</td>\n      <td>52</td>\n      <td>1968</td>\n      <td>0.0296</td>\n      <td>142.027</td>\n      <td>0.969</td>\n    </tr>\n    <tr>\n      <th>22409</th>\n      <td>1Rr17slUHwVRkDz4A2TUcM</td>\n      <td>1Rr17slUHwVRkDz4A2TUcM</td>\n      <td>0.00144</td>\n      <td>0.532</td>\n      <td>248467</td>\n      <td>0.931</td>\n      <td>0.263000</td>\n      <td>11</td>\n      <td>0.1590</td>\n      <td>-3.662</td>\n      <td>52</td>\n      <td>2006</td>\n      <td>0.0467</td>\n      <td>113.424</td>\n      <td>0.383</td>\n    </tr>\n    <tr>\n      <th>22410</th>\n      <td>1gVnckXtTdCoLwtiPPqlQS</td>\n      <td>1gVnckXtTdCoLwtiPPqlQS</td>\n      <td>0.40000</td>\n      <td>0.592</td>\n      <td>316546</td>\n      <td>0.371</td>\n      <td>0.000367</td>\n      <td>9</td>\n      <td>0.0953</td>\n      <td>-9.965</td>\n      <td>64</td>\n      <td>2019</td>\n      <td>0.0437</td>\n      <td>127.966</td>\n      <td>0.197</td>\n    </tr>\n    <tr>\n      <th>22411</th>\n      <td>4isk4UYRcmslphcTq61xUg</td>\n      <td>4isk4UYRcmslphcTq61xUg</td>\n      <td>0.21600</td>\n      <td>0.372</td>\n      <td>226360</td>\n      <td>0.641</td>\n      <td>0.000000</td>\n      <td>9</td>\n      <td>0.1140</td>\n      <td>-4.819</td>\n      <td>56</td>\n      <td>2010</td>\n      <td>0.1490</td>\n      <td>67.820</td>\n      <td>0.647</td>\n    </tr>\n  </tbody>\n</table>\n<p>22412 rows × 15 columns</p>\n</div>"
     },
     "execution_count": 6,
     "metadata": {},
     "output_type": "execute_result"
    }
   ],
   "source": [
    "from scipy import stats\n",
    "\n",
    "users = d['user_id'].unique()\n",
    "items = d['track_id'].unique()\n",
    "\n",
    "\n",
    "_features = pd.DataFrame(items, columns=['track_id']).merge(tracks, left_on=\"track_id\", right_on=\"id\", how=\"inner\", validate=\"1:1\" )\n",
    "features = stats.zscore(_features.drop(['id', 'track_id'], axis=1))\n",
    "\n",
    "\n",
    "assert items.shape[0] == features.shape[0]\n",
    "_features"
   ]
  },
  {
   "cell_type": "code",
   "execution_count": 7,
   "id": "4117347bb9050b9",
   "metadata": {
    "collapsed": false,
    "ExecuteTime": {
     "end_time": "2023-12-27T15:02:14.861715653Z",
     "start_time": "2023-12-27T15:02:14.777553699Z"
    }
   },
   "outputs": [
    {
     "name": "stdout",
     "output_type": "stream",
     "text": [
      "Num users: 1000, num_items 22412.\n"
     ]
    }
   ],
   "source": [
    "from lightfm.data import Dataset\n",
    "\n",
    "assert d['track_id'].unique().shape[0] == features.shape[0]\n",
    "\n",
    "dataset = Dataset()\n",
    "dataset.fit(\n",
    "    users=users,\n",
    "    items=items,\n",
    "    item_features=features\n",
    ")\n",
    "\n",
    "num_users, num_items = dataset.interactions_shape()\n",
    "print('Num users: {}, num_items {}.'.format(num_users, num_items))"
   ]
  },
  {
   "cell_type": "code",
   "execution_count": 8,
   "id": "4eb5ed0a862bb63f",
   "metadata": {
    "collapsed": false,
    "ExecuteTime": {
     "end_time": "2023-12-27T15:02:16.875120217Z",
     "start_time": "2023-12-27T15:02:14.835511156Z"
    }
   },
   "outputs": [
    {
     "name": "stdout",
     "output_type": "stream",
     "text": [
      "<1000x22412 sparse matrix of type '<class 'numpy.int32'>'\n",
      "\twith 318745 stored elements in COOrdinate format>\n"
     ]
    }
   ],
   "source": [
    "(interactions, weights) = dataset.build_interactions(d[['user_id', 'track_id', 'weight']].apply(tuple, axis=1))\n",
    "\n",
    "print(repr(interactions))"
   ]
  },
  {
   "cell_type": "code",
   "execution_count": 9,
   "id": "1461533074210068",
   "metadata": {
    "collapsed": false,
    "ExecuteTime": {
     "end_time": "2023-12-27T15:02:16.888225017Z",
     "start_time": "2023-12-27T15:02:16.883025747Z"
    }
   },
   "outputs": [],
   "source": [
    "from lightfm.cross_validation import random_train_test_split\n",
    "\n",
    "(train, test) = random_train_test_split(interactions)\n"
   ]
  },
  {
   "cell_type": "code",
   "execution_count": 10,
   "id": "184b2aa6fb122232",
   "metadata": {
    "collapsed": false,
    "ExecuteTime": {
     "end_time": "2023-12-27T15:02:16.916886494Z",
     "start_time": "2023-12-27T15:02:16.890843777Z"
    }
   },
   "outputs": [],
   "source": [
    "from lightfm import LightFM\n",
    "from lightfm.evaluation import auc_score, precision_at_k, recall_at_k, reciprocal_rank\n"
   ]
  },
  {
   "cell_type": "code",
   "execution_count": 11,
   "id": "fcb0fbf749c93414",
   "metadata": {
    "collapsed": false,
    "ExecuteTime": {
     "end_time": "2023-12-27T15:02:17.151315955Z",
     "start_time": "2023-12-27T15:02:16.905181471Z"
    }
   },
   "outputs": [
    {
     "name": "stdout",
     "output_type": "stream",
     "text": [
      "<22412x22425 sparse matrix of type '<class 'numpy.float32'>'\n",
      "\twith 313768 stored elements in Compressed Sparse Row format>\n"
     ]
    }
   ],
   "source": [
    "feature_names = d.drop(['user_id', 'track_id', 'weight'], axis=1).columns\n",
    "\n",
    "item_features = dataset.build_item_features(\n",
    "    ((i, feature_names) for i in items), \n",
    "    normalize=False)\n",
    "print(repr(item_features))"
   ]
  },
  {
   "cell_type": "code",
   "execution_count": 12,
   "id": "3ec2802c3e06efad",
   "metadata": {
    "collapsed": false,
    "ExecuteTime": {
     "end_time": "2023-12-27T15:02:27.344165142Z",
     "start_time": "2023-12-27T15:02:17.153390073Z"
    }
   },
   "outputs": [
    {
     "name": "stderr",
     "output_type": "stream",
     "text": [
      "Epoch: 100%|██████████| 5/5 [00:10<00:00,  2.04s/it]\n"
     ]
    },
    {
     "data": {
      "text/plain": "<lightfm.lightfm.LightFM at 0x7ff4992f25c0>"
     },
     "execution_count": 12,
     "metadata": {},
     "output_type": "execute_result"
    }
   ],
   "source": [
    "model_h = LightFM(\n",
    "    loss='warp',\n",
    "    learning_rate=0.0,\n",
    "    item_alpha=1e-6,\n",
    "    user_alpha=1e-6,\n",
    "    no_components=30,\n",
    ")\n",
    "model_h.fit(\n",
    "    interactions=train,\n",
    "    item_features=item_features,\n",
    "    epochs=5,\n",
    "    num_threads=12,\n",
    "    verbose=True)\n"
   ]
  },
  {
   "cell_type": "code",
   "execution_count": 13,
   "id": "e21c07a203780fd2",
   "metadata": {
    "collapsed": false,
    "ExecuteTime": {
     "end_time": "2023-12-27T15:02:40.296105017Z",
     "start_time": "2023-12-27T15:02:27.346778025Z"
    }
   },
   "outputs": [
    {
     "name": "stdout",
     "output_type": "stream",
     "text": [
      "AUC: train 0.553368, test 0.498829.\n",
      "Precision: train 0.026000, test 0.003300.\n",
      "Recall: train 0.000999, test 0.000447.\n",
      "Reciprocal rank: train 0.098102, test 0.018936.\n"
     ]
    }
   ],
   "source": [
    "train_auc_h = auc_score(model_h, train, \n",
    "                        item_features=item_features,\n",
    "                        num_threads=12).mean()\n",
    "test_auc_h = auc_score(model_h, test, \n",
    "                       train_interactions=train, \n",
    "                       item_features=item_features, \n",
    "                       num_threads=12).mean()\n",
    "\n",
    "train_precision_h = precision_at_k(model_h, train, k=10,\n",
    "                                   item_features=item_features, \n",
    "                                   num_threads=12).mean()\n",
    "test_precision_h = precision_at_k(model_h, test, k=10, \n",
    "                                  train_interactions=train,\n",
    "                                  item_features=item_features, \n",
    "                                  num_threads=12).mean()\n",
    "\n",
    "train_recall_h = recall_at_k(model_h, train, k=10, \n",
    "                             item_features=item_features,\n",
    "                             num_threads=12).mean()\n",
    "test_recall_h = recall_at_k(model_h, test, k=10, \n",
    "                            train_interactions=train,\n",
    "                            item_features=item_features, \n",
    "                            num_threads=12).mean()\n",
    "\n",
    "train_reciprocal_rank_h = reciprocal_rank(model_h, train,\n",
    "                                          item_features=item_features,\n",
    "                                          num_threads=12).mean()\n",
    "test_reciprocal_rank_h = reciprocal_rank(model_h, test, \n",
    "                                         train_interactions=train,\n",
    "                                         item_features=item_features,\n",
    "                                         num_threads=12).mean()\n",
    "\n",
    "print('AUC: train %.6f, test %.6f.' % (train_auc_h, test_auc_h))\n",
    "print('Precision: train %.6f, test %.6f.' % (train_precision_h, test_precision_h))\n",
    "print('Recall: train %.6f, test %.6f.' % (train_recall_h, test_recall_h))\n",
    "print('Reciprocal rank: train %.6f, test %.6f.' % (train_reciprocal_rank_h, test_reciprocal_rank_h))\n"
   ]
  },
  {
   "cell_type": "code",
   "execution_count": 14,
   "id": "ba8d458dbe5e11fc",
   "metadata": {
    "collapsed": false,
    "ExecuteTime": {
     "end_time": "2023-12-27T15:02:40.296375459Z",
     "start_time": "2023-12-27T15:02:40.295980863Z"
    }
   },
   "outputs": [
    {
     "data": {
      "text/plain": "array([0.04049674, 0.0651309 , 0.04002773, ..., 0.05452988, 0.03218829,\n       0.05478507], dtype=float32)"
     },
     "execution_count": 14,
     "metadata": {},
     "output_type": "execute_result"
    }
   ],
   "source": [
    "predicted_scores = model_h.predict(148, np.arange(interactions.shape[1]), \n",
    "                                   item_features=item_features, \n",
    "                                   num_threads=12)\n",
    "predicted_scores"
   ]
  },
  {
   "cell_type": "code",
   "execution_count": 15,
   "id": "ed4a8d5b38f43117",
   "metadata": {
    "collapsed": false,
    "ExecuteTime": {
     "end_time": "2023-12-27T15:02:40.297223725Z",
     "start_time": "2023-12-27T15:02:40.296210485Z"
    }
   },
   "outputs": [
    {
     "data": {
      "text/plain": "array([ 3638,  9894,  1456,  7906,  5446,  7561,  3961, 17732,  2713,\n        2459])"
     },
     "execution_count": 15,
     "metadata": {},
     "output_type": "execute_result"
    }
   ],
   "source": [
    "indices = np.argpartition(predicted_scores, -10)[-10:]\n",
    "indices"
   ]
  },
  {
   "cell_type": "code",
   "execution_count": 16,
   "id": "e7bf0856d2f33497",
   "metadata": {
    "collapsed": false,
    "ExecuteTime": {
     "end_time": "2023-12-27T15:02:40.298238569Z",
     "start_time": "2023-12-27T15:02:40.296274569Z"
    }
   },
   "outputs": [
    {
     "data": {
      "text/plain": "                            0\n3638   5B8N5rPOmTVVGpuBMK2Vby\n9894   1ZdhOMWyFR8Iv9eylMGYg2\n1456   4xUqqie4bBKufHtlMuZS3k\n7906   0qqLzlmKDj55Zmck2rdT33\n5446   6BnRwKaF2bRuA3bbrPjBJg\n7561   0qHMhBZqYb99yhX9BHcIkV\n3961   7jeqHTL5LN4YEyMhiqf9Ei\n17732  43hiD0QEeUysuWqDzd8GwA\n2713   0lJEYLAJU5KtthQroas2ou\n2459   5aIZ2jtxZ4o4GHQXTybkIa",
      "text/html": "<div>\n<style scoped>\n    .dataframe tbody tr th:only-of-type {\n        vertical-align: middle;\n    }\n\n    .dataframe tbody tr th {\n        vertical-align: top;\n    }\n\n    .dataframe thead th {\n        text-align: right;\n    }\n</style>\n<table border=\"1\" class=\"dataframe\">\n  <thead>\n    <tr style=\"text-align: right;\">\n      <th></th>\n      <th>0</th>\n    </tr>\n  </thead>\n  <tbody>\n    <tr>\n      <th>3638</th>\n      <td>5B8N5rPOmTVVGpuBMK2Vby</td>\n    </tr>\n    <tr>\n      <th>9894</th>\n      <td>1ZdhOMWyFR8Iv9eylMGYg2</td>\n    </tr>\n    <tr>\n      <th>1456</th>\n      <td>4xUqqie4bBKufHtlMuZS3k</td>\n    </tr>\n    <tr>\n      <th>7906</th>\n      <td>0qqLzlmKDj55Zmck2rdT33</td>\n    </tr>\n    <tr>\n      <th>5446</th>\n      <td>6BnRwKaF2bRuA3bbrPjBJg</td>\n    </tr>\n    <tr>\n      <th>7561</th>\n      <td>0qHMhBZqYb99yhX9BHcIkV</td>\n    </tr>\n    <tr>\n      <th>3961</th>\n      <td>7jeqHTL5LN4YEyMhiqf9Ei</td>\n    </tr>\n    <tr>\n      <th>17732</th>\n      <td>43hiD0QEeUysuWqDzd8GwA</td>\n    </tr>\n    <tr>\n      <th>2713</th>\n      <td>0lJEYLAJU5KtthQroas2ou</td>\n    </tr>\n    <tr>\n      <th>2459</th>\n      <td>5aIZ2jtxZ4o4GHQXTybkIa</td>\n    </tr>\n  </tbody>\n</table>\n</div>"
     },
     "execution_count": 16,
     "metadata": {},
     "output_type": "execute_result"
    }
   ],
   "source": [
    "pd.DataFrame(items).loc[indices]"
   ]
  },
  {
   "cell_type": "code",
   "execution_count": 17,
   "id": "ed36d788618ee89a",
   "metadata": {
    "collapsed": false,
    "ExecuteTime": {
     "end_time": "2023-12-27T15:02:40.304125013Z",
     "start_time": "2023-12-27T15:02:40.296319327Z"
    }
   },
   "outputs": [
    {
     "data": {
      "text/plain": "       user_id                track_id  weight  acousticness  danceability  \\\n47584      249  07BuyVse8pYAWd9DXD7B2D       1      0.000831         0.536   \n47585      249  07qHCBBSRswIsfs0waYdjC       1      0.799000         0.583   \n47586      249  0TU7xhMfZbI1okpLyHptFV       1      0.043800         0.679   \n47587      249  0XfTh16YcKPzdxMPTeKTAq       1      0.367000         0.610   \n47588      249  0aMqNFBj9KtPTD3c3tByRT       1      0.000788         0.443   \n...        ...                     ...     ...           ...           ...   \n47704      249  7JiCaZ93B0hdj3XwFqwn4W       1      0.371000         0.538   \n47705      249  7K5dzhGda2vRTaAWYI3hrb       1      0.011400         0.632   \n47706      249  7MevrbPAGEaw1IgkaBmv82       1      0.078200         0.685   \n47707      249  7gpuC3rLKkI7PoJcEnSIO6       1      0.879000         0.489   \n47708      249  7saMayhJnkuIf0dosuuWH4       1      0.475000         0.668   \n\n       duration_ms  energy  instrumentalness  key  liveness  loudness  \\\n47584       235240   0.968          0.000030    6    0.0920    -2.373   \n47585       169846   0.418          0.000000    5    0.1090   -10.898   \n47586       237853   0.797          0.000000    2    0.0748    -4.627   \n47587       261453   0.531          0.000000    2    0.3510    -6.123   \n47588       138048   0.878          0.560000    8    0.0623    -6.717   \n...            ...     ...               ...  ...       ...       ...   \n47704       218760   0.786          0.002580    7    0.0517    -7.690   \n47705       215414   0.701          0.000000    7    0.1080    -5.921   \n47706       195587   0.909          0.000001    0    0.3690    -3.797   \n47707       242867   0.308          0.000000    0    0.0959    -5.488   \n47708       195744   0.628          0.000000    2    0.2580    -4.140   \n\n       popularity  release_year  speechiness    tempo  valence  \n47584          65          2015       0.0891   86.036    0.570  \n47585          58          2019       0.0451  129.915    0.357  \n47586          54          2019       0.3380  117.018    0.609  \n47587          52          2008       0.0239   85.979    0.228  \n47588          51          1989       0.0418  136.567    0.683  \n...           ...           ...          ...      ...      ...  \n47704          52          1989       0.0336  172.019    0.917  \n47705          72          2016       0.1460  162.958    0.497  \n47706          60          2009       0.0320  115.043    0.864  \n47707          52          2000       0.0297  128.855    0.290  \n47708          56          1992       0.0799  134.467    0.923  \n\n[125 rows x 16 columns]",
      "text/html": "<div>\n<style scoped>\n    .dataframe tbody tr th:only-of-type {\n        vertical-align: middle;\n    }\n\n    .dataframe tbody tr th {\n        vertical-align: top;\n    }\n\n    .dataframe thead th {\n        text-align: right;\n    }\n</style>\n<table border=\"1\" class=\"dataframe\">\n  <thead>\n    <tr style=\"text-align: right;\">\n      <th></th>\n      <th>user_id</th>\n      <th>track_id</th>\n      <th>weight</th>\n      <th>acousticness</th>\n      <th>danceability</th>\n      <th>duration_ms</th>\n      <th>energy</th>\n      <th>instrumentalness</th>\n      <th>key</th>\n      <th>liveness</th>\n      <th>loudness</th>\n      <th>popularity</th>\n      <th>release_year</th>\n      <th>speechiness</th>\n      <th>tempo</th>\n      <th>valence</th>\n    </tr>\n  </thead>\n  <tbody>\n    <tr>\n      <th>47584</th>\n      <td>249</td>\n      <td>07BuyVse8pYAWd9DXD7B2D</td>\n      <td>1</td>\n      <td>0.000831</td>\n      <td>0.536</td>\n      <td>235240</td>\n      <td>0.968</td>\n      <td>0.000030</td>\n      <td>6</td>\n      <td>0.0920</td>\n      <td>-2.373</td>\n      <td>65</td>\n      <td>2015</td>\n      <td>0.0891</td>\n      <td>86.036</td>\n      <td>0.570</td>\n    </tr>\n    <tr>\n      <th>47585</th>\n      <td>249</td>\n      <td>07qHCBBSRswIsfs0waYdjC</td>\n      <td>1</td>\n      <td>0.799000</td>\n      <td>0.583</td>\n      <td>169846</td>\n      <td>0.418</td>\n      <td>0.000000</td>\n      <td>5</td>\n      <td>0.1090</td>\n      <td>-10.898</td>\n      <td>58</td>\n      <td>2019</td>\n      <td>0.0451</td>\n      <td>129.915</td>\n      <td>0.357</td>\n    </tr>\n    <tr>\n      <th>47586</th>\n      <td>249</td>\n      <td>0TU7xhMfZbI1okpLyHptFV</td>\n      <td>1</td>\n      <td>0.043800</td>\n      <td>0.679</td>\n      <td>237853</td>\n      <td>0.797</td>\n      <td>0.000000</td>\n      <td>2</td>\n      <td>0.0748</td>\n      <td>-4.627</td>\n      <td>54</td>\n      <td>2019</td>\n      <td>0.3380</td>\n      <td>117.018</td>\n      <td>0.609</td>\n    </tr>\n    <tr>\n      <th>47587</th>\n      <td>249</td>\n      <td>0XfTh16YcKPzdxMPTeKTAq</td>\n      <td>1</td>\n      <td>0.367000</td>\n      <td>0.610</td>\n      <td>261453</td>\n      <td>0.531</td>\n      <td>0.000000</td>\n      <td>2</td>\n      <td>0.3510</td>\n      <td>-6.123</td>\n      <td>52</td>\n      <td>2008</td>\n      <td>0.0239</td>\n      <td>85.979</td>\n      <td>0.228</td>\n    </tr>\n    <tr>\n      <th>47588</th>\n      <td>249</td>\n      <td>0aMqNFBj9KtPTD3c3tByRT</td>\n      <td>1</td>\n      <td>0.000788</td>\n      <td>0.443</td>\n      <td>138048</td>\n      <td>0.878</td>\n      <td>0.560000</td>\n      <td>8</td>\n      <td>0.0623</td>\n      <td>-6.717</td>\n      <td>51</td>\n      <td>1989</td>\n      <td>0.0418</td>\n      <td>136.567</td>\n      <td>0.683</td>\n    </tr>\n    <tr>\n      <th>...</th>\n      <td>...</td>\n      <td>...</td>\n      <td>...</td>\n      <td>...</td>\n      <td>...</td>\n      <td>...</td>\n      <td>...</td>\n      <td>...</td>\n      <td>...</td>\n      <td>...</td>\n      <td>...</td>\n      <td>...</td>\n      <td>...</td>\n      <td>...</td>\n      <td>...</td>\n      <td>...</td>\n    </tr>\n    <tr>\n      <th>47704</th>\n      <td>249</td>\n      <td>7JiCaZ93B0hdj3XwFqwn4W</td>\n      <td>1</td>\n      <td>0.371000</td>\n      <td>0.538</td>\n      <td>218760</td>\n      <td>0.786</td>\n      <td>0.002580</td>\n      <td>7</td>\n      <td>0.0517</td>\n      <td>-7.690</td>\n      <td>52</td>\n      <td>1989</td>\n      <td>0.0336</td>\n      <td>172.019</td>\n      <td>0.917</td>\n    </tr>\n    <tr>\n      <th>47705</th>\n      <td>249</td>\n      <td>7K5dzhGda2vRTaAWYI3hrb</td>\n      <td>1</td>\n      <td>0.011400</td>\n      <td>0.632</td>\n      <td>215414</td>\n      <td>0.701</td>\n      <td>0.000000</td>\n      <td>7</td>\n      <td>0.1080</td>\n      <td>-5.921</td>\n      <td>72</td>\n      <td>2016</td>\n      <td>0.1460</td>\n      <td>162.958</td>\n      <td>0.497</td>\n    </tr>\n    <tr>\n      <th>47706</th>\n      <td>249</td>\n      <td>7MevrbPAGEaw1IgkaBmv82</td>\n      <td>1</td>\n      <td>0.078200</td>\n      <td>0.685</td>\n      <td>195587</td>\n      <td>0.909</td>\n      <td>0.000001</td>\n      <td>0</td>\n      <td>0.3690</td>\n      <td>-3.797</td>\n      <td>60</td>\n      <td>2009</td>\n      <td>0.0320</td>\n      <td>115.043</td>\n      <td>0.864</td>\n    </tr>\n    <tr>\n      <th>47707</th>\n      <td>249</td>\n      <td>7gpuC3rLKkI7PoJcEnSIO6</td>\n      <td>1</td>\n      <td>0.879000</td>\n      <td>0.489</td>\n      <td>242867</td>\n      <td>0.308</td>\n      <td>0.000000</td>\n      <td>0</td>\n      <td>0.0959</td>\n      <td>-5.488</td>\n      <td>52</td>\n      <td>2000</td>\n      <td>0.0297</td>\n      <td>128.855</td>\n      <td>0.290</td>\n    </tr>\n    <tr>\n      <th>47708</th>\n      <td>249</td>\n      <td>7saMayhJnkuIf0dosuuWH4</td>\n      <td>1</td>\n      <td>0.475000</td>\n      <td>0.668</td>\n      <td>195744</td>\n      <td>0.628</td>\n      <td>0.000000</td>\n      <td>2</td>\n      <td>0.2580</td>\n      <td>-4.140</td>\n      <td>56</td>\n      <td>1992</td>\n      <td>0.0799</td>\n      <td>134.467</td>\n      <td>0.923</td>\n    </tr>\n  </tbody>\n</table>\n<p>125 rows × 16 columns</p>\n</div>"
     },
     "execution_count": 17,
     "metadata": {},
     "output_type": "execute_result"
    }
   ],
   "source": [
    "d[d.user_id == 249]"
   ]
  },
  {
   "cell_type": "code",
   "execution_count": 18,
   "outputs": [
    {
     "data": {
      "text/plain": "(array([-0.01096737,  0.01443374, -0.01015265, ...,  0.00466694,\n         0.00557848,  0.00528683], dtype=float32),\n array([[ 0.01250516, -0.00901319,  0.01302429, ..., -0.00375146,\n         -0.01483755, -0.01323879],\n        [ 0.01772139,  0.01270564,  0.00121316, ..., -0.00215665,\n          0.0029933 , -0.00141379],\n        [ 0.01358402,  0.00758789, -0.01152616, ...,  0.01166518,\n          0.01691847,  0.00218847],\n        ...,\n        [-0.00218298,  0.01168382, -0.00836872, ..., -0.00771284,\n          0.00231354,  0.00652879],\n        [-0.00771839,  0.00471733, -0.01033946, ..., -0.00903918,\n         -0.00280672, -0.00656529],\n        [-0.00117605, -0.00695348, -0.01563769, ..., -0.00458429,\n         -0.00715612,  0.00693074]], dtype=float32))"
     },
     "execution_count": 18,
     "metadata": {},
     "output_type": "execute_result"
    }
   ],
   "source": [
    "\n",
    "model_h.get_item_representations()"
   ],
   "metadata": {
    "collapsed": false,
    "ExecuteTime": {
     "end_time": "2023-12-27T15:02:40.306528803Z",
     "start_time": "2023-12-27T15:02:40.303482938Z"
    }
   },
   "id": "de30d6dbe599fa5e"
  }
 ],
 "metadata": {
  "kernelspec": {
   "display_name": "Python 3 (ipykernel)",
   "language": "python",
   "name": "python3"
  },
  "language_info": {
   "codemirror_mode": {
    "name": "ipython",
    "version": 3
   },
   "file_extension": ".py",
   "mimetype": "text/x-python",
   "name": "python",
   "nbconvert_exporter": "python",
   "pygments_lexer": "ipython3",
   "version": "3.10.11"
  }
 },
 "nbformat": 4,
 "nbformat_minor": 5
}
