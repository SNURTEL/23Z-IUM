{
 "cells": [
  {
   "cell_type": "markdown",
   "source": [
    "# Example"
   ],
   "metadata": {
    "collapsed": false
   },
   "id": "683999f8689ef957"
  },
  {
   "cell_type": "code",
   "execution_count": 1,
   "outputs": [],
   "source": [
    "import os\n",
    "import zipfile\n",
    "import csv\n",
    "\n",
    "import requests\n",
    "\n",
    "\n",
    "urls = {\n",
    "    \"books\": \"https://raw.githubusercontent.com/zygmuntz/goodbooks-10k/6dd165b555a7b47b2dd36743a425776e641ff50c/books.csv\",\n",
    "    \"ratings\": \"https://raw.githubusercontent.com/zygmuntz/goodbooks-10k/6dd165b555a7b47b2dd36743a425776e641ff50c/ratings.csv\",\n",
    "    \"book_tags\": \"https://github.com/zygmuntz/goodbooks-10k/blob/6dd165b555a7b47b2dd36743a425776e641ff50c/book_tags.csv\",\n",
    "    \"tags\": \"https://raw.githubusercontent.com/zygmuntz/goodbooks-10k/6dd165b555a7b47b2dd36743a425776e641ff50c/tags.csv\",\n",
    "    \"to_read\": \"https://raw.githubusercontent.com/zygmuntz/goodbooks-10k/6dd165b555a7b47b2dd36743a425776e641ff50c/to_read.csv\",\n",
    "}\n",
    "\n",
    "def _download(url: str, dest_path: str):\n",
    "    req = requests.get(url, stream=True)\n",
    "    req.raise_for_status()\n",
    "\n",
    "    with open(dest_path, \"wb\") as fd:\n",
    "        for chunk in req.iter_content(chunk_size=2 ** 20):\n",
    "            fd.write(chunk)\n",
    "\n",
    "\n",
    "def get_data():\n",
    "    if not os.path.exists(\"data\"):\n",
    "        os.makedirs(\"data\")\n",
    "\n",
    "        for name, url in urls.items():\n",
    "            _download(url, f\"data/{name}.csv\")\n",
    "        \n",
    "    with open(\"data/ratings.csv\", mode='r', encoding='utf-8') as fp_r:\n",
    "        with open(\"data/books.csv\", mode='r', encoding='utf-8') as fp_b:\n",
    "                return (\n",
    "            csv.DictReader(\n",
    "                fp_r.readlines(), delimiter=\",\",\n",
    "            ),\n",
    "            csv.DictReader(\n",
    "                fp_b.readlines(), delimiter=\",\"\n",
    "            ),\n",
    "        )\n",
    "\n",
    "\n",
    "\n",
    "def get_ratings():\n",
    "    return get_data()[0]\n",
    "\n",
    "\n",
    "def get_book_features():\n",
    "    return get_data()[1]"
   ],
   "metadata": {
    "collapsed": false,
    "ExecuteTime": {
     "end_time": "2023-12-27T14:22:49.692095869Z",
     "start_time": "2023-12-27T14:22:49.653962324Z"
    }
   },
   "id": "76f61fe17c8c201a"
  },
  {
   "cell_type": "code",
   "execution_count": 2,
   "outputs": [
    {
     "name": "stdout",
     "output_type": "stream",
     "text": [
      "{\n",
      "    \"user_id\": \"1\",\n",
      "    \"book_id\": \"258\",\n",
      "    \"rating\": \"5\"\n",
      "}\n",
      "{\n",
      "    \"user_id\": \"2\",\n",
      "    \"book_id\": \"4081\",\n",
      "    \"rating\": \"4\"\n",
      "}\n",
      "{\n",
      "    \"book_id\": \"1\",\n",
      "    \"goodreads_book_id\": \"2767052\",\n",
      "    \"best_book_id\": \"2767052\",\n",
      "    \"work_id\": \"2792775\",\n",
      "    \"books_count\": \"272\",\n",
      "    \"isbn\": \"439023483\",\n",
      "    \"isbn13\": \"9.78043902348e+12\",\n",
      "    \"authors\": \"Suzanne Collins\",\n",
      "    \"original_publication_year\": \"2008.0\",\n",
      "    \"original_title\": \"The Hunger Games\",\n",
      "    \"title\": \"The Hunger Games (The Hunger Games, #1)\",\n",
      "    \"language_code\": \"eng\",\n",
      "    \"average_rating\": \"4.34\",\n",
      "    \"ratings_count\": \"4780653\",\n",
      "    \"work_ratings_count\": \"4942365\",\n",
      "    \"work_text_reviews_count\": \"155254\",\n",
      "    \"ratings_1\": \"66715\",\n",
      "    \"ratings_2\": \"127936\",\n",
      "    \"ratings_3\": \"560092\",\n",
      "    \"ratings_4\": \"1481305\",\n",
      "    \"ratings_5\": \"2706317\",\n",
      "    \"image_url\": \"https://images.gr-assets.com/books/1447303603m/2767052.jpg\",\n",
      "    \"small_image_url\": \"https://images.gr-assets.com/books/1447303603s/2767052.jpg\"\n",
      "}\n"
     ]
    }
   ],
   "source": [
    "import json\n",
    "from itertools import islice\n",
    "\n",
    "ratings, book_features = get_data()\n",
    "\n",
    "for line in islice(ratings, 2):\n",
    "    print(json.dumps(line, indent=4))\n",
    "\n",
    "for line in islice(book_features, 1):\n",
    "    print(json.dumps(line, indent=4))"
   ],
   "metadata": {
    "collapsed": false,
    "ExecuteTime": {
     "end_time": "2023-12-27T14:22:50.035944848Z",
     "start_time": "2023-12-27T14:22:49.657577237Z"
    }
   },
   "id": "84d06d0c47fdb72a"
  },
  {
   "cell_type": "code",
   "execution_count": 3,
   "outputs": [
    {
     "name": "stdout",
     "output_type": "stream",
     "text": [
      "Num users: 53424, num_items 10000.\n"
     ]
    }
   ],
   "source": [
    "from lightfm.data import Dataset\n",
    "\n",
    "dataset = Dataset()\n",
    "dataset.fit((x['user_id'] for x in get_ratings()),\n",
    "            (x['book_id'] for x in get_ratings()))\n",
    "\n",
    "dataset.fit_partial(items=(x['book_id'] for x in get_book_features()),\n",
    "                    item_features=(x['authors'] for x in get_book_features()))\n",
    "\n",
    "num_users, num_items = dataset.interactions_shape()\n",
    "print('Num users: {}, num_items {}.'.format(num_users, num_items))"
   ],
   "metadata": {
    "collapsed": false,
    "ExecuteTime": {
     "end_time": "2023-12-27T14:23:10.371389608Z",
     "start_time": "2023-12-27T14:22:50.038954128Z"
    }
   },
   "id": "56920420d9b912aa"
  },
  {
   "cell_type": "code",
   "execution_count": 3,
   "outputs": [],
   "source": [],
   "metadata": {
    "collapsed": false,
    "ExecuteTime": {
     "end_time": "2023-12-27T14:23:10.380717934Z",
     "start_time": "2023-12-27T14:23:10.371662083Z"
    }
   },
   "id": "40ed77668316dc13"
  },
  {
   "cell_type": "code",
   "execution_count": 4,
   "outputs": [
    {
     "name": "stdout",
     "output_type": "stream",
     "text": [
      "<53424x10000 sparse matrix of type '<class 'numpy.int32'>'\n",
      "\twith 5976479 stored elements in COOrdinate format>\n"
     ]
    }
   ],
   "source": [
    "(interactions, weights) = dataset.build_interactions(((x['user_id'], x['book_id'])\n",
    "                                                      for x in get_ratings()))\n",
    "\n",
    "print(repr(interactions))"
   ],
   "metadata": {
    "collapsed": false,
    "ExecuteTime": {
     "end_time": "2023-12-27T14:23:25.700122362Z",
     "start_time": "2023-12-27T14:23:10.376329478Z"
    }
   },
   "id": "e7a6d69d18c86e0c"
  },
  {
   "cell_type": "code",
   "execution_count": 4,
   "outputs": [],
   "source": [],
   "metadata": {
    "collapsed": false,
    "ExecuteTime": {
     "end_time": "2023-12-27T14:23:25.700258349Z",
     "start_time": "2023-12-27T14:23:25.700010067Z"
    }
   },
   "id": "55ff38148fdd1093"
  },
  {
   "cell_type": "code",
   "execution_count": 5,
   "outputs": [
    {
     "name": "stdout",
     "output_type": "stream",
     "text": [
      "<10000x14664 sparse matrix of type '<class 'numpy.float32'>'\n",
      "\twith 20000 stored elements in Compressed Sparse Row format>\n"
     ]
    }
   ],
   "source": [
    "item_features = dataset.build_item_features(((x['book_id'], [x['authors']])\n",
    "                                              for x in get_book_features()))\n",
    "print(repr(item_features))"
   ],
   "metadata": {
    "collapsed": false,
    "ExecuteTime": {
     "end_time": "2023-12-27T14:23:26.185397518Z",
     "start_time": "2023-12-27T14:23:25.700106201Z"
    }
   },
   "id": "b9021de6088b3256"
  },
  {
   "cell_type": "code",
   "execution_count": 6,
   "outputs": [],
   "source": [
    "f = get_book_features()"
   ],
   "metadata": {
    "collapsed": false,
    "ExecuteTime": {
     "end_time": "2023-12-27T14:23:26.649706162Z",
     "start_time": "2023-12-27T14:23:26.185565069Z"
    }
   },
   "id": "2d4dc950f2fff760"
  },
  {
   "cell_type": "code",
   "execution_count": 7,
   "outputs": [
    {
     "name": "stdout",
     "output_type": "stream",
     "text": [
      "Suzanne Collins\n"
     ]
    }
   ],
   "source": [
    "print(next(f)['authors'])\n"
   ],
   "metadata": {
    "collapsed": false,
    "ExecuteTime": {
     "end_time": "2023-12-27T14:23:26.659354218Z",
     "start_time": "2023-12-27T14:23:26.651382159Z"
    }
   },
   "id": "1b8bb983adde9037"
  },
  {
   "cell_type": "code",
   "execution_count": 8,
   "outputs": [
    {
     "data": {
      "text/plain": "<lightfm.lightfm.LightFM at 0x7f8fc04728f0>"
     },
     "execution_count": 8,
     "metadata": {},
     "output_type": "execute_result"
    }
   ],
   "source": [
    "from lightfm import LightFM\n",
    "\n",
    "model = LightFM(loss='bpr')\n",
    "model.fit(interactions, item_features=item_features, num_threads=12)"
   ],
   "metadata": {
    "collapsed": false,
    "ExecuteTime": {
     "end_time": "2023-12-27T14:23:27.881449748Z",
     "start_time": "2023-12-27T14:23:26.655063369Z"
    }
   },
   "id": "966b19486a25f300"
  },
  {
   "cell_type": "code",
   "execution_count": 9,
   "outputs": [
    {
     "name": "stdout",
     "output_type": "stream",
     "text": [
      "Collaborative filtering train AUC: 0.82427704\n",
      "Collaborative filtering test AUC: 0.8249212\n"
     ]
    }
   ],
   "source": [
    "from lightfm.evaluation import auc_score\n",
    "from lightfm.cross_validation import random_train_test_split\n",
    "\n",
    "(train, test) = random_train_test_split(interactions)\n",
    "\n",
    "train_auc = auc_score(model, train, item_features=item_features, num_threads=12).mean()\n",
    "print('Collaborative filtering train AUC: %s' % train_auc)\n",
    "\n",
    "test_auc = auc_score(model, test, item_features=item_features, train_interactions=train, num_threads=12).mean()\n",
    "print('Collaborative filtering test AUC: %s' % test_auc)"
   ],
   "metadata": {
    "collapsed": false,
    "ExecuteTime": {
     "end_time": "2023-12-27T14:23:41.402661161Z",
     "start_time": "2023-12-27T14:23:27.874261158Z"
    }
   },
   "id": "fdd707716a33f72a"
  },
  {
   "cell_type": "markdown",
   "source": [
    "# 1. Build LightFM Dataset"
   ],
   "metadata": {
    "collapsed": false
   },
   "id": "87a33d63a9db0bdb"
  },
  {
   "cell_type": "code",
   "execution_count": 9,
   "id": "initial_id",
   "metadata": {
    "collapsed": true,
    "ExecuteTime": {
     "end_time": "2023-12-27T14:23:41.402835722Z",
     "start_time": "2023-12-27T14:23:41.393918571Z"
    }
   },
   "outputs": [],
   "source": []
  }
 ],
 "metadata": {
  "kernelspec": {
   "display_name": "Python 3",
   "language": "python",
   "name": "python3"
  },
  "language_info": {
   "codemirror_mode": {
    "name": "ipython",
    "version": 2
   },
   "file_extension": ".py",
   "mimetype": "text/x-python",
   "name": "python",
   "nbconvert_exporter": "python",
   "pygments_lexer": "ipython2",
   "version": "2.7.6"
  }
 },
 "nbformat": 4,
 "nbformat_minor": 5
}
