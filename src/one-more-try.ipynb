{
 "cells": [
  {
   "cell_type": "code",
   "execution_count": 1,
   "id": "initial_id",
   "metadata": {
    "collapsed": true,
    "ExecuteTime": {
     "end_time": "2024-01-05T16:27:12.121258583Z",
     "start_time": "2024-01-05T16:27:10.905993990Z"
    }
   },
   "outputs": [],
   "source": [
    "import warnings\n",
    "\n",
    "warnings.simplefilter(action='ignore', category=FutureWarning)\n",
    "\n",
    "import pandas as pd\n",
    "import numpy as np\n",
    "\n",
    "from spark.config import views\n",
    "from spark.create_session import create_session\n",
    "\n",
    "from IPython.display import display\n"
   ]
  },
  {
   "cell_type": "code",
   "execution_count": 2,
   "outputs": [
    {
     "name": "stderr",
     "output_type": "stream",
     "text": [
      "Setting default log level to \"WARN\".\n",
      "To adjust logging level use sc.setLogLevel(newLevel). For SparkR, use setLogLevel(newLevel).\n",
      "24/01/05 17:27:13 WARN NativeCodeLoader: Unable to load native-hadoop library for your platform... using builtin-java classes where applicable\n",
      "                                                                                \r"
     ]
    }
   ],
   "source": [
    "VIEWS = views(\"v4\")\n",
    "spark = create_session()\n",
    "\n",
    "for view, file in VIEWS.items():\n",
    "    df = spark.read.json(file)\n",
    "    df.createOrReplaceTempView(view)"
   ],
   "metadata": {
    "collapsed": false,
    "ExecuteTime": {
     "end_time": "2024-01-05T16:27:21.625813394Z",
     "start_time": "2024-01-05T16:27:12.120286798Z"
    }
   },
   "id": "41655e9661968948"
  },
  {
   "cell_type": "code",
   "execution_count": 151,
   "outputs": [
    {
     "name": "stderr",
     "output_type": "stream",
     "text": [
      "                                                                                \r"
     ]
    }
   ],
   "source": [
    "sessions_full = spark.sql(f\"SELECT * FROM sessions\").toPandas()\n",
    "sessions = spark.sql(f\"SELECT DISTINCT user_id, track_id FROM sessions WHERE event_type like 'like' order by user_id, track_id\").toPandas()\n",
    "_tracks = spark.sql(\n",
    "    f\"SELECT DISTINCT id, id_artist, acousticness, danceability, duration_ms, energy, instrumentalness, key, liveness, loudness, popularity, EXTRACT(year from `release_date`) as release_year, speechiness, tempo, valence FROM tracks \").toPandas()\n",
    "users = spark.sql(f\"SELECT user_id FROM users\").toPandas()"
   ],
   "metadata": {
    "collapsed": false,
    "ExecuteTime": {
     "end_time": "2024-01-05T17:40:30.374852453Z",
     "start_time": "2024-01-05T17:40:10.729517893Z"
    }
   },
   "id": "15f0fb47a5c1bf76"
  },
  {
   "cell_type": "code",
   "execution_count": 152,
   "outputs": [
    {
     "data": {
      "text/plain": "            event_type  session_id                   timestamp  \\\n0                 play         124         2023-05-30T23:37:17   \n1         advertisment         124  2023-05-30T23:44:37.941000   \n2                 like         124  2023-05-30T23:44:37.941000   \n3                 skip         124  2023-05-30T23:44:46.212000   \n4                 play         124  2023-05-30T23:44:51.212000   \n...                ...         ...                         ...   \n12340426          play      878516  2022-12-27T11:20:54.236000   \n12340427          play      878516  2022-12-27T11:26:11.409000   \n12340428          play      878516  2022-12-27T11:30:27.182000   \n12340429          like      878516  2022-12-27T11:32:22.571000   \n12340430          play      878516  2022-12-27T11:35:56.115000   \n\n                        track_id  user_id  \n0         0qbV4e18lWrTTxlswVoLbI      101  \n1                           None      101  \n2         0qbV4e18lWrTTxlswVoLbI      101  \n3         0qbV4e18lWrTTxlswVoLbI      101  \n4         3pyTksNccLM1jRvzQ4zTke      101  \n...                          ...      ...  \n12340426  2nxzEMUmIhSJeGBaXgh30x     5100  \n12340427  19K3lUMJmOdeuOBTrbLm19     5100  \n12340428  1PhLYngBKbeDtdmDzCg3Pb     5100  \n12340429  1PhLYngBKbeDtdmDzCg3Pb     5100  \n12340430  09ezgACZuwWZt6CtQSSLRG     5100  \n\n[12340431 rows x 5 columns]",
      "text/html": "<div>\n<style scoped>\n    .dataframe tbody tr th:only-of-type {\n        vertical-align: middle;\n    }\n\n    .dataframe tbody tr th {\n        vertical-align: top;\n    }\n\n    .dataframe thead th {\n        text-align: right;\n    }\n</style>\n<table border=\"1\" class=\"dataframe\">\n  <thead>\n    <tr style=\"text-align: right;\">\n      <th></th>\n      <th>event_type</th>\n      <th>session_id</th>\n      <th>timestamp</th>\n      <th>track_id</th>\n      <th>user_id</th>\n    </tr>\n  </thead>\n  <tbody>\n    <tr>\n      <th>0</th>\n      <td>play</td>\n      <td>124</td>\n      <td>2023-05-30T23:37:17</td>\n      <td>0qbV4e18lWrTTxlswVoLbI</td>\n      <td>101</td>\n    </tr>\n    <tr>\n      <th>1</th>\n      <td>advertisment</td>\n      <td>124</td>\n      <td>2023-05-30T23:44:37.941000</td>\n      <td>None</td>\n      <td>101</td>\n    </tr>\n    <tr>\n      <th>2</th>\n      <td>like</td>\n      <td>124</td>\n      <td>2023-05-30T23:44:37.941000</td>\n      <td>0qbV4e18lWrTTxlswVoLbI</td>\n      <td>101</td>\n    </tr>\n    <tr>\n      <th>3</th>\n      <td>skip</td>\n      <td>124</td>\n      <td>2023-05-30T23:44:46.212000</td>\n      <td>0qbV4e18lWrTTxlswVoLbI</td>\n      <td>101</td>\n    </tr>\n    <tr>\n      <th>4</th>\n      <td>play</td>\n      <td>124</td>\n      <td>2023-05-30T23:44:51.212000</td>\n      <td>3pyTksNccLM1jRvzQ4zTke</td>\n      <td>101</td>\n    </tr>\n    <tr>\n      <th>...</th>\n      <td>...</td>\n      <td>...</td>\n      <td>...</td>\n      <td>...</td>\n      <td>...</td>\n    </tr>\n    <tr>\n      <th>12340426</th>\n      <td>play</td>\n      <td>878516</td>\n      <td>2022-12-27T11:20:54.236000</td>\n      <td>2nxzEMUmIhSJeGBaXgh30x</td>\n      <td>5100</td>\n    </tr>\n    <tr>\n      <th>12340427</th>\n      <td>play</td>\n      <td>878516</td>\n      <td>2022-12-27T11:26:11.409000</td>\n      <td>19K3lUMJmOdeuOBTrbLm19</td>\n      <td>5100</td>\n    </tr>\n    <tr>\n      <th>12340428</th>\n      <td>play</td>\n      <td>878516</td>\n      <td>2022-12-27T11:30:27.182000</td>\n      <td>1PhLYngBKbeDtdmDzCg3Pb</td>\n      <td>5100</td>\n    </tr>\n    <tr>\n      <th>12340429</th>\n      <td>like</td>\n      <td>878516</td>\n      <td>2022-12-27T11:32:22.571000</td>\n      <td>1PhLYngBKbeDtdmDzCg3Pb</td>\n      <td>5100</td>\n    </tr>\n    <tr>\n      <th>12340430</th>\n      <td>play</td>\n      <td>878516</td>\n      <td>2022-12-27T11:35:56.115000</td>\n      <td>09ezgACZuwWZt6CtQSSLRG</td>\n      <td>5100</td>\n    </tr>\n  </tbody>\n</table>\n<p>12340431 rows × 5 columns</p>\n</div>"
     },
     "metadata": {},
     "output_type": "display_data"
    },
    {
     "data": {
      "text/plain": "         user_id                track_id\n0            101  01q4ccXbvPlCwZ1fPiFaeM\n1            101  02ePjHjIiszSYqeLykvpTN\n2            101  02ppMPbg1OtEdHgoPqoqju\n3            101  03EnOL1O9EKi9CFNmPyrCm\n4            101  0534jmQ0dYChW5MSzYXNVr\n...          ...                     ...\n2568073     5100  7xD7MvjAdZkx1YICschIuI\n2568074     5100  7xa3dJQMzBVzsrZ81tNcHP\n2568075     5100  7yYvvOB7CuzdVldb6zOk1m\n2568076     5100  7ygpwy2qP3NbrxVkHvUhXY\n2568077     5100  7zjzu90Q4mtNNaE9Ol9Zbv\n\n[2568078 rows x 2 columns]",
      "text/html": "<div>\n<style scoped>\n    .dataframe tbody tr th:only-of-type {\n        vertical-align: middle;\n    }\n\n    .dataframe tbody tr th {\n        vertical-align: top;\n    }\n\n    .dataframe thead th {\n        text-align: right;\n    }\n</style>\n<table border=\"1\" class=\"dataframe\">\n  <thead>\n    <tr style=\"text-align: right;\">\n      <th></th>\n      <th>user_id</th>\n      <th>track_id</th>\n    </tr>\n  </thead>\n  <tbody>\n    <tr>\n      <th>0</th>\n      <td>101</td>\n      <td>01q4ccXbvPlCwZ1fPiFaeM</td>\n    </tr>\n    <tr>\n      <th>1</th>\n      <td>101</td>\n      <td>02ePjHjIiszSYqeLykvpTN</td>\n    </tr>\n    <tr>\n      <th>2</th>\n      <td>101</td>\n      <td>02ppMPbg1OtEdHgoPqoqju</td>\n    </tr>\n    <tr>\n      <th>3</th>\n      <td>101</td>\n      <td>03EnOL1O9EKi9CFNmPyrCm</td>\n    </tr>\n    <tr>\n      <th>4</th>\n      <td>101</td>\n      <td>0534jmQ0dYChW5MSzYXNVr</td>\n    </tr>\n    <tr>\n      <th>...</th>\n      <td>...</td>\n      <td>...</td>\n    </tr>\n    <tr>\n      <th>2568073</th>\n      <td>5100</td>\n      <td>7xD7MvjAdZkx1YICschIuI</td>\n    </tr>\n    <tr>\n      <th>2568074</th>\n      <td>5100</td>\n      <td>7xa3dJQMzBVzsrZ81tNcHP</td>\n    </tr>\n    <tr>\n      <th>2568075</th>\n      <td>5100</td>\n      <td>7yYvvOB7CuzdVldb6zOk1m</td>\n    </tr>\n    <tr>\n      <th>2568076</th>\n      <td>5100</td>\n      <td>7ygpwy2qP3NbrxVkHvUhXY</td>\n    </tr>\n    <tr>\n      <th>2568077</th>\n      <td>5100</td>\n      <td>7zjzu90Q4mtNNaE9Ol9Zbv</td>\n    </tr>\n  </tbody>\n</table>\n<p>2568078 rows × 2 columns</p>\n</div>"
     },
     "metadata": {},
     "output_type": "display_data"
    },
    {
     "data": {
      "text/plain": "                           id               id_artist  acousticness  \\\n0      4y8icjzu6fZP503Mg31Tpn  5V0MlUE1Bft0mbLlND7FJz       0.87800   \n1      4hHbeIIKO5Y5uLyIEbY9Gn  1Mxqyy3pSjf8kZZL4QVxS0       0.84500   \n2      0KSHmjK7OFtGocvbo7NZNO  6kACVPfCOnqzgfEF5ryl0x       0.80300   \n3      30V02AmDYMRvrHE4L8cZAo  22bE4uQ6baNwSHPVcDxLCe       0.17800   \n4      2CQRYn5cTD2B9a1ONjhTN2  3oDbviiivRWhXwIE8hxkVV       0.72500   \n...                       ...                     ...           ...   \n22407  3atrFJhUzDm5xiutqfEPkP  74XFHRwlV6OrjEM0A2NCMF       0.00576   \n22408  3wYzd4dzWknPdgwNaPGQvg  7JthQ6zwNzfxRfIEjp6wUs       0.06960   \n22409  6UIcN1tiiGdd7oMMzNvyaP  7lbSsjYACZHn1MSDXPxNF2       0.06010   \n22410  62i2LI6iDmAHbE9H9wa99z  7k73EtZwoPs516ZxE72KsO       0.38500   \n22411  2bAAj29XGc4h1G4oEGYCmg  7n2Ycct7Beij7Dj7meI4X0       0.03120   \n\n       danceability  duration_ms  energy  instrumentalness  key  liveness  \\\n0             0.184       224227   0.292          0.000258    7    0.3460   \n1             0.574       199093   0.338          0.000000    6    0.1650   \n2             0.754       107280   0.484          0.000009   10    0.0989   \n3             0.578       133320   0.429          0.000060    2    0.1710   \n4             0.396       145800   0.686          0.000001    5    0.1700   \n...             ...          ...     ...               ...  ...       ...   \n22407         0.489       218333   0.611          0.000008    6    0.0917   \n22408         0.607       191474   0.605          0.000000    3    0.4540   \n22409         0.479       297502   0.478          0.000007    5    0.0813   \n22410         0.470       216970   0.738          0.000621    8    0.0656   \n22411         0.739       199653   0.841          0.000000    5    0.1730   \n\n       loudness  popularity  release_year  speechiness    tempo  valence  \n0       -12.246          55          1956       0.0312   75.630   0.1430  \n1       -11.376          69          1958       0.0420   67.008   0.4930  \n2        -9.196          52          1959       0.0609   82.761   0.8010  \n3        -9.601          57          1965       0.0268  108.738   0.0889  \n4        -5.607          57          1966       0.0341  124.318   0.7170  \n...         ...         ...           ...          ...      ...      ...  \n22407    -5.675          52          2007       0.0337  140.956   0.1860  \n22408    -6.050          65          2021       0.1590   83.913   0.6650  \n22409    -8.884          53          2020       0.1100  100.040   0.1170  \n22410    -4.641          52          2017       0.0398   97.973   0.4880  \n22411    -4.162          61          2020       0.0600  106.990   0.5620  \n\n[22412 rows x 15 columns]",
      "text/html": "<div>\n<style scoped>\n    .dataframe tbody tr th:only-of-type {\n        vertical-align: middle;\n    }\n\n    .dataframe tbody tr th {\n        vertical-align: top;\n    }\n\n    .dataframe thead th {\n        text-align: right;\n    }\n</style>\n<table border=\"1\" class=\"dataframe\">\n  <thead>\n    <tr style=\"text-align: right;\">\n      <th></th>\n      <th>id</th>\n      <th>id_artist</th>\n      <th>acousticness</th>\n      <th>danceability</th>\n      <th>duration_ms</th>\n      <th>energy</th>\n      <th>instrumentalness</th>\n      <th>key</th>\n      <th>liveness</th>\n      <th>loudness</th>\n      <th>popularity</th>\n      <th>release_year</th>\n      <th>speechiness</th>\n      <th>tempo</th>\n      <th>valence</th>\n    </tr>\n  </thead>\n  <tbody>\n    <tr>\n      <th>0</th>\n      <td>4y8icjzu6fZP503Mg31Tpn</td>\n      <td>5V0MlUE1Bft0mbLlND7FJz</td>\n      <td>0.87800</td>\n      <td>0.184</td>\n      <td>224227</td>\n      <td>0.292</td>\n      <td>0.000258</td>\n      <td>7</td>\n      <td>0.3460</td>\n      <td>-12.246</td>\n      <td>55</td>\n      <td>1956</td>\n      <td>0.0312</td>\n      <td>75.630</td>\n      <td>0.1430</td>\n    </tr>\n    <tr>\n      <th>1</th>\n      <td>4hHbeIIKO5Y5uLyIEbY9Gn</td>\n      <td>1Mxqyy3pSjf8kZZL4QVxS0</td>\n      <td>0.84500</td>\n      <td>0.574</td>\n      <td>199093</td>\n      <td>0.338</td>\n      <td>0.000000</td>\n      <td>6</td>\n      <td>0.1650</td>\n      <td>-11.376</td>\n      <td>69</td>\n      <td>1958</td>\n      <td>0.0420</td>\n      <td>67.008</td>\n      <td>0.4930</td>\n    </tr>\n    <tr>\n      <th>2</th>\n      <td>0KSHmjK7OFtGocvbo7NZNO</td>\n      <td>6kACVPfCOnqzgfEF5ryl0x</td>\n      <td>0.80300</td>\n      <td>0.754</td>\n      <td>107280</td>\n      <td>0.484</td>\n      <td>0.000009</td>\n      <td>10</td>\n      <td>0.0989</td>\n      <td>-9.196</td>\n      <td>52</td>\n      <td>1959</td>\n      <td>0.0609</td>\n      <td>82.761</td>\n      <td>0.8010</td>\n    </tr>\n    <tr>\n      <th>3</th>\n      <td>30V02AmDYMRvrHE4L8cZAo</td>\n      <td>22bE4uQ6baNwSHPVcDxLCe</td>\n      <td>0.17800</td>\n      <td>0.578</td>\n      <td>133320</td>\n      <td>0.429</td>\n      <td>0.000060</td>\n      <td>2</td>\n      <td>0.1710</td>\n      <td>-9.601</td>\n      <td>57</td>\n      <td>1965</td>\n      <td>0.0268</td>\n      <td>108.738</td>\n      <td>0.0889</td>\n    </tr>\n    <tr>\n      <th>4</th>\n      <td>2CQRYn5cTD2B9a1ONjhTN2</td>\n      <td>3oDbviiivRWhXwIE8hxkVV</td>\n      <td>0.72500</td>\n      <td>0.396</td>\n      <td>145800</td>\n      <td>0.686</td>\n      <td>0.000001</td>\n      <td>5</td>\n      <td>0.1700</td>\n      <td>-5.607</td>\n      <td>57</td>\n      <td>1966</td>\n      <td>0.0341</td>\n      <td>124.318</td>\n      <td>0.7170</td>\n    </tr>\n    <tr>\n      <th>...</th>\n      <td>...</td>\n      <td>...</td>\n      <td>...</td>\n      <td>...</td>\n      <td>...</td>\n      <td>...</td>\n      <td>...</td>\n      <td>...</td>\n      <td>...</td>\n      <td>...</td>\n      <td>...</td>\n      <td>...</td>\n      <td>...</td>\n      <td>...</td>\n      <td>...</td>\n    </tr>\n    <tr>\n      <th>22407</th>\n      <td>3atrFJhUzDm5xiutqfEPkP</td>\n      <td>74XFHRwlV6OrjEM0A2NCMF</td>\n      <td>0.00576</td>\n      <td>0.489</td>\n      <td>218333</td>\n      <td>0.611</td>\n      <td>0.000008</td>\n      <td>6</td>\n      <td>0.0917</td>\n      <td>-5.675</td>\n      <td>52</td>\n      <td>2007</td>\n      <td>0.0337</td>\n      <td>140.956</td>\n      <td>0.1860</td>\n    </tr>\n    <tr>\n      <th>22408</th>\n      <td>3wYzd4dzWknPdgwNaPGQvg</td>\n      <td>7JthQ6zwNzfxRfIEjp6wUs</td>\n      <td>0.06960</td>\n      <td>0.607</td>\n      <td>191474</td>\n      <td>0.605</td>\n      <td>0.000000</td>\n      <td>3</td>\n      <td>0.4540</td>\n      <td>-6.050</td>\n      <td>65</td>\n      <td>2021</td>\n      <td>0.1590</td>\n      <td>83.913</td>\n      <td>0.6650</td>\n    </tr>\n    <tr>\n      <th>22409</th>\n      <td>6UIcN1tiiGdd7oMMzNvyaP</td>\n      <td>7lbSsjYACZHn1MSDXPxNF2</td>\n      <td>0.06010</td>\n      <td>0.479</td>\n      <td>297502</td>\n      <td>0.478</td>\n      <td>0.000007</td>\n      <td>5</td>\n      <td>0.0813</td>\n      <td>-8.884</td>\n      <td>53</td>\n      <td>2020</td>\n      <td>0.1100</td>\n      <td>100.040</td>\n      <td>0.1170</td>\n    </tr>\n    <tr>\n      <th>22410</th>\n      <td>62i2LI6iDmAHbE9H9wa99z</td>\n      <td>7k73EtZwoPs516ZxE72KsO</td>\n      <td>0.38500</td>\n      <td>0.470</td>\n      <td>216970</td>\n      <td>0.738</td>\n      <td>0.000621</td>\n      <td>8</td>\n      <td>0.0656</td>\n      <td>-4.641</td>\n      <td>52</td>\n      <td>2017</td>\n      <td>0.0398</td>\n      <td>97.973</td>\n      <td>0.4880</td>\n    </tr>\n    <tr>\n      <th>22411</th>\n      <td>2bAAj29XGc4h1G4oEGYCmg</td>\n      <td>7n2Ycct7Beij7Dj7meI4X0</td>\n      <td>0.03120</td>\n      <td>0.739</td>\n      <td>199653</td>\n      <td>0.841</td>\n      <td>0.000000</td>\n      <td>5</td>\n      <td>0.1730</td>\n      <td>-4.162</td>\n      <td>61</td>\n      <td>2020</td>\n      <td>0.0600</td>\n      <td>106.990</td>\n      <td>0.5620</td>\n    </tr>\n  </tbody>\n</table>\n<p>22412 rows × 15 columns</p>\n</div>"
     },
     "metadata": {},
     "output_type": "display_data"
    },
    {
     "data": {
      "text/plain": "      user_id\n0         101\n1         102\n2         103\n3         104\n4         105\n...       ...\n4995     5096\n4996     5097\n4997     5098\n4998     5099\n4999     5100\n\n[5000 rows x 1 columns]",
      "text/html": "<div>\n<style scoped>\n    .dataframe tbody tr th:only-of-type {\n        vertical-align: middle;\n    }\n\n    .dataframe tbody tr th {\n        vertical-align: top;\n    }\n\n    .dataframe thead th {\n        text-align: right;\n    }\n</style>\n<table border=\"1\" class=\"dataframe\">\n  <thead>\n    <tr style=\"text-align: right;\">\n      <th></th>\n      <th>user_id</th>\n    </tr>\n  </thead>\n  <tbody>\n    <tr>\n      <th>0</th>\n      <td>101</td>\n    </tr>\n    <tr>\n      <th>1</th>\n      <td>102</td>\n    </tr>\n    <tr>\n      <th>2</th>\n      <td>103</td>\n    </tr>\n    <tr>\n      <th>3</th>\n      <td>104</td>\n    </tr>\n    <tr>\n      <th>4</th>\n      <td>105</td>\n    </tr>\n    <tr>\n      <th>...</th>\n      <td>...</td>\n    </tr>\n    <tr>\n      <th>4995</th>\n      <td>5096</td>\n    </tr>\n    <tr>\n      <th>4996</th>\n      <td>5097</td>\n    </tr>\n    <tr>\n      <th>4997</th>\n      <td>5098</td>\n    </tr>\n    <tr>\n      <th>4998</th>\n      <td>5099</td>\n    </tr>\n    <tr>\n      <th>4999</th>\n      <td>5100</td>\n    </tr>\n  </tbody>\n</table>\n<p>5000 rows × 1 columns</p>\n</div>"
     },
     "metadata": {},
     "output_type": "display_data"
    }
   ],
   "source": [
    "display(sessions_full)\n",
    "display(sessions)\n",
    "display(_tracks)\n",
    "display(users)"
   ],
   "metadata": {
    "collapsed": false,
    "ExecuteTime": {
     "end_time": "2024-01-05T17:40:30.407154417Z",
     "start_time": "2024-01-05T17:40:30.381597897Z"
    }
   },
   "id": "835865a1922582e9"
  },
  {
   "cell_type": "code",
   "execution_count": 160,
   "outputs": [
    {
     "data": {
      "text/plain": "                           id               id_artist  acousticness  \\\n0      4y8icjzu6fZP503Mg31Tpn  5V0MlUE1Bft0mbLlND7FJz      2.210183   \n1      4hHbeIIKO5Y5uLyIEbY9Gn  1Mxqyy3pSjf8kZZL4QVxS0      2.090663   \n2      0KSHmjK7OFtGocvbo7NZNO  6kACVPfCOnqzgfEF5ryl0x      1.938547   \n3      30V02AmDYMRvrHE4L8cZAo  22bE4uQ6baNwSHPVcDxLCe     -0.325086   \n4      2CQRYn5cTD2B9a1ONjhTN2  3oDbviiivRWhXwIE8hxkVV      1.656046   \n...                       ...                     ...           ...   \n22407  3atrFJhUzDm5xiutqfEPkP  74XFHRwlV6OrjEM0A2NCMF     -0.948906   \n22408  3wYzd4dzWknPdgwNaPGQvg  7JthQ6zwNzfxRfIEjp6wUs     -0.717690   \n22409  6UIcN1tiiGdd7oMMzNvyaP  7lbSsjYACZHn1MSDXPxNF2     -0.752097   \n22410  62i2LI6iDmAHbE9H9wa99z  7k73EtZwoPs516ZxE72KsO      0.424630   \n22411  2bAAj29XGc4h1G4oEGYCmg  7n2Ycct7Beij7Dj7meI4X0     -0.856768   \n\n       danceability  duration_ms    energy  instrumentalness       key  \\\n0         -2.622956    -0.081994 -1.698778         -0.261491  0.483649   \n1         -0.158580    -0.430623 -1.479284         -0.263179  0.202650   \n2          0.978824    -1.704140 -0.782628         -0.263120  1.326645   \n3         -0.133305    -1.342945 -1.045067         -0.262786 -0.921346   \n4         -1.283347    -1.169838  0.181238         -0.263172 -0.078349   \n...             ...          ...       ...               ...       ...   \n22407     -0.695688    -0.163749 -0.176633         -0.263129  0.202650   \n22408      0.049944    -0.536304 -0.205263         -0.263179 -0.640347   \n22409     -0.758877     0.934387 -0.811258         -0.263132 -0.078349   \n22410     -0.815747    -0.182655  0.429362         -0.259116  0.764647   \n22411      0.884040    -0.422855  0.920838         -0.263179 -0.078349   \n\n       liveness  loudness  popularity  release_year  speechiness     tempo  \\\n0      0.910200 -1.350924   -0.792191     -3.602614    -0.579005 -1.562809   \n1     -0.167568 -1.118180    0.947358     -3.458942    -0.458085 -1.853949   \n2     -0.561162 -0.534983   -1.164951     -3.387106    -0.246475 -1.322015   \n3     -0.131841 -0.643329   -0.543684     -2.956090    -0.628269 -0.444846   \n4     -0.137796  0.425153   -0.543684     -2.884254    -0.546536  0.081246   \n...         ...       ...         ...           ...          ...       ...   \n22407 -0.604035  0.406961   -1.164951      0.061025    -0.551015  0.643063   \n22408  1.553288  0.306641    0.450344      1.066730     0.851883 -1.283116   \n22409 -0.665962 -0.451516   -1.040697      0.994894     0.303264 -0.738553   \n22410 -0.759448  0.683579   -1.164951      0.779385    -0.482717 -0.808350   \n22411 -0.119932  0.811722   -0.046670      0.994894    -0.256552 -0.503871   \n\n        valence  \n0     -1.533923  \n1     -0.102263  \n2      1.157598  \n3     -1.755216  \n4      0.814000  \n...         ...  \n22407 -1.358033  \n22408  0.601296  \n22409 -1.640275  \n22410 -0.122715  \n22411  0.179979  \n\n[22412 rows x 15 columns]",
      "text/html": "<div>\n<style scoped>\n    .dataframe tbody tr th:only-of-type {\n        vertical-align: middle;\n    }\n\n    .dataframe tbody tr th {\n        vertical-align: top;\n    }\n\n    .dataframe thead th {\n        text-align: right;\n    }\n</style>\n<table border=\"1\" class=\"dataframe\">\n  <thead>\n    <tr style=\"text-align: right;\">\n      <th></th>\n      <th>id</th>\n      <th>id_artist</th>\n      <th>acousticness</th>\n      <th>danceability</th>\n      <th>duration_ms</th>\n      <th>energy</th>\n      <th>instrumentalness</th>\n      <th>key</th>\n      <th>liveness</th>\n      <th>loudness</th>\n      <th>popularity</th>\n      <th>release_year</th>\n      <th>speechiness</th>\n      <th>tempo</th>\n      <th>valence</th>\n    </tr>\n  </thead>\n  <tbody>\n    <tr>\n      <th>0</th>\n      <td>4y8icjzu6fZP503Mg31Tpn</td>\n      <td>5V0MlUE1Bft0mbLlND7FJz</td>\n      <td>2.210183</td>\n      <td>-2.622956</td>\n      <td>-0.081994</td>\n      <td>-1.698778</td>\n      <td>-0.261491</td>\n      <td>0.483649</td>\n      <td>0.910200</td>\n      <td>-1.350924</td>\n      <td>-0.792191</td>\n      <td>-3.602614</td>\n      <td>-0.579005</td>\n      <td>-1.562809</td>\n      <td>-1.533923</td>\n    </tr>\n    <tr>\n      <th>1</th>\n      <td>4hHbeIIKO5Y5uLyIEbY9Gn</td>\n      <td>1Mxqyy3pSjf8kZZL4QVxS0</td>\n      <td>2.090663</td>\n      <td>-0.158580</td>\n      <td>-0.430623</td>\n      <td>-1.479284</td>\n      <td>-0.263179</td>\n      <td>0.202650</td>\n      <td>-0.167568</td>\n      <td>-1.118180</td>\n      <td>0.947358</td>\n      <td>-3.458942</td>\n      <td>-0.458085</td>\n      <td>-1.853949</td>\n      <td>-0.102263</td>\n    </tr>\n    <tr>\n      <th>2</th>\n      <td>0KSHmjK7OFtGocvbo7NZNO</td>\n      <td>6kACVPfCOnqzgfEF5ryl0x</td>\n      <td>1.938547</td>\n      <td>0.978824</td>\n      <td>-1.704140</td>\n      <td>-0.782628</td>\n      <td>-0.263120</td>\n      <td>1.326645</td>\n      <td>-0.561162</td>\n      <td>-0.534983</td>\n      <td>-1.164951</td>\n      <td>-3.387106</td>\n      <td>-0.246475</td>\n      <td>-1.322015</td>\n      <td>1.157598</td>\n    </tr>\n    <tr>\n      <th>3</th>\n      <td>30V02AmDYMRvrHE4L8cZAo</td>\n      <td>22bE4uQ6baNwSHPVcDxLCe</td>\n      <td>-0.325086</td>\n      <td>-0.133305</td>\n      <td>-1.342945</td>\n      <td>-1.045067</td>\n      <td>-0.262786</td>\n      <td>-0.921346</td>\n      <td>-0.131841</td>\n      <td>-0.643329</td>\n      <td>-0.543684</td>\n      <td>-2.956090</td>\n      <td>-0.628269</td>\n      <td>-0.444846</td>\n      <td>-1.755216</td>\n    </tr>\n    <tr>\n      <th>4</th>\n      <td>2CQRYn5cTD2B9a1ONjhTN2</td>\n      <td>3oDbviiivRWhXwIE8hxkVV</td>\n      <td>1.656046</td>\n      <td>-1.283347</td>\n      <td>-1.169838</td>\n      <td>0.181238</td>\n      <td>-0.263172</td>\n      <td>-0.078349</td>\n      <td>-0.137796</td>\n      <td>0.425153</td>\n      <td>-0.543684</td>\n      <td>-2.884254</td>\n      <td>-0.546536</td>\n      <td>0.081246</td>\n      <td>0.814000</td>\n    </tr>\n    <tr>\n      <th>...</th>\n      <td>...</td>\n      <td>...</td>\n      <td>...</td>\n      <td>...</td>\n      <td>...</td>\n      <td>...</td>\n      <td>...</td>\n      <td>...</td>\n      <td>...</td>\n      <td>...</td>\n      <td>...</td>\n      <td>...</td>\n      <td>...</td>\n      <td>...</td>\n      <td>...</td>\n    </tr>\n    <tr>\n      <th>22407</th>\n      <td>3atrFJhUzDm5xiutqfEPkP</td>\n      <td>74XFHRwlV6OrjEM0A2NCMF</td>\n      <td>-0.948906</td>\n      <td>-0.695688</td>\n      <td>-0.163749</td>\n      <td>-0.176633</td>\n      <td>-0.263129</td>\n      <td>0.202650</td>\n      <td>-0.604035</td>\n      <td>0.406961</td>\n      <td>-1.164951</td>\n      <td>0.061025</td>\n      <td>-0.551015</td>\n      <td>0.643063</td>\n      <td>-1.358033</td>\n    </tr>\n    <tr>\n      <th>22408</th>\n      <td>3wYzd4dzWknPdgwNaPGQvg</td>\n      <td>7JthQ6zwNzfxRfIEjp6wUs</td>\n      <td>-0.717690</td>\n      <td>0.049944</td>\n      <td>-0.536304</td>\n      <td>-0.205263</td>\n      <td>-0.263179</td>\n      <td>-0.640347</td>\n      <td>1.553288</td>\n      <td>0.306641</td>\n      <td>0.450344</td>\n      <td>1.066730</td>\n      <td>0.851883</td>\n      <td>-1.283116</td>\n      <td>0.601296</td>\n    </tr>\n    <tr>\n      <th>22409</th>\n      <td>6UIcN1tiiGdd7oMMzNvyaP</td>\n      <td>7lbSsjYACZHn1MSDXPxNF2</td>\n      <td>-0.752097</td>\n      <td>-0.758877</td>\n      <td>0.934387</td>\n      <td>-0.811258</td>\n      <td>-0.263132</td>\n      <td>-0.078349</td>\n      <td>-0.665962</td>\n      <td>-0.451516</td>\n      <td>-1.040697</td>\n      <td>0.994894</td>\n      <td>0.303264</td>\n      <td>-0.738553</td>\n      <td>-1.640275</td>\n    </tr>\n    <tr>\n      <th>22410</th>\n      <td>62i2LI6iDmAHbE9H9wa99z</td>\n      <td>7k73EtZwoPs516ZxE72KsO</td>\n      <td>0.424630</td>\n      <td>-0.815747</td>\n      <td>-0.182655</td>\n      <td>0.429362</td>\n      <td>-0.259116</td>\n      <td>0.764647</td>\n      <td>-0.759448</td>\n      <td>0.683579</td>\n      <td>-1.164951</td>\n      <td>0.779385</td>\n      <td>-0.482717</td>\n      <td>-0.808350</td>\n      <td>-0.122715</td>\n    </tr>\n    <tr>\n      <th>22411</th>\n      <td>2bAAj29XGc4h1G4oEGYCmg</td>\n      <td>7n2Ycct7Beij7Dj7meI4X0</td>\n      <td>-0.856768</td>\n      <td>0.884040</td>\n      <td>-0.422855</td>\n      <td>0.920838</td>\n      <td>-0.263179</td>\n      <td>-0.078349</td>\n      <td>-0.119932</td>\n      <td>0.811722</td>\n      <td>-0.046670</td>\n      <td>0.994894</td>\n      <td>-0.256552</td>\n      <td>-0.503871</td>\n      <td>0.179979</td>\n    </tr>\n  </tbody>\n</table>\n<p>22412 rows × 15 columns</p>\n</div>"
     },
     "metadata": {},
     "output_type": "display_data"
    }
   ],
   "source": [
    "from scipy import stats\n",
    "\n",
    "# normalize track features\n",
    "tracks = pd.concat([_tracks[['id', 'id_artist']], _tracks.drop(['id', 'id_artist'], axis=1).apply(stats.zscore)], axis=1)\n",
    "display(tracks)"
   ],
   "metadata": {
    "collapsed": false,
    "ExecuteTime": {
     "end_time": "2024-01-05T17:42:26.220132573Z",
     "start_time": "2024-01-05T17:42:25.556316056Z"
    }
   },
   "id": "2620a6f75cb57503"
  },
  {
   "cell_type": "code",
   "execution_count": 161,
   "outputs": [
    {
     "name": "stderr",
     "output_type": "stream",
     "text": [
      "                                                                                \r"
     ]
    },
    {
     "data": {
      "text/plain": "         user_id                track_id  weight  acousticness  danceability  \\\n0            101  01q4ccXbvPlCwZ1fPiFaeM       1      0.126000         0.680   \n1            101  02ePjHjIiszSYqeLykvpTN       2      0.159000         0.487   \n2            101  02ppMPbg1OtEdHgoPqoqju       1      0.511000         0.523   \n3            101  03EnOL1O9EKi9CFNmPyrCm       1      0.497000         0.555   \n4            101  0534jmQ0dYChW5MSzYXNVr       1      0.019400         0.590   \n...          ...                     ...     ...           ...           ...   \n2568073     5100  7xD7MvjAdZkx1YICschIuI       1      0.663000         0.544   \n2568074     5100  7xa3dJQMzBVzsrZ81tNcHP       2      0.000094         0.319   \n2568075     5100  7yYvvOB7CuzdVldb6zOk1m       1      0.001240         0.659   \n2568076     5100  7ygpwy2qP3NbrxVkHvUhXY       1      0.000509         0.375   \n2568077     5100  7zjzu90Q4mtNNaE9Ol9Zbv       1      0.005550         0.569   \n\n         duration_ms  energy  instrumentalness  key  liveness  loudness  \\\n0             122760   0.626          0.000001    7    0.0995    -8.519   \n1             220920   0.909          0.000001    9    0.3030    -3.484   \n2             290213   0.656          0.160000    4    0.0679    -7.441   \n3             355640   0.460          0.000000    9    0.1030    -7.032   \n4             265960   0.711          0.000000    0    0.1220    -7.589   \n...              ...     ...               ...  ...       ...       ...   \n2568073       224667   0.884          0.000007    8    0.3810    -8.166   \n2568074       203653   0.965          0.002210    7    0.1410    -4.354   \n2568075       288973   0.846          0.000000    7    0.0415    -7.579   \n2568076       258773   0.893          0.000000    2    0.1870    -4.097   \n2568077       259413   0.901          0.260000    9    0.1600    -5.197   \n\n         popularity  release_year  speechiness    tempo  valence  \n0                57          1987       0.0255  104.333    0.960  \n1                54          1995       0.0463  125.418    0.510  \n2                63          2007       0.0262  104.271    0.214  \n3                69          2005       0.0277   67.027    0.146  \n4                52          2011       0.0247  143.937    0.847  \n...             ...           ...          ...      ...      ...  \n2568073          53          1976       0.1440  127.215    0.467  \n2568074          52          1992       0.0646  127.721    0.624  \n2568075          52          1998       0.1110   92.803    0.595  \n2568076          76          1995       0.0406  174.323    0.434  \n2568077          60          2009       0.0544  133.194    0.839  \n\n[2568078 rows x 16 columns]",
      "text/html": "<div>\n<style scoped>\n    .dataframe tbody tr th:only-of-type {\n        vertical-align: middle;\n    }\n\n    .dataframe tbody tr th {\n        vertical-align: top;\n    }\n\n    .dataframe thead th {\n        text-align: right;\n    }\n</style>\n<table border=\"1\" class=\"dataframe\">\n  <thead>\n    <tr style=\"text-align: right;\">\n      <th></th>\n      <th>user_id</th>\n      <th>track_id</th>\n      <th>weight</th>\n      <th>acousticness</th>\n      <th>danceability</th>\n      <th>duration_ms</th>\n      <th>energy</th>\n      <th>instrumentalness</th>\n      <th>key</th>\n      <th>liveness</th>\n      <th>loudness</th>\n      <th>popularity</th>\n      <th>release_year</th>\n      <th>speechiness</th>\n      <th>tempo</th>\n      <th>valence</th>\n    </tr>\n  </thead>\n  <tbody>\n    <tr>\n      <th>0</th>\n      <td>101</td>\n      <td>01q4ccXbvPlCwZ1fPiFaeM</td>\n      <td>1</td>\n      <td>0.126000</td>\n      <td>0.680</td>\n      <td>122760</td>\n      <td>0.626</td>\n      <td>0.000001</td>\n      <td>7</td>\n      <td>0.0995</td>\n      <td>-8.519</td>\n      <td>57</td>\n      <td>1987</td>\n      <td>0.0255</td>\n      <td>104.333</td>\n      <td>0.960</td>\n    </tr>\n    <tr>\n      <th>1</th>\n      <td>101</td>\n      <td>02ePjHjIiszSYqeLykvpTN</td>\n      <td>2</td>\n      <td>0.159000</td>\n      <td>0.487</td>\n      <td>220920</td>\n      <td>0.909</td>\n      <td>0.000001</td>\n      <td>9</td>\n      <td>0.3030</td>\n      <td>-3.484</td>\n      <td>54</td>\n      <td>1995</td>\n      <td>0.0463</td>\n      <td>125.418</td>\n      <td>0.510</td>\n    </tr>\n    <tr>\n      <th>2</th>\n      <td>101</td>\n      <td>02ppMPbg1OtEdHgoPqoqju</td>\n      <td>1</td>\n      <td>0.511000</td>\n      <td>0.523</td>\n      <td>290213</td>\n      <td>0.656</td>\n      <td>0.160000</td>\n      <td>4</td>\n      <td>0.0679</td>\n      <td>-7.441</td>\n      <td>63</td>\n      <td>2007</td>\n      <td>0.0262</td>\n      <td>104.271</td>\n      <td>0.214</td>\n    </tr>\n    <tr>\n      <th>3</th>\n      <td>101</td>\n      <td>03EnOL1O9EKi9CFNmPyrCm</td>\n      <td>1</td>\n      <td>0.497000</td>\n      <td>0.555</td>\n      <td>355640</td>\n      <td>0.460</td>\n      <td>0.000000</td>\n      <td>9</td>\n      <td>0.1030</td>\n      <td>-7.032</td>\n      <td>69</td>\n      <td>2005</td>\n      <td>0.0277</td>\n      <td>67.027</td>\n      <td>0.146</td>\n    </tr>\n    <tr>\n      <th>4</th>\n      <td>101</td>\n      <td>0534jmQ0dYChW5MSzYXNVr</td>\n      <td>1</td>\n      <td>0.019400</td>\n      <td>0.590</td>\n      <td>265960</td>\n      <td>0.711</td>\n      <td>0.000000</td>\n      <td>0</td>\n      <td>0.1220</td>\n      <td>-7.589</td>\n      <td>52</td>\n      <td>2011</td>\n      <td>0.0247</td>\n      <td>143.937</td>\n      <td>0.847</td>\n    </tr>\n    <tr>\n      <th>...</th>\n      <td>...</td>\n      <td>...</td>\n      <td>...</td>\n      <td>...</td>\n      <td>...</td>\n      <td>...</td>\n      <td>...</td>\n      <td>...</td>\n      <td>...</td>\n      <td>...</td>\n      <td>...</td>\n      <td>...</td>\n      <td>...</td>\n      <td>...</td>\n      <td>...</td>\n      <td>...</td>\n    </tr>\n    <tr>\n      <th>2568073</th>\n      <td>5100</td>\n      <td>7xD7MvjAdZkx1YICschIuI</td>\n      <td>1</td>\n      <td>0.663000</td>\n      <td>0.544</td>\n      <td>224667</td>\n      <td>0.884</td>\n      <td>0.000007</td>\n      <td>8</td>\n      <td>0.3810</td>\n      <td>-8.166</td>\n      <td>53</td>\n      <td>1976</td>\n      <td>0.1440</td>\n      <td>127.215</td>\n      <td>0.467</td>\n    </tr>\n    <tr>\n      <th>2568074</th>\n      <td>5100</td>\n      <td>7xa3dJQMzBVzsrZ81tNcHP</td>\n      <td>2</td>\n      <td>0.000094</td>\n      <td>0.319</td>\n      <td>203653</td>\n      <td>0.965</td>\n      <td>0.002210</td>\n      <td>7</td>\n      <td>0.1410</td>\n      <td>-4.354</td>\n      <td>52</td>\n      <td>1992</td>\n      <td>0.0646</td>\n      <td>127.721</td>\n      <td>0.624</td>\n    </tr>\n    <tr>\n      <th>2568075</th>\n      <td>5100</td>\n      <td>7yYvvOB7CuzdVldb6zOk1m</td>\n      <td>1</td>\n      <td>0.001240</td>\n      <td>0.659</td>\n      <td>288973</td>\n      <td>0.846</td>\n      <td>0.000000</td>\n      <td>7</td>\n      <td>0.0415</td>\n      <td>-7.579</td>\n      <td>52</td>\n      <td>1998</td>\n      <td>0.1110</td>\n      <td>92.803</td>\n      <td>0.595</td>\n    </tr>\n    <tr>\n      <th>2568076</th>\n      <td>5100</td>\n      <td>7ygpwy2qP3NbrxVkHvUhXY</td>\n      <td>1</td>\n      <td>0.000509</td>\n      <td>0.375</td>\n      <td>258773</td>\n      <td>0.893</td>\n      <td>0.000000</td>\n      <td>2</td>\n      <td>0.1870</td>\n      <td>-4.097</td>\n      <td>76</td>\n      <td>1995</td>\n      <td>0.0406</td>\n      <td>174.323</td>\n      <td>0.434</td>\n    </tr>\n    <tr>\n      <th>2568077</th>\n      <td>5100</td>\n      <td>7zjzu90Q4mtNNaE9Ol9Zbv</td>\n      <td>1</td>\n      <td>0.005550</td>\n      <td>0.569</td>\n      <td>259413</td>\n      <td>0.901</td>\n      <td>0.260000</td>\n      <td>9</td>\n      <td>0.1600</td>\n      <td>-5.197</td>\n      <td>60</td>\n      <td>2009</td>\n      <td>0.0544</td>\n      <td>133.194</td>\n      <td>0.839</td>\n    </tr>\n  </tbody>\n</table>\n<p>2568078 rows × 16 columns</p>\n</div>"
     },
     "execution_count": 161,
     "metadata": {},
     "output_type": "execute_result"
    }
   ],
   "source": [
    "d = spark.sql(\n",
    "    \"\"\"\n",
    "    SELECT s.user_id, s.track_id, s.weight, acousticness, danceability, duration_ms, energy, instrumentalness, key, liveness, loudness, popularity, EXTRACT(year from `release_date`) as release_year, speechiness, tempo, valence\n",
    "    FROM (\n",
    "        select user_id, track_id, sum(event_weight) as weight\n",
    "        from (\n",
    "            SELECT user_id, track_id, 1 as event_weight\n",
    "            FROM sessions\n",
    "            WHERE event_type like 'like'\n",
    "            ) \n",
    "        group by user_id, track_id\n",
    "    ) s\n",
    "    inner join tracks t on s.track_id = t.id\n",
    "    order by s.user_id, t.id\n",
    "    \"\"\").toPandas()\n",
    "d"
   ],
   "metadata": {
    "collapsed": false,
    "ExecuteTime": {
     "end_time": "2024-01-05T17:42:33.804158331Z",
     "start_time": "2024-01-05T17:42:25.630897991Z"
    }
   },
   "id": "e5968ee30342123a"
  },
  {
   "cell_type": "code",
   "execution_count": 162,
   "outputs": [
    {
     "name": "stdout",
     "output_type": "stream",
     "text": [
      "Num users: 5000, num_items 22412.\n"
     ]
    }
   ],
   "source": [
    "from lightfm.data import Dataset\n",
    "\n",
    "dataset = Dataset()\n",
    "dataset.fit(\n",
    "    users=users['user_id'],\n",
    "    items=tracks['id']\n",
    ")\n",
    "\n",
    "dataset.fit_partial(\n",
    "    items=tracks['id'],\n",
    "    item_features=tracks.drop('id', axis=1)\n",
    ")\n",
    "\n",
    "num_users, num_items = dataset.interactions_shape()\n",
    "print('Num users: {}, num_items {}.'.format(num_users, num_items))"
   ],
   "metadata": {
    "collapsed": false,
    "ExecuteTime": {
     "end_time": "2024-01-05T17:42:33.859271811Z",
     "start_time": "2024-01-05T17:42:33.803816552Z"
    }
   },
   "id": "baa266949f163fc8"
  },
  {
   "cell_type": "code",
   "execution_count": 163,
   "outputs": [
    {
     "name": "stdout",
     "output_type": "stream",
     "text": [
      "<5000x22412 sparse matrix of type '<class 'numpy.int32'>'\n",
      "\twith 2568078 stored elements in COOrdinate format>\n"
     ]
    }
   ],
   "source": [
    "(interactions, weights) = dataset.build_interactions(d[['user_id', 'track_id']].apply(tuple, axis=1))\n",
    "\n",
    "print(repr(interactions))"
   ],
   "metadata": {
    "collapsed": false,
    "ExecuteTime": {
     "end_time": "2024-01-05T17:42:46.882346925Z",
     "start_time": "2024-01-05T17:42:33.830097994Z"
    }
   },
   "id": "44849957f9146d37"
  },
  {
   "cell_type": "code",
   "execution_count": 164,
   "outputs": [],
   "source": [
    "from lightfm.cross_validation import random_train_test_split\n",
    "\n",
    "(train, test) = random_train_test_split(interactions)"
   ],
   "metadata": {
    "collapsed": false,
    "ExecuteTime": {
     "end_time": "2024-01-05T17:42:46.967839512Z",
     "start_time": "2024-01-05T17:42:46.870777713Z"
    }
   },
   "id": "8430a4c32defd36b"
  },
  {
   "cell_type": "code",
   "execution_count": 165,
   "outputs": [],
   "source": [
    "from lightfm import LightFM\n",
    "from lightfm.evaluation import auc_score, precision_at_k, recall_at_k, reciprocal_rank"
   ],
   "metadata": {
    "collapsed": false,
    "ExecuteTime": {
     "end_time": "2024-01-05T17:42:46.971516482Z",
     "start_time": "2024-01-05T17:42:46.969825063Z"
    }
   },
   "id": "d7f68e99931f522a"
  },
  {
   "cell_type": "code",
   "execution_count": 166,
   "outputs": [
    {
     "name": "stdout",
     "output_type": "stream",
     "text": [
      "<22412x22426 sparse matrix of type '<class 'numpy.float32'>'\n",
      "\twith 336180 stored elements in Compressed Sparse Row format>\n"
     ]
    }
   ],
   "source": [
    "feature_names = tracks.drop(['id'], axis=1).columns\n",
    "\n",
    "item_features = dataset.build_item_features(\n",
    "    ((i, feature_names) for i in tracks['id']), \n",
    "    normalize=False)\n",
    "print(repr(item_features))"
   ],
   "metadata": {
    "collapsed": false,
    "ExecuteTime": {
     "end_time": "2024-01-05T17:42:47.231787056Z",
     "start_time": "2024-01-05T17:42:46.972064790Z"
    }
   },
   "id": "efc0a3172626105"
  },
  {
   "cell_type": "code",
   "execution_count": 168,
   "outputs": [
    {
     "name": "stderr",
     "output_type": "stream",
     "text": [
      "Epoch: 100%|██████████| 10/10 [02:14<00:00, 13.48s/it]\n"
     ]
    },
    {
     "data": {
      "text/plain": "<lightfm.lightfm.LightFM at 0x7fb9b7486650>"
     },
     "execution_count": 168,
     "metadata": {},
     "output_type": "execute_result"
    }
   ],
   "source": [
    "model_h = LightFM(\n",
    "    loss='warp',\n",
    "    learning_rate=0.05,\n",
    "    item_alpha=1e-6,\n",
    "    user_alpha=1e-6,\n",
    "    no_components=30,\n",
    ")\n",
    "model_h.fit(\n",
    "    interactions=train,\n",
    "    item_features=item_features,\n",
    "    epochs=10,\n",
    "    num_threads=12,\n",
    "    verbose=True)"
   ],
   "metadata": {
    "collapsed": false,
    "ExecuteTime": {
     "end_time": "2024-01-05T17:45:33.661418074Z",
     "start_time": "2024-01-05T17:43:18.881215282Z"
    }
   },
   "id": "b179fb8a664d5035"
  },
  {
   "cell_type": "code",
   "execution_count": 169,
   "outputs": [
    {
     "name": "stdout",
     "output_type": "stream",
     "text": [
      "8/8 done...AUC: train 0.945076, test 0.934822.\n",
      "Precision: train 0.396700, test 0.232520.\n",
      "Recall: train 0.025355, test 0.097656.\n",
      "Reciprocal rank: train 0.592917, test 0.341225.\n"
     ]
    }
   ],
   "source": [
    "print(\"0/8 done...\", end=\"\")\n",
    "train_auc_h = auc_score(model_h, train, \n",
    "                        item_features=item_features,\n",
    "                        num_threads=12).mean()\n",
    "print(\"\\r1/8 done...\", end=\"\")\n",
    "test_auc_h = auc_score(model_h, test, \n",
    "                       train_interactions=train, \n",
    "                       item_features=item_features, \n",
    "                       num_threads=12).mean()\n",
    "print(\"\\r2/8 done...\", end=\"\")\n",
    "\n",
    "train_precision_h = precision_at_k(model_h, train, k=10,\n",
    "                                   item_features=item_features, \n",
    "                                   num_threads=12).mean()\n",
    "print(\"\\r3/8 done...\", end=\"\")\n",
    "test_precision_h = precision_at_k(model_h, test, k=10, \n",
    "                                  train_interactions=train,\n",
    "                                  item_features=item_features, \n",
    "                                  num_threads=12).mean()\n",
    "print(\"\\r4/8 done...\", end=\"\")\n",
    "\n",
    "train_recall_h = recall_at_k(model_h, train, k=10, \n",
    "                             item_features=item_features,\n",
    "                             num_threads=12).mean()\n",
    "print(\"\\r5/8 done...\", end=\"\")\n",
    "test_recall_h = recall_at_k(model_h, test, k=10, \n",
    "                            train_interactions=train,\n",
    "                            item_features=item_features, \n",
    "                            num_threads=12).mean()\n",
    "print(\"\\r6/8 done...\", end=\"\")\n",
    "\n",
    "train_reciprocal_rank_h = reciprocal_rank(model_h, train,\n",
    "                                          item_features=item_features,\n",
    "                                          num_threads=12).mean()\n",
    "print(\"\\r7/8 done...\", end=\"\")\n",
    "test_reciprocal_rank_h = reciprocal_rank(model_h, test, \n",
    "                                         train_interactions=train,\n",
    "                                         item_features=item_features,\n",
    "                                         num_threads=12).mean()\n",
    "print(\"\\r8/8 done...\", end=\"\")\n",
    "\n",
    "print('AUC: train %.6f, test %.6f.' % (train_auc_h, test_auc_h))\n",
    "print('Precision: train %.6f, test %.6f.' % (train_precision_h, test_precision_h))\n",
    "print('Recall: train %.6f, test %.6f.' % (train_recall_h, test_recall_h))\n",
    "print('Reciprocal rank: train %.6f, test %.6f.' % (train_reciprocal_rank_h, test_reciprocal_rank_h))"
   ],
   "metadata": {
    "collapsed": false,
    "ExecuteTime": {
     "end_time": "2024-01-05T17:46:40.094653503Z",
     "start_time": "2024-01-05T17:45:33.658458668Z"
    }
   },
   "id": "b8ee5784f657bd03"
  },
  {
   "cell_type": "code",
   "execution_count": 170,
   "outputs": [
    {
     "name": "stdout",
     "output_type": "stream",
     "text": [
      "3567     386RUes7n1uM1yfzgeUuwp\n",
      "17192    7DMPq3XndRJaj6NTINsLOz\n",
      "9230     5ulZo7nk3MByXLvja3NCAc\n",
      "10027    2CEgGE6aESpnmtfiZwYlbV\n",
      "18175    5880eYQmXx3c3oD22IljIt\n",
      "                  ...          \n",
      "10576    2JqnpexlO9dmvjUMCaLCLJ\n",
      "10586    4t5Zj9I7WDYFaYlSif13lV\n",
      "17077    5xPsybHWRHbTYO44xnREY5\n",
      "17066    7lmX3dD2Xy13Jo1oCTR4ot\n",
      "10579    3XF5xLJHOQQRbWya6hBp7d\n",
      "Name: id, Length: 2000, dtype: object\n",
      "19538    5JTgqOeHWg4bxMZYMRTE4H\n",
      "11064    7cR56TtuWIktf7jaZfyIgz\n",
      "2858     4RU7rnJBOXCzWmsLDqUaFC\n",
      "13089    22wWxHGHRH8gZXNDXRgSqY\n",
      "11262    4iihDHIoKZdOeOW1kFDUtR\n",
      "                  ...          \n",
      "5810     236mI0lz8JdQjlmijARSwY\n",
      "5811     7HHNKKfD9oNshMTyklBeWu\n",
      "8922     5OkZtvqYLkgy5ri5Ms6WBz\n",
      "5823     69GXaKmq1wdZ8zFedogQKg\n",
      "13872    1rzYrkxgRuLLJDqWdB32pK\n",
      "Name: id, Length: 2000, dtype: object\n",
      "{'4cKJsZuzbNBpdxeMC9pBQG', '5H8xFHau0x3PI1CssO6EaX', '39cFQHfY6tsdMRmSbFse3X', '0aMqNFBj9KtPTD3c3tByRT', '2HklyUw3TR56nVyVJAIhw5', '3gwRWIbr5ycEVLIAXrWaw7', '1hIQPCM3oWXrpnXmgTDaKG', '0lkQOB949M2gLyut86aJ1b', '7lBPn6LpIvbvAihTRvBMig', '3FCto7hnn1shUyZL42YgfO', '69QHm3pustz01CJRwdo20z', '73TIedeyEOxFQ56TTmOExK', '1ppuHX1oVMku5LTL0swNZP', '0rmGAIH9LNJewFw7nKzZnc', '1deWgqhgAzI6dY35TbKKh7', '1chxAv59LZcOE5FyrlUze2', '4BdGO1CaObRD4La9l5Zanz', '7rpUsVjQyitDQ27NRybgZl', '0ofHAoxe9vBkTCp2UQIavz', '6DfWymHzCYOH2ABUuHFaMe', '5FVd6KXrgO9B3JPmC8OPst', '5eR6OS3joTAHJToyzehKfu', '0suLngfo7rJoetk7Ub6N8l', '316r1KLN0bcmpr7TZcMCXT', '4UF1eupXP9Zz5GpYepyOxI', '6FUwPb4mGlUDbx42uspXaZ', '6wtmql7FJ7SSLuSw8JD8rX', '3n5iUh2Z6P7cnWins22W0F', '7xuu4ByQkm8qhnwJQk994r', '5Ei9o2fHEnfHb84YrPuz4v', '0jnFDxgNhS156vu6roUVco', '4VbDJMkAX3dWNBdn3KH6Wx', '58YL9Jo1T0wyijCOZWRmyL', '2a1iMaoWQ5MnvLFBDv4qkf', '3eSnqrgqm1R0mkgz80Cpzq', '37XvAcnKbE9x44paYlF9vK', '1E2AfYuobMm18cKEoQaRob', '54UFDHWI2q7WHfrGbSNWph', '1PInWkBARsxLyouDqa2GtF', '4IN3imzEuTsiHO6tOwDQu5', '0RdUX4WE0fO30VnlUbDVL6', '2uDwRgwGPjXq0oj0hNCuFc', '1dxbAIfCASqv6jix2R1Taj', '02UGiF5MKosDZ1gp91oxgT', '0lBO2VOhlNNx879Fjd9XY3', '1fPKWu8NKS1ZGHjFZ5QCAs', '3lPn81PFyKvXiyHhlkwkQ4', '0M1pfDTZGWC7cBuEx3FwwT', '4YPgTCGJWAlHQ5g6eWoM8r', '0ZLBD6hHGN9LYOtNlu2n8e', '1KSkVwl54ghzE1jSbsVNBr', '4cURHmiuYii52BVbhrGbv0', '3w2GGz0HjIu9OcWXINRFJR', '09x9v1o51dbqi5H0u7UGfp', '2jz6rWGqVCYsymwxGoaON4', '6dGnYIeXmHdcikdzNNDMm2', '0pqnGHJpmpxLKifKRmU6WP', '3sIsG7vDZr17BVimMeZZQS', '3FvV3j98xtcylQF1drDc9j', '6yl8Es1tCYD9WdSkeVLFw4', '2N7TN76tLuTcdn9UlS8ADT', '086myS9r57YsLbJpU0TgK9', '1hqrYSqvNc9x3BETX1cZhk', '4pruGLEd2plhfOmusGTGdq', '1iArQTuOzxvrtniGmkyy92', '3ftHrCjsTUPLgI48m67byk', '6z3JD6IqVvu6TUBtCfQPbe', '739sLmfUkVFoyPtb0C3263', '3OcBH9Vzd1UwJkQd3r1dVG', '6J212smZzpeOCYQ9DITMSC', '2RDXq7AwoEpvrjsXe4zlUc', '0K1KOCeJBj3lpDYxEX9qP2', '4VbOIkKqt0gkZpC75oKSxS', '5EWtBjCLy21d1hY9zdaEe8', '4XssnBT81vTIH6iYYUSv84', '7eX5SypK35V8Y9d9pS6rWy', '7FdUvDkaE24o3FPIWTvzv2', '60l2m3BD5VY0HSc3xmSpPI', '2FY7b99s15jUprqC0M5NCT', '66yHWgWpdNhrbePfI8MV44', '0g9IOJwdElaCZEvcqGRP4b', '2QjkH9q5Mypj6m38u7Ni9o', '44NEZGVj6bElfwpLb1LBVx', '5m578MgxuEC956dulprCe8', '7pETV41GUutaZ6KMHMAYIH', '4U45aEWtQhrm8A5mxPaFZ7', '570oJcBwoLGZz95xTNa0JB', '06Zz2l7cVTCTgCNDe1bnEF', '0R8Danl4L4Tq00OiYFygSM', '57jNlMob42pJrsKGorpdiY', '3CRDbSIZ4r5MsZ0YwxuEkn', '16XeptMdlJTWWeIrwEAOvv', '4IqRkixgPBoAcZu41eVyeo', '5WSdMcWTKRdN1QYVJHJWxz', '2CbtdkBeW9Znt4vXTOafAl', '0dPPUcfDnvSwK38lLgzKSd', '06EC9TibZK2mACTZ2usK1h', '2YTwVDQOSGclX2N3AKetOP', '0brL7VMo7onJJTGMSdajic', '3UrGEZVC2bbMfVcI0DGOlB', '5Tdx85q8KQIcIZJ9XoHblt', '3JjZq20Kv6UphyyirAaY9A', '42cxPm9jgbaxIVN77XA1m6', '0ShUX5LYFHltP8T7PxRhRm', '0LAcM6I7ijW4VVW0aytl1t', '2co8fDyaVmxv8xruQWORnC', '06RdYCp0UxsBtWsonHfSZz', '7qxjGHW485TL8ciwkHD5MK', '52FZW6u4BM9e1Kh4bewek3'}\n",
      "109\n"
     ]
    }
   ],
   "source": [
    "def predict_single(user: int, number: int):\n",
    "    predicted_scores = model_h.predict(user, np.arange(interactions.shape[1]), \n",
    "                                   item_features=item_features, \n",
    "                                   num_threads=12)\n",
    "    indices = np.argpartition(predicted_scores, -number)[-number:]\n",
    "    return tracks.loc[indices]['id']\n",
    "\n",
    "\n",
    "def predict_multiple(users: list[int], number: int):  \n",
    "    if len(users) == 1:\n",
    "        return frozenset(predict_single(users[0], number))\n",
    "    \n",
    "    predictions = [frozenset(predict_single(u, number)) for u in users]\n",
    "    return predictions[0].intersection(*predictions[1:])\n",
    "\n",
    "n = 2000\n",
    "r1 = predict_single(123, n)\n",
    "r2 = predict_single(124, n)\n",
    "print(r1)\n",
    "print(r2)\n",
    "overlap = set(r1).intersection(set(r2))\n",
    "print(overlap)\n",
    "print(len(overlap))\n"
   ],
   "metadata": {
    "collapsed": false,
    "ExecuteTime": {
     "end_time": "2024-01-05T17:46:40.146530623Z",
     "start_time": "2024-01-05T17:46:40.083112545Z"
    }
   },
   "id": "c8b7f0a22831c3b5"
  },
  {
   "cell_type": "code",
   "execution_count": 171,
   "outputs": [],
   "source": [
    "# sanity check\n",
    "r1_ = predict_single(123, 10)\n",
    "r2_ = predict_single(124, 10)\n",
    "assert len(set(r1_).intersection(set(r2_))) <= 1"
   ],
   "metadata": {
    "collapsed": false,
    "ExecuteTime": {
     "end_time": "2024-01-05T17:46:40.204780409Z",
     "start_time": "2024-01-05T17:46:40.146714892Z"
    }
   },
   "id": "22b09dbbc34b7e97"
  },
  {
   "cell_type": "code",
   "execution_count": 172,
   "outputs": [
    {
     "name": "stdout",
     "output_type": "stream",
     "text": [
      "frozenset({'2o3qA8lOCXZ8cRGhuWNT4J', '5aIZ2jtxZ4o4GHQXTybkIa', '7iPlcFvOMOzt6v0QvcAueZ', '7CHIJREUYyM7vndBQE6iMy', '5aV4HUW9RFOB0aXq0Ud9s0', '33DzKnwuBE6lfOiADwzd5E', '5WSdMcWTKRdN1QYVJHJWxz', '6n2QOmyioHfAqwwAh5xZHK', '3528IXKpbb7OMjdjWYlbfD', '0l4DTppOxy7NUaEcwXuOb6', '0K1KOCeJBj3lpDYxEX9qP2', '0mjAU3yKR1QnXnHtjGJqTM', '6HguG9HRb1Ke1bhihfE4m8', '06cCziAHtDg6pcsidZHu03', '2iUmqdfGZcHIhS3b9E9EWq', '4rmIfFUZhhi9sS5IYtpkXw', '3xrwXWG4O9uhtRyAd3MCou', '4BUtvtGTRvJB49Hx2F7lle', '5CgihnZO9To8wj7ALOoTPD', '3UH4JIDuP83866Y43bbo4k'})\n",
      "20\n"
     ]
    }
   ],
   "source": [
    "res_m = predict_multiple([123, 124, 125, 126, 127, 128], 5000)\n",
    "print(res_m)\n",
    "print(len(res_m))\n"
   ],
   "metadata": {
    "collapsed": false,
    "ExecuteTime": {
     "end_time": "2024-01-05T17:46:40.271014377Z",
     "start_time": "2024-01-05T17:46:40.183840183Z"
    }
   },
   "id": "b27b91f8373e0ad3"
  },
  {
   "cell_type": "code",
   "execution_count": 173,
   "outputs": [],
   "source": [
    "(_, _, item_id_mapping, _) = dataset.mapping()\n",
    "\n",
    "def mean_dist_from_cluster_center(items, model: LightFM):\n",
    "    item_indices = [item_id_mapping[i] for i in items]\n",
    "    coords = np.take(model.get_item_representations()[1], item_indices, axis=0)\n",
    "    center = np.sum(coords, axis=0) / coords.shape[0]\n",
    "    return  np.average(np.apply_along_axis(lambda x: np.linalg.norm(center - x, ord=2), 1, coords))"
   ],
   "metadata": {
    "collapsed": false,
    "ExecuteTime": {
     "end_time": "2024-01-05T17:46:40.271219614Z",
     "start_time": "2024-01-05T17:46:40.232922811Z"
    }
   },
   "id": "7d4f08a0ab4a5b3b"
  },
  {
   "cell_type": "code",
   "execution_count": 174,
   "outputs": [
    {
     "data": {
      "text/plain": "1.2049878"
     },
     "execution_count": 174,
     "metadata": {},
     "output_type": "execute_result"
    }
   ],
   "source": [
    "mean_dist_from_cluster_center(res_m, model_h)"
   ],
   "metadata": {
    "collapsed": false,
    "ExecuteTime": {
     "end_time": "2024-01-05T17:46:40.294605331Z",
     "start_time": "2024-01-05T17:46:40.237678587Z"
    }
   },
   "id": "45a9a061851ca2fa"
  },
  {
   "cell_type": "code",
   "execution_count": 175,
   "outputs": [
    {
     "data": {
      "text/plain": "0.9916695952415466"
     },
     "execution_count": 175,
     "metadata": {},
     "output_type": "execute_result"
    }
   ],
   "source": [
    "random_items = tracks['id'].sample(35)\n",
    "sum([mean_dist_from_cluster_center(random_items, model_h) for _ in range(1000)]) / 1000\n"
   ],
   "metadata": {
    "collapsed": false,
    "ExecuteTime": {
     "end_time": "2024-01-05T17:46:40.451656431Z",
     "start_time": "2024-01-05T17:46:40.278822778Z"
    }
   },
   "id": "ea27203353a69348"
  },
  {
   "cell_type": "code",
   "execution_count": 176,
   "outputs": [
    {
     "data": {
      "text/plain": "1.415858268737793"
     },
     "execution_count": 176,
     "metadata": {},
     "output_type": "execute_result"
    }
   ],
   "source": [
    "sampled_items = pd.concat(\n",
    "    (d.loc[d['user_id'] == i] for i in (123, 124, 125, 126, 127, 128))\n",
    ")['track_id'].sample(35)\n",
    "sum([mean_dist_from_cluster_center(sampled_items, model_h) for _ in range(1000)]) / 1000"
   ],
   "metadata": {
    "collapsed": false,
    "ExecuteTime": {
     "end_time": "2024-01-05T17:46:40.675043820Z",
     "start_time": "2024-01-05T17:46:40.453219122Z"
    }
   },
   "id": "6722890004edd5ca"
  }
 ],
 "metadata": {
  "kernelspec": {
   "display_name": "Python 3",
   "language": "python",
   "name": "python3"
  },
  "language_info": {
   "codemirror_mode": {
    "name": "ipython",
    "version": 2
   },
   "file_extension": ".py",
   "mimetype": "text/x-python",
   "name": "python",
   "nbconvert_exporter": "python",
   "pygments_lexer": "ipython2",
   "version": "2.7.6"
  }
 },
 "nbformat": 4,
 "nbformat_minor": 5
}
