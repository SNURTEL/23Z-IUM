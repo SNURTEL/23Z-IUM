{
 "cells": [
  {
   "cell_type": "code",
   "execution_count": 1,
   "id": "initial_id",
   "metadata": {
    "collapsed": true,
    "ExecuteTime": {
     "end_time": "2023-12-27T22:36:11.692213649Z",
     "start_time": "2023-12-27T22:36:10.490257712Z"
    }
   },
   "outputs": [],
   "source": [
    "from typing import TypedDict, Type, Any, Callable\n",
    "\n",
    "import warnings\n",
    "\n",
    "warnings.simplefilter(action='ignore', category=FutureWarning)\n",
    "\n",
    "import pandas as pd\n",
    "import numpy as np\n",
    "from matplotlib import pyplot as plt\n",
    "\n",
    "from spark.config import views\n",
    "from spark.create_session import create_session\n",
    "\n",
    "from IPython.display import display\n",
    "\n",
    "from fitter import Fitter, get_common_distributions"
   ]
  },
  {
   "cell_type": "markdown",
   "source": [
    "## 1. Pobranie danych"
   ],
   "metadata": {
    "collapsed": false
   },
   "id": "d22f733dbffb87a9"
  },
  {
   "cell_type": "code",
   "execution_count": 2,
   "outputs": [
    {
     "name": "stderr",
     "output_type": "stream",
     "text": [
      "Setting default log level to \"WARN\".\n",
      "To adjust logging level use sc.setLogLevel(newLevel). For SparkR, use setLogLevel(newLevel).\n",
      "23/12/27 23:36:13 WARN NativeCodeLoader: Unable to load native-hadoop library for your platform... using builtin-java classes where applicable\n",
      "23/12/27 23:36:13 WARN Utils: Service 'SparkUI' could not bind on port 4040. Attempting port 4041.\n",
      "23/12/27 23:36:13 WARN Utils: Service 'SparkUI' could not bind on port 4041. Attempting port 4042.\n",
      "                                                                                \r"
     ]
    }
   ],
   "source": [
    "VIEWS = views(\"stolen\")\n",
    "spark = create_session()\n",
    "\n",
    "for view, file in VIEWS.items():\n",
    "    df = spark.read.json(file)\n",
    "    df.createOrReplaceTempView(view)"
   ],
   "metadata": {
    "collapsed": false,
    "ExecuteTime": {
     "end_time": "2023-12-27T22:36:19.828923772Z",
     "start_time": "2023-12-27T22:36:11.732910188Z"
    }
   },
   "id": "b28e5c6b065114d8"
  },
  {
   "cell_type": "markdown",
   "source": [
    "Podgląd:"
   ],
   "metadata": {
    "collapsed": false
   },
   "id": "93889cb87699e62c"
  },
  {
   "cell_type": "code",
   "execution_count": 3,
   "outputs": [
    {
     "name": "stderr",
     "output_type": "stream",
     "text": [
      "                                                                                \r"
     ]
    }
   ],
   "source": [
    "sessions = spark.sql(f\"SELECT DISTINCT user_id, track_id FROM sessions WHERE event_type like 'LIKE' order by user_id, track_id\").toPandas()\n",
    "tracks = spark.sql(\n",
    "    f\"SELECT DISTINCT id, id_artist, acousticness, danceability, duration_ms, energy, instrumentalness, key, liveness, loudness, popularity, EXTRACT(year from `release_date`) as release_year, speechiness, tempo, valence FROM tracks \").toPandas()"
   ],
   "metadata": {
    "collapsed": false,
    "ExecuteTime": {
     "end_time": "2023-12-27T22:36:26.728893510Z",
     "start_time": "2023-12-27T22:36:19.832969959Z"
    }
   },
   "id": "cee5b567e8ce44aa"
  },
  {
   "cell_type": "code",
   "execution_count": 4,
   "outputs": [
    {
     "data": {
      "text/plain": "         user_id                track_id\n0            101  08dATSKGXhGASauLBtCoO8\n1            101  09jtIFItoNKnC86zlzBZ29\n2            101  0FDjpGYB8iVHXZiWY7E4AM\n3            101  0KAaslGdPc5I6WxmKe3whe\n4            101  0NWPxcsf5vdjdiFUI8NgkP\n...          ...                     ...\n1402213    20100  7r1i1TZUGZQDxR5QHX4Mmx\n1402214    20100  7svwP4tC0UYJbCkiCo6Itz\n1402215    20100  7tVQg3ov9G0CnXTzqmZVsZ\n1402216    20100  7yC5SaMeZJfvFL6lICCulP\n1402217    20100  7yCtmJ43qJYUF9si7sxult\n\n[1402218 rows x 2 columns]",
      "text/html": "<div>\n<style scoped>\n    .dataframe tbody tr th:only-of-type {\n        vertical-align: middle;\n    }\n\n    .dataframe tbody tr th {\n        vertical-align: top;\n    }\n\n    .dataframe thead th {\n        text-align: right;\n    }\n</style>\n<table border=\"1\" class=\"dataframe\">\n  <thead>\n    <tr style=\"text-align: right;\">\n      <th></th>\n      <th>user_id</th>\n      <th>track_id</th>\n    </tr>\n  </thead>\n  <tbody>\n    <tr>\n      <th>0</th>\n      <td>101</td>\n      <td>08dATSKGXhGASauLBtCoO8</td>\n    </tr>\n    <tr>\n      <th>1</th>\n      <td>101</td>\n      <td>09jtIFItoNKnC86zlzBZ29</td>\n    </tr>\n    <tr>\n      <th>2</th>\n      <td>101</td>\n      <td>0FDjpGYB8iVHXZiWY7E4AM</td>\n    </tr>\n    <tr>\n      <th>3</th>\n      <td>101</td>\n      <td>0KAaslGdPc5I6WxmKe3whe</td>\n    </tr>\n    <tr>\n      <th>4</th>\n      <td>101</td>\n      <td>0NWPxcsf5vdjdiFUI8NgkP</td>\n    </tr>\n    <tr>\n      <th>...</th>\n      <td>...</td>\n      <td>...</td>\n    </tr>\n    <tr>\n      <th>1402213</th>\n      <td>20100</td>\n      <td>7r1i1TZUGZQDxR5QHX4Mmx</td>\n    </tr>\n    <tr>\n      <th>1402214</th>\n      <td>20100</td>\n      <td>7svwP4tC0UYJbCkiCo6Itz</td>\n    </tr>\n    <tr>\n      <th>1402215</th>\n      <td>20100</td>\n      <td>7tVQg3ov9G0CnXTzqmZVsZ</td>\n    </tr>\n    <tr>\n      <th>1402216</th>\n      <td>20100</td>\n      <td>7yC5SaMeZJfvFL6lICCulP</td>\n    </tr>\n    <tr>\n      <th>1402217</th>\n      <td>20100</td>\n      <td>7yCtmJ43qJYUF9si7sxult</td>\n    </tr>\n  </tbody>\n</table>\n<p>1402218 rows × 2 columns</p>\n</div>"
     },
     "metadata": {},
     "output_type": "display_data"
    },
    {
     "data": {
      "text/plain": "                            id               id_artist  acousticness  \\\n0       1d3KXNYriNnjSdBcTBeam8  3TVifQ5FPcIzzcYSUuJkp9      0.648000   \n1       79pNwy5Q95QfeGUyGNXx11  3BCJyAgxvYyeIjQyoBU8XL      0.237000   \n2       6OoGZwmtpHuG6FIVkGjfKW  25uGmqV7NJt81bSYlEMKB0      0.092400   \n3       6aLmvz0CPeCNHCXK2H5QIC  3vbKDsSS70ZX9D2OcvbZmS      0.303000   \n4       63tInNaRRc44t4vxCQ65JA  5ujwfg1AKpM7CGPZhHxs22      0.798000   \n...                        ...                     ...           ...   \n129643  7bwPQVVelqsawx9pA5gAwF  1owt6WYWjy94FlqNcj1x4U      0.907000   \n129644  3Ad4Vd2MLBBpApduPsydXk  32vWCbZh0xZ4o9gkz4PsEU      0.845000   \n129645  4z5eRXrNKYAhjtuJA49REb  5vngPClqofybhPERIqQMYd      0.423000   \n129646  0JiY190vktuhSGN6aqJdrt  1KCSPY1glIKqW2TotWuXOR      0.000329   \n129647  6iD0NYHG5tvHkCTZl3nJn3  70XauTb6oEJbXxFoH6wY9F      0.023800   \n\n        danceability  duration_ms  energy  instrumentalness  key  liveness  \\\n0              0.301       408000   0.268          0.000000    2    0.0638   \n1              0.462       336000   0.343          0.021400    9    0.0935   \n2              0.456       213467   0.932          0.004540    2    0.3220   \n3              0.611       343360   0.597          0.008200    0    0.0605   \n4              0.331       247987   0.293          0.000058    2    0.1030   \n...              ...          ...     ...               ...  ...       ...   \n129643         0.303       224160   0.292          0.841000    7    0.1760   \n129644         0.536       165533   0.274          0.000089    0    0.1180   \n129645         0.793       164133   0.544          0.000210    6    0.0830   \n129646         0.534       215160   0.870          0.000000   11    0.2410   \n129647         0.736       351173   0.450          0.322000    3    0.3680   \n\n        loudness  popularity  release_year  speechiness    tempo  valence  \n0        -17.810          13          1977       0.0638  177.468    0.275  \n1        -15.477          10          1983       0.0287  103.597    0.342  \n2         -7.088          15          1979       0.0804  185.954    0.603  \n3         -7.864          56          1999       0.0764  147.507    0.385  \n4        -14.062          12          1980       0.0288  105.270    0.231  \n...          ...         ...           ...          ...      ...      ...  \n129643   -10.707          18          2004       0.0308   64.724    0.277  \n129644   -10.758          40          1974       0.0281   86.915    0.462  \n129645   -11.928          49          1992       0.0265  105.537    0.942  \n129646    -3.078          78          2008       0.0425  126.019    0.462  \n129647   -11.232          36          2001       0.0398  128.768    0.931  \n\n[129648 rows x 15 columns]",
      "text/html": "<div>\n<style scoped>\n    .dataframe tbody tr th:only-of-type {\n        vertical-align: middle;\n    }\n\n    .dataframe tbody tr th {\n        vertical-align: top;\n    }\n\n    .dataframe thead th {\n        text-align: right;\n    }\n</style>\n<table border=\"1\" class=\"dataframe\">\n  <thead>\n    <tr style=\"text-align: right;\">\n      <th></th>\n      <th>id</th>\n      <th>id_artist</th>\n      <th>acousticness</th>\n      <th>danceability</th>\n      <th>duration_ms</th>\n      <th>energy</th>\n      <th>instrumentalness</th>\n      <th>key</th>\n      <th>liveness</th>\n      <th>loudness</th>\n      <th>popularity</th>\n      <th>release_year</th>\n      <th>speechiness</th>\n      <th>tempo</th>\n      <th>valence</th>\n    </tr>\n  </thead>\n  <tbody>\n    <tr>\n      <th>0</th>\n      <td>1d3KXNYriNnjSdBcTBeam8</td>\n      <td>3TVifQ5FPcIzzcYSUuJkp9</td>\n      <td>0.648000</td>\n      <td>0.301</td>\n      <td>408000</td>\n      <td>0.268</td>\n      <td>0.000000</td>\n      <td>2</td>\n      <td>0.0638</td>\n      <td>-17.810</td>\n      <td>13</td>\n      <td>1977</td>\n      <td>0.0638</td>\n      <td>177.468</td>\n      <td>0.275</td>\n    </tr>\n    <tr>\n      <th>1</th>\n      <td>79pNwy5Q95QfeGUyGNXx11</td>\n      <td>3BCJyAgxvYyeIjQyoBU8XL</td>\n      <td>0.237000</td>\n      <td>0.462</td>\n      <td>336000</td>\n      <td>0.343</td>\n      <td>0.021400</td>\n      <td>9</td>\n      <td>0.0935</td>\n      <td>-15.477</td>\n      <td>10</td>\n      <td>1983</td>\n      <td>0.0287</td>\n      <td>103.597</td>\n      <td>0.342</td>\n    </tr>\n    <tr>\n      <th>2</th>\n      <td>6OoGZwmtpHuG6FIVkGjfKW</td>\n      <td>25uGmqV7NJt81bSYlEMKB0</td>\n      <td>0.092400</td>\n      <td>0.456</td>\n      <td>213467</td>\n      <td>0.932</td>\n      <td>0.004540</td>\n      <td>2</td>\n      <td>0.3220</td>\n      <td>-7.088</td>\n      <td>15</td>\n      <td>1979</td>\n      <td>0.0804</td>\n      <td>185.954</td>\n      <td>0.603</td>\n    </tr>\n    <tr>\n      <th>3</th>\n      <td>6aLmvz0CPeCNHCXK2H5QIC</td>\n      <td>3vbKDsSS70ZX9D2OcvbZmS</td>\n      <td>0.303000</td>\n      <td>0.611</td>\n      <td>343360</td>\n      <td>0.597</td>\n      <td>0.008200</td>\n      <td>0</td>\n      <td>0.0605</td>\n      <td>-7.864</td>\n      <td>56</td>\n      <td>1999</td>\n      <td>0.0764</td>\n      <td>147.507</td>\n      <td>0.385</td>\n    </tr>\n    <tr>\n      <th>4</th>\n      <td>63tInNaRRc44t4vxCQ65JA</td>\n      <td>5ujwfg1AKpM7CGPZhHxs22</td>\n      <td>0.798000</td>\n      <td>0.331</td>\n      <td>247987</td>\n      <td>0.293</td>\n      <td>0.000058</td>\n      <td>2</td>\n      <td>0.1030</td>\n      <td>-14.062</td>\n      <td>12</td>\n      <td>1980</td>\n      <td>0.0288</td>\n      <td>105.270</td>\n      <td>0.231</td>\n    </tr>\n    <tr>\n      <th>...</th>\n      <td>...</td>\n      <td>...</td>\n      <td>...</td>\n      <td>...</td>\n      <td>...</td>\n      <td>...</td>\n      <td>...</td>\n      <td>...</td>\n      <td>...</td>\n      <td>...</td>\n      <td>...</td>\n      <td>...</td>\n      <td>...</td>\n      <td>...</td>\n      <td>...</td>\n    </tr>\n    <tr>\n      <th>129643</th>\n      <td>7bwPQVVelqsawx9pA5gAwF</td>\n      <td>1owt6WYWjy94FlqNcj1x4U</td>\n      <td>0.907000</td>\n      <td>0.303</td>\n      <td>224160</td>\n      <td>0.292</td>\n      <td>0.841000</td>\n      <td>7</td>\n      <td>0.1760</td>\n      <td>-10.707</td>\n      <td>18</td>\n      <td>2004</td>\n      <td>0.0308</td>\n      <td>64.724</td>\n      <td>0.277</td>\n    </tr>\n    <tr>\n      <th>129644</th>\n      <td>3Ad4Vd2MLBBpApduPsydXk</td>\n      <td>32vWCbZh0xZ4o9gkz4PsEU</td>\n      <td>0.845000</td>\n      <td>0.536</td>\n      <td>165533</td>\n      <td>0.274</td>\n      <td>0.000089</td>\n      <td>0</td>\n      <td>0.1180</td>\n      <td>-10.758</td>\n      <td>40</td>\n      <td>1974</td>\n      <td>0.0281</td>\n      <td>86.915</td>\n      <td>0.462</td>\n    </tr>\n    <tr>\n      <th>129645</th>\n      <td>4z5eRXrNKYAhjtuJA49REb</td>\n      <td>5vngPClqofybhPERIqQMYd</td>\n      <td>0.423000</td>\n      <td>0.793</td>\n      <td>164133</td>\n      <td>0.544</td>\n      <td>0.000210</td>\n      <td>6</td>\n      <td>0.0830</td>\n      <td>-11.928</td>\n      <td>49</td>\n      <td>1992</td>\n      <td>0.0265</td>\n      <td>105.537</td>\n      <td>0.942</td>\n    </tr>\n    <tr>\n      <th>129646</th>\n      <td>0JiY190vktuhSGN6aqJdrt</td>\n      <td>1KCSPY1glIKqW2TotWuXOR</td>\n      <td>0.000329</td>\n      <td>0.534</td>\n      <td>215160</td>\n      <td>0.870</td>\n      <td>0.000000</td>\n      <td>11</td>\n      <td>0.2410</td>\n      <td>-3.078</td>\n      <td>78</td>\n      <td>2008</td>\n      <td>0.0425</td>\n      <td>126.019</td>\n      <td>0.462</td>\n    </tr>\n    <tr>\n      <th>129647</th>\n      <td>6iD0NYHG5tvHkCTZl3nJn3</td>\n      <td>70XauTb6oEJbXxFoH6wY9F</td>\n      <td>0.023800</td>\n      <td>0.736</td>\n      <td>351173</td>\n      <td>0.450</td>\n      <td>0.322000</td>\n      <td>3</td>\n      <td>0.3680</td>\n      <td>-11.232</td>\n      <td>36</td>\n      <td>2001</td>\n      <td>0.0398</td>\n      <td>128.768</td>\n      <td>0.931</td>\n    </tr>\n  </tbody>\n</table>\n<p>129648 rows × 15 columns</p>\n</div>"
     },
     "metadata": {},
     "output_type": "display_data"
    }
   ],
   "source": [
    "display(sessions)\n",
    "display(tracks)"
   ],
   "metadata": {
    "collapsed": false,
    "ExecuteTime": {
     "end_time": "2023-12-27T22:36:26.760896876Z",
     "start_time": "2023-12-27T22:36:26.742194912Z"
    }
   },
   "id": "8a0786ba0aa3956a"
  },
  {
   "cell_type": "markdown",
   "source": [
    "Sesje scalone z atrybutami utworów"
   ],
   "metadata": {
    "collapsed": false
   },
   "id": "d54564720345112d"
  },
  {
   "cell_type": "code",
   "execution_count": 5,
   "outputs": [
    {
     "name": "stderr",
     "output_type": "stream",
     "text": [
      "                                                                                \r"
     ]
    },
    {
     "data": {
      "text/plain": "         user_id                track_id  weight  acousticness  danceability  \\\n0            101  08dATSKGXhGASauLBtCoO8       1      0.882000         0.799   \n1            101  09jtIFItoNKnC86zlzBZ29       1      0.000480         0.509   \n2            101  0FDjpGYB8iVHXZiWY7E4AM       1      0.011000         0.503   \n3            101  0KAaslGdPc5I6WxmKe3whe       1      0.000101         0.169   \n4            101  0NWPxcsf5vdjdiFUI8NgkP       1      0.006030         0.346   \n...          ...                     ...     ...           ...           ...   \n1402213    20100  7r1i1TZUGZQDxR5QHX4Mmx       1      0.002940         0.570   \n1402214    20100  7svwP4tC0UYJbCkiCo6Itz       1      0.062300         0.457   \n1402215    20100  7tVQg3ov9G0CnXTzqmZVsZ       1      0.242000         0.247   \n1402216    20100  7yC5SaMeZJfvFL6lICCulP       1      0.150000         0.417   \n1402217    20100  7yCtmJ43qJYUF9si7sxult       1      0.704000         0.236   \n\n         duration_ms  energy  instrumentalness  key  liveness  loudness  \\\n0             166693   0.559          0.381000    0    0.0996    -4.033   \n1             254840   0.796          0.460000    2    0.1610   -11.728   \n2             214107   0.864          0.003820    5    0.5990    -6.829   \n3             314560   0.949          0.618000    7    0.2970   -10.596   \n4             210160   0.768          0.380000    9    0.0244    -5.695   \n...              ...     ...               ...  ...       ...       ...   \n1402213       329979   0.777          0.181000    7    0.0477    -6.537   \n1402214       213000   0.915          0.000003    3    0.0778    -5.876   \n1402215       671760   0.742          0.370000    2    0.9680   -12.678   \n1402216       176000   0.667          0.000000    4    0.2170    -6.404   \n1402217       222427   0.376          0.000838    2    0.0606   -10.897   \n\n         popularity  release_year  speechiness    tempo  valence  \n0                 1          1944       0.0353  106.396    0.696  \n1                34          1983       0.0359  143.664    0.652  \n2                34          1978       0.1620  154.979    0.551  \n3                41          1990       0.1140  159.678    0.147  \n4                72          1967       0.0377  169.492    0.532  \n...             ...           ...          ...      ...      ...  \n1402213          47          1987       0.0270  107.982    0.487  \n1402214          19          1976       0.0808  126.695    0.446  \n1402215          24          1978       0.0571  143.533    0.466  \n1402216          21          1978       0.0367  131.796    0.556  \n1402217          32          1967       0.0341  125.903    0.342  \n\n[1402218 rows x 16 columns]",
      "text/html": "<div>\n<style scoped>\n    .dataframe tbody tr th:only-of-type {\n        vertical-align: middle;\n    }\n\n    .dataframe tbody tr th {\n        vertical-align: top;\n    }\n\n    .dataframe thead th {\n        text-align: right;\n    }\n</style>\n<table border=\"1\" class=\"dataframe\">\n  <thead>\n    <tr style=\"text-align: right;\">\n      <th></th>\n      <th>user_id</th>\n      <th>track_id</th>\n      <th>weight</th>\n      <th>acousticness</th>\n      <th>danceability</th>\n      <th>duration_ms</th>\n      <th>energy</th>\n      <th>instrumentalness</th>\n      <th>key</th>\n      <th>liveness</th>\n      <th>loudness</th>\n      <th>popularity</th>\n      <th>release_year</th>\n      <th>speechiness</th>\n      <th>tempo</th>\n      <th>valence</th>\n    </tr>\n  </thead>\n  <tbody>\n    <tr>\n      <th>0</th>\n      <td>101</td>\n      <td>08dATSKGXhGASauLBtCoO8</td>\n      <td>1</td>\n      <td>0.882000</td>\n      <td>0.799</td>\n      <td>166693</td>\n      <td>0.559</td>\n      <td>0.381000</td>\n      <td>0</td>\n      <td>0.0996</td>\n      <td>-4.033</td>\n      <td>1</td>\n      <td>1944</td>\n      <td>0.0353</td>\n      <td>106.396</td>\n      <td>0.696</td>\n    </tr>\n    <tr>\n      <th>1</th>\n      <td>101</td>\n      <td>09jtIFItoNKnC86zlzBZ29</td>\n      <td>1</td>\n      <td>0.000480</td>\n      <td>0.509</td>\n      <td>254840</td>\n      <td>0.796</td>\n      <td>0.460000</td>\n      <td>2</td>\n      <td>0.1610</td>\n      <td>-11.728</td>\n      <td>34</td>\n      <td>1983</td>\n      <td>0.0359</td>\n      <td>143.664</td>\n      <td>0.652</td>\n    </tr>\n    <tr>\n      <th>2</th>\n      <td>101</td>\n      <td>0FDjpGYB8iVHXZiWY7E4AM</td>\n      <td>1</td>\n      <td>0.011000</td>\n      <td>0.503</td>\n      <td>214107</td>\n      <td>0.864</td>\n      <td>0.003820</td>\n      <td>5</td>\n      <td>0.5990</td>\n      <td>-6.829</td>\n      <td>34</td>\n      <td>1978</td>\n      <td>0.1620</td>\n      <td>154.979</td>\n      <td>0.551</td>\n    </tr>\n    <tr>\n      <th>3</th>\n      <td>101</td>\n      <td>0KAaslGdPc5I6WxmKe3whe</td>\n      <td>1</td>\n      <td>0.000101</td>\n      <td>0.169</td>\n      <td>314560</td>\n      <td>0.949</td>\n      <td>0.618000</td>\n      <td>7</td>\n      <td>0.2970</td>\n      <td>-10.596</td>\n      <td>41</td>\n      <td>1990</td>\n      <td>0.1140</td>\n      <td>159.678</td>\n      <td>0.147</td>\n    </tr>\n    <tr>\n      <th>4</th>\n      <td>101</td>\n      <td>0NWPxcsf5vdjdiFUI8NgkP</td>\n      <td>1</td>\n      <td>0.006030</td>\n      <td>0.346</td>\n      <td>210160</td>\n      <td>0.768</td>\n      <td>0.380000</td>\n      <td>9</td>\n      <td>0.0244</td>\n      <td>-5.695</td>\n      <td>72</td>\n      <td>1967</td>\n      <td>0.0377</td>\n      <td>169.492</td>\n      <td>0.532</td>\n    </tr>\n    <tr>\n      <th>...</th>\n      <td>...</td>\n      <td>...</td>\n      <td>...</td>\n      <td>...</td>\n      <td>...</td>\n      <td>...</td>\n      <td>...</td>\n      <td>...</td>\n      <td>...</td>\n      <td>...</td>\n      <td>...</td>\n      <td>...</td>\n      <td>...</td>\n      <td>...</td>\n      <td>...</td>\n      <td>...</td>\n    </tr>\n    <tr>\n      <th>1402213</th>\n      <td>20100</td>\n      <td>7r1i1TZUGZQDxR5QHX4Mmx</td>\n      <td>1</td>\n      <td>0.002940</td>\n      <td>0.570</td>\n      <td>329979</td>\n      <td>0.777</td>\n      <td>0.181000</td>\n      <td>7</td>\n      <td>0.0477</td>\n      <td>-6.537</td>\n      <td>47</td>\n      <td>1987</td>\n      <td>0.0270</td>\n      <td>107.982</td>\n      <td>0.487</td>\n    </tr>\n    <tr>\n      <th>1402214</th>\n      <td>20100</td>\n      <td>7svwP4tC0UYJbCkiCo6Itz</td>\n      <td>1</td>\n      <td>0.062300</td>\n      <td>0.457</td>\n      <td>213000</td>\n      <td>0.915</td>\n      <td>0.000003</td>\n      <td>3</td>\n      <td>0.0778</td>\n      <td>-5.876</td>\n      <td>19</td>\n      <td>1976</td>\n      <td>0.0808</td>\n      <td>126.695</td>\n      <td>0.446</td>\n    </tr>\n    <tr>\n      <th>1402215</th>\n      <td>20100</td>\n      <td>7tVQg3ov9G0CnXTzqmZVsZ</td>\n      <td>1</td>\n      <td>0.242000</td>\n      <td>0.247</td>\n      <td>671760</td>\n      <td>0.742</td>\n      <td>0.370000</td>\n      <td>2</td>\n      <td>0.9680</td>\n      <td>-12.678</td>\n      <td>24</td>\n      <td>1978</td>\n      <td>0.0571</td>\n      <td>143.533</td>\n      <td>0.466</td>\n    </tr>\n    <tr>\n      <th>1402216</th>\n      <td>20100</td>\n      <td>7yC5SaMeZJfvFL6lICCulP</td>\n      <td>1</td>\n      <td>0.150000</td>\n      <td>0.417</td>\n      <td>176000</td>\n      <td>0.667</td>\n      <td>0.000000</td>\n      <td>4</td>\n      <td>0.2170</td>\n      <td>-6.404</td>\n      <td>21</td>\n      <td>1978</td>\n      <td>0.0367</td>\n      <td>131.796</td>\n      <td>0.556</td>\n    </tr>\n    <tr>\n      <th>1402217</th>\n      <td>20100</td>\n      <td>7yCtmJ43qJYUF9si7sxult</td>\n      <td>1</td>\n      <td>0.704000</td>\n      <td>0.236</td>\n      <td>222427</td>\n      <td>0.376</td>\n      <td>0.000838</td>\n      <td>2</td>\n      <td>0.0606</td>\n      <td>-10.897</td>\n      <td>32</td>\n      <td>1967</td>\n      <td>0.0341</td>\n      <td>125.903</td>\n      <td>0.342</td>\n    </tr>\n  </tbody>\n</table>\n<p>1402218 rows × 16 columns</p>\n</div>"
     },
     "execution_count": 5,
     "metadata": {},
     "output_type": "execute_result"
    }
   ],
   "source": [
    "d = spark.sql(\n",
    "    \"\"\"\n",
    "    SELECT s.user_id, s.track_id, s.weight, acousticness, danceability, duration_ms, energy, instrumentalness, key, liveness, loudness, popularity, EXTRACT(year from `release_date`) as release_year, speechiness, tempo, valence\n",
    "    FROM (\n",
    "        select user_id, track_id, sum(event_weight) as weight\n",
    "        from (\n",
    "            SELECT user_id, track_id, 1 as event_weight\n",
    "            FROM sessions\n",
    "            WHERE event_type like 'LIKE'\n",
    "            ) \n",
    "        group by user_id, track_id\n",
    "    ) s\n",
    "    inner join tracks t on s.track_id = t.id\n",
    "    order by s.user_id, t.id\n",
    "    \"\"\").toPandas()\n",
    "d"
   ],
   "metadata": {
    "collapsed": false,
    "ExecuteTime": {
     "end_time": "2023-12-27T22:36:33.849402395Z",
     "start_time": "2023-12-27T22:36:26.760994720Z"
    }
   },
   "id": "76d11e68433f8be4"
  },
  {
   "cell_type": "markdown",
   "source": [
    "## 2. Model dla pojedynczego użytkownika"
   ],
   "metadata": {
    "collapsed": false
   },
   "id": "403109c589e917c6"
  },
  {
   "cell_type": "markdown",
   "source": [
    "Przygotowanie danych dla modelu"
   ],
   "metadata": {
    "collapsed": false
   },
   "id": "11f1f9a4e0840db8"
  },
  {
   "cell_type": "code",
   "execution_count": 6,
   "outputs": [],
   "source": [
    "from scipy import stats\n",
    "\n",
    "# tylko ID\n",
    "users = d['user_id']\n",
    "items = d['track_id']\n",
    "feature_names = d.drop(['user_id', 'track_id', 'weight'], axis=1).columns  # todo znormalizować"
   ],
   "metadata": {
    "collapsed": false,
    "ExecuteTime": {
     "end_time": "2023-12-27T22:36:33.902577118Z",
     "start_time": "2023-12-27T22:36:33.845678718Z"
    }
   },
   "id": "bfaf5e57b9102806"
  },
  {
   "cell_type": "code",
   "execution_count": 7,
   "outputs": [
    {
     "name": "stdout",
     "output_type": "stream",
     "text": [
      "Num users: 20000, num_items 129648.\n"
     ]
    }
   ],
   "source": [
    "from lightfm.cross_validation import random_train_test_split\n",
    "from model.recommender import Recommender\n",
    "import model.recommender\n",
    "\n",
    "import importlib\n",
    "importlib.reload(model)\n",
    "\n",
    "model = Recommender(\n",
    "    users=users,\n",
    "    items=tracks['id'],\n",
    "    item_features=tracks.drop('id', axis=1),\n",
    "    item_feature_names=feature_names\n",
    ")\n",
    "\n",
    "(interactions, weights) = model._dataset.build_interactions(d[['user_id', 'track_id']].apply(tuple, axis=1))\n",
    "(train, test) = random_train_test_split(interactions)\n",
    "model.set_interactions(train)\n",
    "\n",
    "num_users, num_items = model._dataset.interactions_shape()\n",
    "print('Num users: {}, num_items {}.'.format(num_users, num_items))"
   ],
   "metadata": {
    "collapsed": false,
    "ExecuteTime": {
     "end_time": "2023-12-27T22:36:41.480205890Z",
     "start_time": "2023-12-27T22:36:33.875817028Z"
    }
   },
   "id": "1f159b32dc6039ef"
  },
  {
   "cell_type": "markdown",
   "source": [
    "Trenowanie modelu"
   ],
   "metadata": {
    "collapsed": false
   },
   "id": "7f157f8c691105ea"
  },
  {
   "cell_type": "code",
   "execution_count": 8,
   "outputs": [
    {
     "name": "stderr",
     "output_type": "stream",
     "text": [
      "Epoch: 100%|██████████| 5/5 [00:36<00:00,  7.32s/it]\n"
     ]
    }
   ],
   "source": [
    "model.fit(\n",
    "    interactions=train,\n",
    "    loss='warp',\n",
    "    learning_rate=0.003,\n",
    "    no_components=30,\n",
    "    epochs=5,\n",
    "    num_threads=12\n",
    ")"
   ],
   "metadata": {
    "collapsed": false,
    "ExecuteTime": {
     "end_time": "2023-12-27T22:37:19.379177909Z",
     "start_time": "2023-12-27T22:36:41.473927385Z"
    }
   },
   "id": "f8f977c44a983413"
  },
  {
   "cell_type": "markdown",
   "source": [
    "Ewaluacja modelu"
   ],
   "metadata": {
    "collapsed": false
   },
   "id": "b18384f34b4dd549"
  },
  {
   "cell_type": "code",
   "execution_count": 9,
   "outputs": [
    {
     "name": "stdout",
     "output_type": "stream",
     "text": [
      "AUC: train 0.982875, test 0.982170.\n",
      "Precision: train 0.197030, test 0.083316.\n",
      "Recall: train 0.051661, test 0.083676.\n",
      "Reciprocal rank: train 0.309651, test 0.178934.\n"
     ]
    }
   ],
   "source": [
    "model.evaluate_submodel(test_set=test, train_set=train)"
   ],
   "metadata": {
    "collapsed": false,
    "ExecuteTime": {
     "end_time": "2023-12-27T22:51:34.189040876Z",
     "start_time": "2023-12-27T22:37:19.415875753Z"
    }
   },
   "id": "f3eb83f9f69302ba"
  },
  {
   "cell_type": "markdown",
   "source": [
    "## 3. Model dla wielu użytkowników"
   ],
   "metadata": {
    "collapsed": false
   },
   "id": "62069f239eb0945"
  },
  {
   "cell_type": "markdown",
   "source": [
    "Uwaga: ponieważ nie mamy jeszcze embeddingów dla użytkowników, musimy przetrenować model na całym zbiorze\n",
    "https://stats.stackexchange.com/questions/258559/interpreting-results-of-lightfm-factorization-machines-for-collaborative-filter\n",
    "https://stackoverflow.com/questions/45451161/evaluating-the-lightfm-recommendation-model"
   ],
   "metadata": {
    "collapsed": false
   },
   "id": "fa3fc91980517e19"
  },
  {
   "cell_type": "code",
   "execution_count": 39,
   "outputs": [],
   "source": [
    "from lightfm.cross_validation import random_train_test_split\n",
    "from model.recommender import Recommender\n",
    "import model.recommender\n",
    "\n",
    "model1 = Recommender(\n",
    "    users=users,\n",
    "    items=tracks['id'],\n",
    "    item_features=tracks.drop('id', axis=1),\n",
    "    item_feature_names=feature_names\n",
    ")\n",
    "model1.set_interactions(interactions)"
   ],
   "metadata": {
    "collapsed": false,
    "ExecuteTime": {
     "end_time": "2023-12-27T23:35:50.375233778Z",
     "start_time": "2023-12-27T23:35:49.758242140Z"
    }
   },
   "id": "cf00321757b3e904"
  },
  {
   "cell_type": "code",
   "execution_count": 40,
   "outputs": [
    {
     "name": "stderr",
     "output_type": "stream",
     "text": [
      "Epoch: 100%|██████████| 20/20 [01:25<00:00,  4.26s/it]\n"
     ]
    }
   ],
   "source": [
    "# rate 01 epochs 20\n",
    "model1.fit(\n",
    "    interactions=interactions,\n",
    "    loss='warp',\n",
    "    learning_rate=0.1,\n",
    "    no_components=30,\n",
    "    epochs=20,\n",
    "    num_threads=12\n",
    ")"
   ],
   "metadata": {
    "collapsed": false,
    "ExecuteTime": {
     "end_time": "2023-12-27T23:37:16.905306843Z",
     "start_time": "2023-12-27T23:35:50.422480512Z"
    }
   },
   "id": "8372b926d6d69dda"
  },
  {
   "cell_type": "markdown",
   "source": [
    "Generowanie rekomendacji dla trzech użytkowników:"
   ],
   "metadata": {
    "collapsed": false
   },
   "id": "94edfffc68eb1b15"
  },
  {
   "cell_type": "code",
   "execution_count": 41,
   "outputs": [
    {
     "data": {
      "text/plain": "98304     1vqU9vERXHl25q2w7wikzu\n40961     78JmElAFmrPNhLjovDR9Jm\n122882    59On35IawOw3kdsUv6wiu6\n32775     6exfsW3tiYeKR8tV5AUPlb\n65544     1fSdAkbofT03q7ddO2jdss\n                   ...          \n49140     7oNg2UTfQIs0IafmyzRc0g\n81910     2SrVGpjv0mqCR6j9EZPSm2\n40951     56Zbt8YXJgkeoVMdQLpfaW\n90106     5u99eyhU43QoLeXXG6caoL\n49150     5HDvQApGjUbbIMqRBeRm2e\nName: id, Length: 4649, dtype: object"
     },
     "execution_count": 41,
     "metadata": {},
     "output_type": "execute_result"
    }
   ],
   "source": [
    "def _recommend_multiple(users, number, num_threads=1):\n",
    "    indices = model1._predict_multiple_indices(users, number, num_threads)\n",
    "\n",
    "    return model1._in_items.loc[indices]\n",
    "model1.recommend_multiple = _recommend_multiple\n",
    "model1.recommend_multiple(users=[123, 124, 125], number=10000, num_threads=12)  # todo magic numbers"
   ],
   "metadata": {
    "collapsed": false,
    "ExecuteTime": {
     "end_time": "2023-12-27T23:37:16.958924879Z",
     "start_time": "2023-12-27T23:37:16.903707071Z"
    }
   },
   "id": "89f43c3809332222"
  },
  {
   "cell_type": "markdown",
   "source": [
    "Ewaluacja - porównanie klasteryzacji"
   ],
   "metadata": {
    "collapsed": false
   },
   "id": "8850da0d8e466ccd"
  },
  {
   "cell_type": "code",
   "execution_count": 42,
   "outputs": [],
   "source": [
    "def _recommend_single(user: int, number: int, num_threads=1):\n",
    "    indices = model1._predict_single_indices(user, number, num_threads=num_threads)\n",
    "    return model1._in_items.loc[indices]\n",
    "model1.recommend_single = _recommend_single"
   ],
   "metadata": {
    "collapsed": false,
    "ExecuteTime": {
     "end_time": "2023-12-27T23:37:16.994063937Z",
     "start_time": "2023-12-27T23:37:16.957535023Z"
    }
   },
   "id": "7649ff7756a85f6f"
  },
  {
   "cell_type": "code",
   "execution_count": 43,
   "outputs": [
    {
     "data": {
      "text/plain": "12185    1daDRI9ahBonbWD8YcxOIB\n72186    3ZCTVFBt2Brf31RLEnCkWJ\n56607    6ocbgoVGwYJhOv1GgI9NsF\n50640    127QTOFJsJQp5LbJbu3A1y\n70793    2b8fOow8UzyDFAE27YhOZM\n75007    7qEHsqek33rTcFNT9PFqLf\n64185    7lPN2DXiMsVn7XUKtOW1CS\n39347    5NU40QTlXrDUJzDBdv79bg\n93000    73nAK3HgQK8dak83Y2WQ8F\n78621    3JvKfv6T31zO0ini8iNItO\nName: id, dtype: object"
     },
     "execution_count": 43,
     "metadata": {},
     "output_type": "execute_result"
    }
   ],
   "source": [
    "model1.recommend_single(123, 10, 12)"
   ],
   "metadata": {
    "collapsed": false,
    "ExecuteTime": {
     "end_time": "2023-12-27T23:37:17.041519184Z",
     "start_time": "2023-12-27T23:37:16.961786590Z"
    }
   },
   "id": "2fb4ca68e5e71d86"
  },
  {
   "cell_type": "code",
   "execution_count": 44,
   "outputs": [
    {
     "data": {
      "text/plain": "93000     73nAK3HgQK8dak83Y2WQ8F\n12185     1daDRI9ahBonbWD8YcxOIB\n60449     6i0V12jOa3mr6uu4WYhUBr\n119206    2iUXsYOEPhVqEBwsqP70rE\n50640     127QTOFJsJQp5LbJbu3A1y\n75007     7qEHsqek33rTcFNT9PFqLf\n75831     5E30LdtzQTGqRvNd7l6kG5\n56607     6ocbgoVGwYJhOv1GgI9NsF\n39347     5NU40QTlXrDUJzDBdv79bg\n129342    158ukl5rih76dOEsp0I91H\nName: id, dtype: object"
     },
     "execution_count": 44,
     "metadata": {},
     "output_type": "execute_result"
    }
   ],
   "source": [
    "model1.recommend_single(124, 10, 12)\n"
   ],
   "metadata": {
    "collapsed": false,
    "ExecuteTime": {
     "end_time": "2023-12-27T23:37:17.041725044Z",
     "start_time": "2023-12-27T23:37:17.020947821Z"
    }
   },
   "id": "5d7e4fc779a9de2"
  },
  {
   "cell_type": "markdown",
   "source": [
    "Dla modelu:"
   ],
   "metadata": {
    "collapsed": false
   },
   "id": "490bf0c1cb7e5dd5"
  },
  {
   "cell_type": "code",
   "execution_count": 45,
   "outputs": [
    {
     "name": "stdout",
     "output_type": "stream",
     "text": [
      "28\n"
     ]
    },
    {
     "data": {
      "text/plain": "0.8429495"
     },
     "execution_count": 45,
     "metadata": {},
     "output_type": "execute_result"
    }
   ],
   "source": [
    "indices = model1._predict_multiple_indices(users=[123, 124, 125], number=50, num_threads=12)  # todo magic numbers\n",
    "print(len(indices))\n",
    "model1.measure_clustering(indices)"
   ],
   "metadata": {
    "collapsed": false,
    "ExecuteTime": {
     "end_time": "2023-12-27T23:37:17.081156733Z",
     "start_time": "2023-12-27T23:37:17.021057050Z"
    }
   },
   "id": "503aa847b2aeaab8"
  },
  {
   "cell_type": "markdown",
   "source": [
    "Dla losowego próbkowania historii sesji użytkowników:"
   ],
   "metadata": {
    "collapsed": false
   },
   "id": "558f70b4a947cf9a"
  },
  {
   "cell_type": "code",
   "execution_count": 46,
   "outputs": [
    {
     "data": {
      "text/plain": "2.172852"
     },
     "execution_count": 46,
     "metadata": {},
     "output_type": "execute_result"
    }
   ],
   "source": [
    "filtered = pd.concat(\n",
    "    (d.loc[d['user_id'] == 123], d.loc[d['user_id'] == 124], d.loc[d['user_id'] == 125])).drop_duplicates(subset=['track_id']).sample(20)\n",
    "tracks_extended = pd.merge(tracks, filtered, how='inner', left_on='id', right_on='track_id', validate=\"1:1\")\n",
    "sampled_indices = tracks[tracks.id.isin(tracks_extended['track_id'])].index\n",
    "model1.measure_clustering(sampled_indices)"
   ],
   "metadata": {
    "collapsed": false,
    "ExecuteTime": {
     "end_time": "2023-12-27T23:37:17.224629211Z",
     "start_time": "2023-12-27T23:37:17.061980367Z"
    }
   },
   "id": "f8e6c68007768011"
  },
  {
   "cell_type": "markdown",
   "source": [
    "Dla w pełni losowego wyboru:"
   ],
   "metadata": {
    "collapsed": false
   },
   "id": "c4a8547b02794a60"
  },
  {
   "cell_type": "code",
   "execution_count": 47,
   "outputs": [
    {
     "data": {
      "text/plain": "1.3292798"
     },
     "execution_count": 47,
     "metadata": {},
     "output_type": "execute_result"
    }
   ],
   "source": [
    "random_indices = np.random.randint(low=0, high=len(model1._model.get_item_representations()[1]), size=20)\n",
    "model1.measure_clustering(random_indices)"
   ],
   "metadata": {
    "collapsed": false,
    "ExecuteTime": {
     "end_time": "2023-12-27T23:37:17.229416437Z",
     "start_time": "2023-12-27T23:37:17.224446681Z"
    }
   },
   "id": "cee3784bfcc1b5bb"
  }
 ],
 "metadata": {
  "kernelspec": {
   "display_name": "Python 3",
   "language": "python",
   "name": "python3"
  },
  "language_info": {
   "codemirror_mode": {
    "name": "ipython",
    "version": 2
   },
   "file_extension": ".py",
   "mimetype": "text/x-python",
   "name": "python",
   "nbconvert_exporter": "python",
   "pygments_lexer": "ipython2",
   "version": "2.7.6"
  }
 },
 "nbformat": 4,
 "nbformat_minor": 5
}
