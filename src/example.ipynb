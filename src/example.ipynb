{
 "cells": [
  {
   "cell_type": "markdown",
   "source": [
    "# Model usage example"
   ],
   "metadata": {
    "collapsed": false
   },
   "id": "2a08d1e399617e61"
  },
  {
   "cell_type": "code",
   "execution_count": 64,
   "id": "initial_id",
   "metadata": {
    "collapsed": true,
    "ExecuteTime": {
     "end_time": "2024-01-13T23:32:49.139513847Z",
     "start_time": "2024-01-13T23:32:49.019008654Z"
    }
   },
   "outputs": [],
   "source": [
    "import warnings\n",
    "\n",
    "warnings.simplefilter(action='ignore', category=FutureWarning)\n",
    "\n",
    "import pandas as pd\n",
    "import numpy as np\n",
    "\n",
    "from spark.config import views\n",
    "from spark.create_session import create_session\n",
    "\n",
    "from IPython.display import display\n"
   ]
  },
  {
   "cell_type": "markdown",
   "source": [
    "Create Spark session and load the data. Files should be stored in the `data/{version}` directory under project root."
   ],
   "metadata": {
    "collapsed": false
   },
   "id": "f1cf0ec963d64b07"
  },
  {
   "cell_type": "code",
   "execution_count": 65,
   "outputs": [
    {
     "name": "stderr",
     "output_type": "stream",
     "text": [
      "                                                                                \r"
     ]
    }
   ],
   "source": [
    "VIEWS = views(\"v4\")\n",
    "spark = create_session()\n",
    "\n",
    "for view, file in VIEWS.items():\n",
    "    df = spark.read.json(file)\n",
    "    df.createOrReplaceTempView(view)"
   ],
   "metadata": {
    "collapsed": false,
    "ExecuteTime": {
     "end_time": "2024-01-13T23:32:53.802773554Z",
     "start_time": "2024-01-13T23:32:49.028304789Z"
    }
   },
   "id": "41655e9661968948"
  },
  {
   "cell_type": "markdown",
   "source": [
    "Query for users, tracks and sessions. Sessions query is performed here only to preview the data, a more complex sessions query will be performed later on."
   ],
   "metadata": {
    "collapsed": false
   },
   "id": "3faefae9d7c2f0f9"
  },
  {
   "cell_type": "code",
   "execution_count": 66,
   "outputs": [
    {
     "name": "stderr",
     "output_type": "stream",
     "text": [
      "                                                                                \r"
     ]
    }
   ],
   "source": [
    "sessions_full = spark.sql(f\"SELECT * FROM sessions\").toPandas()\n",
    "sessions = spark.sql(\n",
    "    f\"SELECT DISTINCT user_id, track_id FROM sessions WHERE event_type like 'like' order by user_id, track_id\").toPandas()\n",
    "_tracks = spark.sql(\n",
    "    f\"SELECT DISTINCT id, id_artist, acousticness, danceability, duration_ms, energy, instrumentalness, key, liveness, loudness, popularity, EXTRACT(year from `release_date`) as release_year, speechiness, tempo, valence FROM tracks \").toPandas()\n",
    "users = spark.sql(f\"SELECT user_id FROM users\").toPandas()"
   ],
   "metadata": {
    "collapsed": false,
    "ExecuteTime": {
     "end_time": "2024-01-13T23:33:14.447999630Z",
     "start_time": "2024-01-13T23:32:53.803562578Z"
    }
   },
   "id": "15f0fb47a5c1bf76"
  },
  {
   "cell_type": "code",
   "execution_count": 67,
   "outputs": [
    {
     "data": {
      "text/plain": "            event_type  session_id                   timestamp  \\\n0                 play         124         2023-05-30T23:37:17   \n1         advertisment         124  2023-05-30T23:44:37.941000   \n2                 like         124  2023-05-30T23:44:37.941000   \n3                 skip         124  2023-05-30T23:44:46.212000   \n4                 play         124  2023-05-30T23:44:51.212000   \n...                ...         ...                         ...   \n12340426          play      878516  2022-12-27T11:20:54.236000   \n12340427          play      878516  2022-12-27T11:26:11.409000   \n12340428          play      878516  2022-12-27T11:30:27.182000   \n12340429          like      878516  2022-12-27T11:32:22.571000   \n12340430          play      878516  2022-12-27T11:35:56.115000   \n\n                        track_id  user_id  \n0         0qbV4e18lWrTTxlswVoLbI      101  \n1                           None      101  \n2         0qbV4e18lWrTTxlswVoLbI      101  \n3         0qbV4e18lWrTTxlswVoLbI      101  \n4         3pyTksNccLM1jRvzQ4zTke      101  \n...                          ...      ...  \n12340426  2nxzEMUmIhSJeGBaXgh30x     5100  \n12340427  19K3lUMJmOdeuOBTrbLm19     5100  \n12340428  1PhLYngBKbeDtdmDzCg3Pb     5100  \n12340429  1PhLYngBKbeDtdmDzCg3Pb     5100  \n12340430  09ezgACZuwWZt6CtQSSLRG     5100  \n\n[12340431 rows x 5 columns]",
      "text/html": "<div>\n<style scoped>\n    .dataframe tbody tr th:only-of-type {\n        vertical-align: middle;\n    }\n\n    .dataframe tbody tr th {\n        vertical-align: top;\n    }\n\n    .dataframe thead th {\n        text-align: right;\n    }\n</style>\n<table border=\"1\" class=\"dataframe\">\n  <thead>\n    <tr style=\"text-align: right;\">\n      <th></th>\n      <th>event_type</th>\n      <th>session_id</th>\n      <th>timestamp</th>\n      <th>track_id</th>\n      <th>user_id</th>\n    </tr>\n  </thead>\n  <tbody>\n    <tr>\n      <th>0</th>\n      <td>play</td>\n      <td>124</td>\n      <td>2023-05-30T23:37:17</td>\n      <td>0qbV4e18lWrTTxlswVoLbI</td>\n      <td>101</td>\n    </tr>\n    <tr>\n      <th>1</th>\n      <td>advertisment</td>\n      <td>124</td>\n      <td>2023-05-30T23:44:37.941000</td>\n      <td>None</td>\n      <td>101</td>\n    </tr>\n    <tr>\n      <th>2</th>\n      <td>like</td>\n      <td>124</td>\n      <td>2023-05-30T23:44:37.941000</td>\n      <td>0qbV4e18lWrTTxlswVoLbI</td>\n      <td>101</td>\n    </tr>\n    <tr>\n      <th>3</th>\n      <td>skip</td>\n      <td>124</td>\n      <td>2023-05-30T23:44:46.212000</td>\n      <td>0qbV4e18lWrTTxlswVoLbI</td>\n      <td>101</td>\n    </tr>\n    <tr>\n      <th>4</th>\n      <td>play</td>\n      <td>124</td>\n      <td>2023-05-30T23:44:51.212000</td>\n      <td>3pyTksNccLM1jRvzQ4zTke</td>\n      <td>101</td>\n    </tr>\n    <tr>\n      <th>...</th>\n      <td>...</td>\n      <td>...</td>\n      <td>...</td>\n      <td>...</td>\n      <td>...</td>\n    </tr>\n    <tr>\n      <th>12340426</th>\n      <td>play</td>\n      <td>878516</td>\n      <td>2022-12-27T11:20:54.236000</td>\n      <td>2nxzEMUmIhSJeGBaXgh30x</td>\n      <td>5100</td>\n    </tr>\n    <tr>\n      <th>12340427</th>\n      <td>play</td>\n      <td>878516</td>\n      <td>2022-12-27T11:26:11.409000</td>\n      <td>19K3lUMJmOdeuOBTrbLm19</td>\n      <td>5100</td>\n    </tr>\n    <tr>\n      <th>12340428</th>\n      <td>play</td>\n      <td>878516</td>\n      <td>2022-12-27T11:30:27.182000</td>\n      <td>1PhLYngBKbeDtdmDzCg3Pb</td>\n      <td>5100</td>\n    </tr>\n    <tr>\n      <th>12340429</th>\n      <td>like</td>\n      <td>878516</td>\n      <td>2022-12-27T11:32:22.571000</td>\n      <td>1PhLYngBKbeDtdmDzCg3Pb</td>\n      <td>5100</td>\n    </tr>\n    <tr>\n      <th>12340430</th>\n      <td>play</td>\n      <td>878516</td>\n      <td>2022-12-27T11:35:56.115000</td>\n      <td>09ezgACZuwWZt6CtQSSLRG</td>\n      <td>5100</td>\n    </tr>\n  </tbody>\n</table>\n<p>12340431 rows × 5 columns</p>\n</div>"
     },
     "metadata": {},
     "output_type": "display_data"
    },
    {
     "data": {
      "text/plain": "         user_id                track_id\n0            101  01q4ccXbvPlCwZ1fPiFaeM\n1            101  02ePjHjIiszSYqeLykvpTN\n2            101  02ppMPbg1OtEdHgoPqoqju\n3            101  03EnOL1O9EKi9CFNmPyrCm\n4            101  0534jmQ0dYChW5MSzYXNVr\n...          ...                     ...\n2568073     5100  7xD7MvjAdZkx1YICschIuI\n2568074     5100  7xa3dJQMzBVzsrZ81tNcHP\n2568075     5100  7yYvvOB7CuzdVldb6zOk1m\n2568076     5100  7ygpwy2qP3NbrxVkHvUhXY\n2568077     5100  7zjzu90Q4mtNNaE9Ol9Zbv\n\n[2568078 rows x 2 columns]",
      "text/html": "<div>\n<style scoped>\n    .dataframe tbody tr th:only-of-type {\n        vertical-align: middle;\n    }\n\n    .dataframe tbody tr th {\n        vertical-align: top;\n    }\n\n    .dataframe thead th {\n        text-align: right;\n    }\n</style>\n<table border=\"1\" class=\"dataframe\">\n  <thead>\n    <tr style=\"text-align: right;\">\n      <th></th>\n      <th>user_id</th>\n      <th>track_id</th>\n    </tr>\n  </thead>\n  <tbody>\n    <tr>\n      <th>0</th>\n      <td>101</td>\n      <td>01q4ccXbvPlCwZ1fPiFaeM</td>\n    </tr>\n    <tr>\n      <th>1</th>\n      <td>101</td>\n      <td>02ePjHjIiszSYqeLykvpTN</td>\n    </tr>\n    <tr>\n      <th>2</th>\n      <td>101</td>\n      <td>02ppMPbg1OtEdHgoPqoqju</td>\n    </tr>\n    <tr>\n      <th>3</th>\n      <td>101</td>\n      <td>03EnOL1O9EKi9CFNmPyrCm</td>\n    </tr>\n    <tr>\n      <th>4</th>\n      <td>101</td>\n      <td>0534jmQ0dYChW5MSzYXNVr</td>\n    </tr>\n    <tr>\n      <th>...</th>\n      <td>...</td>\n      <td>...</td>\n    </tr>\n    <tr>\n      <th>2568073</th>\n      <td>5100</td>\n      <td>7xD7MvjAdZkx1YICschIuI</td>\n    </tr>\n    <tr>\n      <th>2568074</th>\n      <td>5100</td>\n      <td>7xa3dJQMzBVzsrZ81tNcHP</td>\n    </tr>\n    <tr>\n      <th>2568075</th>\n      <td>5100</td>\n      <td>7yYvvOB7CuzdVldb6zOk1m</td>\n    </tr>\n    <tr>\n      <th>2568076</th>\n      <td>5100</td>\n      <td>7ygpwy2qP3NbrxVkHvUhXY</td>\n    </tr>\n    <tr>\n      <th>2568077</th>\n      <td>5100</td>\n      <td>7zjzu90Q4mtNNaE9Ol9Zbv</td>\n    </tr>\n  </tbody>\n</table>\n<p>2568078 rows × 2 columns</p>\n</div>"
     },
     "metadata": {},
     "output_type": "display_data"
    },
    {
     "data": {
      "text/plain": "                           id               id_artist  acousticness  \\\n0      4y8icjzu6fZP503Mg31Tpn  5V0MlUE1Bft0mbLlND7FJz       0.87800   \n1      4hHbeIIKO5Y5uLyIEbY9Gn  1Mxqyy3pSjf8kZZL4QVxS0       0.84500   \n2      0KSHmjK7OFtGocvbo7NZNO  6kACVPfCOnqzgfEF5ryl0x       0.80300   \n3      30V02AmDYMRvrHE4L8cZAo  22bE4uQ6baNwSHPVcDxLCe       0.17800   \n4      2CQRYn5cTD2B9a1ONjhTN2  3oDbviiivRWhXwIE8hxkVV       0.72500   \n...                       ...                     ...           ...   \n22407  3atrFJhUzDm5xiutqfEPkP  74XFHRwlV6OrjEM0A2NCMF       0.00576   \n22408  3wYzd4dzWknPdgwNaPGQvg  7JthQ6zwNzfxRfIEjp6wUs       0.06960   \n22409  6UIcN1tiiGdd7oMMzNvyaP  7lbSsjYACZHn1MSDXPxNF2       0.06010   \n22410  62i2LI6iDmAHbE9H9wa99z  7k73EtZwoPs516ZxE72KsO       0.38500   \n22411  2bAAj29XGc4h1G4oEGYCmg  7n2Ycct7Beij7Dj7meI4X0       0.03120   \n\n       danceability  duration_ms  energy  instrumentalness  key  liveness  \\\n0             0.184       224227   0.292          0.000258    7    0.3460   \n1             0.574       199093   0.338          0.000000    6    0.1650   \n2             0.754       107280   0.484          0.000009   10    0.0989   \n3             0.578       133320   0.429          0.000060    2    0.1710   \n4             0.396       145800   0.686          0.000001    5    0.1700   \n...             ...          ...     ...               ...  ...       ...   \n22407         0.489       218333   0.611          0.000008    6    0.0917   \n22408         0.607       191474   0.605          0.000000    3    0.4540   \n22409         0.479       297502   0.478          0.000007    5    0.0813   \n22410         0.470       216970   0.738          0.000621    8    0.0656   \n22411         0.739       199653   0.841          0.000000    5    0.1730   \n\n       loudness  popularity  release_year  speechiness    tempo  valence  \n0       -12.246          55          1956       0.0312   75.630   0.1430  \n1       -11.376          69          1958       0.0420   67.008   0.4930  \n2        -9.196          52          1959       0.0609   82.761   0.8010  \n3        -9.601          57          1965       0.0268  108.738   0.0889  \n4        -5.607          57          1966       0.0341  124.318   0.7170  \n...         ...         ...           ...          ...      ...      ...  \n22407    -5.675          52          2007       0.0337  140.956   0.1860  \n22408    -6.050          65          2021       0.1590   83.913   0.6650  \n22409    -8.884          53          2020       0.1100  100.040   0.1170  \n22410    -4.641          52          2017       0.0398   97.973   0.4880  \n22411    -4.162          61          2020       0.0600  106.990   0.5620  \n\n[22412 rows x 15 columns]",
      "text/html": "<div>\n<style scoped>\n    .dataframe tbody tr th:only-of-type {\n        vertical-align: middle;\n    }\n\n    .dataframe tbody tr th {\n        vertical-align: top;\n    }\n\n    .dataframe thead th {\n        text-align: right;\n    }\n</style>\n<table border=\"1\" class=\"dataframe\">\n  <thead>\n    <tr style=\"text-align: right;\">\n      <th></th>\n      <th>id</th>\n      <th>id_artist</th>\n      <th>acousticness</th>\n      <th>danceability</th>\n      <th>duration_ms</th>\n      <th>energy</th>\n      <th>instrumentalness</th>\n      <th>key</th>\n      <th>liveness</th>\n      <th>loudness</th>\n      <th>popularity</th>\n      <th>release_year</th>\n      <th>speechiness</th>\n      <th>tempo</th>\n      <th>valence</th>\n    </tr>\n  </thead>\n  <tbody>\n    <tr>\n      <th>0</th>\n      <td>4y8icjzu6fZP503Mg31Tpn</td>\n      <td>5V0MlUE1Bft0mbLlND7FJz</td>\n      <td>0.87800</td>\n      <td>0.184</td>\n      <td>224227</td>\n      <td>0.292</td>\n      <td>0.000258</td>\n      <td>7</td>\n      <td>0.3460</td>\n      <td>-12.246</td>\n      <td>55</td>\n      <td>1956</td>\n      <td>0.0312</td>\n      <td>75.630</td>\n      <td>0.1430</td>\n    </tr>\n    <tr>\n      <th>1</th>\n      <td>4hHbeIIKO5Y5uLyIEbY9Gn</td>\n      <td>1Mxqyy3pSjf8kZZL4QVxS0</td>\n      <td>0.84500</td>\n      <td>0.574</td>\n      <td>199093</td>\n      <td>0.338</td>\n      <td>0.000000</td>\n      <td>6</td>\n      <td>0.1650</td>\n      <td>-11.376</td>\n      <td>69</td>\n      <td>1958</td>\n      <td>0.0420</td>\n      <td>67.008</td>\n      <td>0.4930</td>\n    </tr>\n    <tr>\n      <th>2</th>\n      <td>0KSHmjK7OFtGocvbo7NZNO</td>\n      <td>6kACVPfCOnqzgfEF5ryl0x</td>\n      <td>0.80300</td>\n      <td>0.754</td>\n      <td>107280</td>\n      <td>0.484</td>\n      <td>0.000009</td>\n      <td>10</td>\n      <td>0.0989</td>\n      <td>-9.196</td>\n      <td>52</td>\n      <td>1959</td>\n      <td>0.0609</td>\n      <td>82.761</td>\n      <td>0.8010</td>\n    </tr>\n    <tr>\n      <th>3</th>\n      <td>30V02AmDYMRvrHE4L8cZAo</td>\n      <td>22bE4uQ6baNwSHPVcDxLCe</td>\n      <td>0.17800</td>\n      <td>0.578</td>\n      <td>133320</td>\n      <td>0.429</td>\n      <td>0.000060</td>\n      <td>2</td>\n      <td>0.1710</td>\n      <td>-9.601</td>\n      <td>57</td>\n      <td>1965</td>\n      <td>0.0268</td>\n      <td>108.738</td>\n      <td>0.0889</td>\n    </tr>\n    <tr>\n      <th>4</th>\n      <td>2CQRYn5cTD2B9a1ONjhTN2</td>\n      <td>3oDbviiivRWhXwIE8hxkVV</td>\n      <td>0.72500</td>\n      <td>0.396</td>\n      <td>145800</td>\n      <td>0.686</td>\n      <td>0.000001</td>\n      <td>5</td>\n      <td>0.1700</td>\n      <td>-5.607</td>\n      <td>57</td>\n      <td>1966</td>\n      <td>0.0341</td>\n      <td>124.318</td>\n      <td>0.7170</td>\n    </tr>\n    <tr>\n      <th>...</th>\n      <td>...</td>\n      <td>...</td>\n      <td>...</td>\n      <td>...</td>\n      <td>...</td>\n      <td>...</td>\n      <td>...</td>\n      <td>...</td>\n      <td>...</td>\n      <td>...</td>\n      <td>...</td>\n      <td>...</td>\n      <td>...</td>\n      <td>...</td>\n      <td>...</td>\n    </tr>\n    <tr>\n      <th>22407</th>\n      <td>3atrFJhUzDm5xiutqfEPkP</td>\n      <td>74XFHRwlV6OrjEM0A2NCMF</td>\n      <td>0.00576</td>\n      <td>0.489</td>\n      <td>218333</td>\n      <td>0.611</td>\n      <td>0.000008</td>\n      <td>6</td>\n      <td>0.0917</td>\n      <td>-5.675</td>\n      <td>52</td>\n      <td>2007</td>\n      <td>0.0337</td>\n      <td>140.956</td>\n      <td>0.1860</td>\n    </tr>\n    <tr>\n      <th>22408</th>\n      <td>3wYzd4dzWknPdgwNaPGQvg</td>\n      <td>7JthQ6zwNzfxRfIEjp6wUs</td>\n      <td>0.06960</td>\n      <td>0.607</td>\n      <td>191474</td>\n      <td>0.605</td>\n      <td>0.000000</td>\n      <td>3</td>\n      <td>0.4540</td>\n      <td>-6.050</td>\n      <td>65</td>\n      <td>2021</td>\n      <td>0.1590</td>\n      <td>83.913</td>\n      <td>0.6650</td>\n    </tr>\n    <tr>\n      <th>22409</th>\n      <td>6UIcN1tiiGdd7oMMzNvyaP</td>\n      <td>7lbSsjYACZHn1MSDXPxNF2</td>\n      <td>0.06010</td>\n      <td>0.479</td>\n      <td>297502</td>\n      <td>0.478</td>\n      <td>0.000007</td>\n      <td>5</td>\n      <td>0.0813</td>\n      <td>-8.884</td>\n      <td>53</td>\n      <td>2020</td>\n      <td>0.1100</td>\n      <td>100.040</td>\n      <td>0.1170</td>\n    </tr>\n    <tr>\n      <th>22410</th>\n      <td>62i2LI6iDmAHbE9H9wa99z</td>\n      <td>7k73EtZwoPs516ZxE72KsO</td>\n      <td>0.38500</td>\n      <td>0.470</td>\n      <td>216970</td>\n      <td>0.738</td>\n      <td>0.000621</td>\n      <td>8</td>\n      <td>0.0656</td>\n      <td>-4.641</td>\n      <td>52</td>\n      <td>2017</td>\n      <td>0.0398</td>\n      <td>97.973</td>\n      <td>0.4880</td>\n    </tr>\n    <tr>\n      <th>22411</th>\n      <td>2bAAj29XGc4h1G4oEGYCmg</td>\n      <td>7n2Ycct7Beij7Dj7meI4X0</td>\n      <td>0.03120</td>\n      <td>0.739</td>\n      <td>199653</td>\n      <td>0.841</td>\n      <td>0.000000</td>\n      <td>5</td>\n      <td>0.1730</td>\n      <td>-4.162</td>\n      <td>61</td>\n      <td>2020</td>\n      <td>0.0600</td>\n      <td>106.990</td>\n      <td>0.5620</td>\n    </tr>\n  </tbody>\n</table>\n<p>22412 rows × 15 columns</p>\n</div>"
     },
     "metadata": {},
     "output_type": "display_data"
    },
    {
     "data": {
      "text/plain": "      user_id\n0         101\n1         102\n2         103\n3         104\n4         105\n...       ...\n4995     5096\n4996     5097\n4997     5098\n4998     5099\n4999     5100\n\n[5000 rows x 1 columns]",
      "text/html": "<div>\n<style scoped>\n    .dataframe tbody tr th:only-of-type {\n        vertical-align: middle;\n    }\n\n    .dataframe tbody tr th {\n        vertical-align: top;\n    }\n\n    .dataframe thead th {\n        text-align: right;\n    }\n</style>\n<table border=\"1\" class=\"dataframe\">\n  <thead>\n    <tr style=\"text-align: right;\">\n      <th></th>\n      <th>user_id</th>\n    </tr>\n  </thead>\n  <tbody>\n    <tr>\n      <th>0</th>\n      <td>101</td>\n    </tr>\n    <tr>\n      <th>1</th>\n      <td>102</td>\n    </tr>\n    <tr>\n      <th>2</th>\n      <td>103</td>\n    </tr>\n    <tr>\n      <th>3</th>\n      <td>104</td>\n    </tr>\n    <tr>\n      <th>4</th>\n      <td>105</td>\n    </tr>\n    <tr>\n      <th>...</th>\n      <td>...</td>\n    </tr>\n    <tr>\n      <th>4995</th>\n      <td>5096</td>\n    </tr>\n    <tr>\n      <th>4996</th>\n      <td>5097</td>\n    </tr>\n    <tr>\n      <th>4997</th>\n      <td>5098</td>\n    </tr>\n    <tr>\n      <th>4998</th>\n      <td>5099</td>\n    </tr>\n    <tr>\n      <th>4999</th>\n      <td>5100</td>\n    </tr>\n  </tbody>\n</table>\n<p>5000 rows × 1 columns</p>\n</div>"
     },
     "metadata": {},
     "output_type": "display_data"
    }
   ],
   "source": [
    "display(sessions_full)\n",
    "display(sessions)\n",
    "display(_tracks)\n",
    "display(users)"
   ],
   "metadata": {
    "collapsed": false,
    "ExecuteTime": {
     "end_time": "2024-01-13T23:33:14.480340042Z",
     "start_time": "2024-01-13T23:33:14.453343601Z"
    }
   },
   "id": "835865a1922582e9"
  },
  {
   "cell_type": "markdown",
   "source": [
    "Feature engineering goes here. For now, standardize all numeric features in `tracks` ($\\mu=0$, $\\sigma=1$)."
   ],
   "metadata": {
    "collapsed": false
   },
   "id": "f469000f75779a22"
  },
  {
   "cell_type": "code",
   "execution_count": 68,
   "outputs": [
    {
     "data": {
      "text/plain": "                           id               id_artist  acousticness  \\\n0      4y8icjzu6fZP503Mg31Tpn  5V0MlUE1Bft0mbLlND7FJz      2.210183   \n1      4hHbeIIKO5Y5uLyIEbY9Gn  1Mxqyy3pSjf8kZZL4QVxS0      2.090663   \n2      0KSHmjK7OFtGocvbo7NZNO  6kACVPfCOnqzgfEF5ryl0x      1.938547   \n3      30V02AmDYMRvrHE4L8cZAo  22bE4uQ6baNwSHPVcDxLCe     -0.325086   \n4      2CQRYn5cTD2B9a1ONjhTN2  3oDbviiivRWhXwIE8hxkVV      1.656046   \n...                       ...                     ...           ...   \n22407  3atrFJhUzDm5xiutqfEPkP  74XFHRwlV6OrjEM0A2NCMF     -0.948906   \n22408  3wYzd4dzWknPdgwNaPGQvg  7JthQ6zwNzfxRfIEjp6wUs     -0.717690   \n22409  6UIcN1tiiGdd7oMMzNvyaP  7lbSsjYACZHn1MSDXPxNF2     -0.752097   \n22410  62i2LI6iDmAHbE9H9wa99z  7k73EtZwoPs516ZxE72KsO      0.424630   \n22411  2bAAj29XGc4h1G4oEGYCmg  7n2Ycct7Beij7Dj7meI4X0     -0.856768   \n\n       danceability  duration_ms    energy  instrumentalness       key  \\\n0         -2.622956    -0.081994 -1.698778         -0.261491  0.483649   \n1         -0.158580    -0.430623 -1.479284         -0.263179  0.202650   \n2          0.978824    -1.704140 -0.782628         -0.263120  1.326645   \n3         -0.133305    -1.342945 -1.045067         -0.262786 -0.921346   \n4         -1.283347    -1.169838  0.181238         -0.263172 -0.078349   \n...             ...          ...       ...               ...       ...   \n22407     -0.695688    -0.163749 -0.176633         -0.263129  0.202650   \n22408      0.049944    -0.536304 -0.205263         -0.263179 -0.640347   \n22409     -0.758877     0.934387 -0.811258         -0.263132 -0.078349   \n22410     -0.815747    -0.182655  0.429362         -0.259116  0.764647   \n22411      0.884040    -0.422855  0.920838         -0.263179 -0.078349   \n\n       liveness  loudness  popularity  release_year  speechiness     tempo  \\\n0      0.910200 -1.350924   -0.792191     -3.602614    -0.579005 -1.562809   \n1     -0.167568 -1.118180    0.947358     -3.458942    -0.458085 -1.853949   \n2     -0.561162 -0.534983   -1.164951     -3.387106    -0.246475 -1.322015   \n3     -0.131841 -0.643329   -0.543684     -2.956090    -0.628269 -0.444846   \n4     -0.137796  0.425153   -0.543684     -2.884254    -0.546536  0.081246   \n...         ...       ...         ...           ...          ...       ...   \n22407 -0.604035  0.406961   -1.164951      0.061025    -0.551015  0.643063   \n22408  1.553288  0.306641    0.450344      1.066730     0.851883 -1.283116   \n22409 -0.665962 -0.451516   -1.040697      0.994894     0.303264 -0.738553   \n22410 -0.759448  0.683579   -1.164951      0.779385    -0.482717 -0.808350   \n22411 -0.119932  0.811722   -0.046670      0.994894    -0.256552 -0.503871   \n\n        valence  \n0     -1.533923  \n1     -0.102263  \n2      1.157598  \n3     -1.755216  \n4      0.814000  \n...         ...  \n22407 -1.358033  \n22408  0.601296  \n22409 -1.640275  \n22410 -0.122715  \n22411  0.179979  \n\n[22412 rows x 15 columns]",
      "text/html": "<div>\n<style scoped>\n    .dataframe tbody tr th:only-of-type {\n        vertical-align: middle;\n    }\n\n    .dataframe tbody tr th {\n        vertical-align: top;\n    }\n\n    .dataframe thead th {\n        text-align: right;\n    }\n</style>\n<table border=\"1\" class=\"dataframe\">\n  <thead>\n    <tr style=\"text-align: right;\">\n      <th></th>\n      <th>id</th>\n      <th>id_artist</th>\n      <th>acousticness</th>\n      <th>danceability</th>\n      <th>duration_ms</th>\n      <th>energy</th>\n      <th>instrumentalness</th>\n      <th>key</th>\n      <th>liveness</th>\n      <th>loudness</th>\n      <th>popularity</th>\n      <th>release_year</th>\n      <th>speechiness</th>\n      <th>tempo</th>\n      <th>valence</th>\n    </tr>\n  </thead>\n  <tbody>\n    <tr>\n      <th>0</th>\n      <td>4y8icjzu6fZP503Mg31Tpn</td>\n      <td>5V0MlUE1Bft0mbLlND7FJz</td>\n      <td>2.210183</td>\n      <td>-2.622956</td>\n      <td>-0.081994</td>\n      <td>-1.698778</td>\n      <td>-0.261491</td>\n      <td>0.483649</td>\n      <td>0.910200</td>\n      <td>-1.350924</td>\n      <td>-0.792191</td>\n      <td>-3.602614</td>\n      <td>-0.579005</td>\n      <td>-1.562809</td>\n      <td>-1.533923</td>\n    </tr>\n    <tr>\n      <th>1</th>\n      <td>4hHbeIIKO5Y5uLyIEbY9Gn</td>\n      <td>1Mxqyy3pSjf8kZZL4QVxS0</td>\n      <td>2.090663</td>\n      <td>-0.158580</td>\n      <td>-0.430623</td>\n      <td>-1.479284</td>\n      <td>-0.263179</td>\n      <td>0.202650</td>\n      <td>-0.167568</td>\n      <td>-1.118180</td>\n      <td>0.947358</td>\n      <td>-3.458942</td>\n      <td>-0.458085</td>\n      <td>-1.853949</td>\n      <td>-0.102263</td>\n    </tr>\n    <tr>\n      <th>2</th>\n      <td>0KSHmjK7OFtGocvbo7NZNO</td>\n      <td>6kACVPfCOnqzgfEF5ryl0x</td>\n      <td>1.938547</td>\n      <td>0.978824</td>\n      <td>-1.704140</td>\n      <td>-0.782628</td>\n      <td>-0.263120</td>\n      <td>1.326645</td>\n      <td>-0.561162</td>\n      <td>-0.534983</td>\n      <td>-1.164951</td>\n      <td>-3.387106</td>\n      <td>-0.246475</td>\n      <td>-1.322015</td>\n      <td>1.157598</td>\n    </tr>\n    <tr>\n      <th>3</th>\n      <td>30V02AmDYMRvrHE4L8cZAo</td>\n      <td>22bE4uQ6baNwSHPVcDxLCe</td>\n      <td>-0.325086</td>\n      <td>-0.133305</td>\n      <td>-1.342945</td>\n      <td>-1.045067</td>\n      <td>-0.262786</td>\n      <td>-0.921346</td>\n      <td>-0.131841</td>\n      <td>-0.643329</td>\n      <td>-0.543684</td>\n      <td>-2.956090</td>\n      <td>-0.628269</td>\n      <td>-0.444846</td>\n      <td>-1.755216</td>\n    </tr>\n    <tr>\n      <th>4</th>\n      <td>2CQRYn5cTD2B9a1ONjhTN2</td>\n      <td>3oDbviiivRWhXwIE8hxkVV</td>\n      <td>1.656046</td>\n      <td>-1.283347</td>\n      <td>-1.169838</td>\n      <td>0.181238</td>\n      <td>-0.263172</td>\n      <td>-0.078349</td>\n      <td>-0.137796</td>\n      <td>0.425153</td>\n      <td>-0.543684</td>\n      <td>-2.884254</td>\n      <td>-0.546536</td>\n      <td>0.081246</td>\n      <td>0.814000</td>\n    </tr>\n    <tr>\n      <th>...</th>\n      <td>...</td>\n      <td>...</td>\n      <td>...</td>\n      <td>...</td>\n      <td>...</td>\n      <td>...</td>\n      <td>...</td>\n      <td>...</td>\n      <td>...</td>\n      <td>...</td>\n      <td>...</td>\n      <td>...</td>\n      <td>...</td>\n      <td>...</td>\n      <td>...</td>\n    </tr>\n    <tr>\n      <th>22407</th>\n      <td>3atrFJhUzDm5xiutqfEPkP</td>\n      <td>74XFHRwlV6OrjEM0A2NCMF</td>\n      <td>-0.948906</td>\n      <td>-0.695688</td>\n      <td>-0.163749</td>\n      <td>-0.176633</td>\n      <td>-0.263129</td>\n      <td>0.202650</td>\n      <td>-0.604035</td>\n      <td>0.406961</td>\n      <td>-1.164951</td>\n      <td>0.061025</td>\n      <td>-0.551015</td>\n      <td>0.643063</td>\n      <td>-1.358033</td>\n    </tr>\n    <tr>\n      <th>22408</th>\n      <td>3wYzd4dzWknPdgwNaPGQvg</td>\n      <td>7JthQ6zwNzfxRfIEjp6wUs</td>\n      <td>-0.717690</td>\n      <td>0.049944</td>\n      <td>-0.536304</td>\n      <td>-0.205263</td>\n      <td>-0.263179</td>\n      <td>-0.640347</td>\n      <td>1.553288</td>\n      <td>0.306641</td>\n      <td>0.450344</td>\n      <td>1.066730</td>\n      <td>0.851883</td>\n      <td>-1.283116</td>\n      <td>0.601296</td>\n    </tr>\n    <tr>\n      <th>22409</th>\n      <td>6UIcN1tiiGdd7oMMzNvyaP</td>\n      <td>7lbSsjYACZHn1MSDXPxNF2</td>\n      <td>-0.752097</td>\n      <td>-0.758877</td>\n      <td>0.934387</td>\n      <td>-0.811258</td>\n      <td>-0.263132</td>\n      <td>-0.078349</td>\n      <td>-0.665962</td>\n      <td>-0.451516</td>\n      <td>-1.040697</td>\n      <td>0.994894</td>\n      <td>0.303264</td>\n      <td>-0.738553</td>\n      <td>-1.640275</td>\n    </tr>\n    <tr>\n      <th>22410</th>\n      <td>62i2LI6iDmAHbE9H9wa99z</td>\n      <td>7k73EtZwoPs516ZxE72KsO</td>\n      <td>0.424630</td>\n      <td>-0.815747</td>\n      <td>-0.182655</td>\n      <td>0.429362</td>\n      <td>-0.259116</td>\n      <td>0.764647</td>\n      <td>-0.759448</td>\n      <td>0.683579</td>\n      <td>-1.164951</td>\n      <td>0.779385</td>\n      <td>-0.482717</td>\n      <td>-0.808350</td>\n      <td>-0.122715</td>\n    </tr>\n    <tr>\n      <th>22411</th>\n      <td>2bAAj29XGc4h1G4oEGYCmg</td>\n      <td>7n2Ycct7Beij7Dj7meI4X0</td>\n      <td>-0.856768</td>\n      <td>0.884040</td>\n      <td>-0.422855</td>\n      <td>0.920838</td>\n      <td>-0.263179</td>\n      <td>-0.078349</td>\n      <td>-0.119932</td>\n      <td>0.811722</td>\n      <td>-0.046670</td>\n      <td>0.994894</td>\n      <td>-0.256552</td>\n      <td>-0.503871</td>\n      <td>0.179979</td>\n    </tr>\n  </tbody>\n</table>\n<p>22412 rows × 15 columns</p>\n</div>"
     },
     "metadata": {},
     "output_type": "display_data"
    }
   ],
   "source": [
    "from scipy import stats\n",
    "\n",
    "# normalize track features\n",
    "tracks = pd.concat([_tracks[['id', 'id_artist']], _tracks.drop(['id', 'id_artist'], axis=1).apply(stats.zscore)],\n",
    "                   axis=1)\n",
    "display(tracks)"
   ],
   "metadata": {
    "collapsed": false,
    "ExecuteTime": {
     "end_time": "2024-01-13T23:33:14.685071687Z",
     "start_time": "2024-01-13T23:33:14.476699924Z"
    }
   },
   "id": "2620a6f75cb57503"
  },
  {
   "cell_type": "markdown",
   "source": [
    "Query for sessions:\n",
    "- Group user-track interactions (this can be used to create event weights later on)\n",
    "- Exclude tracks from `sessions.jsonl` not present in `tracks.jsonl`\n",
    "- Filter event type"
   ],
   "metadata": {
    "collapsed": false
   },
   "id": "3474b86a65e479bf"
  },
  {
   "cell_type": "code",
   "execution_count": 69,
   "outputs": [
    {
     "name": "stderr",
     "output_type": "stream",
     "text": [
      "                                                                                \r"
     ]
    },
    {
     "data": {
      "text/plain": "         user_id                track_id  weight  acousticness  danceability  \\\n0            101  01q4ccXbvPlCwZ1fPiFaeM       1      0.126000         0.680   \n1            101  02ePjHjIiszSYqeLykvpTN       2      0.159000         0.487   \n2            101  02ppMPbg1OtEdHgoPqoqju       1      0.511000         0.523   \n3            101  03EnOL1O9EKi9CFNmPyrCm       1      0.497000         0.555   \n4            101  0534jmQ0dYChW5MSzYXNVr       1      0.019400         0.590   \n...          ...                     ...     ...           ...           ...   \n2568073     5100  7xD7MvjAdZkx1YICschIuI       1      0.663000         0.544   \n2568074     5100  7xa3dJQMzBVzsrZ81tNcHP       2      0.000094         0.319   \n2568075     5100  7yYvvOB7CuzdVldb6zOk1m       1      0.001240         0.659   \n2568076     5100  7ygpwy2qP3NbrxVkHvUhXY       1      0.000509         0.375   \n2568077     5100  7zjzu90Q4mtNNaE9Ol9Zbv       1      0.005550         0.569   \n\n         duration_ms  energy  instrumentalness  key  liveness  loudness  \\\n0             122760   0.626          0.000001    7    0.0995    -8.519   \n1             220920   0.909          0.000001    9    0.3030    -3.484   \n2             290213   0.656          0.160000    4    0.0679    -7.441   \n3             355640   0.460          0.000000    9    0.1030    -7.032   \n4             265960   0.711          0.000000    0    0.1220    -7.589   \n...              ...     ...               ...  ...       ...       ...   \n2568073       224667   0.884          0.000007    8    0.3810    -8.166   \n2568074       203653   0.965          0.002210    7    0.1410    -4.354   \n2568075       288973   0.846          0.000000    7    0.0415    -7.579   \n2568076       258773   0.893          0.000000    2    0.1870    -4.097   \n2568077       259413   0.901          0.260000    9    0.1600    -5.197   \n\n         popularity  release_year  speechiness    tempo  valence  \n0                57          1987       0.0255  104.333    0.960  \n1                54          1995       0.0463  125.418    0.510  \n2                63          2007       0.0262  104.271    0.214  \n3                69          2005       0.0277   67.027    0.146  \n4                52          2011       0.0247  143.937    0.847  \n...             ...           ...          ...      ...      ...  \n2568073          53          1976       0.1440  127.215    0.467  \n2568074          52          1992       0.0646  127.721    0.624  \n2568075          52          1998       0.1110   92.803    0.595  \n2568076          76          1995       0.0406  174.323    0.434  \n2568077          60          2009       0.0544  133.194    0.839  \n\n[2568078 rows x 16 columns]",
      "text/html": "<div>\n<style scoped>\n    .dataframe tbody tr th:only-of-type {\n        vertical-align: middle;\n    }\n\n    .dataframe tbody tr th {\n        vertical-align: top;\n    }\n\n    .dataframe thead th {\n        text-align: right;\n    }\n</style>\n<table border=\"1\" class=\"dataframe\">\n  <thead>\n    <tr style=\"text-align: right;\">\n      <th></th>\n      <th>user_id</th>\n      <th>track_id</th>\n      <th>weight</th>\n      <th>acousticness</th>\n      <th>danceability</th>\n      <th>duration_ms</th>\n      <th>energy</th>\n      <th>instrumentalness</th>\n      <th>key</th>\n      <th>liveness</th>\n      <th>loudness</th>\n      <th>popularity</th>\n      <th>release_year</th>\n      <th>speechiness</th>\n      <th>tempo</th>\n      <th>valence</th>\n    </tr>\n  </thead>\n  <tbody>\n    <tr>\n      <th>0</th>\n      <td>101</td>\n      <td>01q4ccXbvPlCwZ1fPiFaeM</td>\n      <td>1</td>\n      <td>0.126000</td>\n      <td>0.680</td>\n      <td>122760</td>\n      <td>0.626</td>\n      <td>0.000001</td>\n      <td>7</td>\n      <td>0.0995</td>\n      <td>-8.519</td>\n      <td>57</td>\n      <td>1987</td>\n      <td>0.0255</td>\n      <td>104.333</td>\n      <td>0.960</td>\n    </tr>\n    <tr>\n      <th>1</th>\n      <td>101</td>\n      <td>02ePjHjIiszSYqeLykvpTN</td>\n      <td>2</td>\n      <td>0.159000</td>\n      <td>0.487</td>\n      <td>220920</td>\n      <td>0.909</td>\n      <td>0.000001</td>\n      <td>9</td>\n      <td>0.3030</td>\n      <td>-3.484</td>\n      <td>54</td>\n      <td>1995</td>\n      <td>0.0463</td>\n      <td>125.418</td>\n      <td>0.510</td>\n    </tr>\n    <tr>\n      <th>2</th>\n      <td>101</td>\n      <td>02ppMPbg1OtEdHgoPqoqju</td>\n      <td>1</td>\n      <td>0.511000</td>\n      <td>0.523</td>\n      <td>290213</td>\n      <td>0.656</td>\n      <td>0.160000</td>\n      <td>4</td>\n      <td>0.0679</td>\n      <td>-7.441</td>\n      <td>63</td>\n      <td>2007</td>\n      <td>0.0262</td>\n      <td>104.271</td>\n      <td>0.214</td>\n    </tr>\n    <tr>\n      <th>3</th>\n      <td>101</td>\n      <td>03EnOL1O9EKi9CFNmPyrCm</td>\n      <td>1</td>\n      <td>0.497000</td>\n      <td>0.555</td>\n      <td>355640</td>\n      <td>0.460</td>\n      <td>0.000000</td>\n      <td>9</td>\n      <td>0.1030</td>\n      <td>-7.032</td>\n      <td>69</td>\n      <td>2005</td>\n      <td>0.0277</td>\n      <td>67.027</td>\n      <td>0.146</td>\n    </tr>\n    <tr>\n      <th>4</th>\n      <td>101</td>\n      <td>0534jmQ0dYChW5MSzYXNVr</td>\n      <td>1</td>\n      <td>0.019400</td>\n      <td>0.590</td>\n      <td>265960</td>\n      <td>0.711</td>\n      <td>0.000000</td>\n      <td>0</td>\n      <td>0.1220</td>\n      <td>-7.589</td>\n      <td>52</td>\n      <td>2011</td>\n      <td>0.0247</td>\n      <td>143.937</td>\n      <td>0.847</td>\n    </tr>\n    <tr>\n      <th>...</th>\n      <td>...</td>\n      <td>...</td>\n      <td>...</td>\n      <td>...</td>\n      <td>...</td>\n      <td>...</td>\n      <td>...</td>\n      <td>...</td>\n      <td>...</td>\n      <td>...</td>\n      <td>...</td>\n      <td>...</td>\n      <td>...</td>\n      <td>...</td>\n      <td>...</td>\n      <td>...</td>\n    </tr>\n    <tr>\n      <th>2568073</th>\n      <td>5100</td>\n      <td>7xD7MvjAdZkx1YICschIuI</td>\n      <td>1</td>\n      <td>0.663000</td>\n      <td>0.544</td>\n      <td>224667</td>\n      <td>0.884</td>\n      <td>0.000007</td>\n      <td>8</td>\n      <td>0.3810</td>\n      <td>-8.166</td>\n      <td>53</td>\n      <td>1976</td>\n      <td>0.1440</td>\n      <td>127.215</td>\n      <td>0.467</td>\n    </tr>\n    <tr>\n      <th>2568074</th>\n      <td>5100</td>\n      <td>7xa3dJQMzBVzsrZ81tNcHP</td>\n      <td>2</td>\n      <td>0.000094</td>\n      <td>0.319</td>\n      <td>203653</td>\n      <td>0.965</td>\n      <td>0.002210</td>\n      <td>7</td>\n      <td>0.1410</td>\n      <td>-4.354</td>\n      <td>52</td>\n      <td>1992</td>\n      <td>0.0646</td>\n      <td>127.721</td>\n      <td>0.624</td>\n    </tr>\n    <tr>\n      <th>2568075</th>\n      <td>5100</td>\n      <td>7yYvvOB7CuzdVldb6zOk1m</td>\n      <td>1</td>\n      <td>0.001240</td>\n      <td>0.659</td>\n      <td>288973</td>\n      <td>0.846</td>\n      <td>0.000000</td>\n      <td>7</td>\n      <td>0.0415</td>\n      <td>-7.579</td>\n      <td>52</td>\n      <td>1998</td>\n      <td>0.1110</td>\n      <td>92.803</td>\n      <td>0.595</td>\n    </tr>\n    <tr>\n      <th>2568076</th>\n      <td>5100</td>\n      <td>7ygpwy2qP3NbrxVkHvUhXY</td>\n      <td>1</td>\n      <td>0.000509</td>\n      <td>0.375</td>\n      <td>258773</td>\n      <td>0.893</td>\n      <td>0.000000</td>\n      <td>2</td>\n      <td>0.1870</td>\n      <td>-4.097</td>\n      <td>76</td>\n      <td>1995</td>\n      <td>0.0406</td>\n      <td>174.323</td>\n      <td>0.434</td>\n    </tr>\n    <tr>\n      <th>2568077</th>\n      <td>5100</td>\n      <td>7zjzu90Q4mtNNaE9Ol9Zbv</td>\n      <td>1</td>\n      <td>0.005550</td>\n      <td>0.569</td>\n      <td>259413</td>\n      <td>0.901</td>\n      <td>0.260000</td>\n      <td>9</td>\n      <td>0.1600</td>\n      <td>-5.197</td>\n      <td>60</td>\n      <td>2009</td>\n      <td>0.0544</td>\n      <td>133.194</td>\n      <td>0.839</td>\n    </tr>\n  </tbody>\n</table>\n<p>2568078 rows × 16 columns</p>\n</div>"
     },
     "execution_count": 69,
     "metadata": {},
     "output_type": "execute_result"
    }
   ],
   "source": [
    "d = spark.sql(\n",
    "    \"\"\"\n",
    "    SELECT s.user_id, s.track_id, s.weight, acousticness, danceability, duration_ms, energy, instrumentalness, key, liveness, loudness, popularity, EXTRACT(year from `release_date`) as release_year, speechiness, tempo, valence\n",
    "    FROM (\n",
    "        select user_id, track_id, sum(event_weight) as weight\n",
    "        from (\n",
    "            SELECT user_id, track_id, 1 as event_weight\n",
    "            FROM sessions\n",
    "            WHERE event_type like 'like'\n",
    "            ) \n",
    "        group by user_id, track_id\n",
    "    ) s\n",
    "    inner join tracks t on s.track_id = t.id\n",
    "    order by s.user_id, t.id\n",
    "    \"\"\").toPandas()\n",
    "d"
   ],
   "metadata": {
    "collapsed": false,
    "ExecuteTime": {
     "end_time": "2024-01-13T23:33:23.238836069Z",
     "start_time": "2024-01-13T23:33:14.514406798Z"
    }
   },
   "id": "e5968ee30342123a"
  },
  {
   "cell_type": "markdown",
   "source": [
    "Create a LightFm `Dataset`."
   ],
   "metadata": {
    "collapsed": false
   },
   "id": "fcfd663350bbe1db"
  },
  {
   "cell_type": "code",
   "execution_count": 70,
   "outputs": [
    {
     "name": "stdout",
     "output_type": "stream",
     "text": [
      "Num users: 5000, num_items 22412.\n"
     ]
    }
   ],
   "source": [
    "from lightfm.data import Dataset\n",
    "\n",
    "dataset = Dataset()\n",
    "# all user and track ids\n",
    "dataset.fit(\n",
    "    users=users['user_id'],\n",
    "    items=tracks['id']\n",
    ")\n",
    "\n",
    "dataset.fit_partial(\n",
    "    items=tracks['id'],\n",
    "    # must follow the same order\n",
    "    item_features=tracks.drop('id', axis=1)\n",
    ")\n",
    "\n",
    "num_users, num_items = dataset.interactions_shape()\n",
    "print('Num users: {}, num_items {}.'.format(num_users, num_items))"
   ],
   "metadata": {
    "collapsed": false,
    "ExecuteTime": {
     "end_time": "2024-01-13T23:33:23.318441376Z",
     "start_time": "2024-01-13T23:33:23.248121766Z"
    }
   },
   "id": "baa266949f163fc8"
  },
  {
   "cell_type": "markdown",
   "source": [
    "Build the interaction matrix from user-track tuples. Weights can also be supplied."
   ],
   "metadata": {
    "collapsed": false
   },
   "id": "2cc6cbcca41ec45e"
  },
  {
   "cell_type": "code",
   "execution_count": 71,
   "outputs": [
    {
     "name": "stdout",
     "output_type": "stream",
     "text": [
      "<5000x22412 sparse matrix of type '<class 'numpy.int32'>'\n",
      "\twith 2568078 stored elements in COOrdinate format>\n"
     ]
    }
   ],
   "source": [
    "(interactions, weights) = dataset.build_interactions(d[['user_id', 'track_id']].apply(tuple, axis=1))\n",
    "\n",
    "print(repr(interactions))"
   ],
   "metadata": {
    "collapsed": false,
    "ExecuteTime": {
     "end_time": "2024-01-13T23:33:36.140070464Z",
     "start_time": "2024-01-13T23:33:23.266768081Z"
    }
   },
   "id": "44849957f9146d37"
  },
  {
   "cell_type": "markdown",
   "source": [
    "Split the dataset 80:20 for training and testing."
   ],
   "metadata": {
    "collapsed": false
   },
   "id": "af7630d86025b527"
  },
  {
   "cell_type": "code",
   "execution_count": 72,
   "outputs": [],
   "source": [
    "from lightfm.cross_validation import random_train_test_split\n",
    "\n",
    "(train, test) = random_train_test_split(interactions)"
   ],
   "metadata": {
    "collapsed": false,
    "ExecuteTime": {
     "end_time": "2024-01-13T23:33:36.239656187Z",
     "start_time": "2024-01-13T23:33:36.141733678Z"
    }
   },
   "id": "8430a4c32defd36b"
  },
  {
   "cell_type": "code",
   "execution_count": 73,
   "outputs": [],
   "source": [
    "from lightfm import LightFM\n",
    "from lightfm.evaluation import auc_score, precision_at_k, recall_at_k, reciprocal_rank"
   ],
   "metadata": {
    "collapsed": false,
    "ExecuteTime": {
     "end_time": "2024-01-13T23:33:36.280080206Z",
     "start_time": "2024-01-13T23:33:36.279798370Z"
    }
   },
   "id": "d7f68e99931f522a"
  },
  {
   "cell_type": "markdown",
   "source": [
    "Build an item feature matrix. This is a LightFm specific step. As we already passed feature values, we only need to supply item-feature name list tuples. LightFM uses a normalization mechanism for feature values which scales them to ensure all weights in every row sum up to 1 - we probably do not want this to happen. "
   ],
   "metadata": {
    "collapsed": false
   },
   "id": "bf36df745c962616"
  },
  {
   "cell_type": "code",
   "execution_count": 74,
   "outputs": [
    {
     "name": "stdout",
     "output_type": "stream",
     "text": [
      "<22412x22426 sparse matrix of type '<class 'numpy.float32'>'\n",
      "\twith 336180 stored elements in Compressed Sparse Row format>\n"
     ]
    }
   ],
   "source": [
    "feature_names = tracks.drop(['id'], axis=1).columns\n",
    "\n",
    "item_features = dataset.build_item_features(\n",
    "    # track id + list of feature name pairs\n",
    "    ((i, feature_names) for i in tracks['id']),\n",
    "    normalize=False)\n",
    "print(repr(item_features))"
   ],
   "metadata": {
    "collapsed": false,
    "ExecuteTime": {
     "end_time": "2024-01-13T23:33:36.482199890Z",
     "start_time": "2024-01-13T23:33:36.279996096Z"
    }
   },
   "id": "efc0a3172626105"
  },
  {
   "cell_type": "markdown",
   "source": [
    "Train the model."
   ],
   "metadata": {
    "collapsed": false
   },
   "id": "6effb65cb39f7486"
  },
  {
   "cell_type": "code",
   "execution_count": 75,
   "outputs": [
    {
     "name": "stderr",
     "output_type": "stream",
     "text": [
      "Epoch: 100%|██████████| 10/10 [02:24<00:00, 14.45s/it]\n"
     ]
    },
    {
     "data": {
      "text/plain": "<lightfm.lightfm.LightFM at 0x7f1bc829e830>"
     },
     "execution_count": 75,
     "metadata": {},
     "output_type": "execute_result"
    }
   ],
   "source": [
    "model_h = LightFM(\n",
    "    loss='warp',\n",
    "    learning_rate=0.05,\n",
    "    item_alpha=1e-6,\n",
    "    user_alpha=1e-6,\n",
    "    no_components=30,\n",
    ")\n",
    "model_h.fit(\n",
    "    interactions=train,\n",
    "    item_features=item_features,\n",
    "    epochs=10,\n",
    "    num_threads=12,\n",
    "    verbose=True)"
   ],
   "metadata": {
    "collapsed": false,
    "ExecuteTime": {
     "end_time": "2024-01-13T23:36:00.991626160Z",
     "start_time": "2024-01-13T23:33:36.483105181Z"
    }
   },
   "id": "b179fb8a664d5035"
  },
  {
   "cell_type": "markdown",
   "source": [
    "Evaluate metrics for single-user predictions. Train set is also included for sanity-checking (plus, to compare how well the model is able to generalize)."
   ],
   "metadata": {
    "collapsed": false
   },
   "id": "5f41f11ab0b6304d"
  },
  {
   "cell_type": "code",
   "execution_count": 90,
   "outputs": [
    {
     "name": "stdout",
     "output_type": "stream",
     "text": [
      "8/8 done...\n",
      "AUC: train 0.945077, test 0.934829.\n",
      "Precision: train 0.394140, test 0.231100.\n",
      "Recall: train 0.025451, test 0.095929.\n",
      "Reciprocal rank: train 0.599120, test 0.344121.\n"
     ]
    }
   ],
   "source": [
    "print(\"0/8 done...\", end=\"\")\n",
    "train_auc_h = auc_score(model_h, train,\n",
    "                        item_features=item_features,\n",
    "                        num_threads=12).mean()\n",
    "print(\"\\r1/8 done...\", end=\"\")\n",
    "test_auc_h = auc_score(model_h, test,\n",
    "                       train_interactions=train,\n",
    "                       item_features=item_features,\n",
    "                       num_threads=12).mean()\n",
    "print(\"\\r2/8 done...\", end=\"\")\n",
    "\n",
    "train_precision_h = precision_at_k(model_h, train, k=10,\n",
    "                                   item_features=item_features,\n",
    "                                   num_threads=12).mean()\n",
    "print(\"\\r3/8 done...\", end=\"\")\n",
    "test_precision_h = precision_at_k(model_h, test, k=10,\n",
    "                                  train_interactions=train,\n",
    "                                  item_features=item_features,\n",
    "                                  num_threads=12).mean()\n",
    "print(\"\\r4/8 done...\", end=\"\")\n",
    "\n",
    "train_recall_h = recall_at_k(model_h, train, k=10,\n",
    "                             item_features=item_features,\n",
    "                             num_threads=12).mean()\n",
    "print(\"\\r5/8 done...\", end=\"\")\n",
    "test_recall_h = recall_at_k(model_h, test, k=10,\n",
    "                            train_interactions=train,\n",
    "                            item_features=item_features,\n",
    "                            num_threads=12).mean()\n",
    "print(\"\\r6/8 done...\", end=\"\")\n",
    "\n",
    "train_reciprocal_rank_h = reciprocal_rank(model_h, train,\n",
    "                                          item_features=item_features,\n",
    "                                          num_threads=12).mean()\n",
    "print(\"\\r7/8 done...\", end=\"\")\n",
    "test_reciprocal_rank_h = reciprocal_rank(model_h, test,\n",
    "                                         train_interactions=train,\n",
    "                                         item_features=item_features,\n",
    "                                         num_threads=12).mean()\n",
    "print(\"\\r8/8 done...\")\n",
    "\n",
    "print('AUC: train %.6f, test %.6f.' % (train_auc_h, test_auc_h))\n",
    "print('Precision: train %.6f, test %.6f.' % (train_precision_h, test_precision_h))\n",
    "print('Recall: train %.6f, test %.6f.' % (train_recall_h, test_recall_h))\n",
    "print('Reciprocal rank: train %.6f, test %.6f.' % (train_reciprocal_rank_h, test_reciprocal_rank_h))"
   ],
   "metadata": {
    "collapsed": false,
    "ExecuteTime": {
     "end_time": "2024-01-13T23:37:55.899218813Z",
     "start_time": "2024-01-13T23:36:49.288135414Z"
    }
   },
   "id": "b8ee5784f657bd03"
  },
  {
   "cell_type": "markdown",
   "source": [
    "Process raw scores returned by the model to get predicted track ids for both single-user and multi-user predictions.\n",
    "\n",
    "\n",
    "**NOTE: these methods work a little different from recommender protocol**"
   ],
   "metadata": {
    "collapsed": false
   },
   "id": "f14f054ba084948d"
  },
  {
   "cell_type": "code",
   "execution_count": 76,
   "outputs": [
    {
     "data": {
      "text/plain": "id\n48s0QHJgmiNsth3WEO6U4M    1520.833333\n1NrJYpdAi7uosDRPmSYrsG    1592.500000\n5tajmvqHF6YW1iiUFzKpCB    1614.166667\n0dSchkfNB8SzYj8Bx7bcCW    1725.000000\n1NwDWbpg9dPH12xBd2ibrv    1734.166667\n0K1KOCeJBj3lpDYxEX9qP2    1776.000000\n0Dv4DdNy1xnhNcCd9YVoiH    1822.166667\n0s0JMUkb2WCxIJsRB3G7Hd    1825.166667\n6z5Yh7kOKeLjqIsNdokIpU    1832.000000\n7jJH8F3PHlNvxfqEAAfFDl    1832.166667\n4PFAm88FBkY7IFtvCaGctZ    1851.000000\n76hfruVvmfQbw0eYn1nmeC    1896.166667\n5xS9R5yNeVsB9shSR60eX3    1898.166667\n3cOO5IQtOYs7huq4Z6lYfr    1921.500000\n2xNCvvLwHconIojhe57JEv    1946.166667\n4HlFJV71xXKIGcU3kRyttv    1958.666667\n5NDUXbMwcnTQp66tI2zcdR    1968.166667\n4zP7ADsgJgHGY6VzxbNp1z    1993.833333\n2LlJLOK9DnYaOTr2yjqlYt    1996.000000\n6Vg3QC5UcpdAcGXgUqkjIX    2017.833333\ndtype: float64"
     },
     "execution_count": 76,
     "metadata": {},
     "output_type": "execute_result"
    }
   ],
   "source": [
    "def predict_single(user: int, number: int) -> pd.Series:\n",
    "    \"\"\"\n",
    "    Recommends `number` of tracks to user of ID `user`.\n",
    "    \n",
    "    Args:\n",
    "        user (int): user ID\n",
    "        number (int): number of recommendations to make\n",
    "        \n",
    "    Returns:\n",
    "         pd.Series: Predicted tracks. The series is indexed with track indices in item list passed when training model, series values are track ID's. \n",
    "    \"\"\"\n",
    "    predicted_scores = model_h.predict(user, np.arange(interactions.shape[1]),\n",
    "                                       item_features=item_features,\n",
    "                                       num_threads=12)\n",
    "\n",
    "    return pd.concat([tracks['id'], pd.Series(predicted_scores)], axis=1).nlargest(number, 0).sort_values(by=0,\n",
    "                                                                                                          ascending=False)[\n",
    "        'id']\n",
    "\n",
    "\n",
    "def predict_multiple(users: list[int], number: int) -> pd.Series:\n",
    "    \"\"\"\n",
    "    Recommend `number` of tracks to users of ID's `users`.\n",
    "        \n",
    "    Args:\n",
    "        users (list[int]): user ID's (at least two)\n",
    "        number (int): number of recommendations to make\n",
    "        \n",
    "    Returns:\n",
    "         pd.Series: Predicted tracks. The series is indexed with track ID's (NOTE - different from `predict_single`), series values are mean ranks of items across single-user prediction for all users. The series is ordered by mean ranks.\n",
    "         \n",
    "    Raises:\n",
    "        ValueError: If 0 or 1 user ID supplied.\n",
    "    \"\"\"\n",
    "    if len(users) <= 1:\n",
    "        raise ValueError(\"To make single-user predictions, use `predict_single`\")\n",
    "\n",
    "    predictions = [predict_single(u, tracks.size) for u in users]\n",
    "    common = frozenset(predictions[0]).intersection(*(frozenset(p) for p in predictions[1:]))\n",
    "\n",
    "    indexed_by_rank = (s.reset_index(drop=True).loc[s.reset_index().id.isin(common)].sort_values() for s in predictions)\n",
    "\n",
    "    return pd.concat([pd.Series(s.index.values, index=s) for s in indexed_by_rank], axis=1).mean('columns').nsmallest(\n",
    "        number)\n",
    "\n",
    "\n",
    "predict_multiple([123, 124, 125, 126, 127, 128], 20)\n"
   ],
   "metadata": {
    "collapsed": false,
    "ExecuteTime": {
     "end_time": "2024-01-13T23:36:01.358330645Z",
     "start_time": "2024-01-13T23:36:00.988613959Z"
    }
   },
   "id": "c8b7f0a22831c3b5"
  },
  {
   "cell_type": "markdown",
   "source": [
    "Make some test predictions for single users. They should not overlap too much."
   ],
   "metadata": {
    "collapsed": false
   },
   "id": "2e65eac865cd850f"
  },
  {
   "cell_type": "code",
   "execution_count": 77,
   "outputs": [
    {
     "name": "stdout",
     "output_type": "stream",
     "text": [
      "11573    0ofHAoxe9vBkTCp2UQIavz\n",
      "899      2ZRo7axmMPeSVUvDbGkJah\n",
      "10194    7MiZjKawmXTsTNePyTfPyL\n",
      "11107    7uoFMmxln0GPXQ0AcCBXRq\n",
      "1628     3CRDbSIZ4r5MsZ0YwxuEkn\n",
      "                  ...          \n",
      "8591     0I3q5fE6wg7LIfHGngUTnV\n",
      "17418    0JfAMd3xTqm7ZYhBmQjYzt\n",
      "10935    275a9yzwGB6ncAW4SxY7q3\n",
      "17407    5AciRBytk1UW4xQB0SQStJ\n",
      "8932     6N7JMoaUYgo4pwPgsnSobr\n",
      "Name: id, Length: 2000, dtype: object\n",
      "10708    3YSfGJNDtF8KrHlwCAaVns\n",
      "225      6i7IXg8j7ZngiEOgBYjkhw\n",
      "19946    0h4rVZcOiSaL9b5mT1A2gq\n",
      "9563     0RdUX4WE0fO30VnlUbDVL6\n",
      "6651     7LHZ7HA45ezKcdN8sBrBuS\n",
      "                  ...          \n",
      "15276    4pXyK9GW7fuT645U0DLYYF\n",
      "993      1AJ5F0FMTC3yFU3ocjy1gE\n",
      "2107     55yvzYuvJYG2RUEnMK78tr\n",
      "8674     0vz64VTiPPBpcmla0QvAI9\n",
      "2938     77NNZQSqzLNqh2A9JhLRkg\n",
      "Name: id, Length: 2000, dtype: object\n",
      "{'1M3xrSPzPcKkCnXGHFPKaw', '2HHtWyy5CgaQbC7XSoOb0e', '2WSWm0zlL3CJRACHS5KXbB', '0kzw2tRyuL9rzipi5ntlIy', '23NPGXlSaIqWzvxIRhM2oG', '0vI64OhYqTo6KYswDlx0yT', '1TKTiKp3zbNgrBH2IwSwIx', '4DmBwHmp0FVO6NJ9QfH2w2', '1chxAv59LZcOE5FyrlUze2', '5FVd6KXrgO9B3JPmC8OPst', '2t0tVmiSkHWvKgojpjO21Z', '6b6uLZsoGhObYexIxnRbIb', '2fAYTT9kcUm8tnUrhD80sC', '0hLQWHwB6GZlkASpS7DkdW', '2B1fuWoWaYnCXbjYp1gXg5', '4gMgiXfqyzZLMhsksGmbQV', '11zf7m4vw9Ze7cer9Nyhk1', '5UJmwdqGP7RONuVzYnHjUp', '0SUClY63fA1awioMFtMYeE', '1udmPvJoBnqitbeYKKc9mc', '0ucyXpQG7xL8ipoyU0Ts3A', '1VJBQdDrOblSLmoZMeh1xh', '7Gx2q0ueNwvDp2BOZYGCMO', '5hAAcyKfcw8nJ2Kgx3FXd0', '1PhLYngBKbeDtdmDzCg3Pb', '20dt11ZTAtjsfcNJLP9u30', '2rxePraWVAXyZRHVW1ICss', '3U6sjwor2GyL9gwiolSi1Q', '5W2wzbDu4os7SbAGVzbYfY', '6fybp4N6eW3bsFAvARxyVe', '0cajnv3diwVnb2KXv7hLVs', '3EYLxYSyCO4fsIIz79rW9z', '2dlEdDEmuQsrcXaAL3Znzi', '3PfBnnkOf0LbCw2jixUCQG', '0kp728Knw5PYvU3QzMZ0yJ', '3h04eZTnmFLRMjZajbrp2R', '5q4L6JyoEY3VN5pOSbgjS8', '2jmBc2dTGXU9quHYTkpxSL', '4OROzZUy6gOWN4UGQVaZMF', '2AmEv442DGwSxMGZ9XEvBA', '3dubLey4QOmUjJCyiGPEMo', '73TIedeyEOxFQ56TTmOExK', '4QB2cdh2v5zeRD1khGF9A5', '3w2GGz0HjIu9OcWXINRFJR', '6gXrEUzibufX9xYPk3HD5p', '5YjKdeES9QRJ8NmF4Xc8pV', '7tFiyTwD0nx5a1eklYtX2J', '6N1sNzq3CArC1pMSaZTxaT', '0Q3GpBYKy5Mx97TNBJVibl', '4PvPoT47fABUMGfkMcJOWv', '1ju7EsSGvRybSNEsRvc7qY', '0i5spxZKedPA2TgGuvJ3AL', '7ptv3yXdBWwzO7rVA62rwy', '60ifqqPhbselSwXyGrGyMK', '7wclPheMJAUKn2njmO2s3A', '7j56HrjR9cGzvekvZY3Faz', '5IX4TbIR5mMHGE4wiWwKW0', '6DUKQUhWqUySYngLXLNwP2', '3jnQcyntqZ5Btpal1Msikp', '5g6o2ZEegnAI3MczbwZaTZ', '3ESohZocQvwRDzedmk4fYi', '7FdUvDkaE24o3FPIWTvzv2', '45s88Xopo6KvHc0PQ05aGg', '3OuMIIFP5TxM8tLXMWYPGV', '7o67roCVsFiCt7Cf0ZLOJq', '3lh3iiiJeiBXHSZw6u0kh6', '2TNJMzB30nuEpww7EOx75L', '7tcaQvBbSpNN0P2UF6WXxB', '5H8xFHau0x3PI1CssO6EaX', '0870QNicMawQH2cnzBVZ3P', '1VN2vWSkSmMKOhxr8lHzSx', '0YMzPd9mYx4txOuCnhYUGU', '3MLtopC0uho28PxZN7Zecy', '6s30tYL0EJbROLV4Yzsw0D', '5a2hIQWInPjqkkFiUEgxoX', '03EnOL1O9EKi9CFNmPyrCm', '6UGHk2cmbDC1oidVjXcCKo', '4OYRJv1tcOEPe38Fwc7y1m', '1kaB0BvQEmwHeAzNh4jziT', '0pqnGHJpmpxLKifKRmU6WP', '6GtX0jaNL8IjVQfrDBx81z', '5e3isD5st7PGYzSJuoRSIV', '6wNwHBUjsessjRioNVFbaO', '6rfGPGghQL7SJmZPXprXIc', '0YpmF3aZXOIuyi8itZbpkp', '2MuWTIM3b0YEAskbeeFE1i', '3Dfy8YIxq89i84t108TvMi', '5nN1jGnCadYk1jYm6oV5zN', '3ex9yveBIpssnR6sVvhwiR', '7ny2ATvjtKszCpLpfsGnVQ', '5nekfiTN45vlxG0eNJQQye', '6x8C7SBqQukeaeh9etWdZY', '0h4rVZcOiSaL9b5mT1A2gq', '1vmOWok3n7VAWh08KpEB4y', '34x6hEJgGAOQvmlMql5Ige', '2dXsILW8gzkosqleHAvl0v', '7safX55XidhznxK5eDdDm5', '13TrgZ4RqtjXd8w9wAuwxE', '2SrVGpjv0mqCR6j9EZPSm2', '2oSpQ7QtIKTNFfA08Cy0ku', '4xwe9DR2DlFuG9PdA2LWHF', '0vz4iTEfsp2lunsRJeMzjj', '0xpBr84T3FTm9j4D1MdPtk', '1J9ylqJ29VS6yFhIkkNBzL', '1lM1ZHTvfKi5CMRjsZ4Sg9', '2bku1YWarHpKlxVC2FB9dH', '2CzKVfVA9U7OKbIpAVPZOk', '2Y6uY65ZwKl9WbVOvKyZg6', '0W35nxtHtFlseSojmygEsf', '4rWbao8Vde6ioqH2jZI4ee', '1jzZZsfzxsebFa6KpWXaAr', '2GpBrAoCwt48fxjgjlzMd4', '4QySZtWymRGNgrwxZOODKF', '0SPBrxOUEMIKugXR4bFhxs', '3NMU74T6ZvZQ8KJayrCWPo', '5kLg9cdm7LayfkyaxVZKdD', '3ieDOGcOqVxScs2VZBzidt', '5PntSbMHC1ud6Vvl8x56qd', '31dqpLUModJWNbxrXu6TWd', '05RgAMGypEvqhNs5hPCbMS', '2ONmdpt36V0U35Qx5DO0y9', '7yDrKl1J4VWNbR4aLU3qJ7', '3CI1JP2ooMBSFjIy1u6Yrc', '5O8L4I2S4izFGDjvP7xAKv', '5BNJqYUN3FI4krR901tdLd', '3e0yTP5trHBBVvV32jwXqF', '3DkHNCA4QRBQgTzF2T18hm', '3VPcxdwwo9TcjAOYZa5ZrP', '0fCWbJq1hagsRgShtn6gIU', '6p8eFfPw3nQkf37aT3AkmK', '2AKOOhml62GZNFWDN7VqzT', '5GuZz08qie5efPtqsQFsdT', '6fHS0zmDdDKktklfaqojaF', '086myS9r57YsLbJpU0TgK9', '1V15l05snHYHYVxerjMFGo', '0xIZPPBfLqQEAj1BLmGrNc', '5yAu4njFSdM47dfsTkQPZ2', '3lpDrxUkr0tIe1kmJvdK7d', '0s1aSsYlLIEiy16LjFWbdp', '3wFGRek61NIF330UwJCI52', '40riOy7x9W7GXjyGp4pjAv', '0Pie5DFAHHxpkONFUsAI6s', '6Xd3sEwne19qbUzxOrUl40', '2gTnu5RZNVFVnWdjLnyUA5', '49rcSzMayJhIwGf0CJCaxJ', '6z3JD6IqVvu6TUBtCfQPbe', '3g2gQMeeQAEPztiQKMlGSl', '1rHMg7t3LICgfTl2OsDn46', '254bXAqt3zP6P50BdQvEsq', '19Ym5Sg0YyOCa6ao21bdoG', '23dTQ4fjLrPPbYHamkJDzo', '17lu4tymfnhmcIDlzBbtAb', '0WhEz33qBgz9AFT5D0W2gE', '4OHVCeQYPncEwZOtNAJZZx', '0Cr3z2gm7TXQ17Yq1zjV4I', '600s08VdbjiyAjDGDjYSFI', '5MLLuLqPdUlx8bfKtdkLwO', '2PWldJzHn86WNueLuH7bV0', '1OX2eJLfU0SHLzcy9sv9Vj', '3OltYYcLZUhvho5QoRbUNr', '3ixzqclumr9K5ZY8xcdo0O', '06EC9TibZK2mACTZ2usK1h', '5rGD8FFgHw74cp3RPhucyg', '4PDNOmMej8sc1mkiZfvW9w', '3m4OWJ3Ovl0pXwT79bw94N', '7tJQ4Ekp2vN3NlI3vJJW3v', '0TaT50ZZxT4ytZxuqkE3A9', '777NOXupZkFdg8zlPMoVqc', '5G4W4UzaJIpYl0ar95Cs17', '7N3PAbqfTjSEU1edb2tY8j', '3JjZq20Kv6UphyyirAaY9A', '48Wu7j5ANO17SOpjb3oVPC', '6q9CRTF8dyABIcKj7bCJwf', '626wlz3bovvpH06PYht5R0', '3P2XAL8UpPBM3nfvuEjHHE', '2c1ccPqUnFYD8W7LY65bKG', '0TI8TP4FitVPoEHPTySx48', '2eDdFHgqNJltzlvlZFVDWd', '469rBLYJUZHMJLtq2Wch3h', '6joOV9D7y7TzWQprwrInUh', '5XE8c07vbpQBUriwybOHtd', '1TvNcWY7WwPLQINhimxycA', '7Hx2EA4wGaxtsiZCVVLV1i', '5l9c6bJmzvftumhz4TMPgk', '05uGBKRCuePsf43Hfm0JwX', '3bE5slaVEfaDreqARl6k4M', '5YBRbCkuzxkxA3e5BfetdI', '3WuG6JfzTUHTKwvvKT51zI', '4oXg7xT4ksBxHTx8PcmSXw', '1XTGyfJeMiZXrZ1W3NolcB', '0YuCATlVwxG5Mq8lN2Omro', '4bHsxqR3GMrXTxEPLuK5ue', '1sR4aKaHpLrc9u7g4ii90U', '3sqNXrDvCy4nid6XbaA2Cg', '4ObCns6nM6tShx5a5tHiGC', '6C4LXC9UFH1IKiHYOp0BiJ', '4uTTd2SlalZoG0zVgI63kH', '31DvHUCSioX0JD7B4kZMJ9', '2KKLuHN6zDxVnWtFKO8vo4', '1I7zHEdDx8Ny5RxzYPqsU2', '3GwIz1pLK6M2M0qp032McP', '6QWniaitONimLqysaA6cwe', '4kRMsLX7bJqjIfK44qJ9h6', '5hkdfA87RZvNaxl6XiveOA', '54TaGh2JKs1pO9daXNXI5q', '5clz8BOBulxx7q2yHxqOCk', '0Nk7bSn0MItonkR0GNs3mj', '0y1eaipbcP50xp6WLgJtuv', '577MNC3o3L0lNIzx9abqOk', '0rDPQzWWmLTv9deHn4ulG7', '37Tmv4NnfQeb0ZgUC4fOJj', '1aXFBWnnPFRKUN7vuIA5h0', '0ZQmpf5gk4k5VMopcAtyAc', '3KhF2YiNpJvGpfiCW45R6D', '5MMnwYs0hIxkENRsbkWJ2G', '7dwwHfhF2FKhnKHF5QcRkn', '3fVSMbeq8tY3G85yxcJwRU', '2ctvdKmETyOzPb2GiJJT53', '4PRGxHpCpF2yoOHYKQIEwD', '5F6rwEF15hN1jnhNk2YQHn', '77eRSoQbDt4qHlAhUqovmy', '4mcZYzoGwPRDdhWVlygiHf', '685sEpLJe80Zzuxz3siOVT', '27WqFiOFm2u1hax2ksdyqK', '2uEz2uLMNj9ySHMkwuCDo5', '0gXMYs6RDg5muWWoi2q3mb', '6FRQGRdhueJGTKiYnirDNy', '6XUHsYE38CEbYunT983O9G', '439xDVYKceMIrSkrzgYAoX', '4xHWH1jwV5j4mBYRhxPbwZ', '5TDZyWDfbQFQJabbPwImVY', '0GGxVTb0UwDwdaKNjBdCn3', '61JDaStnXY3vbaEjliB5WA', '7pmNNEJcBcODkrPHEIf7Cy', '3IKJNHnVZ2bXGjAFBJiUYo', '6pxWv6GV35VGmcPf5dh6CH', '0ofHAoxe9vBkTCp2UQIavz', '0qyAgwtnMU6AOszUw0DWTe', '6BnY0YochAURSXSR3d5N7O', '6zGDIDjfDkPyNxrEERO3XG', '0M1A9wInEHilyWkh4I8tWo', '1kDkaFlmkdEZiVUogaP9OZ', '1OxcIUqVmVYxT6427tbhDW', '62oNfnQqObaqARM0DTibAL', '2PFIZFcGry0po3ZfRZkzKc', '6i7IXg8j7ZngiEOgBYjkhw', '6HhVHZTzhjvS5erfCm4roh', '5KXdflxoxCcE9m5F2QoAUY', '5axOkQnmQmwtjr4bv1Xt7i', '4tGqkpkHNxSovRoJrajH4n', '21cp8L9Pei4AgysZVihjSv', '3tISv448Ikxvpq2ZrFyGG2', '7uQftgqxvkdl9GLE1Q3OOQ', '0SlpFHdk4UHBDzCEoXzy14', '7GkgOD5KQtoOFXYyY9mySX', '5emb8RDOZtpXlw6D0eEQbz', '4ccM2xBxicGigjLqt6A0YY', '6lJJcUjhsp0TJRuzUIPOYO', '1MkoCFGbhPQIDI5lRdAheQ', '57ebBLITHpRgRKGrlbxMZS', '0i1RTnH2Lj5gTDRU5wtyT2', '0DeLHrPqVdRayndn0Upt4i', '6QvgyZ8xG2OFGjZsH3s8d3', '7utRJ4BeYx85khzP3lKoBX', '2uuMXKKmdXrY2XxsqTsGp0', '6RqEJvpEzzlwj8g0wKG1ln', '423o3ZHIaBtGXyhF1uH41a', '0cG9ocYqYOIVtgiWTmTe3g', '0fqP1OK8UuiVK4WdsYCeY3', '7mc2TP4Vzuyw2vNf1bLW9f', '72ahyckBJfTigJCFCviVN7', '7dWfTdoKjUip1fAW7cdcIX', '6lEuFGrUqR9Yc6hSsHPnYP', '5iItYl3Q6wCnKVfpK1uNVf', '2VDg6h3Qr3F8UuFVInQxE6', '5hVepr5CHiTGtJY5bP4i5n', '61XspFITuKmAlYdQacNCbF', '0uLhNT7UIH3nZCCDZd3OBl', '1jJenVEjsXClGR4n4vJkMu', '3d9DChrdc6BOeFsbrZ3Is0', '3CRDbSIZ4r5MsZ0YwxuEkn', '6olS0TmHmsGr0hXtcBsiVM', '2tAeN2TKlQLOoSPXtARzBV', '4es5wreov9D4Y4fXLGZkuB', '0LAcM6I7ijW4VVW0aytl1t', '5x53pbGk6sbl1BGom19QQ5', '5WTPhYmwwojFP73O7p3Izi', '7AlhX0qiNi1zo2k9VPCSOg', '5y0YreEOnQiKFAnCrcFIXz', '6eRTxfsfpnddrm6wTtbjY8', '790YJcgHlN3SaosQCHlWzn', '7Ewz6bJ97vUqk5HdkvguFQ', '1WeoeHh0TSzsApyJ6Q8OOK', '12ucCd1VANzNJSCMQ5UMvO', '1jzDzZWeSDBg5fhNc3tczV', '1sdz3nsrkX4Yo42KLPrmYV', '71SvEDmsOwIWw1IozsZoMA', '3fOc9x06lKJBhz435mInlH', '3aZPzF7Sr0zy3K0EkKyEzk', '2qrL1YF9aA865b6SKhLZ78', '2AT8iROs4FQueDv2c8q2KE', '3AhXZa8sUQht0UEdBJgpGc', '2CbtdkBeW9Znt4vXTOafAl', '1iKVDnBTqmZErf96ldGrZe', '66YHxyGAUGjMBDdrDlWIMD', '3SPcBPzvbmWLl8NU5efx4W', '5mQYBoGU3BOAqiFq54b51i', '0MrZG1nTNQVzeSJKi6gFVF', '7MooGz4ZPE4bNxjFegR6Jx', '5KOHd90fkcnS37GkBUjsdW', '6IVlHRrjTKep5SS9kbcpTa', '0xJLcjd0gaZct43xG1UlXS', '72hpTHMLFrO4ErhSQl2FhZ', '5tDUVSIv2wEdOkHCOKHKeI', '7kjsCbksOZotNNHOvKsJJh', '3h9T2wLTy4FEKulLDkUjlX', '3GfOAdcoc3X5GPiiXmpBjK', '5LO0sJCkNMZYLYeGOvblLu', '7xa3dJQMzBVzsrZ81tNcHP', '0S3gpZzlT9Hb7CCSV2owX7', '0K8tOSa1LE1Ue784z6qwWZ', '4rmIfFUZhhi9sS5IYtpkXw', '5z4ljpMLi1LTF8UG9P53fH', '1Ovgu7X7u8zYoURU62ESmu', '7Ly4DzymgujObKg7wWVHZV', '36WNQJFVjYhDRZ6vJhYXEh', '7s4JCyY8YIZSsKvtwStBQ6', '0dPPUcfDnvSwK38lLgzKSd', '3IolN0Ae207i0Fr9IHuNbu', '2620eph8P9p5FQ1oQWcWuk', '0CrseEjTnYoB625tKoUowp', '0WTc2jsUgF4Y2MOz0aYvsR', '3GfGTJ2xzC0rqKgdjNJLOC', '3Xzog9enTvbsc0G7G9M58D', '2Y8BloifAHEn6GproQgPs7', '3Z2RsIdWm4BNbT0LsFBuoN', '7wqF3BU0ykeKch6BcNqGiT', '1rSo624QuuCteNxAzsU3SV', '0ute0e8bY0FmSEIqDfhrBJ', '573Z2Dty5epeNgKsgoDOlr'}\n",
      "340/2000 (17.00%) items overlaping\n"
     ]
    }
   ],
   "source": [
    "n = 2000\n",
    "r1 = predict_single(123, n)\n",
    "r2 = predict_single(124, n)\n",
    "print(r1)\n",
    "print(r2)\n",
    "overlap = set(r1).intersection(set(r2))\n",
    "print(overlap)\n",
    "print(f\"{len(overlap)}/{n} ({len(overlap) * 100 / n:.2f}%) items overlaping\")"
   ],
   "metadata": {
    "collapsed": false,
    "ExecuteTime": {
     "end_time": "2024-01-13T23:36:01.430923114Z",
     "start_time": "2024-01-13T23:36:01.343306550Z"
    }
   },
   "id": "422df5012da24b5f"
  },
  {
   "cell_type": "markdown",
   "source": [
    "Sanity check - make sure the model does not return the same items for every user."
   ],
   "metadata": {
    "collapsed": false
   },
   "id": "7e8f39b2fc6ae908"
  },
  {
   "cell_type": "code",
   "execution_count": 78,
   "outputs": [
    {
     "name": "stdout",
     "output_type": "stream",
     "text": [
      "Sanity check PASS\n"
     ]
    }
   ],
   "source": [
    "r1_ = predict_single(123, 10)\n",
    "r2_ = predict_single(124, 10)\n",
    "assert len(set(r1_).intersection(set(r2_))) <= 1\n",
    "print(\"Sanity check PASS\")"
   ],
   "metadata": {
    "collapsed": false,
    "ExecuteTime": {
     "end_time": "2024-01-13T23:36:01.526374634Z",
     "start_time": "2024-01-13T23:36:01.433878299Z"
    }
   },
   "id": "22b09dbbc34b7e97"
  },
  {
   "cell_type": "markdown",
   "source": [
    "Evaluate the model on multi-user predictions. To compare results, measure the mean distance to center of gravity predicted items' latent representations generated by the model."
   ],
   "metadata": {
    "collapsed": false
   },
   "id": "6ced6579360dcc82"
  },
  {
   "cell_type": "code",
   "execution_count": 79,
   "outputs": [
    {
     "name": "stdout",
     "output_type": "stream",
     "text": [
      "id\n",
      "48s0QHJgmiNsth3WEO6U4M    1520.833333\n",
      "1NrJYpdAi7uosDRPmSYrsG    1592.500000\n",
      "5tajmvqHF6YW1iiUFzKpCB    1614.166667\n",
      "0dSchkfNB8SzYj8Bx7bcCW    1725.000000\n",
      "1NwDWbpg9dPH12xBd2ibrv    1734.166667\n",
      "0K1KOCeJBj3lpDYxEX9qP2    1776.000000\n",
      "0Dv4DdNy1xnhNcCd9YVoiH    1822.166667\n",
      "0s0JMUkb2WCxIJsRB3G7Hd    1825.166667\n",
      "6z5Yh7kOKeLjqIsNdokIpU    1832.000000\n",
      "7jJH8F3PHlNvxfqEAAfFDl    1832.166667\n",
      "4PFAm88FBkY7IFtvCaGctZ    1851.000000\n",
      "76hfruVvmfQbw0eYn1nmeC    1896.166667\n",
      "5xS9R5yNeVsB9shSR60eX3    1898.166667\n",
      "3cOO5IQtOYs7huq4Z6lYfr    1921.500000\n",
      "2xNCvvLwHconIojhe57JEv    1946.166667\n",
      "4HlFJV71xXKIGcU3kRyttv    1958.666667\n",
      "5NDUXbMwcnTQp66tI2zcdR    1968.166667\n",
      "4zP7ADsgJgHGY6VzxbNp1z    1993.833333\n",
      "2LlJLOK9DnYaOTr2yjqlYt    1996.000000\n",
      "6Vg3QC5UcpdAcGXgUqkjIX    2017.833333\n",
      "dtype: float64\n"
     ]
    },
    {
     "data": {
      "text/plain": "                 method  mean distance\n0    Predicted by model       0.804491\n1  Sampled from history       1.443467\n2       Entirely random       0.993599",
      "text/html": "<div>\n<style scoped>\n    .dataframe tbody tr th:only-of-type {\n        vertical-align: middle;\n    }\n\n    .dataframe tbody tr th {\n        vertical-align: top;\n    }\n\n    .dataframe thead th {\n        text-align: right;\n    }\n</style>\n<table border=\"1\" class=\"dataframe\">\n  <thead>\n    <tr style=\"text-align: right;\">\n      <th></th>\n      <th>method</th>\n      <th>mean distance</th>\n    </tr>\n  </thead>\n  <tbody>\n    <tr>\n      <th>0</th>\n      <td>Predicted by model</td>\n      <td>0.804491</td>\n    </tr>\n    <tr>\n      <th>1</th>\n      <td>Sampled from history</td>\n      <td>1.443467</td>\n    </tr>\n    <tr>\n      <th>2</th>\n      <td>Entirely random</td>\n      <td>0.993599</td>\n    </tr>\n  </tbody>\n</table>\n</div>"
     },
     "metadata": {},
     "output_type": "display_data"
    }
   ],
   "source": [
    "N = 20\n",
    "REPS = 100\n",
    "\n",
    "res_m = predict_multiple([123, 124, 125, 126, 127, 128], N)\n",
    "print(res_m)\n",
    "\n",
    "# LightFM maps provided track ID's to its own internal mapping (indices in interaction matrix). To find latent vector representations for predicted items, we first need to remap ID's to internal indices.\n",
    "(_, _, item_id_mapping, _) = dataset.mapping()\n",
    "\n",
    "\n",
    "def mean_dist_from_cluster_center(items_ids, model: LightFM):\n",
    "    item_indices = [item_id_mapping[i] for i in items_ids]\n",
    "    coords = np.take(model.get_item_representations()[1], item_indices, axis=0)\n",
    "    center = np.sum(coords, axis=0) / coords.shape[0]\n",
    "    return np.average(np.apply_along_axis(lambda x: np.linalg.norm(center - x, ord=2), 1, coords))\n",
    "\n",
    "\n",
    "dist_predicted = mean_dist_from_cluster_center(res_m.index, model_h)\n",
    "\n",
    "# draw random samples from all tracks\n",
    "random_items = tracks['id'].sample(N)\n",
    "dist_random = sum([mean_dist_from_cluster_center(\n",
    "    tracks['id'].sample(N),\n",
    "    model_h) for _ in range(REPS)]) / REPS\n",
    "\n",
    "# draw random samples from combined users' session history\n",
    "dist_sampled = sum([mean_dist_from_cluster_center(\n",
    "    pd.concat(\n",
    "        (d.loc[d['user_id'] == i] for i in (123, 124, 125, 126, 127, 128))\n",
    "    )['track_id'].sample(N),\n",
    "    model_h) for _ in range(REPS)]) / REPS\n",
    "\n",
    "display(pd.DataFrame(\n",
    "    data={\n",
    "        \"method\": [\"Predicted by model\", \"Sampled from history\", \"Entirely random\"],\n",
    "        \"mean distance\": [dist_predicted, dist_sampled, dist_random]\n",
    "    }\n",
    "))"
   ],
   "metadata": {
    "collapsed": false,
    "ExecuteTime": {
     "end_time": "2024-01-13T23:36:03.195858274Z",
     "start_time": "2024-01-13T23:36:01.559733731Z"
    }
   },
   "id": "b27b91f8373e0ad3"
  },
  {
   "cell_type": "markdown",
   "source": [
    "Note that entirely randomly chosen items may have better clustering, which is expected - they are spread relatively evenly throughout the entire space. What's important is whether model predictions are more clustered than random samples from users' session history - if so, the model managed to find a \"common ground\" between different music tastes."
   ],
   "metadata": {
    "collapsed": false
   },
   "id": "e1370ff8b1f9d2d6"
  },
  {
   "cell_type": "markdown",
   "source": [
    "# The same example using model classes"
   ],
   "metadata": {
    "collapsed": false
   },
   "id": "1b5fce7e4d8fc97a"
  },
  {
   "cell_type": "markdown",
   "source": [
    "Both models match `model.model_protocol.Recommender` protocol - it can be used for type checking."
   ],
   "metadata": {
    "collapsed": false
   },
   "id": "b0743fee1a49b4ee"
  },
  {
   "cell_type": "code",
   "execution_count": 80,
   "outputs": [],
   "source": [
    "from model.base_model import BaseModel\n",
    "from model.fm_model import FMModel\n",
    "\n",
    "base_model = BaseModel(\n",
    "    users_df=users,\n",
    "    tracks_df=tracks,\n",
    "    sessions_df=d\n",
    ")\n",
    "\n",
    "fm_model = FMModel(\n",
    "    users_df=users,\n",
    "    tracks_df=tracks,\n",
    "    sessions_df=d,\n",
    "    lightfm_model=model_h,\n",
    "    interactions=interactions,\n",
    "    item_features=item_features,\n",
    ")"
   ],
   "metadata": {
    "collapsed": false,
    "ExecuteTime": {
     "end_time": "2024-01-13T23:36:03.203479278Z",
     "start_time": "2024-01-13T23:36:03.200812697Z"
    }
   },
   "id": "82332e7bb2f28c66"
  },
  {
   "cell_type": "code",
   "execution_count": 81,
   "outputs": [
    {
     "data": {
      "text/plain": "0     4z8ssgZfs5TzKiO8HaGWXO\n1     6ZbiJneHD6Vxk2usBNydiY\n2     7AQjiRtIpr33P8UT98iveh\n3     66urf1ZXFy4qVKdNqcdbaZ\n4     7wBJfHzpfI3032CSD7CE2m\n5     3WxmlTZ85sCYFnuIXmUAEe\n6     3hLcmoGgN8BCqw58ZB6pxa\n7     6Vigp41BietH0WoFZ52JI5\n8     7pT6WSg4PCt4mr5ZFyUfsF\n9     3nnG7AM9QopHVPEuLX3Khk\n10    3liiZRlJxa8GeLUgWMoIeu\n11    5rk3EqsP1iHuQn5tkC1Qw0\n12    2K5W4FicHhKQ9xMSl1MZX2\n13    24vNw0Z0srb4zYXwrakw8E\n14    76Y0gxtTxN0FyDCYh5qYQj\n15    6WIDobgD5VTnanKuPaVJNW\n16    3BtvZuzvNbN7OIaUsWIM5M\n17    5UgsZiYk1lkEobuPHmRtWm\n18    4HCpIhzKelkCloifq32KUl\n19    3NcO4jGK1Opb5ea0mYLpxb\nName: track_id, dtype: object"
     },
     "execution_count": 81,
     "metadata": {},
     "output_type": "execute_result"
    }
   ],
   "source": [
    "base_model.predict_single(123, N)"
   ],
   "metadata": {
    "collapsed": false,
    "ExecuteTime": {
     "end_time": "2024-01-13T23:36:03.213150750Z",
     "start_time": "2024-01-13T23:36:03.203588440Z"
    }
   },
   "id": "be9209bb921e478a"
  },
  {
   "cell_type": "code",
   "execution_count": 82,
   "outputs": [
    {
     "data": {
      "text/plain": "0     0ofHAoxe9vBkTCp2UQIavz\n1     2ZRo7axmMPeSVUvDbGkJah\n2     7MiZjKawmXTsTNePyTfPyL\n3     7uoFMmxln0GPXQ0AcCBXRq\n4     3CRDbSIZ4r5MsZ0YwxuEkn\n5     086myS9r57YsLbJpU0TgK9\n6     0pqnGHJpmpxLKifKRmU6WP\n7     3jjujdWJ72nww5eGnfs2E7\n8     3UHPGOkUcE4hE7sqBF4Snt\n9     7FdUvDkaE24o3FPIWTvzv2\n10    54bFM56PmE4YLRnqpW6Tha\n11    20McUFi8KCIVdNDLrkTDuZ\n12    2QjOHCTQ1Jl3zawyYOpxh6\n13    7lPN2DXiMsVn7XUKtOW1CS\n14    0tgVpDi06FyKpA1z0VMD4v\n15    2b8fOow8UzyDFAE27YhOZM\n16    2dl5K2ScW7jYhAhuem06cm\n17    5RubKOuDoPn5Kj5TLVxSxY\n18    35mvY5S1H3J2QZyna3TFe0\n19    2MZQAvsA7aZDssppBLRxYp\nName: id, dtype: object"
     },
     "execution_count": 82,
     "metadata": {},
     "output_type": "execute_result"
    }
   ],
   "source": [
    "fm_model.predict_single(123, N)"
   ],
   "metadata": {
    "collapsed": false,
    "ExecuteTime": {
     "end_time": "2024-01-13T23:36:03.301058760Z",
     "start_time": "2024-01-13T23:36:03.213690565Z"
    }
   },
   "id": "b1aa34b6804674bd"
  },
  {
   "cell_type": "code",
   "execution_count": 83,
   "outputs": [
    {
     "data": {
      "text/plain": "0     3mTEYjm3kIm4YzJ5zxJZjs\n1     0RVFjx2HwbHcl5SCSADpFP\n2     1gL4vMhDV3RgJQmDuY5HK1\n3     5eMZ3EPIMGoWlrrVhxatdv\n4     2gqzkEF88vMclfRZEIOnQO\n5     5XeFesFbtLpXzIVDNQP22n\n6     1EuqRlDP9RuzeCRVcjr1PY\n7     1dl3vuXJS9anUXE7XnNP75\n8     225xvV8r1yKMHErSWivnow\n9     2w3ScXudq4aD3K5HFO5xvx\n10    73mHMjEAnw4UgF1MkVVlR4\n11    6RtzmszGXs32TRhv5zTKNM\n12    0JlLIcpqvp8XbO03z99k4o\n13    4jU7NPkz4HVnM4hweqNhI1\n14    1W1GpfPujmgp2vQqcpUhtU\n15    7pS2OVdIWviLpz5GOtJLzz\n16    38iU2jg98IZZEIJPrP7aWD\n17    2IVsRhKrx8hlQBOWy4qebo\n18    36AWdhZIGLUTkWpJDhe7va\n19    0QXHHEi0rHMwmkxK5pvc05\nName: track_id, dtype: object"
     },
     "metadata": {},
     "output_type": "display_data"
    }
   ],
   "source": [
    "res_base = base_model.predict_multiple((123, 124, 125, 126, 127, 128), N)\n",
    "display(res_base)"
   ],
   "metadata": {
    "collapsed": false,
    "ExecuteTime": {
     "end_time": "2024-01-13T23:36:03.304174853Z",
     "start_time": "2024-01-13T23:36:03.254774962Z"
    }
   },
   "id": "ed8b6b41e6ad3eef"
  },
  {
   "cell_type": "code",
   "execution_count": 84,
   "outputs": [
    {
     "data": {
      "text/plain": "0     48s0QHJgmiNsth3WEO6U4M\n1     1NrJYpdAi7uosDRPmSYrsG\n2     5tajmvqHF6YW1iiUFzKpCB\n3     0dSchkfNB8SzYj8Bx7bcCW\n4     1NwDWbpg9dPH12xBd2ibrv\n5     0K1KOCeJBj3lpDYxEX9qP2\n6     0Dv4DdNy1xnhNcCd9YVoiH\n7     0s0JMUkb2WCxIJsRB3G7Hd\n8     6z5Yh7kOKeLjqIsNdokIpU\n9     7jJH8F3PHlNvxfqEAAfFDl\n10    4PFAm88FBkY7IFtvCaGctZ\n11    76hfruVvmfQbw0eYn1nmeC\n12    5xS9R5yNeVsB9shSR60eX3\n13    3cOO5IQtOYs7huq4Z6lYfr\n14    2xNCvvLwHconIojhe57JEv\n15    4HlFJV71xXKIGcU3kRyttv\n16    5NDUXbMwcnTQp66tI2zcdR\n17    4zP7ADsgJgHGY6VzxbNp1z\n18    2LlJLOK9DnYaOTr2yjqlYt\n19    6Vg3QC5UcpdAcGXgUqkjIX\ndtype: object"
     },
     "metadata": {},
     "output_type": "display_data"
    }
   ],
   "source": [
    "res_fm = fm_model.predict_multiple((123, 124, 125, 126, 127, 128), N)\n",
    "display(res_fm)"
   ],
   "metadata": {
    "collapsed": false,
    "ExecuteTime": {
     "end_time": "2024-01-13T23:36:03.439750632Z",
     "start_time": "2024-01-13T23:36:03.254924546Z"
    }
   },
   "id": "2be614d9ba4f300a"
  },
  {
   "cell_type": "code",
   "execution_count": 85,
   "outputs": [
    {
     "data": {
      "text/plain": "                 method  mean distance\n0    Predicted by model       0.804491\n1  Sampled from history       1.456820",
      "text/html": "<div>\n<style scoped>\n    .dataframe tbody tr th:only-of-type {\n        vertical-align: middle;\n    }\n\n    .dataframe tbody tr th {\n        vertical-align: top;\n    }\n\n    .dataframe thead th {\n        text-align: right;\n    }\n</style>\n<table border=\"1\" class=\"dataframe\">\n  <thead>\n    <tr style=\"text-align: right;\">\n      <th></th>\n      <th>method</th>\n      <th>mean distance</th>\n    </tr>\n  </thead>\n  <tbody>\n    <tr>\n      <th>0</th>\n      <td>Predicted by model</td>\n      <td>0.804491</td>\n    </tr>\n    <tr>\n      <th>1</th>\n      <td>Sampled from history</td>\n      <td>1.456820</td>\n    </tr>\n  </tbody>\n</table>\n</div>"
     },
     "metadata": {},
     "output_type": "display_data"
    }
   ],
   "source": [
    "dist_predicted1 = mean_dist_from_cluster_center(res_fm, fm_model.model)\n",
    "dist_sampled1 = sum([mean_dist_from_cluster_center(\n",
    "    pd.concat(\n",
    "        (d.loc[d['user_id'] == i] for i in (123, 124, 125, 126, 127, 128))\n",
    "    )['track_id'].sample(N),\n",
    "    fm_model.model) for _ in range(REPS)]) / REPS\n",
    "\n",
    "display(pd.DataFrame(\n",
    "    data={\n",
    "        \"method\": [\"Predicted by model\", \"Sampled from history\"],\n",
    "        \"mean distance\": [dist_predicted1, dist_sampled1]\n",
    "    }\n",
    "))"
   ],
   "metadata": {
    "collapsed": false,
    "ExecuteTime": {
     "end_time": "2024-01-13T23:36:04.875415636Z",
     "start_time": "2024-01-13T23:36:03.443477199Z"
    }
   },
   "id": "26054953ce72c5a1"
  },
  {
   "cell_type": "markdown",
   "source": [
    "## Model serialization"
   ],
   "metadata": {
    "collapsed": false
   },
   "id": "e9174e76c505a153"
  },
  {
   "cell_type": "code",
   "execution_count": 86,
   "outputs": [],
   "source": [
    "import pickle\n",
    "\n",
    "with open(\"serialized/base_model.bin\", mode='wb') as fp:\n",
    "    fp.write(pickle.dumps(base_model))\n",
    "\n",
    "with open(\"serialized/advanced_model.bin\", mode='wb') as fp:\n",
    "    fp.write(pickle.dumps(fm_model))\n"
   ],
   "metadata": {
    "collapsed": false,
    "ExecuteTime": {
     "end_time": "2024-01-13T23:36:06.845973266Z",
     "start_time": "2024-01-13T23:36:04.876822449Z"
    }
   },
   "id": "ee1db2948fce96ad"
  },
  {
   "cell_type": "code",
   "execution_count": 87,
   "outputs": [
    {
     "data": {
      "text/plain": "0.80449116"
     },
     "execution_count": 87,
     "metadata": {},
     "output_type": "execute_result"
    }
   ],
   "source": [
    "mean_dist_from_cluster_center(res_fm, fm_model.model)"
   ],
   "metadata": {
    "collapsed": false,
    "ExecuteTime": {
     "end_time": "2024-01-13T23:36:06.857227555Z",
     "start_time": "2024-01-13T23:36:06.854131400Z"
    }
   },
   "id": "decf016597c510c"
  },
  {
   "cell_type": "code",
   "execution_count": 88,
   "outputs": [
    {
     "data": {
      "text/plain": "0.80449116"
     },
     "execution_count": 88,
     "metadata": {},
     "output_type": "execute_result"
    }
   ],
   "source": [
    "fm_model_deserialized = pickle.loads(pickle.dumps(fm_model))\n",
    "res_fm_deserialized = fm_model_deserialized.predict_multiple((123, 124, 125, 126, 127, 128), N)\n",
    "mean_dist_from_cluster_center(res_fm_deserialized, fm_model_deserialized.model)\n"
   ],
   "metadata": {
    "collapsed": false,
    "ExecuteTime": {
     "end_time": "2024-01-13T23:36:07.632849429Z",
     "start_time": "2024-01-13T23:36:06.858151663Z"
    }
   },
   "id": "54c110a737dbf62c"
  },
  {
   "cell_type": "code",
   "execution_count": 89,
   "outputs": [
    {
     "name": "stdout",
     "output_type": "stream",
     "text": [
      "0.9348289\n",
      "0.9348289\n"
     ]
    }
   ],
   "source": [
    "print(auc_score(fm_model.model, test,\n",
    "                train_interactions=train,\n",
    "                item_features=item_features,\n",
    "                num_threads=12).mean())\n",
    "print(auc_score(fm_model_deserialized.model, test,\n",
    "                train_interactions=train,\n",
    "                item_features=item_features,\n",
    "                num_threads=12).mean())"
   ],
   "metadata": {
    "collapsed": false,
    "ExecuteTime": {
     "end_time": "2024-01-13T23:36:19.187958493Z",
     "start_time": "2024-01-13T23:36:07.634668338Z"
    }
   },
   "id": "1db28fc288c7ea4f"
  }
 ],
 "metadata": {
  "kernelspec": {
   "display_name": "Python 3",
   "language": "python",
   "name": "python3"
  },
  "language_info": {
   "codemirror_mode": {
    "name": "ipython",
    "version": 2
   },
   "file_extension": ".py",
   "mimetype": "text/x-python",
   "name": "python",
   "nbconvert_exporter": "python",
   "pygments_lexer": "ipython2",
   "version": "2.7.6"
  }
 },
 "nbformat": 4,
 "nbformat_minor": 5
}
