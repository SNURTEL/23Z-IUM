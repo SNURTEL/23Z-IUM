{
 "cells": [
  {
   "cell_type": "markdown",
   "id": "683999f8689ef957",
   "metadata": {
    "collapsed": false
   },
   "source": [
    "Build dataset\n"
   ]
  },
  {
   "cell_type": "code",
   "execution_count": 4,
   "id": "7165c3cf00682744",
   "metadata": {
    "collapsed": false,
    "ExecuteTime": {
     "end_time": "2023-12-27T16:52:28.999835286Z",
     "start_time": "2023-12-27T16:52:28.150662569Z"
    }
   },
   "outputs": [],
   "source": [
    "from typing import TypedDict, Type, Any, Callable\n",
    "\n",
    "import warnings\n",
    "\n",
    "warnings.simplefilter(action='ignore', category=FutureWarning)\n",
    "\n",
    "import pandas as pd\n",
    "import numpy as np\n",
    "from matplotlib import pyplot as plt\n",
    "\n",
    "from spark.config import views\n",
    "from spark.create_session import create_session\n",
    "\n",
    "from IPython.display import display\n",
    "\n",
    "from fitter import Fitter, get_common_distributions"
   ]
  },
  {
   "cell_type": "code",
   "execution_count": 5,
   "id": "bb68bcb393edcbb9",
   "metadata": {
    "collapsed": false,
    "ExecuteTime": {
     "end_time": "2023-12-27T16:52:37.153992757Z",
     "start_time": "2023-12-27T16:52:28.999623484Z"
    }
   },
   "outputs": [
    {
     "name": "stderr",
     "output_type": "stream",
     "text": [
      "Setting default log level to \"WARN\".\n",
      "To adjust logging level use sc.setLogLevel(newLevel). For SparkR, use setLogLevel(newLevel).\n",
      "23/12/27 17:52:30 WARN NativeCodeLoader: Unable to load native-hadoop library for your platform... using builtin-java classes where applicable\n",
      "23/12/27 17:52:30 WARN Utils: Service 'SparkUI' could not bind on port 4040. Attempting port 4041.\n",
      "                                                                                \r"
     ]
    }
   ],
   "source": [
    "VIEWS = views(\"stolen\")\n",
    "spark = create_session()\n",
    "\n",
    "for view, file in VIEWS.items():\n",
    "    df = spark.read.json(file)\n",
    "    df.createOrReplaceTempView(view)"
   ]
  },
  {
   "cell_type": "code",
   "execution_count": 6,
   "id": "a2f9ee82c87bf517",
   "metadata": {
    "collapsed": false,
    "ExecuteTime": {
     "end_time": "2023-12-27T16:52:55.634828934Z",
     "start_time": "2023-12-27T16:52:37.156297605Z"
    }
   },
   "outputs": [
    {
     "name": "stderr",
     "output_type": "stream",
     "text": [
      "                                                                                \r"
     ]
    }
   ],
   "source": [
    "sessions_full = spark.sql(f\"SELECT * FROM sessions\").toPandas()\n",
    "sessions = spark.sql(f\"SELECT DISTINCT user_id, track_id FROM sessions WHERE event_type like 'LIKE' order by user_id, track_id\").toPandas()\n",
    "tracks = spark.sql(\n",
    "    f\"SELECT DISTINCT id, id_artist, acousticness, danceability, duration_ms, energy, instrumentalness, key, liveness, loudness, popularity, EXTRACT(year from `release_date`) as release_year, speechiness, tempo, valence FROM tracks \").toPandas()"
   ]
  },
  {
   "cell_type": "code",
   "execution_count": 7,
   "id": "a01cee0ebc7f0da",
   "metadata": {
    "collapsed": false,
    "ExecuteTime": {
     "end_time": "2023-12-27T16:52:55.668512531Z",
     "start_time": "2023-12-27T16:52:55.640708345Z"
    }
   },
   "outputs": [
    {
     "data": {
      "text/plain": "             event_type  session_id                   timestamp  \\\n0                  PLAY         124         2020-04-17T16:43:09   \n1                  LIKE         124  2020-04-17T16:43:55.237000   \n2                  PLAY         124  2020-04-17T16:45:44.733000   \n3                  SKIP         124  2020-04-17T16:48:26.836000   \n4         ADVERTISEMENT         124  2020-04-17T16:48:26.836000   \n...                 ...         ...                         ...   \n10191757           LIKE      269652  2022-12-19T01:03:08.170000   \n10191758           PLAY      269652  2022-12-19T01:05:49.228000   \n10191759           SKIP      269652  2022-12-19T01:07:15.125000   \n10191760           PLAY      269652  2022-12-19T01:07:15.125000   \n10191761           SKIP      269652  2022-12-19T01:08:38.034000   \n\n                        track_id  user_id  \n0         5EmL6IbswQGhfH9AX7ezWd      101  \n1         5EmL6IbswQGhfH9AX7ezWd      101  \n2         67ov0nL5eR7zdx0JfXDqro      101  \n3         67ov0nL5eR7zdx0JfXDqro      101  \n4                                     101  \n...                          ...      ...  \n10191757  0mW8oH0PZejrFsaNi1Ud8i    20100  \n10191758  3tOS5wMzYU5tiVztKKKHih    20100  \n10191759  3tOS5wMzYU5tiVztKKKHih    20100  \n10191760  5fWqmzQHxmfBVxf2k6JlX4    20100  \n10191761  5fWqmzQHxmfBVxf2k6JlX4    20100  \n\n[10191762 rows x 5 columns]",
      "text/html": "<div>\n<style scoped>\n    .dataframe tbody tr th:only-of-type {\n        vertical-align: middle;\n    }\n\n    .dataframe tbody tr th {\n        vertical-align: top;\n    }\n\n    .dataframe thead th {\n        text-align: right;\n    }\n</style>\n<table border=\"1\" class=\"dataframe\">\n  <thead>\n    <tr style=\"text-align: right;\">\n      <th></th>\n      <th>event_type</th>\n      <th>session_id</th>\n      <th>timestamp</th>\n      <th>track_id</th>\n      <th>user_id</th>\n    </tr>\n  </thead>\n  <tbody>\n    <tr>\n      <th>0</th>\n      <td>PLAY</td>\n      <td>124</td>\n      <td>2020-04-17T16:43:09</td>\n      <td>5EmL6IbswQGhfH9AX7ezWd</td>\n      <td>101</td>\n    </tr>\n    <tr>\n      <th>1</th>\n      <td>LIKE</td>\n      <td>124</td>\n      <td>2020-04-17T16:43:55.237000</td>\n      <td>5EmL6IbswQGhfH9AX7ezWd</td>\n      <td>101</td>\n    </tr>\n    <tr>\n      <th>2</th>\n      <td>PLAY</td>\n      <td>124</td>\n      <td>2020-04-17T16:45:44.733000</td>\n      <td>67ov0nL5eR7zdx0JfXDqro</td>\n      <td>101</td>\n    </tr>\n    <tr>\n      <th>3</th>\n      <td>SKIP</td>\n      <td>124</td>\n      <td>2020-04-17T16:48:26.836000</td>\n      <td>67ov0nL5eR7zdx0JfXDqro</td>\n      <td>101</td>\n    </tr>\n    <tr>\n      <th>4</th>\n      <td>ADVERTISEMENT</td>\n      <td>124</td>\n      <td>2020-04-17T16:48:26.836000</td>\n      <td></td>\n      <td>101</td>\n    </tr>\n    <tr>\n      <th>...</th>\n      <td>...</td>\n      <td>...</td>\n      <td>...</td>\n      <td>...</td>\n      <td>...</td>\n    </tr>\n    <tr>\n      <th>10191757</th>\n      <td>LIKE</td>\n      <td>269652</td>\n      <td>2022-12-19T01:03:08.170000</td>\n      <td>0mW8oH0PZejrFsaNi1Ud8i</td>\n      <td>20100</td>\n    </tr>\n    <tr>\n      <th>10191758</th>\n      <td>PLAY</td>\n      <td>269652</td>\n      <td>2022-12-19T01:05:49.228000</td>\n      <td>3tOS5wMzYU5tiVztKKKHih</td>\n      <td>20100</td>\n    </tr>\n    <tr>\n      <th>10191759</th>\n      <td>SKIP</td>\n      <td>269652</td>\n      <td>2022-12-19T01:07:15.125000</td>\n      <td>3tOS5wMzYU5tiVztKKKHih</td>\n      <td>20100</td>\n    </tr>\n    <tr>\n      <th>10191760</th>\n      <td>PLAY</td>\n      <td>269652</td>\n      <td>2022-12-19T01:07:15.125000</td>\n      <td>5fWqmzQHxmfBVxf2k6JlX4</td>\n      <td>20100</td>\n    </tr>\n    <tr>\n      <th>10191761</th>\n      <td>SKIP</td>\n      <td>269652</td>\n      <td>2022-12-19T01:08:38.034000</td>\n      <td>5fWqmzQHxmfBVxf2k6JlX4</td>\n      <td>20100</td>\n    </tr>\n  </tbody>\n</table>\n<p>10191762 rows × 5 columns</p>\n</div>"
     },
     "metadata": {},
     "output_type": "display_data"
    },
    {
     "data": {
      "text/plain": "         user_id                track_id\n0            101  08dATSKGXhGASauLBtCoO8\n1            101  09jtIFItoNKnC86zlzBZ29\n2            101  0FDjpGYB8iVHXZiWY7E4AM\n3            101  0KAaslGdPc5I6WxmKe3whe\n4            101  0NWPxcsf5vdjdiFUI8NgkP\n...          ...                     ...\n1402213    20100  7r1i1TZUGZQDxR5QHX4Mmx\n1402214    20100  7svwP4tC0UYJbCkiCo6Itz\n1402215    20100  7tVQg3ov9G0CnXTzqmZVsZ\n1402216    20100  7yC5SaMeZJfvFL6lICCulP\n1402217    20100  7yCtmJ43qJYUF9si7sxult\n\n[1402218 rows x 2 columns]",
      "text/html": "<div>\n<style scoped>\n    .dataframe tbody tr th:only-of-type {\n        vertical-align: middle;\n    }\n\n    .dataframe tbody tr th {\n        vertical-align: top;\n    }\n\n    .dataframe thead th {\n        text-align: right;\n    }\n</style>\n<table border=\"1\" class=\"dataframe\">\n  <thead>\n    <tr style=\"text-align: right;\">\n      <th></th>\n      <th>user_id</th>\n      <th>track_id</th>\n    </tr>\n  </thead>\n  <tbody>\n    <tr>\n      <th>0</th>\n      <td>101</td>\n      <td>08dATSKGXhGASauLBtCoO8</td>\n    </tr>\n    <tr>\n      <th>1</th>\n      <td>101</td>\n      <td>09jtIFItoNKnC86zlzBZ29</td>\n    </tr>\n    <tr>\n      <th>2</th>\n      <td>101</td>\n      <td>0FDjpGYB8iVHXZiWY7E4AM</td>\n    </tr>\n    <tr>\n      <th>3</th>\n      <td>101</td>\n      <td>0KAaslGdPc5I6WxmKe3whe</td>\n    </tr>\n    <tr>\n      <th>4</th>\n      <td>101</td>\n      <td>0NWPxcsf5vdjdiFUI8NgkP</td>\n    </tr>\n    <tr>\n      <th>...</th>\n      <td>...</td>\n      <td>...</td>\n    </tr>\n    <tr>\n      <th>1402213</th>\n      <td>20100</td>\n      <td>7r1i1TZUGZQDxR5QHX4Mmx</td>\n    </tr>\n    <tr>\n      <th>1402214</th>\n      <td>20100</td>\n      <td>7svwP4tC0UYJbCkiCo6Itz</td>\n    </tr>\n    <tr>\n      <th>1402215</th>\n      <td>20100</td>\n      <td>7tVQg3ov9G0CnXTzqmZVsZ</td>\n    </tr>\n    <tr>\n      <th>1402216</th>\n      <td>20100</td>\n      <td>7yC5SaMeZJfvFL6lICCulP</td>\n    </tr>\n    <tr>\n      <th>1402217</th>\n      <td>20100</td>\n      <td>7yCtmJ43qJYUF9si7sxult</td>\n    </tr>\n  </tbody>\n</table>\n<p>1402218 rows × 2 columns</p>\n</div>"
     },
     "metadata": {},
     "output_type": "display_data"
    },
    {
     "data": {
      "text/plain": "                            id               id_artist  acousticness  \\\n0       1d3KXNYriNnjSdBcTBeam8  3TVifQ5FPcIzzcYSUuJkp9      0.648000   \n1       79pNwy5Q95QfeGUyGNXx11  3BCJyAgxvYyeIjQyoBU8XL      0.237000   \n2       6OoGZwmtpHuG6FIVkGjfKW  25uGmqV7NJt81bSYlEMKB0      0.092400   \n3       6aLmvz0CPeCNHCXK2H5QIC  3vbKDsSS70ZX9D2OcvbZmS      0.303000   \n4       63tInNaRRc44t4vxCQ65JA  5ujwfg1AKpM7CGPZhHxs22      0.798000   \n...                        ...                     ...           ...   \n129643  7bwPQVVelqsawx9pA5gAwF  1owt6WYWjy94FlqNcj1x4U      0.907000   \n129644  3Ad4Vd2MLBBpApduPsydXk  32vWCbZh0xZ4o9gkz4PsEU      0.845000   \n129645  4z5eRXrNKYAhjtuJA49REb  5vngPClqofybhPERIqQMYd      0.423000   \n129646  0JiY190vktuhSGN6aqJdrt  1KCSPY1glIKqW2TotWuXOR      0.000329   \n129647  6iD0NYHG5tvHkCTZl3nJn3  70XauTb6oEJbXxFoH6wY9F      0.023800   \n\n        danceability  duration_ms  energy  instrumentalness  key  liveness  \\\n0              0.301       408000   0.268          0.000000    2    0.0638   \n1              0.462       336000   0.343          0.021400    9    0.0935   \n2              0.456       213467   0.932          0.004540    2    0.3220   \n3              0.611       343360   0.597          0.008200    0    0.0605   \n4              0.331       247987   0.293          0.000058    2    0.1030   \n...              ...          ...     ...               ...  ...       ...   \n129643         0.303       224160   0.292          0.841000    7    0.1760   \n129644         0.536       165533   0.274          0.000089    0    0.1180   \n129645         0.793       164133   0.544          0.000210    6    0.0830   \n129646         0.534       215160   0.870          0.000000   11    0.2410   \n129647         0.736       351173   0.450          0.322000    3    0.3680   \n\n        loudness  popularity  release_year  speechiness    tempo  valence  \n0        -17.810          13          1977       0.0638  177.468    0.275  \n1        -15.477          10          1983       0.0287  103.597    0.342  \n2         -7.088          15          1979       0.0804  185.954    0.603  \n3         -7.864          56          1999       0.0764  147.507    0.385  \n4        -14.062          12          1980       0.0288  105.270    0.231  \n...          ...         ...           ...          ...      ...      ...  \n129643   -10.707          18          2004       0.0308   64.724    0.277  \n129644   -10.758          40          1974       0.0281   86.915    0.462  \n129645   -11.928          49          1992       0.0265  105.537    0.942  \n129646    -3.078          78          2008       0.0425  126.019    0.462  \n129647   -11.232          36          2001       0.0398  128.768    0.931  \n\n[129648 rows x 15 columns]",
      "text/html": "<div>\n<style scoped>\n    .dataframe tbody tr th:only-of-type {\n        vertical-align: middle;\n    }\n\n    .dataframe tbody tr th {\n        vertical-align: top;\n    }\n\n    .dataframe thead th {\n        text-align: right;\n    }\n</style>\n<table border=\"1\" class=\"dataframe\">\n  <thead>\n    <tr style=\"text-align: right;\">\n      <th></th>\n      <th>id</th>\n      <th>id_artist</th>\n      <th>acousticness</th>\n      <th>danceability</th>\n      <th>duration_ms</th>\n      <th>energy</th>\n      <th>instrumentalness</th>\n      <th>key</th>\n      <th>liveness</th>\n      <th>loudness</th>\n      <th>popularity</th>\n      <th>release_year</th>\n      <th>speechiness</th>\n      <th>tempo</th>\n      <th>valence</th>\n    </tr>\n  </thead>\n  <tbody>\n    <tr>\n      <th>0</th>\n      <td>1d3KXNYriNnjSdBcTBeam8</td>\n      <td>3TVifQ5FPcIzzcYSUuJkp9</td>\n      <td>0.648000</td>\n      <td>0.301</td>\n      <td>408000</td>\n      <td>0.268</td>\n      <td>0.000000</td>\n      <td>2</td>\n      <td>0.0638</td>\n      <td>-17.810</td>\n      <td>13</td>\n      <td>1977</td>\n      <td>0.0638</td>\n      <td>177.468</td>\n      <td>0.275</td>\n    </tr>\n    <tr>\n      <th>1</th>\n      <td>79pNwy5Q95QfeGUyGNXx11</td>\n      <td>3BCJyAgxvYyeIjQyoBU8XL</td>\n      <td>0.237000</td>\n      <td>0.462</td>\n      <td>336000</td>\n      <td>0.343</td>\n      <td>0.021400</td>\n      <td>9</td>\n      <td>0.0935</td>\n      <td>-15.477</td>\n      <td>10</td>\n      <td>1983</td>\n      <td>0.0287</td>\n      <td>103.597</td>\n      <td>0.342</td>\n    </tr>\n    <tr>\n      <th>2</th>\n      <td>6OoGZwmtpHuG6FIVkGjfKW</td>\n      <td>25uGmqV7NJt81bSYlEMKB0</td>\n      <td>0.092400</td>\n      <td>0.456</td>\n      <td>213467</td>\n      <td>0.932</td>\n      <td>0.004540</td>\n      <td>2</td>\n      <td>0.3220</td>\n      <td>-7.088</td>\n      <td>15</td>\n      <td>1979</td>\n      <td>0.0804</td>\n      <td>185.954</td>\n      <td>0.603</td>\n    </tr>\n    <tr>\n      <th>3</th>\n      <td>6aLmvz0CPeCNHCXK2H5QIC</td>\n      <td>3vbKDsSS70ZX9D2OcvbZmS</td>\n      <td>0.303000</td>\n      <td>0.611</td>\n      <td>343360</td>\n      <td>0.597</td>\n      <td>0.008200</td>\n      <td>0</td>\n      <td>0.0605</td>\n      <td>-7.864</td>\n      <td>56</td>\n      <td>1999</td>\n      <td>0.0764</td>\n      <td>147.507</td>\n      <td>0.385</td>\n    </tr>\n    <tr>\n      <th>4</th>\n      <td>63tInNaRRc44t4vxCQ65JA</td>\n      <td>5ujwfg1AKpM7CGPZhHxs22</td>\n      <td>0.798000</td>\n      <td>0.331</td>\n      <td>247987</td>\n      <td>0.293</td>\n      <td>0.000058</td>\n      <td>2</td>\n      <td>0.1030</td>\n      <td>-14.062</td>\n      <td>12</td>\n      <td>1980</td>\n      <td>0.0288</td>\n      <td>105.270</td>\n      <td>0.231</td>\n    </tr>\n    <tr>\n      <th>...</th>\n      <td>...</td>\n      <td>...</td>\n      <td>...</td>\n      <td>...</td>\n      <td>...</td>\n      <td>...</td>\n      <td>...</td>\n      <td>...</td>\n      <td>...</td>\n      <td>...</td>\n      <td>...</td>\n      <td>...</td>\n      <td>...</td>\n      <td>...</td>\n      <td>...</td>\n    </tr>\n    <tr>\n      <th>129643</th>\n      <td>7bwPQVVelqsawx9pA5gAwF</td>\n      <td>1owt6WYWjy94FlqNcj1x4U</td>\n      <td>0.907000</td>\n      <td>0.303</td>\n      <td>224160</td>\n      <td>0.292</td>\n      <td>0.841000</td>\n      <td>7</td>\n      <td>0.1760</td>\n      <td>-10.707</td>\n      <td>18</td>\n      <td>2004</td>\n      <td>0.0308</td>\n      <td>64.724</td>\n      <td>0.277</td>\n    </tr>\n    <tr>\n      <th>129644</th>\n      <td>3Ad4Vd2MLBBpApduPsydXk</td>\n      <td>32vWCbZh0xZ4o9gkz4PsEU</td>\n      <td>0.845000</td>\n      <td>0.536</td>\n      <td>165533</td>\n      <td>0.274</td>\n      <td>0.000089</td>\n      <td>0</td>\n      <td>0.1180</td>\n      <td>-10.758</td>\n      <td>40</td>\n      <td>1974</td>\n      <td>0.0281</td>\n      <td>86.915</td>\n      <td>0.462</td>\n    </tr>\n    <tr>\n      <th>129645</th>\n      <td>4z5eRXrNKYAhjtuJA49REb</td>\n      <td>5vngPClqofybhPERIqQMYd</td>\n      <td>0.423000</td>\n      <td>0.793</td>\n      <td>164133</td>\n      <td>0.544</td>\n      <td>0.000210</td>\n      <td>6</td>\n      <td>0.0830</td>\n      <td>-11.928</td>\n      <td>49</td>\n      <td>1992</td>\n      <td>0.0265</td>\n      <td>105.537</td>\n      <td>0.942</td>\n    </tr>\n    <tr>\n      <th>129646</th>\n      <td>0JiY190vktuhSGN6aqJdrt</td>\n      <td>1KCSPY1glIKqW2TotWuXOR</td>\n      <td>0.000329</td>\n      <td>0.534</td>\n      <td>215160</td>\n      <td>0.870</td>\n      <td>0.000000</td>\n      <td>11</td>\n      <td>0.2410</td>\n      <td>-3.078</td>\n      <td>78</td>\n      <td>2008</td>\n      <td>0.0425</td>\n      <td>126.019</td>\n      <td>0.462</td>\n    </tr>\n    <tr>\n      <th>129647</th>\n      <td>6iD0NYHG5tvHkCTZl3nJn3</td>\n      <td>70XauTb6oEJbXxFoH6wY9F</td>\n      <td>0.023800</td>\n      <td>0.736</td>\n      <td>351173</td>\n      <td>0.450</td>\n      <td>0.322000</td>\n      <td>3</td>\n      <td>0.3680</td>\n      <td>-11.232</td>\n      <td>36</td>\n      <td>2001</td>\n      <td>0.0398</td>\n      <td>128.768</td>\n      <td>0.931</td>\n    </tr>\n  </tbody>\n</table>\n<p>129648 rows × 15 columns</p>\n</div>"
     },
     "metadata": {},
     "output_type": "display_data"
    }
   ],
   "source": [
    "display(sessions_full)\n",
    "display(sessions)\n",
    "display(tracks)"
   ]
  },
  {
   "cell_type": "code",
   "execution_count": 8,
   "id": "4eb93be217eeeadd",
   "metadata": {
    "collapsed": false,
    "ExecuteTime": {
     "end_time": "2023-12-27T16:53:02.347064528Z",
     "start_time": "2023-12-27T16:52:55.666971829Z"
    }
   },
   "outputs": [
    {
     "name": "stderr",
     "output_type": "stream",
     "text": [
      "                                                                                \r"
     ]
    },
    {
     "data": {
      "text/plain": "         user_id                track_id  weight  acousticness  danceability  \\\n0            101  08dATSKGXhGASauLBtCoO8       1      0.882000         0.799   \n1            101  09jtIFItoNKnC86zlzBZ29       1      0.000480         0.509   \n2            101  0FDjpGYB8iVHXZiWY7E4AM       1      0.011000         0.503   \n3            101  0KAaslGdPc5I6WxmKe3whe       1      0.000101         0.169   \n4            101  0NWPxcsf5vdjdiFUI8NgkP       1      0.006030         0.346   \n...          ...                     ...     ...           ...           ...   \n1402213    20100  7r1i1TZUGZQDxR5QHX4Mmx       1      0.002940         0.570   \n1402214    20100  7svwP4tC0UYJbCkiCo6Itz       1      0.062300         0.457   \n1402215    20100  7tVQg3ov9G0CnXTzqmZVsZ       1      0.242000         0.247   \n1402216    20100  7yC5SaMeZJfvFL6lICCulP       1      0.150000         0.417   \n1402217    20100  7yCtmJ43qJYUF9si7sxult       1      0.704000         0.236   \n\n         duration_ms  energy  instrumentalness  key  liveness  loudness  \\\n0             166693   0.559          0.381000    0    0.0996    -4.033   \n1             254840   0.796          0.460000    2    0.1610   -11.728   \n2             214107   0.864          0.003820    5    0.5990    -6.829   \n3             314560   0.949          0.618000    7    0.2970   -10.596   \n4             210160   0.768          0.380000    9    0.0244    -5.695   \n...              ...     ...               ...  ...       ...       ...   \n1402213       329979   0.777          0.181000    7    0.0477    -6.537   \n1402214       213000   0.915          0.000003    3    0.0778    -5.876   \n1402215       671760   0.742          0.370000    2    0.9680   -12.678   \n1402216       176000   0.667          0.000000    4    0.2170    -6.404   \n1402217       222427   0.376          0.000838    2    0.0606   -10.897   \n\n         popularity  release_year  speechiness    tempo  valence  \n0                 1          1944       0.0353  106.396    0.696  \n1                34          1983       0.0359  143.664    0.652  \n2                34          1978       0.1620  154.979    0.551  \n3                41          1990       0.1140  159.678    0.147  \n4                72          1967       0.0377  169.492    0.532  \n...             ...           ...          ...      ...      ...  \n1402213          47          1987       0.0270  107.982    0.487  \n1402214          19          1976       0.0808  126.695    0.446  \n1402215          24          1978       0.0571  143.533    0.466  \n1402216          21          1978       0.0367  131.796    0.556  \n1402217          32          1967       0.0341  125.903    0.342  \n\n[1402218 rows x 16 columns]",
      "text/html": "<div>\n<style scoped>\n    .dataframe tbody tr th:only-of-type {\n        vertical-align: middle;\n    }\n\n    .dataframe tbody tr th {\n        vertical-align: top;\n    }\n\n    .dataframe thead th {\n        text-align: right;\n    }\n</style>\n<table border=\"1\" class=\"dataframe\">\n  <thead>\n    <tr style=\"text-align: right;\">\n      <th></th>\n      <th>user_id</th>\n      <th>track_id</th>\n      <th>weight</th>\n      <th>acousticness</th>\n      <th>danceability</th>\n      <th>duration_ms</th>\n      <th>energy</th>\n      <th>instrumentalness</th>\n      <th>key</th>\n      <th>liveness</th>\n      <th>loudness</th>\n      <th>popularity</th>\n      <th>release_year</th>\n      <th>speechiness</th>\n      <th>tempo</th>\n      <th>valence</th>\n    </tr>\n  </thead>\n  <tbody>\n    <tr>\n      <th>0</th>\n      <td>101</td>\n      <td>08dATSKGXhGASauLBtCoO8</td>\n      <td>1</td>\n      <td>0.882000</td>\n      <td>0.799</td>\n      <td>166693</td>\n      <td>0.559</td>\n      <td>0.381000</td>\n      <td>0</td>\n      <td>0.0996</td>\n      <td>-4.033</td>\n      <td>1</td>\n      <td>1944</td>\n      <td>0.0353</td>\n      <td>106.396</td>\n      <td>0.696</td>\n    </tr>\n    <tr>\n      <th>1</th>\n      <td>101</td>\n      <td>09jtIFItoNKnC86zlzBZ29</td>\n      <td>1</td>\n      <td>0.000480</td>\n      <td>0.509</td>\n      <td>254840</td>\n      <td>0.796</td>\n      <td>0.460000</td>\n      <td>2</td>\n      <td>0.1610</td>\n      <td>-11.728</td>\n      <td>34</td>\n      <td>1983</td>\n      <td>0.0359</td>\n      <td>143.664</td>\n      <td>0.652</td>\n    </tr>\n    <tr>\n      <th>2</th>\n      <td>101</td>\n      <td>0FDjpGYB8iVHXZiWY7E4AM</td>\n      <td>1</td>\n      <td>0.011000</td>\n      <td>0.503</td>\n      <td>214107</td>\n      <td>0.864</td>\n      <td>0.003820</td>\n      <td>5</td>\n      <td>0.5990</td>\n      <td>-6.829</td>\n      <td>34</td>\n      <td>1978</td>\n      <td>0.1620</td>\n      <td>154.979</td>\n      <td>0.551</td>\n    </tr>\n    <tr>\n      <th>3</th>\n      <td>101</td>\n      <td>0KAaslGdPc5I6WxmKe3whe</td>\n      <td>1</td>\n      <td>0.000101</td>\n      <td>0.169</td>\n      <td>314560</td>\n      <td>0.949</td>\n      <td>0.618000</td>\n      <td>7</td>\n      <td>0.2970</td>\n      <td>-10.596</td>\n      <td>41</td>\n      <td>1990</td>\n      <td>0.1140</td>\n      <td>159.678</td>\n      <td>0.147</td>\n    </tr>\n    <tr>\n      <th>4</th>\n      <td>101</td>\n      <td>0NWPxcsf5vdjdiFUI8NgkP</td>\n      <td>1</td>\n      <td>0.006030</td>\n      <td>0.346</td>\n      <td>210160</td>\n      <td>0.768</td>\n      <td>0.380000</td>\n      <td>9</td>\n      <td>0.0244</td>\n      <td>-5.695</td>\n      <td>72</td>\n      <td>1967</td>\n      <td>0.0377</td>\n      <td>169.492</td>\n      <td>0.532</td>\n    </tr>\n    <tr>\n      <th>...</th>\n      <td>...</td>\n      <td>...</td>\n      <td>...</td>\n      <td>...</td>\n      <td>...</td>\n      <td>...</td>\n      <td>...</td>\n      <td>...</td>\n      <td>...</td>\n      <td>...</td>\n      <td>...</td>\n      <td>...</td>\n      <td>...</td>\n      <td>...</td>\n      <td>...</td>\n      <td>...</td>\n    </tr>\n    <tr>\n      <th>1402213</th>\n      <td>20100</td>\n      <td>7r1i1TZUGZQDxR5QHX4Mmx</td>\n      <td>1</td>\n      <td>0.002940</td>\n      <td>0.570</td>\n      <td>329979</td>\n      <td>0.777</td>\n      <td>0.181000</td>\n      <td>7</td>\n      <td>0.0477</td>\n      <td>-6.537</td>\n      <td>47</td>\n      <td>1987</td>\n      <td>0.0270</td>\n      <td>107.982</td>\n      <td>0.487</td>\n    </tr>\n    <tr>\n      <th>1402214</th>\n      <td>20100</td>\n      <td>7svwP4tC0UYJbCkiCo6Itz</td>\n      <td>1</td>\n      <td>0.062300</td>\n      <td>0.457</td>\n      <td>213000</td>\n      <td>0.915</td>\n      <td>0.000003</td>\n      <td>3</td>\n      <td>0.0778</td>\n      <td>-5.876</td>\n      <td>19</td>\n      <td>1976</td>\n      <td>0.0808</td>\n      <td>126.695</td>\n      <td>0.446</td>\n    </tr>\n    <tr>\n      <th>1402215</th>\n      <td>20100</td>\n      <td>7tVQg3ov9G0CnXTzqmZVsZ</td>\n      <td>1</td>\n      <td>0.242000</td>\n      <td>0.247</td>\n      <td>671760</td>\n      <td>0.742</td>\n      <td>0.370000</td>\n      <td>2</td>\n      <td>0.9680</td>\n      <td>-12.678</td>\n      <td>24</td>\n      <td>1978</td>\n      <td>0.0571</td>\n      <td>143.533</td>\n      <td>0.466</td>\n    </tr>\n    <tr>\n      <th>1402216</th>\n      <td>20100</td>\n      <td>7yC5SaMeZJfvFL6lICCulP</td>\n      <td>1</td>\n      <td>0.150000</td>\n      <td>0.417</td>\n      <td>176000</td>\n      <td>0.667</td>\n      <td>0.000000</td>\n      <td>4</td>\n      <td>0.2170</td>\n      <td>-6.404</td>\n      <td>21</td>\n      <td>1978</td>\n      <td>0.0367</td>\n      <td>131.796</td>\n      <td>0.556</td>\n    </tr>\n    <tr>\n      <th>1402217</th>\n      <td>20100</td>\n      <td>7yCtmJ43qJYUF9si7sxult</td>\n      <td>1</td>\n      <td>0.704000</td>\n      <td>0.236</td>\n      <td>222427</td>\n      <td>0.376</td>\n      <td>0.000838</td>\n      <td>2</td>\n      <td>0.0606</td>\n      <td>-10.897</td>\n      <td>32</td>\n      <td>1967</td>\n      <td>0.0341</td>\n      <td>125.903</td>\n      <td>0.342</td>\n    </tr>\n  </tbody>\n</table>\n<p>1402218 rows × 16 columns</p>\n</div>"
     },
     "execution_count": 8,
     "metadata": {},
     "output_type": "execute_result"
    }
   ],
   "source": [
    "# d = spark.sql(\n",
    "#     \"\"\"\n",
    "#     SELECT s.user_id, s.track_id, s.weight, acousticness, danceability, duration_ms, energy, instrumentalness, key, liveness, loudness, popularity, EXTRACT(year from `release_date`) as release_year, speechiness, tempo, valence\n",
    "#     FROM (\n",
    "#         select user_id, track_id, sum(event_weight) as weight\n",
    "#         from (\n",
    "#             SELECT user_id, track_id, CASE WHEN event_type like 'like' THEN 1 ELSE 0.02 END as event_weight\n",
    "#             FROM sessions\n",
    "#             WHERE event_type like 'like' or event_type like 'play'\n",
    "#             ) \n",
    "#         group by user_id, track_id\n",
    "#     ) s\n",
    "#     inner join tracks t on s.track_id = t.id\n",
    "#     order by s.user_id, t.id\n",
    "#     \"\"\").toPandas()\n",
    "d = spark.sql(\n",
    "    \"\"\"\n",
    "    SELECT s.user_id, s.track_id, s.weight, acousticness, danceability, duration_ms, energy, instrumentalness, key, liveness, loudness, popularity, EXTRACT(year from `release_date`) as release_year, speechiness, tempo, valence\n",
    "    FROM (\n",
    "        select user_id, track_id, sum(event_weight) as weight\n",
    "        from (\n",
    "            SELECT user_id, track_id, 1 as event_weight\n",
    "            FROM sessions\n",
    "            WHERE event_type like 'LIKE'\n",
    "            ) \n",
    "        group by user_id, track_id\n",
    "    ) s\n",
    "    inner join tracks t on s.track_id = t.id\n",
    "    order by s.user_id, t.id\n",
    "    \"\"\").toPandas()\n",
    "d"
   ]
  },
  {
   "cell_type": "code",
   "execution_count": 9,
   "id": "b46cbc66d87eecfa",
   "metadata": {
    "collapsed": false,
    "ExecuteTime": {
     "end_time": "2023-12-27T16:53:02.420036543Z",
     "start_time": "2023-12-27T16:53:02.350209123Z"
    }
   },
   "outputs": [
    {
     "data": {
      "text/plain": "        acousticness  danceability  duration_ms    energy  instrumentalness  \\\n0           0.686576     -1.658531     1.577080 -1.218303         -0.373482   \n1          -0.537912     -0.646673     0.944397 -0.908329         -0.281353   \n2          -0.968717     -0.684382    -0.132333  1.525999         -0.353937   \n3          -0.341279      0.289767     1.009071  0.141449         -0.338180   \n4           1.133469     -1.469986     0.171003 -1.114978         -0.373232   \n...              ...           ...          ...       ...               ...   \n129643      1.458212     -1.645962    -0.038371 -1.119111          3.247084   \n129644      1.273496     -0.181596    -0.553542 -1.193505         -0.373098   \n129645      0.016236      1.433607    -0.565844 -0.077599         -0.372578   \n129646     -1.243023     -0.194165    -0.117456  1.269754         -0.373482   \n129647     -1.173096      1.075371     1.077726 -0.466100          1.012752   \n\n             key  liveness  loudness  popularity  release_year  speechiness  \\\n0      -0.921565 -0.803961 -1.786179   -0.973348     -0.647710    -0.188174   \n1       1.067707 -0.645053 -1.270175   -1.148502     -0.348766    -0.399408   \n2      -0.921565  0.577525  0.585271   -0.856578     -0.548062    -0.088274   \n3      -1.489929 -0.821618  0.413639    1.537200      0.448419    -0.112346   \n4      -0.921565 -0.594223 -0.957211   -1.031733     -0.498238    -0.398806   \n...          ...       ...       ...         ...           ...          ...   \n129643  0.499343 -0.203641 -0.215165   -0.681423      0.697539    -0.386770   \n129644 -1.489929 -0.513967 -0.226445    0.603043     -0.797183    -0.403019   \n129645  0.215162 -0.701232 -0.485221    1.128506      0.099650    -0.412648   \n129646  1.636070  0.144139  1.472188    2.821667      0.896835    -0.316359   \n129647 -0.637383  0.823646 -0.331283    0.369504      0.548067    -0.332607   \n\n           tempo   valence               id_artist  \n0       1.953557 -1.141989  3TVifQ5FPcIzzcYSUuJkp9  \n1      -0.537601 -0.876726  3BCJyAgxvYyeIjQyoBU8XL  \n2       2.239731  0.156612  25uGmqV7NJt81bSYlEMKB0  \n3       0.943179 -0.706483  3vbKDsSS70ZX9D2OcvbZmS  \n4      -0.481183 -1.316192  5ujwfg1AKpM7CGPZhHxs22  \n...          ...       ...                     ...  \n129643 -1.848519 -1.134071  1owt6WYWjy94FlqNcj1x4U  \n129644 -1.100170 -0.401628  32vWCbZh0xZ4o9gkz4PsEU  \n129645 -0.472178  1.498763  5vngPClqofybhPERIqQMYd  \n129646  0.218538 -0.401628  1KCSPY1glIKqW2TotWuXOR  \n129647  0.311242  1.455213  70XauTb6oEJbXxFoH6wY9F  \n\n[129648 rows x 14 columns]",
      "text/html": "<div>\n<style scoped>\n    .dataframe tbody tr th:only-of-type {\n        vertical-align: middle;\n    }\n\n    .dataframe tbody tr th {\n        vertical-align: top;\n    }\n\n    .dataframe thead th {\n        text-align: right;\n    }\n</style>\n<table border=\"1\" class=\"dataframe\">\n  <thead>\n    <tr style=\"text-align: right;\">\n      <th></th>\n      <th>acousticness</th>\n      <th>danceability</th>\n      <th>duration_ms</th>\n      <th>energy</th>\n      <th>instrumentalness</th>\n      <th>key</th>\n      <th>liveness</th>\n      <th>loudness</th>\n      <th>popularity</th>\n      <th>release_year</th>\n      <th>speechiness</th>\n      <th>tempo</th>\n      <th>valence</th>\n      <th>id_artist</th>\n    </tr>\n  </thead>\n  <tbody>\n    <tr>\n      <th>0</th>\n      <td>0.686576</td>\n      <td>-1.658531</td>\n      <td>1.577080</td>\n      <td>-1.218303</td>\n      <td>-0.373482</td>\n      <td>-0.921565</td>\n      <td>-0.803961</td>\n      <td>-1.786179</td>\n      <td>-0.973348</td>\n      <td>-0.647710</td>\n      <td>-0.188174</td>\n      <td>1.953557</td>\n      <td>-1.141989</td>\n      <td>3TVifQ5FPcIzzcYSUuJkp9</td>\n    </tr>\n    <tr>\n      <th>1</th>\n      <td>-0.537912</td>\n      <td>-0.646673</td>\n      <td>0.944397</td>\n      <td>-0.908329</td>\n      <td>-0.281353</td>\n      <td>1.067707</td>\n      <td>-0.645053</td>\n      <td>-1.270175</td>\n      <td>-1.148502</td>\n      <td>-0.348766</td>\n      <td>-0.399408</td>\n      <td>-0.537601</td>\n      <td>-0.876726</td>\n      <td>3BCJyAgxvYyeIjQyoBU8XL</td>\n    </tr>\n    <tr>\n      <th>2</th>\n      <td>-0.968717</td>\n      <td>-0.684382</td>\n      <td>-0.132333</td>\n      <td>1.525999</td>\n      <td>-0.353937</td>\n      <td>-0.921565</td>\n      <td>0.577525</td>\n      <td>0.585271</td>\n      <td>-0.856578</td>\n      <td>-0.548062</td>\n      <td>-0.088274</td>\n      <td>2.239731</td>\n      <td>0.156612</td>\n      <td>25uGmqV7NJt81bSYlEMKB0</td>\n    </tr>\n    <tr>\n      <th>3</th>\n      <td>-0.341279</td>\n      <td>0.289767</td>\n      <td>1.009071</td>\n      <td>0.141449</td>\n      <td>-0.338180</td>\n      <td>-1.489929</td>\n      <td>-0.821618</td>\n      <td>0.413639</td>\n      <td>1.537200</td>\n      <td>0.448419</td>\n      <td>-0.112346</td>\n      <td>0.943179</td>\n      <td>-0.706483</td>\n      <td>3vbKDsSS70ZX9D2OcvbZmS</td>\n    </tr>\n    <tr>\n      <th>4</th>\n      <td>1.133469</td>\n      <td>-1.469986</td>\n      <td>0.171003</td>\n      <td>-1.114978</td>\n      <td>-0.373232</td>\n      <td>-0.921565</td>\n      <td>-0.594223</td>\n      <td>-0.957211</td>\n      <td>-1.031733</td>\n      <td>-0.498238</td>\n      <td>-0.398806</td>\n      <td>-0.481183</td>\n      <td>-1.316192</td>\n      <td>5ujwfg1AKpM7CGPZhHxs22</td>\n    </tr>\n    <tr>\n      <th>...</th>\n      <td>...</td>\n      <td>...</td>\n      <td>...</td>\n      <td>...</td>\n      <td>...</td>\n      <td>...</td>\n      <td>...</td>\n      <td>...</td>\n      <td>...</td>\n      <td>...</td>\n      <td>...</td>\n      <td>...</td>\n      <td>...</td>\n      <td>...</td>\n    </tr>\n    <tr>\n      <th>129643</th>\n      <td>1.458212</td>\n      <td>-1.645962</td>\n      <td>-0.038371</td>\n      <td>-1.119111</td>\n      <td>3.247084</td>\n      <td>0.499343</td>\n      <td>-0.203641</td>\n      <td>-0.215165</td>\n      <td>-0.681423</td>\n      <td>0.697539</td>\n      <td>-0.386770</td>\n      <td>-1.848519</td>\n      <td>-1.134071</td>\n      <td>1owt6WYWjy94FlqNcj1x4U</td>\n    </tr>\n    <tr>\n      <th>129644</th>\n      <td>1.273496</td>\n      <td>-0.181596</td>\n      <td>-0.553542</td>\n      <td>-1.193505</td>\n      <td>-0.373098</td>\n      <td>-1.489929</td>\n      <td>-0.513967</td>\n      <td>-0.226445</td>\n      <td>0.603043</td>\n      <td>-0.797183</td>\n      <td>-0.403019</td>\n      <td>-1.100170</td>\n      <td>-0.401628</td>\n      <td>32vWCbZh0xZ4o9gkz4PsEU</td>\n    </tr>\n    <tr>\n      <th>129645</th>\n      <td>0.016236</td>\n      <td>1.433607</td>\n      <td>-0.565844</td>\n      <td>-0.077599</td>\n      <td>-0.372578</td>\n      <td>0.215162</td>\n      <td>-0.701232</td>\n      <td>-0.485221</td>\n      <td>1.128506</td>\n      <td>0.099650</td>\n      <td>-0.412648</td>\n      <td>-0.472178</td>\n      <td>1.498763</td>\n      <td>5vngPClqofybhPERIqQMYd</td>\n    </tr>\n    <tr>\n      <th>129646</th>\n      <td>-1.243023</td>\n      <td>-0.194165</td>\n      <td>-0.117456</td>\n      <td>1.269754</td>\n      <td>-0.373482</td>\n      <td>1.636070</td>\n      <td>0.144139</td>\n      <td>1.472188</td>\n      <td>2.821667</td>\n      <td>0.896835</td>\n      <td>-0.316359</td>\n      <td>0.218538</td>\n      <td>-0.401628</td>\n      <td>1KCSPY1glIKqW2TotWuXOR</td>\n    </tr>\n    <tr>\n      <th>129647</th>\n      <td>-1.173096</td>\n      <td>1.075371</td>\n      <td>1.077726</td>\n      <td>-0.466100</td>\n      <td>1.012752</td>\n      <td>-0.637383</td>\n      <td>0.823646</td>\n      <td>-0.331283</td>\n      <td>0.369504</td>\n      <td>0.548067</td>\n      <td>-0.332607</td>\n      <td>0.311242</td>\n      <td>1.455213</td>\n      <td>70XauTb6oEJbXxFoH6wY9F</td>\n    </tr>\n  </tbody>\n</table>\n<p>129648 rows × 14 columns</p>\n</div>"
     },
     "execution_count": 9,
     "metadata": {},
     "output_type": "execute_result"
    }
   ],
   "source": [
    "from scipy import stats\n",
    "\n",
    "users = d['user_id']\n",
    "items = d['track_id']\n",
    "\n",
    "\n",
    "# _features = pd.DataFrame(tracks['track_id'], columns=['track_id']).merge(tracks, left_on=\"track_id\", right_on=\"id\", how=\"inner\", validate=\"1:1\" )\n",
    "\n",
    "\n",
    "features = pd.concat([stats.zscore(tracks.drop(['id', 'id_artist'], axis=1)), tracks['id_artist']], axis=1)\n",
    "features\n",
    "\n",
    "\n",
    "# _features"
   ]
  },
  {
   "cell_type": "code",
   "execution_count": 10,
   "id": "4117347bb9050b9",
   "metadata": {
    "collapsed": false,
    "ExecuteTime": {
     "end_time": "2023-12-27T16:53:03.627868367Z",
     "start_time": "2023-12-27T16:53:02.390186986Z"
    }
   },
   "outputs": [
    {
     "name": "stdout",
     "output_type": "stream",
     "text": [
      "Num users: 20000, num_items 129648.\n"
     ]
    }
   ],
   "source": [
    "from lightfm.data import Dataset\n",
    "\n",
    "# assert d['track_id'].unique().shape[0] == features.shape[0]\n",
    "\n",
    "dataset = Dataset()\n",
    "dataset.fit(\n",
    "    users=users,\n",
    "    items=items\n",
    ")\n",
    "\n",
    "dataset.fit_partial(\n",
    "    items=tracks['id'],\n",
    "    item_features=tracks.drop('id', axis=1)\n",
    ")\n",
    "\n",
    "num_users, num_items = dataset.interactions_shape()\n",
    "print('Num users: {}, num_items {}.'.format(num_users, num_items))"
   ]
  },
  {
   "cell_type": "code",
   "execution_count": 11,
   "id": "4eb5ed0a862bb63f",
   "metadata": {
    "collapsed": false,
    "ExecuteTime": {
     "end_time": "2023-12-27T16:53:10.486016579Z",
     "start_time": "2023-12-27T16:53:03.629110735Z"
    }
   },
   "outputs": [
    {
     "name": "stdout",
     "output_type": "stream",
     "text": [
      "<20000x129648 sparse matrix of type '<class 'numpy.int32'>'\n",
      "\twith 1402218 stored elements in COOrdinate format>\n"
     ]
    }
   ],
   "source": [
    "(interactions, weights) = dataset.build_interactions(d[['user_id', 'track_id']].apply(tuple, axis=1))\n",
    "\n",
    "print(repr(interactions))"
   ]
  },
  {
   "cell_type": "code",
   "execution_count": 12,
   "id": "1461533074210068",
   "metadata": {
    "collapsed": false,
    "ExecuteTime": {
     "end_time": "2023-12-27T16:53:10.504132500Z",
     "start_time": "2023-12-27T16:53:10.484993631Z"
    }
   },
   "outputs": [],
   "source": [
    "from lightfm.cross_validation import random_train_test_split\n",
    "\n",
    "(train, test) = random_train_test_split(interactions)\n"
   ]
  },
  {
   "cell_type": "code",
   "execution_count": 13,
   "id": "184b2aa6fb122232",
   "metadata": {
    "collapsed": false,
    "ExecuteTime": {
     "end_time": "2023-12-27T16:53:10.510331734Z",
     "start_time": "2023-12-27T16:53:10.506151249Z"
    }
   },
   "outputs": [],
   "source": [
    "from lightfm import LightFM\n",
    "from lightfm.evaluation import auc_score, precision_at_k, recall_at_k, reciprocal_rank\n"
   ]
  },
  {
   "cell_type": "code",
   "execution_count": 14,
   "id": "fcb0fbf749c93414",
   "metadata": {
    "collapsed": false,
    "ExecuteTime": {
     "end_time": "2023-12-27T16:53:24.042759934Z",
     "start_time": "2023-12-27T16:53:10.509696509Z"
    }
   },
   "outputs": [
    {
     "name": "stdout",
     "output_type": "stream",
     "text": [
      "<129648x129662 sparse matrix of type '<class 'numpy.float32'>'\n",
      "\twith 268852 stored elements in Compressed Sparse Row format>\n"
     ]
    }
   ],
   "source": [
    "feature_names = d.drop(['user_id', 'track_id', 'weight'], axis=1).columns\n",
    "\n",
    "item_features = dataset.build_item_features(\n",
    "    ((i, feature_names) for i in items), \n",
    "    normalize=False)\n",
    "print(repr(item_features))"
   ]
  },
  {
   "cell_type": "code",
   "execution_count": 16,
   "id": "3ec2802c3e06efad",
   "metadata": {
    "collapsed": false,
    "ExecuteTime": {
     "end_time": "2023-12-27T16:53:48.138297036Z",
     "start_time": "2023-12-27T16:53:38.574878070Z"
    }
   },
   "outputs": [
    {
     "name": "stderr",
     "output_type": "stream",
     "text": [
      "Epoch: 100%|██████████| 5/5 [00:09<00:00,  1.89s/it]\n"
     ]
    },
    {
     "data": {
      "text/plain": "<lightfm.lightfm.LightFM at 0x7fbf9e1784f0>"
     },
     "execution_count": 16,
     "metadata": {},
     "output_type": "execute_result"
    }
   ],
   "source": [
    "# warp, lr=0.01, no_comp=3-, aplha=1e-6, 5 epochs\n",
    "\n",
    "model_h = LightFM(\n",
    "    loss='warp',\n",
    "    learning_rate=0.003,\n",
    "    # item_alpha=1e-6,\n",
    "    # user_alpha=1e-6,\n",
    "    no_components=30,\n",
    ")\n",
    "model_h.fit(\n",
    "    interactions=train,\n",
    "    item_features=item_features,\n",
    "    epochs=5,\n",
    "    num_threads=12,\n",
    "    verbose=True)\n"
   ]
  },
  {
   "cell_type": "code",
   "execution_count": 14,
   "id": "e21c07a203780fd2",
   "metadata": {
    "collapsed": false,
    "ExecuteTime": {
     "end_time": "2023-12-27T15:32:49.787640360Z",
     "start_time": "2023-12-27T15:28:12.445635984Z"
    }
   },
   "outputs": [
    {
     "name": "stdout",
     "output_type": "stream",
     "text": [
      "AUC: train 0.899586, test 0.899762.\n",
      "Precision: train 0.159950, test 0.069711.\n",
      "Recall: train 0.042400, test 0.070126.\n",
      "Reciprocal rank: train 0.252052, test 0.147722.\n"
     ]
    }
   ],
   "source": [
    "train_auc_h = auc_score(model_h, train, \n",
    "                        item_features=item_features,\n",
    "                        num_threads=12).mean()\n",
    "test_auc_h = auc_score(model_h, test, \n",
    "                       train_interactions=train, \n",
    "                       item_features=item_features, \n",
    "                       num_threads=12).mean()\n",
    "\n",
    "train_precision_h = precision_at_k(model_h, train, k=10,\n",
    "                                   item_features=item_features, \n",
    "                                   num_threads=12).mean()\n",
    "test_precision_h = precision_at_k(model_h, test, k=10, \n",
    "                                  train_interactions=train,\n",
    "                                  item_features=item_features, \n",
    "                                  num_threads=12).mean()\n",
    "\n",
    "train_recall_h = recall_at_k(model_h, train, k=10, \n",
    "                             item_features=item_features,\n",
    "                             num_threads=12).mean()\n",
    "test_recall_h = recall_at_k(model_h, test, k=10, \n",
    "                            train_interactions=train,\n",
    "                            item_features=item_features, \n",
    "                            num_threads=12).mean()\n",
    "\n",
    "train_reciprocal_rank_h = reciprocal_rank(model_h, train,\n",
    "                                          item_features=item_features,\n",
    "                                          num_threads=12).mean()\n",
    "test_reciprocal_rank_h = reciprocal_rank(model_h, test, \n",
    "                                         train_interactions=train,\n",
    "                                         item_features=item_features,\n",
    "                                         num_threads=12).mean()\n",
    "\n",
    "print('AUC: train %.6f, test %.6f.' % (train_auc_h, test_auc_h))\n",
    "print('Precision: train %.6f, test %.6f.' % (train_precision_h, test_precision_h))\n",
    "print('Recall: train %.6f, test %.6f.' % (train_recall_h, test_recall_h))\n",
    "print('Reciprocal rank: train %.6f, test %.6f.' % (train_reciprocal_rank_h, test_reciprocal_rank_h))\n"
   ]
  },
  {
   "cell_type": "code",
   "execution_count": 17,
   "id": "ba8d458dbe5e11fc",
   "metadata": {
    "collapsed": false,
    "ExecuteTime": {
     "end_time": "2023-12-27T16:53:51.293578287Z",
     "start_time": "2023-12-27T16:53:51.218689482Z"
    }
   },
   "outputs": [
    {
     "data": {
      "text/plain": "array([ 2.1368147e+03,  3.2872285e+03,  1.3767339e+03, ...,\n       -1.8519495e+01,  1.1457134e-02, -1.4957775e-02], dtype=float32)"
     },
     "execution_count": 17,
     "metadata": {},
     "output_type": "execute_result"
    }
   ],
   "source": [
    "predicted_scores = model_h.predict(46, np.arange(interactions.shape[1]), \n",
    "                                   item_features=item_features, \n",
    "                                   num_threads=12)\n",
    "predicted_scores"
   ]
  },
  {
   "cell_type": "code",
   "execution_count": 18,
   "id": "ed4a8d5b38f43117",
   "metadata": {
    "collapsed": false,
    "ExecuteTime": {
     "end_time": "2023-12-27T16:53:51.294101572Z",
     "start_time": "2023-12-27T16:53:51.259969329Z"
    }
   },
   "outputs": [
    {
     "data": {
      "text/plain": "array([ 5649,  4000,  7698,  2238,  8073,  3496,   849,  4594,  1736,\n        1128,  5371,  6404,   920,  3309,  4568,  3280,   361,  3245,\n        3222,  7409,  6815,  8598,  4129,  5906,  2123,  3164,  6200,\n         537,  2626,   238,  1485,  7949,  7353,  1073,  2651,  7878,\n         196,  1862,  1505,  5508,  1518,  3958,  9049,  2704,  2713,\n        1623,  1787,    66,  2886,  7753,   797,  2768,  1299,  9443,\n        1961,  1408,  2406,  4683,  4682,  7249,  1194,  4687,  6270,\n        1869,  7239,  2196,  7229,   796,   795,  3972,  4694,  1205,\n        4696,  7223,  6263,  3990,  1190,  4679,  4703,  1213,  4004,\n        1214,  2190,  4713,  7303,  2212,  7181,  7307,  2213,  4677,\n        2214,  1856,   772,  7314,  7316,  1853,  3948,   767,  6312,\n         825,  7333,  6211,  2221,  7334,  4014,  2222,  1226,  7344,\n        4728,  7178,  1228,  7173,  7171,  7366,  1842,  7370,  7371,\n         748,  3932,  2229,  7375,  1841,  7170,  4663,  7383,  2185,\n        1836,   742,  7391,  6321,   739,  2182,  4662,  4038,   735,\n         734,  6195,  1835,   731,  3903,   730,  4041,  4044,   727,\n        3900,  4657,  3898,  2244,  1888,  6185,  7425,  7433,   842,\n        4637,  2248,   716, 10153,   715,  1892,  4051,  6181,  1245,\n        7147,   711,  4778,  4788,  7146,  7142,   707,  3851,   705,\n        7485,   703,  6160,  7493,  6345,  6346,  4792,  2270,  1256,\n        7506,  3820,  2173,  2276,  6347,  4054,  1168,  2281,  1821,\n        7530,   687,  7531,  7538,  3815,  4632,  1166,   682,  1260,\n        3808,  1261,  1816,  6146,   855,  2162,   674,  1163,  3794,\n         671,  7556,  2292,  4087,  3792,   666,   665,  1264,  7095,\n        4808,  3791,  4631,  1813,  1160,  7582,   658,  4827,  2298,\n        1810,  2299,  1159,  6359,  2302,  7592,   865,  7598,   650,\n         649,  2309,   866,  7602,  6116,  2310,  6362,  3755,  4626,\n        1271,  1809,   641,  1273,  6110,  4838,  7635,  3743,  6103,\n        4098,  3741,   633,  3739,   631,  4855,  7644,  6098,  6097,\n        6093,  4620,   625,  1285,   872,  4857,  4110,  7051,   619,\n        2332,  1800,  4869,   616,  7047,  6060,  2144,  1794,  2143,\n        3714,  6039,  2338,  4119,  3711,  4880,  4615,  6377,  3707,\n        3701,  2348,  7734,   601,   600,  3689,   598,  1301,  3682,\n        3678,   595,   594,  3665,   888,  7755,  7758,  2357,  7026,\n        3663,  1304,  2359,  1146,  7016,  2362,  4890,   582,   895,\n        7015,   580,  7009,  4147,  4151,  5992,  3636,   576,  3628,\n        1312,  3622,   573,  3620,  1780,  5980,  3616,  2373,  1316,\n        4900,   901,   565,  5972,  3610,  3604,  6984,  1319,  5965,\n        7882,  2385,  3600,   558,  3594,  1777,  2390,  6979,   904,\n        7904,  5960,   551,  1772,  5957,  4916,  1906,  5950,   546,\n        3581,  1769,  3573,  7925,  3572,  4920,   907,  6970,   910,\n        5941,  1144,  7955,  4921,  1333,  4165,   533,   532,  1763,\n        5928,  6964,   528,  1343,  2124,  1758,  5917,  1753,  3542,\n        3538,  6396,   522,   913,  5908,  4950,  1142,  1351,  2121,\n        5907,  3519,  3518,   514,   916,  8027,  1355,  6401,  6402,\n        2429,  8039,  2431,  1136,  1740,  3503,  5893,   502,  4170,\n        2118,  1909,  6407,  8092,  2447,  3489,  5881,   494,   493,\n        5880,  3478,   490,  1737,  5879,  1911,  8100,  2453,  1364,\n         483,  2111,  2457,  5862,  2460,   479,  3464,  1368,  1369,\n        4189,  2463,  5860,  9757,   472,  4983,  4985,  8146,  3459,\n        3448,  1376,  4990,  4590,   464,   463,  3446,  1913,  2471,\n         460,  4994,  4193,  4995,  1380,  4998,  1727,  3437,  3425,\n        1387,  3414,  3405,  1388,  5834,  3401,  5009,  5831,   444,\n        6413,  5015,   441,  5816,  3390,  6914,  1395,  1398,  6419,\n        4194,  6422,   938,  8228,  6898,  1399,  3376,  8252,   428,\n        8266,  3372,  4209,  5021,  2508,   424,  3370,  5024,  3369,\n         421,  3367,  3365,  1716,  1407,  6886,  2517,  3361,  1915,\n        3352,  8337,  5798,  5042,  1123,   410,  8343,  1709,  3336,\n        1413,  1916,  1921,   403,  3324,  6448,  5049,  3317,  3310,\n        6859,  5052,  2532,  5057,  2534,   394,  1416,  6853,  2094,\n        8388,  2538,  2539,  3295,  2541,   385,  5070,  8404,  5773,\n        3284,  2545,  1116,  3277,  2551,  8423,   377,   376,  5766,\n        5763,  1422,  5073,  3269,  8444,  5758,  2557,  8457,  2558,\n        3258,   366,  4565,   364,  3252,  8468,   955,  1113,  6838,\n        4225,  5739,  5735,   356,   355,  5733,  3243,  5717,   351,\n        2568,  3237,  2571,   347,   346,   345,   344,  5076,   343,\n         342,   341,   340,  2573,   339,   338,   337,   336,  6467,\n         335,   334,   333,   332,   331,  8509,   330,  2574,   329,\n         328,   327,   326,   325,   324,   323,   322,   321,   320,\n         319,   318,  6834,   317,   316,   315,   314,   313,   312,\n         311,   310,   309,   308,   307,  6832,   306,   305,   304,\n         303,   302,  3228,  3225,  5714,  1927,  6825,  6824,  4233,\n        1687,  5097,  5692,  4236,   291,  4242,  3208,  5106,  4243,\n        4245,  8577,  1110,  3187,   282,  2594,  5691,  1679,  1929,\n         973,  5680,  8603,  5679,  3182,  3180,   974,  1450,  1676,\n        5152,  6472,  3172,  2606,  2074,  2073,  3167,  3165,   264,\n        5638,  5637,  8657,   978,  1668,  5627,  5163,  4550,  2614,\n        1665,  1664,  4538,  1104,  1663,  2616,   250,  3145,  5169,\n         983,  5617,  5199,  2624,  2625,   984,  3122,  8721,  1473,\n        2629,  3118,  2069,  5606,  8733,  5200,  5597,  2633,  3109,\n        5201,   230,  1479,  2067,  6784,  4282,  3103,  4283, 10258,\n         224,  2640,  3100,  3098,  2051,  5585,  1488,  5581,   219,\n        4287,  3093,  4290,  4296,  1101,  1002,  3084,   214,  5204,\n        3082,  1491,  4329,  3077,  3075,  2037,  1494,  1497,  4338,\n        4531,   202,  8893,  1008,  1498,  2665,  2033,  1933,  2030,\n        3074,  1646,  5563,  2029,  3069,  1645,  5217,  2669,   186,\n         185,  3066,  6727,  4358,  3063,  5536,  9614,  6717,  6716,\n        8952,  1644,  4366,  3054,  4521,  1510,  3050,  5524,  4518,\n        8968,  3046,  3043,  3040,  5225,   170,  2689,  8981,  8990,\n        2019,  5238,  5518,  3028,   163,  5239,  3019,  1633,   160,\n        2017,   159,   158,   157,   156,   155,  1940,   154,  3017,\n        4379,  1025,  3014,   153,   152,   151,   150,   149,   148,\n         147,  1026,   146,  5501,  1027,   145,   144,   143,   142,\n         141,   140,   139,   138,   137,   136,   135,   134,   133,\n         132,   131,   130,   129,   128,   127,   126,   125,   124,\n         123,   122,   121,   120,   119,  3008,   118,   117,   116,\n         115,   114,   113,   112,   111,   110,   109,   108,   107,\n        4380,   106,  1030,  3001,  3000,  2985,   102,   101,  1525,\n        9583,  2977,  5500,  4512,  2001,  2974,    95,  2973,  5255,\n        2971,  4507,  1628,  4498,  2957,  5258,  4408,  1038,  4413,\n          85,  1531,  4414,  2934,  2933,  2727,  1994,  2731,  1532,\n        1621,  4418,  5465,  2920,  1991,  2914,  2738,  2905,    71,\n        6540,  2740,  5463,  5461,  6663,  2899,  5460,  4480,  1990,\n        5282,  5445,    62,  4421,  2885,  5442,  4423,  1548,  9291,\n        4428,  2878,  6651,    53,  5294,  2750,  2875,  1983,  1555,\n        2864,    48,  6650,  9548,    45,  1951,  5419,  1609,  5401,\n        1597,  4478,  4475,  1059,  1974,  5397,  5347,  5390,  1586,\n        6626,  2769,    31,  1585,  2855,  2771,    27,  6623,  1065,\n        2772,  4452,  2854,  2778,  2828,  2826,    20,    19,  9428,\n        2824,  1079,  2817,    15,  4459,  1581,    12,  9453,  1078,\n           9,  6606,  1963,  2792,  1579,  5370,     3,  2802,  1575,\n        6580])"
     },
     "execution_count": 18,
     "metadata": {},
     "output_type": "execute_result"
    }
   ],
   "source": [
    "indices = np.argpartition(predicted_scores, -1000)[-1000:]\n",
    "indices"
   ]
  },
  {
   "cell_type": "code",
   "execution_count": 19,
   "outputs": [],
   "source": [
    "import pandas as pd"
   ],
   "metadata": {
    "collapsed": false,
    "ExecuteTime": {
     "end_time": "2023-12-27T16:53:51.294159567Z",
     "start_time": "2023-12-27T16:53:51.260075669Z"
    }
   },
   "id": "dbfa1a6f9d95bed0"
  },
  {
   "cell_type": "code",
   "execution_count": 86,
   "id": "e7bf0856d2f33497",
   "metadata": {
    "collapsed": false,
    "ExecuteTime": {
     "end_time": "2023-12-27T18:29:39.828541637Z",
     "start_time": "2023-12-27T18:29:39.812130609Z"
    }
   },
   "outputs": [
    {
     "data": {
      "text/plain": "                          id               id_artist  acousticness  \\\n5649  1Ga880sLVmlPm53x2AQEvo  1luOe8HkZQ7zwuaO2wuJqI      0.000758   \n4000  21Zn4iMPBEuGtukbb1KpGz  0nJUwPwC9Ti4vvuJ0q3MfT      0.907000   \n7698  3jrQvfuHv7dTHAYH14wCWP  3pBvCynt1s5QElgsbyFdTg      0.012000   \n2238  75d5rdmbGxE0JRXYc6EJR8  2GaayiIs1kcyNqRXQuzp35      0.914000   \n8073  6vIPZobhXhE19i9EJlRj0w  380DW51qbu5pSP8crFRIII      0.193000   \n...                      ...                     ...           ...   \n5370  387oNtAhlKTbeswo91MRAy  66aVJ4ocSmKcdrRUCXR8j0      0.123000   \n3     6aLmvz0CPeCNHCXK2H5QIC  3vbKDsSS70ZX9D2OcvbZmS      0.303000   \n2802  5B1W3KrkWlwSJlSufX5AT7  6l40OFJhuTbHQ9V12evc9K      0.965000   \n1575  4XWItTtGvpXeCFBduYg0F6  3XYnsz11kFrkx8F3upvnE5      0.966000   \n6580  4q6EHqjdTnWhLabd6YR6R6  1LFKKuzn302wp15dYH28id      0.541000   \n\n      danceability  duration_ms  energy  instrumentalness  key  liveness  \\\n5649         0.386       357760  0.9300          0.001870   11    0.1360   \n4000         0.533       357400  0.2000          0.010500    0    0.2330   \n7698         0.666       312427  0.6840          0.000005    8    0.0737   \n2238         0.663       169640  0.4370          0.857000    9    0.1330   \n8073         0.432       292813  0.6820          0.000256    6    0.0651   \n...            ...          ...     ...               ...  ...       ...   \n5370         0.704       198547  0.6950          0.035900    7    0.5330   \n3            0.611       343360  0.5970          0.008200    0    0.0605   \n2802         0.627       252000  0.1060          0.782000    2    0.7490   \n1575         0.561       408267  0.0422          0.899000    3    0.1250   \n6580         0.469       147667  0.2240          0.001060    5    0.1350   \n\n      loudness  popularity  release_year  speechiness    tempo  valence  \n5649    -3.633          33          2012       0.1020  150.073    0.266  \n4000   -17.792          37          1991       0.0710  149.007    0.490  \n7698   -10.247          26          2005       0.0255  113.913    0.856  \n2238   -17.023          21          1960       0.0328  124.445    0.703  \n8073    -5.331          29          2002       0.0276  176.237    0.507  \n...        ...         ...           ...          ...      ...      ...  \n5370    -8.313          42          1993       0.0556   97.561    0.598  \n3       -7.864          56          1999       0.0764  147.507    0.385  \n2802   -19.705           7          1954       0.0495  101.195    0.394  \n1575   -18.982          18          1956       0.0547  123.394    0.128  \n6580   -13.175          10          1964       0.0287   79.049    0.109  \n\n[1000 rows x 15 columns]",
      "text/html": "<div>\n<style scoped>\n    .dataframe tbody tr th:only-of-type {\n        vertical-align: middle;\n    }\n\n    .dataframe tbody tr th {\n        vertical-align: top;\n    }\n\n    .dataframe thead th {\n        text-align: right;\n    }\n</style>\n<table border=\"1\" class=\"dataframe\">\n  <thead>\n    <tr style=\"text-align: right;\">\n      <th></th>\n      <th>id</th>\n      <th>id_artist</th>\n      <th>acousticness</th>\n      <th>danceability</th>\n      <th>duration_ms</th>\n      <th>energy</th>\n      <th>instrumentalness</th>\n      <th>key</th>\n      <th>liveness</th>\n      <th>loudness</th>\n      <th>popularity</th>\n      <th>release_year</th>\n      <th>speechiness</th>\n      <th>tempo</th>\n      <th>valence</th>\n    </tr>\n  </thead>\n  <tbody>\n    <tr>\n      <th>5649</th>\n      <td>1Ga880sLVmlPm53x2AQEvo</td>\n      <td>1luOe8HkZQ7zwuaO2wuJqI</td>\n      <td>0.000758</td>\n      <td>0.386</td>\n      <td>357760</td>\n      <td>0.9300</td>\n      <td>0.001870</td>\n      <td>11</td>\n      <td>0.1360</td>\n      <td>-3.633</td>\n      <td>33</td>\n      <td>2012</td>\n      <td>0.1020</td>\n      <td>150.073</td>\n      <td>0.266</td>\n    </tr>\n    <tr>\n      <th>4000</th>\n      <td>21Zn4iMPBEuGtukbb1KpGz</td>\n      <td>0nJUwPwC9Ti4vvuJ0q3MfT</td>\n      <td>0.907000</td>\n      <td>0.533</td>\n      <td>357400</td>\n      <td>0.2000</td>\n      <td>0.010500</td>\n      <td>0</td>\n      <td>0.2330</td>\n      <td>-17.792</td>\n      <td>37</td>\n      <td>1991</td>\n      <td>0.0710</td>\n      <td>149.007</td>\n      <td>0.490</td>\n    </tr>\n    <tr>\n      <th>7698</th>\n      <td>3jrQvfuHv7dTHAYH14wCWP</td>\n      <td>3pBvCynt1s5QElgsbyFdTg</td>\n      <td>0.012000</td>\n      <td>0.666</td>\n      <td>312427</td>\n      <td>0.6840</td>\n      <td>0.000005</td>\n      <td>8</td>\n      <td>0.0737</td>\n      <td>-10.247</td>\n      <td>26</td>\n      <td>2005</td>\n      <td>0.0255</td>\n      <td>113.913</td>\n      <td>0.856</td>\n    </tr>\n    <tr>\n      <th>2238</th>\n      <td>75d5rdmbGxE0JRXYc6EJR8</td>\n      <td>2GaayiIs1kcyNqRXQuzp35</td>\n      <td>0.914000</td>\n      <td>0.663</td>\n      <td>169640</td>\n      <td>0.4370</td>\n      <td>0.857000</td>\n      <td>9</td>\n      <td>0.1330</td>\n      <td>-17.023</td>\n      <td>21</td>\n      <td>1960</td>\n      <td>0.0328</td>\n      <td>124.445</td>\n      <td>0.703</td>\n    </tr>\n    <tr>\n      <th>8073</th>\n      <td>6vIPZobhXhE19i9EJlRj0w</td>\n      <td>380DW51qbu5pSP8crFRIII</td>\n      <td>0.193000</td>\n      <td>0.432</td>\n      <td>292813</td>\n      <td>0.6820</td>\n      <td>0.000256</td>\n      <td>6</td>\n      <td>0.0651</td>\n      <td>-5.331</td>\n      <td>29</td>\n      <td>2002</td>\n      <td>0.0276</td>\n      <td>176.237</td>\n      <td>0.507</td>\n    </tr>\n    <tr>\n      <th>...</th>\n      <td>...</td>\n      <td>...</td>\n      <td>...</td>\n      <td>...</td>\n      <td>...</td>\n      <td>...</td>\n      <td>...</td>\n      <td>...</td>\n      <td>...</td>\n      <td>...</td>\n      <td>...</td>\n      <td>...</td>\n      <td>...</td>\n      <td>...</td>\n      <td>...</td>\n    </tr>\n    <tr>\n      <th>5370</th>\n      <td>387oNtAhlKTbeswo91MRAy</td>\n      <td>66aVJ4ocSmKcdrRUCXR8j0</td>\n      <td>0.123000</td>\n      <td>0.704</td>\n      <td>198547</td>\n      <td>0.6950</td>\n      <td>0.035900</td>\n      <td>7</td>\n      <td>0.5330</td>\n      <td>-8.313</td>\n      <td>42</td>\n      <td>1993</td>\n      <td>0.0556</td>\n      <td>97.561</td>\n      <td>0.598</td>\n    </tr>\n    <tr>\n      <th>3</th>\n      <td>6aLmvz0CPeCNHCXK2H5QIC</td>\n      <td>3vbKDsSS70ZX9D2OcvbZmS</td>\n      <td>0.303000</td>\n      <td>0.611</td>\n      <td>343360</td>\n      <td>0.5970</td>\n      <td>0.008200</td>\n      <td>0</td>\n      <td>0.0605</td>\n      <td>-7.864</td>\n      <td>56</td>\n      <td>1999</td>\n      <td>0.0764</td>\n      <td>147.507</td>\n      <td>0.385</td>\n    </tr>\n    <tr>\n      <th>2802</th>\n      <td>5B1W3KrkWlwSJlSufX5AT7</td>\n      <td>6l40OFJhuTbHQ9V12evc9K</td>\n      <td>0.965000</td>\n      <td>0.627</td>\n      <td>252000</td>\n      <td>0.1060</td>\n      <td>0.782000</td>\n      <td>2</td>\n      <td>0.7490</td>\n      <td>-19.705</td>\n      <td>7</td>\n      <td>1954</td>\n      <td>0.0495</td>\n      <td>101.195</td>\n      <td>0.394</td>\n    </tr>\n    <tr>\n      <th>1575</th>\n      <td>4XWItTtGvpXeCFBduYg0F6</td>\n      <td>3XYnsz11kFrkx8F3upvnE5</td>\n      <td>0.966000</td>\n      <td>0.561</td>\n      <td>408267</td>\n      <td>0.0422</td>\n      <td>0.899000</td>\n      <td>3</td>\n      <td>0.1250</td>\n      <td>-18.982</td>\n      <td>18</td>\n      <td>1956</td>\n      <td>0.0547</td>\n      <td>123.394</td>\n      <td>0.128</td>\n    </tr>\n    <tr>\n      <th>6580</th>\n      <td>4q6EHqjdTnWhLabd6YR6R6</td>\n      <td>1LFKKuzn302wp15dYH28id</td>\n      <td>0.541000</td>\n      <td>0.469</td>\n      <td>147667</td>\n      <td>0.2240</td>\n      <td>0.001060</td>\n      <td>5</td>\n      <td>0.1350</td>\n      <td>-13.175</td>\n      <td>10</td>\n      <td>1964</td>\n      <td>0.0287</td>\n      <td>79.049</td>\n      <td>0.109</td>\n    </tr>\n  </tbody>\n</table>\n<p>1000 rows × 15 columns</p>\n</div>"
     },
     "execution_count": 86,
     "metadata": {},
     "output_type": "execute_result"
    }
   ],
   "source": [
    "predicted = tracks.loc[indices]\n",
    "predicted"
   ]
  },
  {
   "cell_type": "code",
   "execution_count": 60,
   "id": "ed36d788618ee89a",
   "metadata": {
    "collapsed": false,
    "ExecuteTime": {
     "end_time": "2023-12-27T17:23:23.473320719Z",
     "start_time": "2023-12-27T17:23:23.450017707Z"
    }
   },
   "outputs": [],
   "source": [
    "user_history = d[d.user_id == 651]"
   ]
  },
  {
   "cell_type": "code",
   "execution_count": 61,
   "outputs": [
    {
     "data": {
      "text/plain": "{'0AIT0YZoeDXmi4jHygJhwb',\n '0BCIAYgnjkZ8Qu6jLNEALY',\n '0CoPoNohPHCjvggWHlxgk5',\n '0L9v0qr6ufK4Q1sVEchWYa',\n '0LrwgdLsFaWh9VXIjBRe8t',\n '0S90LE5Z8FOdbui3tLak6t',\n '0bHD1nLe7Nhw55ZGJ92332',\n '0hB7p4rUwkpVyNifHxTXXT',\n '0htsqdzg5LTve6NOS8fNjT',\n '0iA2xKtyWBiefuWFK5EcFP',\n '0j4srnVsqW8qXpZ5zlwzoI',\n '0mYC5tSzybVIm0VJNSdVUe',\n '0mxvBDxJNhrMEsfzAaegBJ',\n '0phT9WYvak5mt0lLe9nuKP',\n '0px1HGSfngr3nt5eOaZH4O',\n '0xcxK6blLdkzsRiw5kjqwx',\n '0y1kmUIVEt959sqpkrN6FP',\n '14H2fE4WEdkEem0kjVeODT',\n '172xKQCZJiwzaYUzs0idwP',\n '1DCeBMEXMOZr3OEGIbViiV',\n '1EGa3uFmvkGChrZeIKxGwB',\n '1PBHPRCdKWoALYc1lO6nDB',\n '1VVVFRDykk4pLQMGssCJWp',\n '1YrhoxYtegw7IDv7JHJTHl',\n '1cTv334fPuMrOq8HUmbvlg',\n '1e5JKmlFG3uSBYXDJLEc7H',\n '1fmym2sCaeWsWcEP3inQSQ',\n '1guIEbEw6v69ubNOuH9Aug',\n '1j59mXbJYgG28eLmE53jMG',\n '1k5Jr3Ir3tXJLrI5ZsJ0fo',\n '1lDIEArY9svbiOAfTx7iAs',\n '1oYeGnAbyODhUHO4jOMW9v',\n '20CvyqKfRsnFVChsAKYA9f',\n '20HhDn0i0STNmkjgFqmvO5',\n '2365Q0PQlSAzy9C7HwKZht',\n '23zzKOubAzAu8xlQdkVvZ2',\n '2A3sgyp07d7ksgjyBHYSUt',\n '2BX1Zvnmqs1qkiHfC2dbLF',\n '2BjEkIaEIA6lpTzr0tPfvI',\n '2D2WMIn0Lb4AN6W9bLZPse',\n '2GzFrEj343FZaz1Ae3dDpq',\n '2HYJoS3SWjIct4WS02DWtB',\n '2HnCLW9FtptCdIDItg5Nl1',\n '2P1jghKUruf3SDVNj910KC',\n '2YNLILCvGJl3Rg5bCEkA07',\n '2abfaXRfvXr9ErmI8oqz4g',\n '2mFQ1UwlVpbzHSDv0qnioP',\n '2uiGN4Jwvmw55fLJ93c4Nl',\n '2vKadnRjDi4F56pHspv9u1',\n '30HCB1FoE77IfGRyNv4eFq',\n '30sJmjuLalNSzlRIml1PlJ',\n '3140mPbLQsrCPVcPQtdsS7',\n '335T6CXyga1eQRC01CUNW9',\n '33PXyHrkIHxp6PBVPlQGx7',\n '3BchXG7kCMnk8wtZ6rXDmO',\n '3FUgeEAXmITQys2lwVhU2Y',\n '3QOqSUK7WaEHI81YXGmawj',\n '3QbQ4rai4EV4uTqpj0HNsC',\n '3aKuvJ45zMpDxI3S9VVGAk',\n '3gwRWIbr5ycEVLIAXrWaw7',\n '3kwYRUqVWPpM42ym5VmXOH',\n '3o1nX61oecxnqXieA2ma0U',\n '3wBy12K7BHKHJspUwJw8fq',\n '3z8h0TU7ReDPLIbEnYhWZb',\n '46QazXxQS0B31CnbRCy8CV',\n '48m5AhYRPag92nkoEFetLf',\n '49EwkAlFaEWHycQaSgjPXB',\n '4EhkMUdkAVAsfsjbWU6PPr',\n '4FHGKscCEnhBSyszmL32L0',\n '4IF1unKzbUoNFgh5mntzo1',\n '4KdSFxOOIhx02NvXur4JDp',\n '4SXwU2F1jedDprZXQ8qvua',\n '4Sc5qEOSFI5rfS9IDyu0GO',\n '4Tgu3ZndKjciMXUBd4Hx57',\n '4cSSUpptr7r125fK5nRJhP',\n '4cdrNj23exTfnN6nyTRWKk',\n '4hummNzm7KJCi6mLMYi3Yn',\n '4pruGLEd2plhfOmusGTGdq',\n '4qWsMQMTbCxh0bIupNd2oG',\n '4sAjWbPq6iSI6I0Ovr9CkY',\n '4t3benUQCaYCPl4XLXxAwy',\n '4v7hr1o14pAvS390WTQH6d',\n '4xRsNEOHd4wxsAa8Jh3ptF',\n '53GtVpUnVP6gIpfuc63OKq',\n '59cZGLKHgcYWd0z4fvtikE',\n '5AToGW7gh0xgNyrDVd3qus',\n '5HNCy40Ni5BZJFw1TKzRsC',\n '5Lrs3rKUSccTFLVXLO7oom',\n '5UlGHbddHJjdRqaZF6OecR',\n '5lqgOLNscKdFVHFevN1uIg',\n '5meJWQuHyHDsOjWF8AtSDe',\n '5pFk2RvjlY0zKup2wv6aaN',\n '5rDwOhLEexJmvHf78doJuH',\n '60RtLYOwzUKWOuVHFMH9mY',\n '69bj1nacdFEs4tYZ0Ik6R9',\n '6FRQGRdhueJGTKiYnirDNy',\n '6IYrxDpz2HPRPfPUd0dSwr',\n '6J7mOCOrqcSD8wB70v2iWh',\n '6fQhgd0xpH6GvgYtAjeBJQ',\n '6g4yCs8FvfkI3H8F79VU8X',\n '6kqXaZrIDOmA177KL9LHHf',\n '6oK94yLgrZfEwJa69kr3N0',\n '6ycMzEaKlHHDJkHjUjEpzk',\n '72Ok4GfN0Y579UZvKQGq34',\n '72ahyckBJfTigJCFCviVN7',\n '75AhlGB9aFWTxDfbmbdiCH',\n '79kqINuLdQcryVgvwKIGrV',\n '7CTyXGB9uSD4goYKVIjPr6',\n '7FjITxlcgw9rsUiFgkxCeL',\n '7a6aGoKfpywaIIwSXmZkW1',\n '7mzHEzbsl5iOvBRuXwReZU',\n '7vZaorDAi10w2pdjea4Vzh',\n '7wVNwIofWXgJ45kNrV9W9s',\n '7xD7MvjAdZkx1YICschIuI'}"
     },
     "execution_count": 61,
     "metadata": {},
     "output_type": "execute_result"
    }
   ],
   "source": [
    "set(user_history['track_id'])"
   ],
   "metadata": {
    "collapsed": false,
    "ExecuteTime": {
     "end_time": "2023-12-27T17:23:23.473612415Z",
     "start_time": "2023-12-27T17:23:23.450095911Z"
    }
   },
   "id": "173eeebd6c1f8fe7"
  },
  {
   "cell_type": "code",
   "execution_count": 62,
   "outputs": [
    {
     "data": {
      "text/plain": "0"
     },
     "execution_count": 62,
     "metadata": {},
     "output_type": "execute_result"
    }
   ],
   "source": [
    "len([i for i in predicted if i in user_history['track_id']])"
   ],
   "metadata": {
    "collapsed": false,
    "ExecuteTime": {
     "end_time": "2023-12-27T17:23:23.473723497Z",
     "start_time": "2023-12-27T17:23:23.450144446Z"
    }
   },
   "id": "b6246887971955e1"
  },
  {
   "cell_type": "code",
   "execution_count": 63,
   "outputs": [
    {
     "data": {
      "text/plain": "{'acousticness',\n 'danceability',\n 'duration_ms',\n 'energy',\n 'id',\n 'id_artist',\n 'instrumentalness',\n 'key',\n 'liveness',\n 'loudness',\n 'popularity',\n 'release_year',\n 'speechiness',\n 'tempo',\n 'valence'}"
     },
     "execution_count": 63,
     "metadata": {},
     "output_type": "execute_result"
    }
   ],
   "source": [
    "set(predicted)"
   ],
   "metadata": {
    "collapsed": false,
    "ExecuteTime": {
     "end_time": "2023-12-27T17:23:23.473850846Z",
     "start_time": "2023-12-27T17:23:23.450178715Z"
    }
   },
   "id": "8f2d875a11ab724"
  },
  {
   "cell_type": "code",
   "execution_count": 64,
   "outputs": [
    {
     "data": {
      "text/plain": "set()"
     },
     "execution_count": 64,
     "metadata": {},
     "output_type": "execute_result"
    }
   ],
   "source": [
    "set(predicted).intersection(set(user_history['track_id']))"
   ],
   "metadata": {
    "collapsed": false,
    "ExecuteTime": {
     "end_time": "2023-12-27T17:23:23.473955194Z",
     "start_time": "2023-12-27T17:23:23.450254271Z"
    }
   },
   "id": "b95919396c21b889"
  },
  {
   "cell_type": "code",
   "execution_count": 65,
   "outputs": [
    {
     "name": "stdout",
     "output_type": "stream",
     "text": [
      "0.0\n"
     ]
    }
   ],
   "source": [
    "print(len(set(predicted).intersection(set(user_history['track_id']))) / 1000)"
   ],
   "metadata": {
    "collapsed": false,
    "ExecuteTime": {
     "end_time": "2023-12-27T17:23:23.474050435Z",
     "start_time": "2023-12-27T17:23:23.450289465Z"
    }
   },
   "id": "de30d6dbe599fa5e"
  },
  {
   "cell_type": "code",
   "execution_count": 66,
   "outputs": [
    {
     "data": {
      "text/plain": "2.3959072"
     },
     "execution_count": 66,
     "metadata": {},
     "output_type": "execute_result"
    }
   ],
   "source": [
    "coords = np.take(model_h.get_item_representations()[1], indices, axis=0)\n",
    "center = np.sum(coords, axis=0) / coords.shape[0]\n",
    "mean_dist = np.average(np.apply_along_axis(lambda x: np.linalg.norm(center - x, ord=2), 1, coords))\n",
    "mean_dist"
   ],
   "metadata": {
    "collapsed": false,
    "ExecuteTime": {
     "end_time": "2023-12-27T17:23:29.964490787Z",
     "start_time": "2023-12-27T17:23:29.956146222Z"
    }
   },
   "id": "5cb6425b5bb926b5"
  },
  {
   "cell_type": "code",
   "execution_count": 166,
   "outputs": [
    {
     "name": "stderr",
     "output_type": "stream",
     "text": [
      "/tmp/ipykernel_19568/393856704.py:1: DeprecationWarning: This function is deprecated. Please call randint(0, 129662 + 1) instead\n",
      "  coords = np.take(model_h.get_item_representations()[1], np.random.random_integers(low=0, high=len(model_h.get_item_representations()[1]), size=100), axis=0)\n"
     ]
    },
    {
     "data": {
      "text/plain": "4.962974"
     },
     "execution_count": 166,
     "metadata": {},
     "output_type": "execute_result"
    }
   ],
   "source": [
    "coords = np.take(model_h.get_item_representations()[1], np.random.random_integers(low=0, high=len(model_h.get_item_representations()[1]), size=1000), axis=0)\n",
    "center = np.sum(coords, axis=0) / coords.shape[0]\n",
    "mean_dist = np.average(np.apply_along_axis(lambda x: np.linalg.norm(center - x, ord=2), 1, coords))\n",
    "mean_dist"
   ],
   "metadata": {
    "collapsed": false,
    "ExecuteTime": {
     "end_time": "2023-12-27T18:58:36.748709285Z",
     "start_time": "2023-12-27T18:58:36.706004444Z"
    }
   },
   "id": "cf63b01c738cc915"
  },
  {
   "cell_type": "code",
   "execution_count": null,
   "outputs": [],
   "source": [],
   "metadata": {
    "collapsed": false
   },
   "id": "e3293e267b40b0a3"
  },
  {
   "cell_type": "code",
   "execution_count": 123,
   "outputs": [
    {
     "name": "stdout",
     "output_type": "stream",
     "text": [
      "100 ['1TvQRwofUzq2U4Q9jbbXXi', '55Xrxpi5WADlaefkGB6M96', '4rS66iKCLms3yumMYACKwJ', '0lVkcHdJQ29VEoz0Rs4Owr', '0bzTbaANQ33XXQG3d4C7Ho', '27awWR6uOBSBYlDPLKyt46', '4kYKr9MQu23Y936UZTw3op', '1QUjZcrx5VRZM23y5iu72w', '3FMLd0xrILFklTmWpY6TsY', '2rCacchqI6MrR1E7toRZrK', '6XoaOnQ4PzEGtXQ8eWMkNE', '2o8U5FPafHmHuVGd3suyv7', '2hSdHOOBLXNkh7zmmgoAn3', '1jhc9VMo0Lq0VQ4hsX3KMH', '3aone8W3MeRtNOXY2c6J9P', '38JSatkJEuhIKODWyJhZxq', '3yRNGKhJwZ8u0VqQWwp1Kz', '6SyLK7iMViKdsYWuOWX21L', '1Oy571ZnyuXnnMlKjzLD1D', '2XGCCel9b78Gkkfu5c3j2g']\n"
     ]
    },
    {
     "data": {
      "text/plain": "set()"
     },
     "execution_count": 123,
     "metadata": {},
     "output_type": "execute_result"
    }
   ],
   "source": [
    "def predict_single(user: int, number: int):\n",
    "    predicted_scores = model_h.predict(user, np.arange(interactions.shape[1]), \n",
    "                                   item_features=item_features, \n",
    "                                   num_threads=12)\n",
    "    indices = np.argpartition(predicted_scores, -number)[-number:]\n",
    "    return tracks.loc[indices]['id']\n",
    "\n",
    "\n",
    "def predict_multiple(users: list[int], number: int):\n",
    "    if len(users) == 1:\n",
    "        return frozenset(predict_single(users[0], number))\n",
    "    \n",
    "    predictions = [frozenset(predict_single(u, number)) for u in users]\n",
    "    return predictions[0].intersection(*predictions[1:])\n",
    "\n",
    "res= predict_multiple([123, 124], 100)\n",
    "print(len(res), list(res)[:20])\n",
    "\n",
    "set(predict_single(123, 100)).difference(set(predict_single(124, 100)))"
   ],
   "metadata": {
    "collapsed": false,
    "ExecuteTime": {
     "end_time": "2023-12-27T18:40:53.789392884Z",
     "start_time": "2023-12-27T18:40:53.748470613Z"
    }
   },
   "id": "ed44fc7faee9586e"
  },
  {
   "cell_type": "code",
   "execution_count": 124,
   "outputs": [
    {
     "name": "stderr",
     "output_type": "stream",
     "text": [
      "Epoch: 100%|██████████| 5/5 [00:21<00:00,  4.22s/it]\n"
     ]
    },
    {
     "data": {
      "text/plain": "<lightfm.lightfm.LightFM at 0x7fbecde25570>"
     },
     "execution_count": 124,
     "metadata": {},
     "output_type": "execute_result"
    }
   ],
   "source": [
    "model_1 = LightFM(\n",
    "    loss='warp',\n",
    "    learning_rate=0.003,\n",
    "    # item_alpha=1e-6,\n",
    "    # user_alpha=1e-6,\n",
    "    no_components=30,\n",
    ")\n",
    "model_1.fit(\n",
    "    interactions=interactions,\n",
    "    item_features=item_features,\n",
    "    epochs=5,\n",
    "    num_threads=12,\n",
    "    verbose=True)"
   ],
   "metadata": {
    "collapsed": false,
    "ExecuteTime": {
     "end_time": "2023-12-27T18:45:10.942316246Z",
     "start_time": "2023-12-27T18:44:49.731955413Z"
    }
   },
   "id": "f634ab2f0e3ff66f"
  },
  {
   "cell_type": "code",
   "execution_count": 163,
   "outputs": [
    {
     "name": "stdout",
     "output_type": "stream",
     "text": [
      "frozenset({55299, 75783, 52236, 60947, 99859, 68636, 47139, 43050, 52782, 76335, 11312, 53300, 122431, 91712, 19525, 115781, 59476, 105047, 39000, 47192, 87640, 53345, 83557, 35949, 60014, 63599, 15984, 70256, 40050, 64114, 39543, 54924, 53389, 27282, 27284, 104599, 13979, 108192, 30883, 65703, 76970, 62643, 95939, 46789, 39622, 123594, 20687, 127187, 91364, 59641, 117504, 63271, 99623, 118574, 12086, 47935, 53568, 117567, 50503, 73543, 84808, 97098, 52561, 61779, 17758, 95584, 12130, 31595, 58223, 72048, 90994, 101758, 104836, 74632, 57737, 127372, 66445, 55187, 84886, 94614, 94616, 93593, 106918, 26028, 59314, 77237, 72127, 31689, 111562, 111567, 81360, 58836, 93150, 98270, 89059, 88036, 68075, 50164, 58872, 32251})\n",
      "100\n"
     ]
    }
   ],
   "source": [
    "def predict_single1(user: int, number: int):\n",
    "    predicted_scores = model_1.predict(user, np.arange(interactions.shape[1]), \n",
    "                                   item_features=item_features, \n",
    "                                   num_threads=12)\n",
    "    indices = np.argpartition(predicted_scores, -number)[-number:]\n",
    "    return tracks.loc[indices]['id']\n",
    "\n",
    "\n",
    "def predict_multiple1(users: list[int], number: int):\n",
    "    def predict_single_indices(user: int, number: int):\n",
    "        predicted_scores = model_1.predict(user, np.arange(interactions.shape[1]), \n",
    "                                       item_features=item_features, \n",
    "                                       num_threads=12)\n",
    "        return np.argpartition(predicted_scores, -number)[-number:]\n",
    "    \n",
    "    if len(users) == 1:\n",
    "        return frozenset(predict_single_indices(users[0], number))\n",
    "    \n",
    "    predictions = [frozenset(predict_single_indices(u, number)) for u in users]\n",
    "    return predictions[0].intersection(*predictions[1:])\n",
    "\n",
    "res= predict_multiple1([123, 124, 125], 44100)\n",
    "\n",
    "print(res)\n",
    "print(len(res))"
   ],
   "metadata": {
    "collapsed": false,
    "ExecuteTime": {
     "end_time": "2023-12-27T18:57:35.911917448Z",
     "start_time": "2023-12-27T18:57:35.858711755Z"
    }
   },
   "id": "d85240db25491715"
  },
  {
   "cell_type": "code",
   "execution_count": 165,
   "outputs": [
    {
     "data": {
      "text/plain": "35.787254"
     },
     "execution_count": 165,
     "metadata": {},
     "output_type": "execute_result"
    }
   ],
   "source": [
    "coords = np.take(model_1.get_item_representations()[1], list(indices), axis=0)\n",
    "center = np.sum(coords, axis=0) / coords.shape[0]\n",
    "mean_dist = np.average(np.apply_along_axis(lambda x: np.linalg.norm(center - x, ord=2), 1, coords))\n",
    "mean_dist"
   ],
   "metadata": {
    "collapsed": false,
    "ExecuteTime": {
     "end_time": "2023-12-27T18:58:13.734971446Z",
     "start_time": "2023-12-27T18:58:13.689236552Z"
    }
   },
   "id": "67ffa24740f1e130"
  },
  {
   "cell_type": "code",
   "execution_count": 168,
   "outputs": [
    {
     "name": "stderr",
     "output_type": "stream",
     "text": [
      "/tmp/ipykernel_19568/1286966399.py:1: DeprecationWarning: This function is deprecated. Please call randint(0, 129662 + 1) instead\n",
      "  coords = np.take(model_1.get_item_representations()[1], np.random.random_integers(low=0, high=len(model_1.get_item_representations()[1]), size=100), axis=0)\n"
     ]
    },
    {
     "data": {
      "text/plain": "30.189936"
     },
     "execution_count": 168,
     "metadata": {},
     "output_type": "execute_result"
    }
   ],
   "source": [
    "coords = np.take(model_1.get_item_representations()[1], np.random.random_integers(low=0, high=len(model_1.get_item_representations()[1]), size=100), axis=0)\n",
    "center = np.sum(coords, axis=0) / coords.shape[0]\n",
    "mean_dist = np.average(np.apply_along_axis(lambda x: np.linalg.norm(center - x, ord=2), 1, coords))\n",
    "mean_dist"
   ],
   "metadata": {
    "collapsed": false,
    "ExecuteTime": {
     "end_time": "2023-12-27T19:02:19.820768522Z",
     "start_time": "2023-12-27T19:02:19.763905914Z"
    }
   },
   "id": "c8502af38013a0c5"
  },
  {
   "cell_type": "code",
   "execution_count": 193,
   "outputs": [
    {
     "data": {
      "text/plain": "Index([   192,    676,    853,   2235,   3982,   4716,   5015,   6324,   6402,\n         7244,\n       ...\n       121547, 121760, 121986, 122985, 123020, 123891, 126264, 126548, 126648,\n       129342],\n      dtype='int64', length=127)"
     },
     "execution_count": 193,
     "metadata": {},
     "output_type": "execute_result"
    }
   ],
   "source": [
    "filtered = pd.concat(\n",
    "    (d.loc[d['user_id'] == 123], d.loc[d['user_id'] == 124], d.loc[d['user_id'] == 125])).drop_duplicates(subset=['track_id'])\n",
    "\n",
    "tracks_extended = pd.merge(tracks, filtered, how='inner', left_on='id', right_on='track_id', validate=\"1:1\")\n",
    "random_indices = tracks[tracks.id.isin(tracks_extended['track_id'])].index\n",
    "random_indices"
   ],
   "metadata": {
    "collapsed": false,
    "ExecuteTime": {
     "end_time": "2023-12-27T19:14:52.743559106Z",
     "start_time": "2023-12-27T19:14:52.563340561Z"
    }
   },
   "id": "8a12c750f1e96010"
  },
  {
   "cell_type": "code",
   "execution_count": 194,
   "outputs": [
    {
     "data": {
      "text/plain": "83.42466"
     },
     "execution_count": 194,
     "metadata": {},
     "output_type": "execute_result"
    }
   ],
   "source": [
    "coords = np.take(model_1.get_item_representations()[1], list(random_indices), axis=0)\n",
    "center = np.sum(coords, axis=0) / coords.shape[0]\n",
    "mean_dist = np.average(np.apply_along_axis(lambda x: np.linalg.norm(center - x, ord=2), 1, coords))\n",
    "mean_dist"
   ],
   "metadata": {
    "collapsed": false,
    "ExecuteTime": {
     "end_time": "2023-12-27T19:15:12.484080206Z",
     "start_time": "2023-12-27T19:15:12.441804505Z"
    }
   },
   "id": "41c66773cd7040b"
  }
 ],
 "metadata": {
  "kernelspec": {
   "display_name": "Python 3 (ipykernel)",
   "language": "python",
   "name": "python3"
  },
  "language_info": {
   "codemirror_mode": {
    "name": "ipython",
    "version": 3
   },
   "file_extension": ".py",
   "mimetype": "text/x-python",
   "name": "python",
   "nbconvert_exporter": "python",
   "pygments_lexer": "ipython3",
   "version": "3.10.11"
  }
 },
 "nbformat": 4,
 "nbformat_minor": 5
}
