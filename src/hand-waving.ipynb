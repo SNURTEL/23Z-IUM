{
 "cells": [
  {
   "cell_type": "markdown",
   "source": [
    "Build dataset\n"
   ],
   "metadata": {
    "collapsed": false
   },
   "id": "683999f8689ef957"
  },
  {
   "cell_type": "code",
   "execution_count": 1,
   "outputs": [],
   "source": [
    "from typing import TypedDict, Type, Any, Callable\n",
    "\n",
    "import warnings\n",
    "warnings.simplefilter(action='ignore', category=FutureWarning)\n",
    "\n",
    "import pandas as pd\n",
    "import numpy as np\n",
    "from matplotlib import pyplot as plt\n",
    "\n",
    "from spark.config import views\n",
    "from spark.create_session import create_session\n",
    "\n",
    "from IPython.display import display\n",
    "\n",
    "from fitter import Fitter, get_common_distributions"
   ],
   "metadata": {
    "collapsed": false,
    "ExecuteTime": {
     "end_time": "2023-12-25T22:20:47.473220720Z",
     "start_time": "2023-12-25T22:20:45.923868418Z"
    }
   },
   "id": "7165c3cf00682744"
  },
  {
   "cell_type": "code",
   "execution_count": 2,
   "outputs": [
    {
     "name": "stderr",
     "output_type": "stream",
     "text": [
      "Setting default log level to \"WARN\".\n",
      "To adjust logging level use sc.setLogLevel(newLevel). For SparkR, use setLogLevel(newLevel).\n",
      "23/12/25 23:20:48 WARN NativeCodeLoader: Unable to load native-hadoop library for your platform... using builtin-java classes where applicable\n",
      "23/12/25 23:20:49 WARN Utils: Service 'SparkUI' could not bind on port 4040. Attempting port 4041.\n"
     ]
    }
   ],
   "source": [
    "VIEWS = views(\"v3\")\n",
    "spark = create_session()\n",
    "\n",
    "for view, file in VIEWS.items():\n",
    "    df = spark.read.json(file)\n",
    "    df.createOrReplaceTempView(view)"
   ],
   "metadata": {
    "collapsed": false,
    "ExecuteTime": {
     "end_time": "2023-12-25T22:20:53.478477717Z",
     "start_time": "2023-12-25T22:20:47.475319825Z"
    }
   },
   "id": "bb68bcb393edcbb9"
  },
  {
   "cell_type": "code",
   "execution_count": 3,
   "outputs": [
    {
     "name": "stderr",
     "output_type": "stream",
     "text": [
      "                                                                                \r"
     ]
    }
   ],
   "source": [
    "sessions_full = spark.sql(f\"SELECT * FROM sessions \").toPandas()\n",
    "sessions = spark.sql(f\"SELECT DISTINCT user_id, track_id FROM sessions WHERE event_type like 'like'\").toPandas()\n",
    "tracks =  spark.sql(f\"SELECT DISTINCT id, acousticness, danceability, duration_ms, energy, instrumentalness, key, liveness, loudness, popularity, EXTRACT(year from `release_date`) as release_year, speechiness, tempo, valence FROM tracks \").toPandas()"
   ],
   "metadata": {
    "collapsed": false,
    "ExecuteTime": {
     "end_time": "2023-12-25T22:20:56.860931473Z",
     "start_time": "2023-12-25T22:20:53.482000813Z"
    }
   },
   "id": "a2f9ee82c87bf517"
  },
  {
   "cell_type": "code",
   "execution_count": 4,
   "outputs": [
    {
     "data": {
      "text/plain": "          event_type  session_id                   timestamp  \\\n0               play         124         2023-09-20T07:18:17   \n1               like         124  2023-09-20T07:18:30.069000   \n2               play         125  2023-04-27T00:20:57.181000   \n3               play         126  2023-02-11T05:34:54.160000   \n4       advertisment         126  2023-02-11T05:34:56.685000   \n...              ...         ...                         ...   \n580241          like      102015  2023-11-12T09:06:01.022000   \n580242          play      102015  2023-11-12T09:09:17.564000   \n580243          like      102015  2023-11-12T09:12:19.739000   \n580244          skip      102015  2023-11-12T09:12:58.093000   \n580245          play      102015  2023-11-12T09:13:03.093000   \n\n                      track_id  user_id  \n0       4flBNxpPLGVAdufOzRBIen      101  \n1       4flBNxpPLGVAdufOzRBIen      101  \n2       3uMYq07Kj5m564OQwdSCrD      101  \n3       2RChe0r2cMoyOvuKobZy44      101  \n4                         None      101  \n...                        ...      ...  \n580241  4cLdpErILMO8Db8pQVAVcZ     1100  \n580242  3j8ja2Hq824OaRqIENJPTH     1100  \n580243  3j8ja2Hq824OaRqIENJPTH     1100  \n580244  3j8ja2Hq824OaRqIENJPTH     1100  \n580245  42ocGQCOT0xYtV3f5kJDsD     1100  \n\n[580246 rows x 5 columns]",
      "text/html": "<div>\n<style scoped>\n    .dataframe tbody tr th:only-of-type {\n        vertical-align: middle;\n    }\n\n    .dataframe tbody tr th {\n        vertical-align: top;\n    }\n\n    .dataframe thead th {\n        text-align: right;\n    }\n</style>\n<table border=\"1\" class=\"dataframe\">\n  <thead>\n    <tr style=\"text-align: right;\">\n      <th></th>\n      <th>event_type</th>\n      <th>session_id</th>\n      <th>timestamp</th>\n      <th>track_id</th>\n      <th>user_id</th>\n    </tr>\n  </thead>\n  <tbody>\n    <tr>\n      <th>0</th>\n      <td>play</td>\n      <td>124</td>\n      <td>2023-09-20T07:18:17</td>\n      <td>4flBNxpPLGVAdufOzRBIen</td>\n      <td>101</td>\n    </tr>\n    <tr>\n      <th>1</th>\n      <td>like</td>\n      <td>124</td>\n      <td>2023-09-20T07:18:30.069000</td>\n      <td>4flBNxpPLGVAdufOzRBIen</td>\n      <td>101</td>\n    </tr>\n    <tr>\n      <th>2</th>\n      <td>play</td>\n      <td>125</td>\n      <td>2023-04-27T00:20:57.181000</td>\n      <td>3uMYq07Kj5m564OQwdSCrD</td>\n      <td>101</td>\n    </tr>\n    <tr>\n      <th>3</th>\n      <td>play</td>\n      <td>126</td>\n      <td>2023-02-11T05:34:54.160000</td>\n      <td>2RChe0r2cMoyOvuKobZy44</td>\n      <td>101</td>\n    </tr>\n    <tr>\n      <th>4</th>\n      <td>advertisment</td>\n      <td>126</td>\n      <td>2023-02-11T05:34:56.685000</td>\n      <td>None</td>\n      <td>101</td>\n    </tr>\n    <tr>\n      <th>...</th>\n      <td>...</td>\n      <td>...</td>\n      <td>...</td>\n      <td>...</td>\n      <td>...</td>\n    </tr>\n    <tr>\n      <th>580241</th>\n      <td>like</td>\n      <td>102015</td>\n      <td>2023-11-12T09:06:01.022000</td>\n      <td>4cLdpErILMO8Db8pQVAVcZ</td>\n      <td>1100</td>\n    </tr>\n    <tr>\n      <th>580242</th>\n      <td>play</td>\n      <td>102015</td>\n      <td>2023-11-12T09:09:17.564000</td>\n      <td>3j8ja2Hq824OaRqIENJPTH</td>\n      <td>1100</td>\n    </tr>\n    <tr>\n      <th>580243</th>\n      <td>like</td>\n      <td>102015</td>\n      <td>2023-11-12T09:12:19.739000</td>\n      <td>3j8ja2Hq824OaRqIENJPTH</td>\n      <td>1100</td>\n    </tr>\n    <tr>\n      <th>580244</th>\n      <td>skip</td>\n      <td>102015</td>\n      <td>2023-11-12T09:12:58.093000</td>\n      <td>3j8ja2Hq824OaRqIENJPTH</td>\n      <td>1100</td>\n    </tr>\n    <tr>\n      <th>580245</th>\n      <td>play</td>\n      <td>102015</td>\n      <td>2023-11-12T09:13:03.093000</td>\n      <td>42ocGQCOT0xYtV3f5kJDsD</td>\n      <td>1100</td>\n    </tr>\n  </tbody>\n</table>\n<p>580246 rows × 5 columns</p>\n</div>"
     },
     "metadata": {},
     "output_type": "display_data"
    },
    {
     "data": {
      "text/plain": "       user_id                track_id\n0          101  4YKAOXyqkKZ5gOZR0AmVMN\n1          104  5l9cr0lt9adgsQlhRAvgeL\n2          105  2d8JP84HNLKhmd6IYOoupQ\n3          108  4qO03RMQm88DdpTJcxlglY\n4          113  5kcvBnt6DPX3AMEsCx1qDh\n...        ...                     ...\n80366     1077  4GF00uRxC4ECrxNEbnapqf\n80367     1090  4PMdq7Q7xOFrY424ZelZEb\n80368     1100  4Dio1t8RHzLv1nfPJTSZyP\n80369     1076  3omvXShuRPM3zbDpWYqf5g\n80370     1084  68lxYbgjSltSxiDPeyQN3Q\n\n[80371 rows x 2 columns]",
      "text/html": "<div>\n<style scoped>\n    .dataframe tbody tr th:only-of-type {\n        vertical-align: middle;\n    }\n\n    .dataframe tbody tr th {\n        vertical-align: top;\n    }\n\n    .dataframe thead th {\n        text-align: right;\n    }\n</style>\n<table border=\"1\" class=\"dataframe\">\n  <thead>\n    <tr style=\"text-align: right;\">\n      <th></th>\n      <th>user_id</th>\n      <th>track_id</th>\n    </tr>\n  </thead>\n  <tbody>\n    <tr>\n      <th>0</th>\n      <td>101</td>\n      <td>4YKAOXyqkKZ5gOZR0AmVMN</td>\n    </tr>\n    <tr>\n      <th>1</th>\n      <td>104</td>\n      <td>5l9cr0lt9adgsQlhRAvgeL</td>\n    </tr>\n    <tr>\n      <th>2</th>\n      <td>105</td>\n      <td>2d8JP84HNLKhmd6IYOoupQ</td>\n    </tr>\n    <tr>\n      <th>3</th>\n      <td>108</td>\n      <td>4qO03RMQm88DdpTJcxlglY</td>\n    </tr>\n    <tr>\n      <th>4</th>\n      <td>113</td>\n      <td>5kcvBnt6DPX3AMEsCx1qDh</td>\n    </tr>\n    <tr>\n      <th>...</th>\n      <td>...</td>\n      <td>...</td>\n    </tr>\n    <tr>\n      <th>80366</th>\n      <td>1077</td>\n      <td>4GF00uRxC4ECrxNEbnapqf</td>\n    </tr>\n    <tr>\n      <th>80367</th>\n      <td>1090</td>\n      <td>4PMdq7Q7xOFrY424ZelZEb</td>\n    </tr>\n    <tr>\n      <th>80368</th>\n      <td>1100</td>\n      <td>4Dio1t8RHzLv1nfPJTSZyP</td>\n    </tr>\n    <tr>\n      <th>80369</th>\n      <td>1076</td>\n      <td>3omvXShuRPM3zbDpWYqf5g</td>\n    </tr>\n    <tr>\n      <th>80370</th>\n      <td>1084</td>\n      <td>68lxYbgjSltSxiDPeyQN3Q</td>\n    </tr>\n  </tbody>\n</table>\n<p>80371 rows × 2 columns</p>\n</div>"
     },
     "metadata": {},
     "output_type": "display_data"
    },
    {
     "data": {
      "text/plain": "                           id  acousticness  danceability  duration_ms  \\\n0      3KfbEIOC7YIv90FIfNSZpo        0.4490         0.688       146333   \n1      1dxbAIfCASqv6jix2R1Taj        0.7840         0.698       148413   \n2      17PXXzOygMyXXUNLngVN5u        0.8820         0.539       173733   \n3      3Um9toULmYFGCpvaIPFw7l        0.4470         0.283       233000   \n4      0GjEhVFGZW8afUYGChu3Rr        0.3580         0.543       230400   \n...                       ...           ...           ...          ...   \n22407  3VbsXTdxBl6IavGjFZbl3R        0.0394         0.720       225012   \n22408  2zurBuX8TGOHkZLhye9Xme        0.0551         0.769       179080   \n22409  3ev1ilsHdVbpXeT7FG6Kw7        0.6410         0.838       229187   \n22410  5qTwnr6WbWeeUDS9dcl5g6        0.3370         0.444       303097   \n22411  5MAjVARSIDzwz8jFG36hFu        0.2180         0.689       186643   \n\n       energy  instrumentalness  key  liveness  loudness  popularity  \\\n0       0.435          0.000000    9    0.1130   -11.359          74   \n1       0.293          0.010600    0    0.0936   -11.361          55   \n2       0.114          0.009020    2    0.1060   -20.575          60   \n3       0.716          0.000000    1    0.3990    -9.632          72   \n4       0.870          0.000939    9    0.7920    -6.514          81   \n...       ...               ...  ...       ...       ...         ...   \n22407   0.824          0.000000   10    0.0509    -5.086          53   \n22408   0.922          0.000000    9    0.1940    -2.779          51   \n22409   0.461          0.000000    1    0.0825    -9.610          54   \n22410   0.523          0.000000    1    0.1130    -4.522          54   \n22411   0.662          0.000032    7    0.3950    -6.732          68   \n\n       release_year  speechiness    tempo  valence  \n0              1965       0.0323  103.239    0.435  \n1              1967       0.0332  117.613    0.724  \n2              1970       0.0346  141.378    0.608  \n3              1971       0.0986  201.960    0.828  \n4              1976       0.0428  100.804    0.754  \n...             ...          ...      ...      ...  \n22407          2020       0.1280  165.998    0.333  \n22408          2020       0.1020  119.991    0.804  \n22409          2017       0.2170  104.979    0.497  \n22410          2019       0.0286  185.872    0.420  \n22411          2019       0.0612  129.957    0.673  \n\n[22412 rows x 14 columns]",
      "text/html": "<div>\n<style scoped>\n    .dataframe tbody tr th:only-of-type {\n        vertical-align: middle;\n    }\n\n    .dataframe tbody tr th {\n        vertical-align: top;\n    }\n\n    .dataframe thead th {\n        text-align: right;\n    }\n</style>\n<table border=\"1\" class=\"dataframe\">\n  <thead>\n    <tr style=\"text-align: right;\">\n      <th></th>\n      <th>id</th>\n      <th>acousticness</th>\n      <th>danceability</th>\n      <th>duration_ms</th>\n      <th>energy</th>\n      <th>instrumentalness</th>\n      <th>key</th>\n      <th>liveness</th>\n      <th>loudness</th>\n      <th>popularity</th>\n      <th>release_year</th>\n      <th>speechiness</th>\n      <th>tempo</th>\n      <th>valence</th>\n    </tr>\n  </thead>\n  <tbody>\n    <tr>\n      <th>0</th>\n      <td>3KfbEIOC7YIv90FIfNSZpo</td>\n      <td>0.4490</td>\n      <td>0.688</td>\n      <td>146333</td>\n      <td>0.435</td>\n      <td>0.000000</td>\n      <td>9</td>\n      <td>0.1130</td>\n      <td>-11.359</td>\n      <td>74</td>\n      <td>1965</td>\n      <td>0.0323</td>\n      <td>103.239</td>\n      <td>0.435</td>\n    </tr>\n    <tr>\n      <th>1</th>\n      <td>1dxbAIfCASqv6jix2R1Taj</td>\n      <td>0.7840</td>\n      <td>0.698</td>\n      <td>148413</td>\n      <td>0.293</td>\n      <td>0.010600</td>\n      <td>0</td>\n      <td>0.0936</td>\n      <td>-11.361</td>\n      <td>55</td>\n      <td>1967</td>\n      <td>0.0332</td>\n      <td>117.613</td>\n      <td>0.724</td>\n    </tr>\n    <tr>\n      <th>2</th>\n      <td>17PXXzOygMyXXUNLngVN5u</td>\n      <td>0.8820</td>\n      <td>0.539</td>\n      <td>173733</td>\n      <td>0.114</td>\n      <td>0.009020</td>\n      <td>2</td>\n      <td>0.1060</td>\n      <td>-20.575</td>\n      <td>60</td>\n      <td>1970</td>\n      <td>0.0346</td>\n      <td>141.378</td>\n      <td>0.608</td>\n    </tr>\n    <tr>\n      <th>3</th>\n      <td>3Um9toULmYFGCpvaIPFw7l</td>\n      <td>0.4470</td>\n      <td>0.283</td>\n      <td>233000</td>\n      <td>0.716</td>\n      <td>0.000000</td>\n      <td>1</td>\n      <td>0.3990</td>\n      <td>-9.632</td>\n      <td>72</td>\n      <td>1971</td>\n      <td>0.0986</td>\n      <td>201.960</td>\n      <td>0.828</td>\n    </tr>\n    <tr>\n      <th>4</th>\n      <td>0GjEhVFGZW8afUYGChu3Rr</td>\n      <td>0.3580</td>\n      <td>0.543</td>\n      <td>230400</td>\n      <td>0.870</td>\n      <td>0.000939</td>\n      <td>9</td>\n      <td>0.7920</td>\n      <td>-6.514</td>\n      <td>81</td>\n      <td>1976</td>\n      <td>0.0428</td>\n      <td>100.804</td>\n      <td>0.754</td>\n    </tr>\n    <tr>\n      <th>...</th>\n      <td>...</td>\n      <td>...</td>\n      <td>...</td>\n      <td>...</td>\n      <td>...</td>\n      <td>...</td>\n      <td>...</td>\n      <td>...</td>\n      <td>...</td>\n      <td>...</td>\n      <td>...</td>\n      <td>...</td>\n      <td>...</td>\n      <td>...</td>\n    </tr>\n    <tr>\n      <th>22407</th>\n      <td>3VbsXTdxBl6IavGjFZbl3R</td>\n      <td>0.0394</td>\n      <td>0.720</td>\n      <td>225012</td>\n      <td>0.824</td>\n      <td>0.000000</td>\n      <td>10</td>\n      <td>0.0509</td>\n      <td>-5.086</td>\n      <td>53</td>\n      <td>2020</td>\n      <td>0.1280</td>\n      <td>165.998</td>\n      <td>0.333</td>\n    </tr>\n    <tr>\n      <th>22408</th>\n      <td>2zurBuX8TGOHkZLhye9Xme</td>\n      <td>0.0551</td>\n      <td>0.769</td>\n      <td>179080</td>\n      <td>0.922</td>\n      <td>0.000000</td>\n      <td>9</td>\n      <td>0.1940</td>\n      <td>-2.779</td>\n      <td>51</td>\n      <td>2020</td>\n      <td>0.1020</td>\n      <td>119.991</td>\n      <td>0.804</td>\n    </tr>\n    <tr>\n      <th>22409</th>\n      <td>3ev1ilsHdVbpXeT7FG6Kw7</td>\n      <td>0.6410</td>\n      <td>0.838</td>\n      <td>229187</td>\n      <td>0.461</td>\n      <td>0.000000</td>\n      <td>1</td>\n      <td>0.0825</td>\n      <td>-9.610</td>\n      <td>54</td>\n      <td>2017</td>\n      <td>0.2170</td>\n      <td>104.979</td>\n      <td>0.497</td>\n    </tr>\n    <tr>\n      <th>22410</th>\n      <td>5qTwnr6WbWeeUDS9dcl5g6</td>\n      <td>0.3370</td>\n      <td>0.444</td>\n      <td>303097</td>\n      <td>0.523</td>\n      <td>0.000000</td>\n      <td>1</td>\n      <td>0.1130</td>\n      <td>-4.522</td>\n      <td>54</td>\n      <td>2019</td>\n      <td>0.0286</td>\n      <td>185.872</td>\n      <td>0.420</td>\n    </tr>\n    <tr>\n      <th>22411</th>\n      <td>5MAjVARSIDzwz8jFG36hFu</td>\n      <td>0.2180</td>\n      <td>0.689</td>\n      <td>186643</td>\n      <td>0.662</td>\n      <td>0.000032</td>\n      <td>7</td>\n      <td>0.3950</td>\n      <td>-6.732</td>\n      <td>68</td>\n      <td>2019</td>\n      <td>0.0612</td>\n      <td>129.957</td>\n      <td>0.673</td>\n    </tr>\n  </tbody>\n</table>\n<p>22412 rows × 14 columns</p>\n</div>"
     },
     "metadata": {},
     "output_type": "display_data"
    }
   ],
   "source": [
    "display(sessions_full)\n",
    "display(sessions)\n",
    "display(tracks)"
   ],
   "metadata": {
    "collapsed": false,
    "ExecuteTime": {
     "end_time": "2023-12-25T22:20:56.894245113Z",
     "start_time": "2023-12-25T22:20:56.866011853Z"
    }
   },
   "id": "a01cee0ebc7f0da"
  },
  {
   "cell_type": "code",
   "execution_count": 5,
   "outputs": [
    {
     "name": "stdout",
     "output_type": "stream",
     "text": [
      "Num users: 1000, num_items 21792.\n",
      "<1000x21792 sparse matrix of type '<class 'numpy.int32'>'\n",
      "\twith 80371 stored elements in COOrdinate format>\n"
     ]
    },
    {
     "ename": "ValueError",
     "evalue": "Feature a not in feature mapping. Call fit first.",
     "output_type": "error",
     "traceback": [
      "\u001B[0;31m---------------------------------------------------------------------------\u001B[0m",
      "\u001B[0;31mValueError\u001B[0m                                Traceback (most recent call last)",
      "Cell \u001B[0;32mIn[5], line 16\u001B[0m\n\u001B[1;32m     12\u001B[0m (interactions, weights) \u001B[38;5;241m=\u001B[39m dataset\u001B[38;5;241m.\u001B[39mbuild_interactions(sessions[[\u001B[38;5;124m'\u001B[39m\u001B[38;5;124muser_id\u001B[39m\u001B[38;5;124m'\u001B[39m, \u001B[38;5;124m'\u001B[39m\u001B[38;5;124mtrack_id\u001B[39m\u001B[38;5;124m'\u001B[39m]]\u001B[38;5;241m.\u001B[39mapply(\u001B[38;5;28mtuple\u001B[39m, axis\u001B[38;5;241m=\u001B[39m\u001B[38;5;241m1\u001B[39m))\n\u001B[1;32m     14\u001B[0m \u001B[38;5;28mprint\u001B[39m(\u001B[38;5;28mrepr\u001B[39m(interactions))\n\u001B[0;32m---> 16\u001B[0m item_features \u001B[38;5;241m=\u001B[39m \u001B[43mdataset\u001B[49m\u001B[38;5;241;43m.\u001B[39;49m\u001B[43mbuild_item_features\u001B[49m\u001B[43m(\u001B[49m\u001B[38;5;28;43mzip\u001B[39;49m\u001B[43m(\u001B[49m\u001B[43mtracks\u001B[49m\u001B[43m[\u001B[49m\u001B[38;5;124;43m'\u001B[39;49m\u001B[38;5;124;43mid\u001B[39;49m\u001B[38;5;124;43m'\u001B[39;49m\u001B[43m]\u001B[49m\u001B[43m,\u001B[49m\u001B[43m \u001B[49m\u001B[43mtracks\u001B[49m\u001B[38;5;241;43m.\u001B[39;49m\u001B[43mdrop\u001B[49m\u001B[43m(\u001B[49m\u001B[38;5;124;43m'\u001B[39;49m\u001B[38;5;124;43mid\u001B[39;49m\u001B[38;5;124;43m'\u001B[39;49m\u001B[43m,\u001B[49m\u001B[43m \u001B[49m\u001B[43maxis\u001B[49m\u001B[38;5;241;43m=\u001B[39;49m\u001B[38;5;241;43m1\u001B[39;49m\u001B[43m)\u001B[49m\u001B[43m)\u001B[49m\u001B[43m)\u001B[49m\n\u001B[1;32m     17\u001B[0m \u001B[38;5;28mprint\u001B[39m(\u001B[38;5;28mrepr\u001B[39m(item_features))\n",
      "File \u001B[0;32m~/IUM/ium-towienko-aschafer-23z/.venv/lib64/python3.10/site-packages/lightfm/data.py:422\u001B[0m, in \u001B[0;36mDataset.build_item_features\u001B[0;34m(self, data, normalize)\u001B[0m\n\u001B[1;32m    392\u001B[0m \u001B[38;5;250m\u001B[39m\u001B[38;5;124;03m\"\"\"\u001B[39;00m\n\u001B[1;32m    393\u001B[0m \u001B[38;5;124;03mBuild a item features matrix out of an iterable of the form\u001B[39;00m\n\u001B[1;32m    394\u001B[0m \u001B[38;5;124;03m(item id, [list of feature names]) or (item id, {feature name: feature weight}).\u001B[39;00m\n\u001B[0;32m   (...)\u001B[0m\n\u001B[1;32m    411\u001B[0m \u001B[38;5;124;03m    Matrix of item features.\u001B[39;00m\n\u001B[1;32m    412\u001B[0m \u001B[38;5;124;03m\"\"\"\u001B[39;00m\n\u001B[1;32m    414\u001B[0m builder \u001B[38;5;241m=\u001B[39m _FeatureBuilder(\n\u001B[1;32m    415\u001B[0m     \u001B[38;5;28mself\u001B[39m\u001B[38;5;241m.\u001B[39m_item_id_mapping,\n\u001B[1;32m    416\u001B[0m     \u001B[38;5;28mself\u001B[39m\u001B[38;5;241m.\u001B[39m_item_feature_mapping,\n\u001B[0;32m   (...)\u001B[0m\n\u001B[1;32m    419\u001B[0m     \u001B[38;5;124m\"\u001B[39m\u001B[38;5;124mitem\u001B[39m\u001B[38;5;124m\"\u001B[39m,\n\u001B[1;32m    420\u001B[0m )\n\u001B[0;32m--> 422\u001B[0m \u001B[38;5;28;01mreturn\u001B[39;00m \u001B[43mbuilder\u001B[49m\u001B[38;5;241;43m.\u001B[39;49m\u001B[43mbuild\u001B[49m\u001B[43m(\u001B[49m\u001B[43mdata\u001B[49m\u001B[43m)\u001B[49m\n",
      "File \u001B[0;32m~/IUM/ium-towienko-aschafer-23z/.venv/lib64/python3.10/site-packages/lightfm/data.py:119\u001B[0m, in \u001B[0;36m_FeatureBuilder.build\u001B[0;34m(self, data)\u001B[0m\n\u001B[1;32m    116\u001B[0m         features\u001B[38;5;241m.\u001B[39mappend(idx, \u001B[38;5;28mself\u001B[39m\u001B[38;5;241m.\u001B[39m_feature_mapping[_id], \u001B[38;5;241m1.0\u001B[39m)\n\u001B[1;32m    118\u001B[0m \u001B[38;5;28;01mfor\u001B[39;00m datum \u001B[38;5;129;01min\u001B[39;00m data:\n\u001B[0;32m--> 119\u001B[0m     \u001B[38;5;28;01mfor\u001B[39;00m (entity_idx, feature_idx, weight) \u001B[38;5;129;01min\u001B[39;00m \u001B[38;5;28mself\u001B[39m\u001B[38;5;241m.\u001B[39m_process_features(datum):\n\u001B[1;32m    120\u001B[0m         features\u001B[38;5;241m.\u001B[39mappend(entity_idx, feature_idx, weight)\n\u001B[1;32m    122\u001B[0m features \u001B[38;5;241m=\u001B[39m features\u001B[38;5;241m.\u001B[39mtocoo()\u001B[38;5;241m.\u001B[39mtocsr()\n",
      "File \u001B[0;32m~/IUM/ium-towienko-aschafer-23z/.venv/lib64/python3.10/site-packages/lightfm/data.py:101\u001B[0m, in \u001B[0;36m_FeatureBuilder._process_features\u001B[0;34m(self, datum)\u001B[0m\n\u001B[1;32m     99\u001B[0m \u001B[38;5;28;01mfor\u001B[39;00m (feature, weight) \u001B[38;5;129;01min\u001B[39;00m \u001B[38;5;28mself\u001B[39m\u001B[38;5;241m.\u001B[39m_iter_features(features):\n\u001B[1;32m    100\u001B[0m     \u001B[38;5;28;01mif\u001B[39;00m feature \u001B[38;5;129;01mnot\u001B[39;00m \u001B[38;5;129;01min\u001B[39;00m \u001B[38;5;28mself\u001B[39m\u001B[38;5;241m.\u001B[39m_feature_mapping:\n\u001B[0;32m--> 101\u001B[0m         \u001B[38;5;28;01mraise\u001B[39;00m \u001B[38;5;167;01mValueError\u001B[39;00m(\n\u001B[1;32m    102\u001B[0m             \u001B[38;5;124m\"\u001B[39m\u001B[38;5;124mFeature \u001B[39m\u001B[38;5;132;01m{}\u001B[39;00m\u001B[38;5;124m not in feature mapping. \u001B[39m\u001B[38;5;124m\"\u001B[39m\n\u001B[1;32m    103\u001B[0m             \u001B[38;5;124m\"\u001B[39m\u001B[38;5;124mCall fit first.\u001B[39m\u001B[38;5;124m\"\u001B[39m\u001B[38;5;241m.\u001B[39mformat(feature)\n\u001B[1;32m    104\u001B[0m         )\n\u001B[1;32m    106\u001B[0m     feature_idx \u001B[38;5;241m=\u001B[39m \u001B[38;5;28mself\u001B[39m\u001B[38;5;241m.\u001B[39m_feature_mapping[feature]\n\u001B[1;32m    108\u001B[0m     \u001B[38;5;28;01myield\u001B[39;00m (idx, feature_idx, weight)\n",
      "\u001B[0;31mValueError\u001B[0m: Feature a not in feature mapping. Call fit first."
     ]
    }
   ],
   "source": [
    "from lightfm.data import Dataset\n",
    "\n",
    "dataset = Dataset()\n",
    "dataset.fit(sessions['user_id'], sessions['track_id'])\n",
    "\n",
    "# spark cannot handle this! lol\n",
    "# item_features = spark.sql(f\"SELECT DISTINCT s.user_id, s.track_id, acousticness FROM sessions s inner join tracks t WHERE event_type like 'like'\").toPandas()\n",
    "\n",
    "\n",
    "num_users, num_items = dataset.interactions_shape()\n",
    "print('Num users: {}, num_items {}.'.format(num_users, num_items))\n",
    "\n",
    "(interactions, weights) = dataset.build_interactions(sessions[['user_id', 'track_id']].apply(tuple, axis=1))\n",
    "\n",
    "print(repr(interactions))\n",
    "\n",
    "item_features = dataset.build_item_features(zip(tracks['id'], tracks.drop('id', axis=1)))\n",
    "print(repr(item_features))\n"
   ],
   "metadata": {
    "collapsed": false,
    "ExecuteTime": {
     "end_time": "2023-12-25T22:20:57.784052267Z",
     "start_time": "2023-12-25T22:20:56.892745338Z"
    }
   },
   "id": "4117347bb9050b9"
  },
  {
   "cell_type": "code",
   "execution_count": null,
   "outputs": [],
   "source": [
    "from lightfm import LightFM\n",
    "\n",
    "model = LightFM(\n",
    "    loss='warp',\n",
    "    item_alpha=1e-6,\n",
    "    user_alpha=1e-6,\n",
    "    no_components=30\n",
    ")\n",
    "model.fit(\n",
    "    interactions=interactions,\n",
    "    item_features=,\n",
    "    epochs=50, \n",
    "    num_threads=12)"
   ],
   "metadata": {
    "collapsed": false,
    "ExecuteTime": {
     "start_time": "2023-12-25T22:20:57.784778825Z"
    }
   },
   "id": "da1239645daf3b6e"
  },
  {
   "cell_type": "code",
   "execution_count": null,
   "outputs": [],
   "source": [
    "from lightfm.evaluation import auc_score, precision_at_k, recall_at_k, reciprocal_rank\n",
    "from lightfm.cross_validation import random_train_test_split\n",
    "\n",
    "(train, test) = random_train_test_split(interactions)\n",
    "\n",
    "train_auc = auc_score(model, train, num_threads=12).mean()\n",
    "test_auc = auc_score(model, test, train_interactions=train, num_threads=12).mean()\n",
    "\n",
    "train_precision = precision_at_k(model, train, k=10, num_threads=12).mean()\n",
    "test_precision = precision_at_k(model, test, k=10, num_threads=12).mean()\n",
    "\n",
    "train_recall = recall_at_k(model, train, k=10, num_threads=12).mean()\n",
    "test_recall = recall_at_k(model, test, k=10, num_threads=12).mean()\n",
    "\n",
    "train_reciprocal_rank = reciprocal_rank(model, train, num_threads=12).mean()\n",
    "test_reciprocal_rank = reciprocal_rank(model, test, num_threads=12).mean()\n",
    "\n",
    "print('AUC: train %.6f, test %.6f.' % (train_auc, test_auc))\n",
    "print('Precision: train %.6f, test %.6f.' % (train_precision, test_precision))\n",
    "print('Recall: train %.6f, test %.6f.' % (train_recall, test_recall))\n",
    "print('Reciprocal rank: train %.6f, test %.6f.' % (train_reciprocal_rank, test_reciprocal_rank))\n"
   ],
   "metadata": {
    "collapsed": false,
    "ExecuteTime": {
     "end_time": "2023-12-25T22:20:57.787356342Z",
     "start_time": "2023-12-25T22:20:57.786197449Z"
    }
   },
   "id": "4517093997fb8420"
  }
 ],
 "metadata": {
  "kernelspec": {
   "display_name": "Python 3",
   "language": "python",
   "name": "python3"
  },
  "language_info": {
   "codemirror_mode": {
    "name": "ipython",
    "version": 2
   },
   "file_extension": ".py",
   "mimetype": "text/x-python",
   "name": "python",
   "nbconvert_exporter": "python",
   "pygments_lexer": "ipython2",
   "version": "2.7.6"
  }
 },
 "nbformat": 4,
 "nbformat_minor": 5
}
