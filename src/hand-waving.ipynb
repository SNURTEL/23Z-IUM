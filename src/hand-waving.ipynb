{
 "cells": [
  {
   "cell_type": "markdown",
   "id": "683999f8689ef957",
   "metadata": {
    "collapsed": false
   },
   "source": [
    "Build dataset\n"
   ]
  },
  {
   "cell_type": "code",
   "execution_count": 101,
   "id": "7165c3cf00682744",
   "metadata": {
    "collapsed": false,
    "ExecuteTime": {
     "end_time": "2023-12-27T15:54:52.775717645Z",
     "start_time": "2023-12-27T15:54:52.486597173Z"
    }
   },
   "outputs": [],
   "source": [
    "from typing import TypedDict, Type, Any, Callable\n",
    "\n",
    "import warnings\n",
    "\n",
    "warnings.simplefilter(action='ignore', category=FutureWarning)\n",
    "\n",
    "import pandas as pd\n",
    "import numpy as np\n",
    "from matplotlib import pyplot as plt\n",
    "\n",
    "from spark.config import views\n",
    "from spark.create_session import create_session\n",
    "\n",
    "from IPython.display import display\n",
    "\n",
    "from fitter import Fitter, get_common_distributions"
   ]
  },
  {
   "cell_type": "code",
   "execution_count": 102,
   "id": "bb68bcb393edcbb9",
   "metadata": {
    "collapsed": false,
    "ExecuteTime": {
     "end_time": "2023-12-27T15:54:53.041627854Z",
     "start_time": "2023-12-27T15:54:52.527956879Z"
    }
   },
   "outputs": [],
   "source": [
    "VIEWS = views(\"v3\")\n",
    "spark = create_session()\n",
    "\n",
    "for view, file in VIEWS.items():\n",
    "    df = spark.read.json(file)\n",
    "    df.createOrReplaceTempView(view)"
   ]
  },
  {
   "cell_type": "code",
   "execution_count": 103,
   "id": "a2f9ee82c87bf517",
   "metadata": {
    "collapsed": false,
    "ExecuteTime": {
     "end_time": "2023-12-27T15:54:54.653659996Z",
     "start_time": "2023-12-27T15:54:53.043302425Z"
    }
   },
   "outputs": [],
   "source": [
    "sessions_full = spark.sql(f\"SELECT * FROM sessions\").toPandas()\n",
    "sessions = spark.sql(f\"SELECT DISTINCT user_id, track_id FROM sessions WHERE event_type like 'like' order by user_id, track_id\").toPandas()\n",
    "tracks = spark.sql(\n",
    "    f\"SELECT DISTINCT id, id_artist, acousticness, danceability, duration_ms, energy, instrumentalness, key, liveness, loudness, popularity, EXTRACT(year from `release_date`) as release_year, speechiness, tempo, valence FROM tracks \").toPandas()"
   ]
  },
  {
   "cell_type": "code",
   "execution_count": 104,
   "id": "a01cee0ebc7f0da",
   "metadata": {
    "collapsed": false,
    "ExecuteTime": {
     "end_time": "2023-12-27T15:54:54.701887114Z",
     "start_time": "2023-12-27T15:54:54.659979398Z"
    }
   },
   "outputs": [
    {
     "data": {
      "text/plain": "          event_type  session_id                   timestamp  \\\n0               play         124         2023-09-20T07:18:17   \n1               like         124  2023-09-20T07:18:30.069000   \n2               play         125  2023-04-27T00:20:57.181000   \n3               play         126  2023-02-11T05:34:54.160000   \n4       advertisment         126  2023-02-11T05:34:56.685000   \n...              ...         ...                         ...   \n580241          like      102015  2023-11-12T09:06:01.022000   \n580242          play      102015  2023-11-12T09:09:17.564000   \n580243          like      102015  2023-11-12T09:12:19.739000   \n580244          skip      102015  2023-11-12T09:12:58.093000   \n580245          play      102015  2023-11-12T09:13:03.093000   \n\n                      track_id  user_id  \n0       4flBNxpPLGVAdufOzRBIen      101  \n1       4flBNxpPLGVAdufOzRBIen      101  \n2       3uMYq07Kj5m564OQwdSCrD      101  \n3       2RChe0r2cMoyOvuKobZy44      101  \n4                         None      101  \n...                        ...      ...  \n580241  4cLdpErILMO8Db8pQVAVcZ     1100  \n580242  3j8ja2Hq824OaRqIENJPTH     1100  \n580243  3j8ja2Hq824OaRqIENJPTH     1100  \n580244  3j8ja2Hq824OaRqIENJPTH     1100  \n580245  42ocGQCOT0xYtV3f5kJDsD     1100  \n\n[580246 rows x 5 columns]",
      "text/html": "<div>\n<style scoped>\n    .dataframe tbody tr th:only-of-type {\n        vertical-align: middle;\n    }\n\n    .dataframe tbody tr th {\n        vertical-align: top;\n    }\n\n    .dataframe thead th {\n        text-align: right;\n    }\n</style>\n<table border=\"1\" class=\"dataframe\">\n  <thead>\n    <tr style=\"text-align: right;\">\n      <th></th>\n      <th>event_type</th>\n      <th>session_id</th>\n      <th>timestamp</th>\n      <th>track_id</th>\n      <th>user_id</th>\n    </tr>\n  </thead>\n  <tbody>\n    <tr>\n      <th>0</th>\n      <td>play</td>\n      <td>124</td>\n      <td>2023-09-20T07:18:17</td>\n      <td>4flBNxpPLGVAdufOzRBIen</td>\n      <td>101</td>\n    </tr>\n    <tr>\n      <th>1</th>\n      <td>like</td>\n      <td>124</td>\n      <td>2023-09-20T07:18:30.069000</td>\n      <td>4flBNxpPLGVAdufOzRBIen</td>\n      <td>101</td>\n    </tr>\n    <tr>\n      <th>2</th>\n      <td>play</td>\n      <td>125</td>\n      <td>2023-04-27T00:20:57.181000</td>\n      <td>3uMYq07Kj5m564OQwdSCrD</td>\n      <td>101</td>\n    </tr>\n    <tr>\n      <th>3</th>\n      <td>play</td>\n      <td>126</td>\n      <td>2023-02-11T05:34:54.160000</td>\n      <td>2RChe0r2cMoyOvuKobZy44</td>\n      <td>101</td>\n    </tr>\n    <tr>\n      <th>4</th>\n      <td>advertisment</td>\n      <td>126</td>\n      <td>2023-02-11T05:34:56.685000</td>\n      <td>None</td>\n      <td>101</td>\n    </tr>\n    <tr>\n      <th>...</th>\n      <td>...</td>\n      <td>...</td>\n      <td>...</td>\n      <td>...</td>\n      <td>...</td>\n    </tr>\n    <tr>\n      <th>580241</th>\n      <td>like</td>\n      <td>102015</td>\n      <td>2023-11-12T09:06:01.022000</td>\n      <td>4cLdpErILMO8Db8pQVAVcZ</td>\n      <td>1100</td>\n    </tr>\n    <tr>\n      <th>580242</th>\n      <td>play</td>\n      <td>102015</td>\n      <td>2023-11-12T09:09:17.564000</td>\n      <td>3j8ja2Hq824OaRqIENJPTH</td>\n      <td>1100</td>\n    </tr>\n    <tr>\n      <th>580243</th>\n      <td>like</td>\n      <td>102015</td>\n      <td>2023-11-12T09:12:19.739000</td>\n      <td>3j8ja2Hq824OaRqIENJPTH</td>\n      <td>1100</td>\n    </tr>\n    <tr>\n      <th>580244</th>\n      <td>skip</td>\n      <td>102015</td>\n      <td>2023-11-12T09:12:58.093000</td>\n      <td>3j8ja2Hq824OaRqIENJPTH</td>\n      <td>1100</td>\n    </tr>\n    <tr>\n      <th>580245</th>\n      <td>play</td>\n      <td>102015</td>\n      <td>2023-11-12T09:13:03.093000</td>\n      <td>42ocGQCOT0xYtV3f5kJDsD</td>\n      <td>1100</td>\n    </tr>\n  </tbody>\n</table>\n<p>580246 rows × 5 columns</p>\n</div>"
     },
     "metadata": {},
     "output_type": "display_data"
    },
    {
     "data": {
      "text/plain": "       user_id                track_id\n0          101  03LNdMgu3l3Ldc3QMl1bvZ\n1          101  0BVCEJJFVsb8nrQGI11Dj2\n2          101  0PCpQRd0hMAWjBLOmJdR7X\n3          101  0bLOiofyBB62YU2cNnONJG\n4          101  0iJfN2CqrX7O8hkzgAMMAf\n...        ...                     ...\n80366     1100  7FdAQ7CXm9yS4DBtIKopLi\n80367     1100  7a9aeLVkn7DIqFjbanKz0k\n80368     1100  7an1exwMnfYRcdVQm0yDev\n80369     1100  7cioKB5CHVzk09SOtTyn0T\n80370     1100  7mYvtEeBdMqRSyj1Qpv6my\n\n[80371 rows x 2 columns]",
      "text/html": "<div>\n<style scoped>\n    .dataframe tbody tr th:only-of-type {\n        vertical-align: middle;\n    }\n\n    .dataframe tbody tr th {\n        vertical-align: top;\n    }\n\n    .dataframe thead th {\n        text-align: right;\n    }\n</style>\n<table border=\"1\" class=\"dataframe\">\n  <thead>\n    <tr style=\"text-align: right;\">\n      <th></th>\n      <th>user_id</th>\n      <th>track_id</th>\n    </tr>\n  </thead>\n  <tbody>\n    <tr>\n      <th>0</th>\n      <td>101</td>\n      <td>03LNdMgu3l3Ldc3QMl1bvZ</td>\n    </tr>\n    <tr>\n      <th>1</th>\n      <td>101</td>\n      <td>0BVCEJJFVsb8nrQGI11Dj2</td>\n    </tr>\n    <tr>\n      <th>2</th>\n      <td>101</td>\n      <td>0PCpQRd0hMAWjBLOmJdR7X</td>\n    </tr>\n    <tr>\n      <th>3</th>\n      <td>101</td>\n      <td>0bLOiofyBB62YU2cNnONJG</td>\n    </tr>\n    <tr>\n      <th>4</th>\n      <td>101</td>\n      <td>0iJfN2CqrX7O8hkzgAMMAf</td>\n    </tr>\n    <tr>\n      <th>...</th>\n      <td>...</td>\n      <td>...</td>\n    </tr>\n    <tr>\n      <th>80366</th>\n      <td>1100</td>\n      <td>7FdAQ7CXm9yS4DBtIKopLi</td>\n    </tr>\n    <tr>\n      <th>80367</th>\n      <td>1100</td>\n      <td>7a9aeLVkn7DIqFjbanKz0k</td>\n    </tr>\n    <tr>\n      <th>80368</th>\n      <td>1100</td>\n      <td>7an1exwMnfYRcdVQm0yDev</td>\n    </tr>\n    <tr>\n      <th>80369</th>\n      <td>1100</td>\n      <td>7cioKB5CHVzk09SOtTyn0T</td>\n    </tr>\n    <tr>\n      <th>80370</th>\n      <td>1100</td>\n      <td>7mYvtEeBdMqRSyj1Qpv6my</td>\n    </tr>\n  </tbody>\n</table>\n<p>80371 rows × 2 columns</p>\n</div>"
     },
     "metadata": {},
     "output_type": "display_data"
    },
    {
     "data": {
      "text/plain": "                           id               id_artist  acousticness  \\\n0      4y8icjzu6fZP503Mg31Tpn  5V0MlUE1Bft0mbLlND7FJz       0.87800   \n1      4hHbeIIKO5Y5uLyIEbY9Gn  1Mxqyy3pSjf8kZZL4QVxS0       0.84500   \n2      0KSHmjK7OFtGocvbo7NZNO  6kACVPfCOnqzgfEF5ryl0x       0.80300   \n3      30V02AmDYMRvrHE4L8cZAo  22bE4uQ6baNwSHPVcDxLCe       0.17800   \n4      2CQRYn5cTD2B9a1ONjhTN2  3oDbviiivRWhXwIE8hxkVV       0.72500   \n...                       ...                     ...           ...   \n22407  3atrFJhUzDm5xiutqfEPkP  74XFHRwlV6OrjEM0A2NCMF       0.00576   \n22408  3wYzd4dzWknPdgwNaPGQvg  7JthQ6zwNzfxRfIEjp6wUs       0.06960   \n22409  6UIcN1tiiGdd7oMMzNvyaP  7lbSsjYACZHn1MSDXPxNF2       0.06010   \n22410  62i2LI6iDmAHbE9H9wa99z  7k73EtZwoPs516ZxE72KsO       0.38500   \n22411  2bAAj29XGc4h1G4oEGYCmg  7n2Ycct7Beij7Dj7meI4X0       0.03120   \n\n       danceability  duration_ms  energy  instrumentalness  key  liveness  \\\n0             0.184       224227   0.292          0.000258    7    0.3460   \n1             0.574       199093   0.338          0.000000    6    0.1650   \n2             0.754       107280   0.484          0.000009   10    0.0989   \n3             0.578       133320   0.429          0.000060    2    0.1710   \n4             0.396       145800   0.686          0.000001    5    0.1700   \n...             ...          ...     ...               ...  ...       ...   \n22407         0.489       218333   0.611          0.000008    6    0.0917   \n22408         0.607       191474   0.605          0.000000    3    0.4540   \n22409         0.479       297502   0.478          0.000007    5    0.0813   \n22410         0.470       216970   0.738          0.000621    8    0.0656   \n22411         0.739       199653   0.841          0.000000    5    0.1730   \n\n       loudness  popularity  release_year  speechiness    tempo  valence  \n0       -12.246          55          1956       0.0312   75.630   0.1430  \n1       -11.376          69          1958       0.0420   67.008   0.4930  \n2        -9.196          52          1959       0.0609   82.761   0.8010  \n3        -9.601          57          1965       0.0268  108.738   0.0889  \n4        -5.607          57          1966       0.0341  124.318   0.7170  \n...         ...         ...           ...          ...      ...      ...  \n22407    -5.675          52          2007       0.0337  140.956   0.1860  \n22408    -6.050          65          2021       0.1590   83.913   0.6650  \n22409    -8.884          53          2020       0.1100  100.040   0.1170  \n22410    -4.641          52          2017       0.0398   97.973   0.4880  \n22411    -4.162          61          2020       0.0600  106.990   0.5620  \n\n[22412 rows x 15 columns]",
      "text/html": "<div>\n<style scoped>\n    .dataframe tbody tr th:only-of-type {\n        vertical-align: middle;\n    }\n\n    .dataframe tbody tr th {\n        vertical-align: top;\n    }\n\n    .dataframe thead th {\n        text-align: right;\n    }\n</style>\n<table border=\"1\" class=\"dataframe\">\n  <thead>\n    <tr style=\"text-align: right;\">\n      <th></th>\n      <th>id</th>\n      <th>id_artist</th>\n      <th>acousticness</th>\n      <th>danceability</th>\n      <th>duration_ms</th>\n      <th>energy</th>\n      <th>instrumentalness</th>\n      <th>key</th>\n      <th>liveness</th>\n      <th>loudness</th>\n      <th>popularity</th>\n      <th>release_year</th>\n      <th>speechiness</th>\n      <th>tempo</th>\n      <th>valence</th>\n    </tr>\n  </thead>\n  <tbody>\n    <tr>\n      <th>0</th>\n      <td>4y8icjzu6fZP503Mg31Tpn</td>\n      <td>5V0MlUE1Bft0mbLlND7FJz</td>\n      <td>0.87800</td>\n      <td>0.184</td>\n      <td>224227</td>\n      <td>0.292</td>\n      <td>0.000258</td>\n      <td>7</td>\n      <td>0.3460</td>\n      <td>-12.246</td>\n      <td>55</td>\n      <td>1956</td>\n      <td>0.0312</td>\n      <td>75.630</td>\n      <td>0.1430</td>\n    </tr>\n    <tr>\n      <th>1</th>\n      <td>4hHbeIIKO5Y5uLyIEbY9Gn</td>\n      <td>1Mxqyy3pSjf8kZZL4QVxS0</td>\n      <td>0.84500</td>\n      <td>0.574</td>\n      <td>199093</td>\n      <td>0.338</td>\n      <td>0.000000</td>\n      <td>6</td>\n      <td>0.1650</td>\n      <td>-11.376</td>\n      <td>69</td>\n      <td>1958</td>\n      <td>0.0420</td>\n      <td>67.008</td>\n      <td>0.4930</td>\n    </tr>\n    <tr>\n      <th>2</th>\n      <td>0KSHmjK7OFtGocvbo7NZNO</td>\n      <td>6kACVPfCOnqzgfEF5ryl0x</td>\n      <td>0.80300</td>\n      <td>0.754</td>\n      <td>107280</td>\n      <td>0.484</td>\n      <td>0.000009</td>\n      <td>10</td>\n      <td>0.0989</td>\n      <td>-9.196</td>\n      <td>52</td>\n      <td>1959</td>\n      <td>0.0609</td>\n      <td>82.761</td>\n      <td>0.8010</td>\n    </tr>\n    <tr>\n      <th>3</th>\n      <td>30V02AmDYMRvrHE4L8cZAo</td>\n      <td>22bE4uQ6baNwSHPVcDxLCe</td>\n      <td>0.17800</td>\n      <td>0.578</td>\n      <td>133320</td>\n      <td>0.429</td>\n      <td>0.000060</td>\n      <td>2</td>\n      <td>0.1710</td>\n      <td>-9.601</td>\n      <td>57</td>\n      <td>1965</td>\n      <td>0.0268</td>\n      <td>108.738</td>\n      <td>0.0889</td>\n    </tr>\n    <tr>\n      <th>4</th>\n      <td>2CQRYn5cTD2B9a1ONjhTN2</td>\n      <td>3oDbviiivRWhXwIE8hxkVV</td>\n      <td>0.72500</td>\n      <td>0.396</td>\n      <td>145800</td>\n      <td>0.686</td>\n      <td>0.000001</td>\n      <td>5</td>\n      <td>0.1700</td>\n      <td>-5.607</td>\n      <td>57</td>\n      <td>1966</td>\n      <td>0.0341</td>\n      <td>124.318</td>\n      <td>0.7170</td>\n    </tr>\n    <tr>\n      <th>...</th>\n      <td>...</td>\n      <td>...</td>\n      <td>...</td>\n      <td>...</td>\n      <td>...</td>\n      <td>...</td>\n      <td>...</td>\n      <td>...</td>\n      <td>...</td>\n      <td>...</td>\n      <td>...</td>\n      <td>...</td>\n      <td>...</td>\n      <td>...</td>\n      <td>...</td>\n    </tr>\n    <tr>\n      <th>22407</th>\n      <td>3atrFJhUzDm5xiutqfEPkP</td>\n      <td>74XFHRwlV6OrjEM0A2NCMF</td>\n      <td>0.00576</td>\n      <td>0.489</td>\n      <td>218333</td>\n      <td>0.611</td>\n      <td>0.000008</td>\n      <td>6</td>\n      <td>0.0917</td>\n      <td>-5.675</td>\n      <td>52</td>\n      <td>2007</td>\n      <td>0.0337</td>\n      <td>140.956</td>\n      <td>0.1860</td>\n    </tr>\n    <tr>\n      <th>22408</th>\n      <td>3wYzd4dzWknPdgwNaPGQvg</td>\n      <td>7JthQ6zwNzfxRfIEjp6wUs</td>\n      <td>0.06960</td>\n      <td>0.607</td>\n      <td>191474</td>\n      <td>0.605</td>\n      <td>0.000000</td>\n      <td>3</td>\n      <td>0.4540</td>\n      <td>-6.050</td>\n      <td>65</td>\n      <td>2021</td>\n      <td>0.1590</td>\n      <td>83.913</td>\n      <td>0.6650</td>\n    </tr>\n    <tr>\n      <th>22409</th>\n      <td>6UIcN1tiiGdd7oMMzNvyaP</td>\n      <td>7lbSsjYACZHn1MSDXPxNF2</td>\n      <td>0.06010</td>\n      <td>0.479</td>\n      <td>297502</td>\n      <td>0.478</td>\n      <td>0.000007</td>\n      <td>5</td>\n      <td>0.0813</td>\n      <td>-8.884</td>\n      <td>53</td>\n      <td>2020</td>\n      <td>0.1100</td>\n      <td>100.040</td>\n      <td>0.1170</td>\n    </tr>\n    <tr>\n      <th>22410</th>\n      <td>62i2LI6iDmAHbE9H9wa99z</td>\n      <td>7k73EtZwoPs516ZxE72KsO</td>\n      <td>0.38500</td>\n      <td>0.470</td>\n      <td>216970</td>\n      <td>0.738</td>\n      <td>0.000621</td>\n      <td>8</td>\n      <td>0.0656</td>\n      <td>-4.641</td>\n      <td>52</td>\n      <td>2017</td>\n      <td>0.0398</td>\n      <td>97.973</td>\n      <td>0.4880</td>\n    </tr>\n    <tr>\n      <th>22411</th>\n      <td>2bAAj29XGc4h1G4oEGYCmg</td>\n      <td>7n2Ycct7Beij7Dj7meI4X0</td>\n      <td>0.03120</td>\n      <td>0.739</td>\n      <td>199653</td>\n      <td>0.841</td>\n      <td>0.000000</td>\n      <td>5</td>\n      <td>0.1730</td>\n      <td>-4.162</td>\n      <td>61</td>\n      <td>2020</td>\n      <td>0.0600</td>\n      <td>106.990</td>\n      <td>0.5620</td>\n    </tr>\n  </tbody>\n</table>\n<p>22412 rows × 15 columns</p>\n</div>"
     },
     "metadata": {},
     "output_type": "display_data"
    }
   ],
   "source": [
    "display(sessions_full)\n",
    "display(sessions)\n",
    "display(tracks)"
   ]
  },
  {
   "cell_type": "code",
   "execution_count": 105,
   "id": "4eb93be217eeeadd",
   "metadata": {
    "collapsed": false,
    "ExecuteTime": {
     "end_time": "2023-12-27T15:54:55.820244265Z",
     "start_time": "2023-12-27T15:54:54.701217857Z"
    }
   },
   "outputs": [
    {
     "data": {
      "text/plain": "       user_id                track_id  weight  acousticness  danceability  \\\n0          101  03LNdMgu3l3Ldc3QMl1bvZ       1       0.54500         0.674   \n1          101  0BVCEJJFVsb8nrQGI11Dj2       1       0.00522         0.656   \n2          101  0PCpQRd0hMAWjBLOmJdR7X       1       0.02280         0.481   \n3          101  0bLOiofyBB62YU2cNnONJG       1       0.32900         0.457   \n4          101  0iJfN2CqrX7O8hkzgAMMAf       1       0.76700         0.222   \n...        ...                     ...     ...           ...           ...   \n80366     1100  7FdAQ7CXm9yS4DBtIKopLi       1       0.88100         0.444   \n80367     1100  7a9aeLVkn7DIqFjbanKz0k       1       0.31900         0.145   \n80368     1100  7an1exwMnfYRcdVQm0yDev       1       0.21700         0.418   \n80369     1100  7cioKB5CHVzk09SOtTyn0T       1       0.10300         0.436   \n80370     1100  7mYvtEeBdMqRSyj1Qpv6my       1       0.33900         0.727   \n\n       duration_ms  energy  instrumentalness  key  liveness  loudness  \\\n0           182549  0.6370          0.000002    0    0.0483    -3.400   \n1           235253  0.9230          0.000000    2    0.3260    -3.541   \n2           166040  0.8820          0.000220    2    0.1520    -5.068   \n3           404933  0.4280          0.000002    1    0.1690    -9.796   \n4           355634  0.0555          0.923000    0    0.1180   -22.118   \n...            ...     ...               ...  ...       ...       ...   \n80366       250880  0.2660          0.000000    9    0.1460    -9.001   \n80367       271867  0.4520          0.920000    2    0.0753   -13.560   \n80368       239013  0.4820          0.000000    5    0.1230    -5.769   \n80369       369040  0.5340          0.006430    1    0.5070    -9.416   \n80370       215467  0.4450          0.000000    1    0.1800   -11.241   \n\n       popularity  release_year  speechiness    tempo  valence  \n0              52          2014       0.0330  139.867    0.755  \n1              56          2011       0.0339  139.930    0.652  \n2              51          1999       0.0407  141.721    0.718  \n3              55          1975       0.0283  129.980    0.151  \n4              53          1994       0.0321   98.941    0.033  \n...           ...           ...          ...      ...      ...  \n80366          56          2004       0.0366  130.430    0.404  \n80367          55          2007       0.0448   82.297    0.146  \n80368          54          2006       0.0266  175.558    0.261  \n80369          59          2014       0.0773  122.822    0.325  \n80370          53          1998       0.2910   81.125    0.527  \n\n[80371 rows x 16 columns]",
      "text/html": "<div>\n<style scoped>\n    .dataframe tbody tr th:only-of-type {\n        vertical-align: middle;\n    }\n\n    .dataframe tbody tr th {\n        vertical-align: top;\n    }\n\n    .dataframe thead th {\n        text-align: right;\n    }\n</style>\n<table border=\"1\" class=\"dataframe\">\n  <thead>\n    <tr style=\"text-align: right;\">\n      <th></th>\n      <th>user_id</th>\n      <th>track_id</th>\n      <th>weight</th>\n      <th>acousticness</th>\n      <th>danceability</th>\n      <th>duration_ms</th>\n      <th>energy</th>\n      <th>instrumentalness</th>\n      <th>key</th>\n      <th>liveness</th>\n      <th>loudness</th>\n      <th>popularity</th>\n      <th>release_year</th>\n      <th>speechiness</th>\n      <th>tempo</th>\n      <th>valence</th>\n    </tr>\n  </thead>\n  <tbody>\n    <tr>\n      <th>0</th>\n      <td>101</td>\n      <td>03LNdMgu3l3Ldc3QMl1bvZ</td>\n      <td>1</td>\n      <td>0.54500</td>\n      <td>0.674</td>\n      <td>182549</td>\n      <td>0.6370</td>\n      <td>0.000002</td>\n      <td>0</td>\n      <td>0.0483</td>\n      <td>-3.400</td>\n      <td>52</td>\n      <td>2014</td>\n      <td>0.0330</td>\n      <td>139.867</td>\n      <td>0.755</td>\n    </tr>\n    <tr>\n      <th>1</th>\n      <td>101</td>\n      <td>0BVCEJJFVsb8nrQGI11Dj2</td>\n      <td>1</td>\n      <td>0.00522</td>\n      <td>0.656</td>\n      <td>235253</td>\n      <td>0.9230</td>\n      <td>0.000000</td>\n      <td>2</td>\n      <td>0.3260</td>\n      <td>-3.541</td>\n      <td>56</td>\n      <td>2011</td>\n      <td>0.0339</td>\n      <td>139.930</td>\n      <td>0.652</td>\n    </tr>\n    <tr>\n      <th>2</th>\n      <td>101</td>\n      <td>0PCpQRd0hMAWjBLOmJdR7X</td>\n      <td>1</td>\n      <td>0.02280</td>\n      <td>0.481</td>\n      <td>166040</td>\n      <td>0.8820</td>\n      <td>0.000220</td>\n      <td>2</td>\n      <td>0.1520</td>\n      <td>-5.068</td>\n      <td>51</td>\n      <td>1999</td>\n      <td>0.0407</td>\n      <td>141.721</td>\n      <td>0.718</td>\n    </tr>\n    <tr>\n      <th>3</th>\n      <td>101</td>\n      <td>0bLOiofyBB62YU2cNnONJG</td>\n      <td>1</td>\n      <td>0.32900</td>\n      <td>0.457</td>\n      <td>404933</td>\n      <td>0.4280</td>\n      <td>0.000002</td>\n      <td>1</td>\n      <td>0.1690</td>\n      <td>-9.796</td>\n      <td>55</td>\n      <td>1975</td>\n      <td>0.0283</td>\n      <td>129.980</td>\n      <td>0.151</td>\n    </tr>\n    <tr>\n      <th>4</th>\n      <td>101</td>\n      <td>0iJfN2CqrX7O8hkzgAMMAf</td>\n      <td>1</td>\n      <td>0.76700</td>\n      <td>0.222</td>\n      <td>355634</td>\n      <td>0.0555</td>\n      <td>0.923000</td>\n      <td>0</td>\n      <td>0.1180</td>\n      <td>-22.118</td>\n      <td>53</td>\n      <td>1994</td>\n      <td>0.0321</td>\n      <td>98.941</td>\n      <td>0.033</td>\n    </tr>\n    <tr>\n      <th>...</th>\n      <td>...</td>\n      <td>...</td>\n      <td>...</td>\n      <td>...</td>\n      <td>...</td>\n      <td>...</td>\n      <td>...</td>\n      <td>...</td>\n      <td>...</td>\n      <td>...</td>\n      <td>...</td>\n      <td>...</td>\n      <td>...</td>\n      <td>...</td>\n      <td>...</td>\n      <td>...</td>\n    </tr>\n    <tr>\n      <th>80366</th>\n      <td>1100</td>\n      <td>7FdAQ7CXm9yS4DBtIKopLi</td>\n      <td>1</td>\n      <td>0.88100</td>\n      <td>0.444</td>\n      <td>250880</td>\n      <td>0.2660</td>\n      <td>0.000000</td>\n      <td>9</td>\n      <td>0.1460</td>\n      <td>-9.001</td>\n      <td>56</td>\n      <td>2004</td>\n      <td>0.0366</td>\n      <td>130.430</td>\n      <td>0.404</td>\n    </tr>\n    <tr>\n      <th>80367</th>\n      <td>1100</td>\n      <td>7a9aeLVkn7DIqFjbanKz0k</td>\n      <td>1</td>\n      <td>0.31900</td>\n      <td>0.145</td>\n      <td>271867</td>\n      <td>0.4520</td>\n      <td>0.920000</td>\n      <td>2</td>\n      <td>0.0753</td>\n      <td>-13.560</td>\n      <td>55</td>\n      <td>2007</td>\n      <td>0.0448</td>\n      <td>82.297</td>\n      <td>0.146</td>\n    </tr>\n    <tr>\n      <th>80368</th>\n      <td>1100</td>\n      <td>7an1exwMnfYRcdVQm0yDev</td>\n      <td>1</td>\n      <td>0.21700</td>\n      <td>0.418</td>\n      <td>239013</td>\n      <td>0.4820</td>\n      <td>0.000000</td>\n      <td>5</td>\n      <td>0.1230</td>\n      <td>-5.769</td>\n      <td>54</td>\n      <td>2006</td>\n      <td>0.0266</td>\n      <td>175.558</td>\n      <td>0.261</td>\n    </tr>\n    <tr>\n      <th>80369</th>\n      <td>1100</td>\n      <td>7cioKB5CHVzk09SOtTyn0T</td>\n      <td>1</td>\n      <td>0.10300</td>\n      <td>0.436</td>\n      <td>369040</td>\n      <td>0.5340</td>\n      <td>0.006430</td>\n      <td>1</td>\n      <td>0.5070</td>\n      <td>-9.416</td>\n      <td>59</td>\n      <td>2014</td>\n      <td>0.0773</td>\n      <td>122.822</td>\n      <td>0.325</td>\n    </tr>\n    <tr>\n      <th>80370</th>\n      <td>1100</td>\n      <td>7mYvtEeBdMqRSyj1Qpv6my</td>\n      <td>1</td>\n      <td>0.33900</td>\n      <td>0.727</td>\n      <td>215467</td>\n      <td>0.4450</td>\n      <td>0.000000</td>\n      <td>1</td>\n      <td>0.1800</td>\n      <td>-11.241</td>\n      <td>53</td>\n      <td>1998</td>\n      <td>0.2910</td>\n      <td>81.125</td>\n      <td>0.527</td>\n    </tr>\n  </tbody>\n</table>\n<p>80371 rows × 16 columns</p>\n</div>"
     },
     "execution_count": 105,
     "metadata": {},
     "output_type": "execute_result"
    }
   ],
   "source": [
    "# d = spark.sql(\n",
    "#     \"\"\"\n",
    "#     SELECT s.user_id, s.track_id, s.weight, acousticness, danceability, duration_ms, energy, instrumentalness, key, liveness, loudness, popularity, EXTRACT(year from `release_date`) as release_year, speechiness, tempo, valence\n",
    "#     FROM (\n",
    "#         select user_id, track_id, sum(event_weight) as weight\n",
    "#         from (\n",
    "#             SELECT user_id, track_id, CASE WHEN event_type like 'like' THEN 1 ELSE 0.02 END as event_weight\n",
    "#             FROM sessions\n",
    "#             WHERE event_type like 'like' or event_type like 'play'\n",
    "#             ) \n",
    "#         group by user_id, track_id\n",
    "#     ) s\n",
    "#     inner join tracks t on s.track_id = t.id\n",
    "#     order by s.user_id, t.id\n",
    "#     \"\"\").toPandas()\n",
    "d = spark.sql(\n",
    "    \"\"\"\n",
    "    SELECT s.user_id, s.track_id, s.weight, acousticness, danceability, duration_ms, energy, instrumentalness, key, liveness, loudness, popularity, EXTRACT(year from `release_date`) as release_year, speechiness, tempo, valence\n",
    "    FROM (\n",
    "        select user_id, track_id, sum(event_weight) as weight\n",
    "        from (\n",
    "            SELECT user_id, track_id, 1 as event_weight\n",
    "            FROM sessions\n",
    "            WHERE event_type like 'like'\n",
    "            ) \n",
    "        group by user_id, track_id\n",
    "    ) s\n",
    "    inner join tracks t on s.track_id = t.id\n",
    "    order by s.user_id, t.id\n",
    "    \"\"\").toPandas()\n",
    "d"
   ]
  },
  {
   "cell_type": "code",
   "execution_count": 106,
   "id": "b46cbc66d87eecfa",
   "metadata": {
    "collapsed": false,
    "ExecuteTime": {
     "end_time": "2023-12-27T15:54:55.881268271Z",
     "start_time": "2023-12-27T15:54:55.809441203Z"
    }
   },
   "outputs": [
    {
     "data": {
      "text/plain": "       acousticness  danceability  duration_ms    energy  instrumentalness  \\\n0          2.210183     -2.622956    -0.081994 -1.698778         -0.261491   \n1          2.090663     -0.158580    -0.430623 -1.479284         -0.263179   \n2          1.938547      0.978824    -1.704140 -0.782628         -0.263120   \n3         -0.325086     -0.133305    -1.342945 -1.045067         -0.262786   \n4          1.656046     -1.283347    -1.169838  0.181238         -0.263172   \n...             ...           ...          ...       ...               ...   \n22407     -0.948906     -0.695688    -0.163749 -0.176633         -0.263129   \n22408     -0.717690      0.049944    -0.536304 -0.205263         -0.263179   \n22409     -0.752097     -0.758877     0.934387 -0.811258         -0.263132   \n22410      0.424630     -0.815747    -0.182655  0.429362         -0.259116   \n22411     -0.856768      0.884040    -0.422855  0.920838         -0.263179   \n\n            key  liveness  loudness  popularity  release_year  speechiness  \\\n0      0.483649  0.910200 -1.350924   -0.792191     -3.602614    -0.579005   \n1      0.202650 -0.167568 -1.118180    0.947358     -3.458942    -0.458085   \n2      1.326645 -0.561162 -0.534983   -1.164951     -3.387106    -0.246475   \n3     -0.921346 -0.131841 -0.643329   -0.543684     -2.956090    -0.628269   \n4     -0.078349 -0.137796  0.425153   -0.543684     -2.884254    -0.546536   \n...         ...       ...       ...         ...           ...          ...   \n22407  0.202650 -0.604035  0.406961   -1.164951      0.061025    -0.551015   \n22408 -0.640347  1.553288  0.306641    0.450344      1.066730     0.851883   \n22409 -0.078349 -0.665962 -0.451516   -1.040697      0.994894     0.303264   \n22410  0.764647 -0.759448  0.683579   -1.164951      0.779385    -0.482717   \n22411 -0.078349 -0.119932  0.811722   -0.046670      0.994894    -0.256552   \n\n          tempo   valence               id_artist  \n0     -1.562809 -1.533923  5V0MlUE1Bft0mbLlND7FJz  \n1     -1.853949 -0.102263  1Mxqyy3pSjf8kZZL4QVxS0  \n2     -1.322015  1.157598  6kACVPfCOnqzgfEF5ryl0x  \n3     -0.444846 -1.755216  22bE4uQ6baNwSHPVcDxLCe  \n4      0.081246  0.814000  3oDbviiivRWhXwIE8hxkVV  \n...         ...       ...                     ...  \n22407  0.643063 -1.358033  74XFHRwlV6OrjEM0A2NCMF  \n22408 -1.283116  0.601296  7JthQ6zwNzfxRfIEjp6wUs  \n22409 -0.738553 -1.640275  7lbSsjYACZHn1MSDXPxNF2  \n22410 -0.808350 -0.122715  7k73EtZwoPs516ZxE72KsO  \n22411 -0.503871  0.179979  7n2Ycct7Beij7Dj7meI4X0  \n\n[22412 rows x 14 columns]",
      "text/html": "<div>\n<style scoped>\n    .dataframe tbody tr th:only-of-type {\n        vertical-align: middle;\n    }\n\n    .dataframe tbody tr th {\n        vertical-align: top;\n    }\n\n    .dataframe thead th {\n        text-align: right;\n    }\n</style>\n<table border=\"1\" class=\"dataframe\">\n  <thead>\n    <tr style=\"text-align: right;\">\n      <th></th>\n      <th>acousticness</th>\n      <th>danceability</th>\n      <th>duration_ms</th>\n      <th>energy</th>\n      <th>instrumentalness</th>\n      <th>key</th>\n      <th>liveness</th>\n      <th>loudness</th>\n      <th>popularity</th>\n      <th>release_year</th>\n      <th>speechiness</th>\n      <th>tempo</th>\n      <th>valence</th>\n      <th>id_artist</th>\n    </tr>\n  </thead>\n  <tbody>\n    <tr>\n      <th>0</th>\n      <td>2.210183</td>\n      <td>-2.622956</td>\n      <td>-0.081994</td>\n      <td>-1.698778</td>\n      <td>-0.261491</td>\n      <td>0.483649</td>\n      <td>0.910200</td>\n      <td>-1.350924</td>\n      <td>-0.792191</td>\n      <td>-3.602614</td>\n      <td>-0.579005</td>\n      <td>-1.562809</td>\n      <td>-1.533923</td>\n      <td>5V0MlUE1Bft0mbLlND7FJz</td>\n    </tr>\n    <tr>\n      <th>1</th>\n      <td>2.090663</td>\n      <td>-0.158580</td>\n      <td>-0.430623</td>\n      <td>-1.479284</td>\n      <td>-0.263179</td>\n      <td>0.202650</td>\n      <td>-0.167568</td>\n      <td>-1.118180</td>\n      <td>0.947358</td>\n      <td>-3.458942</td>\n      <td>-0.458085</td>\n      <td>-1.853949</td>\n      <td>-0.102263</td>\n      <td>1Mxqyy3pSjf8kZZL4QVxS0</td>\n    </tr>\n    <tr>\n      <th>2</th>\n      <td>1.938547</td>\n      <td>0.978824</td>\n      <td>-1.704140</td>\n      <td>-0.782628</td>\n      <td>-0.263120</td>\n      <td>1.326645</td>\n      <td>-0.561162</td>\n      <td>-0.534983</td>\n      <td>-1.164951</td>\n      <td>-3.387106</td>\n      <td>-0.246475</td>\n      <td>-1.322015</td>\n      <td>1.157598</td>\n      <td>6kACVPfCOnqzgfEF5ryl0x</td>\n    </tr>\n    <tr>\n      <th>3</th>\n      <td>-0.325086</td>\n      <td>-0.133305</td>\n      <td>-1.342945</td>\n      <td>-1.045067</td>\n      <td>-0.262786</td>\n      <td>-0.921346</td>\n      <td>-0.131841</td>\n      <td>-0.643329</td>\n      <td>-0.543684</td>\n      <td>-2.956090</td>\n      <td>-0.628269</td>\n      <td>-0.444846</td>\n      <td>-1.755216</td>\n      <td>22bE4uQ6baNwSHPVcDxLCe</td>\n    </tr>\n    <tr>\n      <th>4</th>\n      <td>1.656046</td>\n      <td>-1.283347</td>\n      <td>-1.169838</td>\n      <td>0.181238</td>\n      <td>-0.263172</td>\n      <td>-0.078349</td>\n      <td>-0.137796</td>\n      <td>0.425153</td>\n      <td>-0.543684</td>\n      <td>-2.884254</td>\n      <td>-0.546536</td>\n      <td>0.081246</td>\n      <td>0.814000</td>\n      <td>3oDbviiivRWhXwIE8hxkVV</td>\n    </tr>\n    <tr>\n      <th>...</th>\n      <td>...</td>\n      <td>...</td>\n      <td>...</td>\n      <td>...</td>\n      <td>...</td>\n      <td>...</td>\n      <td>...</td>\n      <td>...</td>\n      <td>...</td>\n      <td>...</td>\n      <td>...</td>\n      <td>...</td>\n      <td>...</td>\n      <td>...</td>\n    </tr>\n    <tr>\n      <th>22407</th>\n      <td>-0.948906</td>\n      <td>-0.695688</td>\n      <td>-0.163749</td>\n      <td>-0.176633</td>\n      <td>-0.263129</td>\n      <td>0.202650</td>\n      <td>-0.604035</td>\n      <td>0.406961</td>\n      <td>-1.164951</td>\n      <td>0.061025</td>\n      <td>-0.551015</td>\n      <td>0.643063</td>\n      <td>-1.358033</td>\n      <td>74XFHRwlV6OrjEM0A2NCMF</td>\n    </tr>\n    <tr>\n      <th>22408</th>\n      <td>-0.717690</td>\n      <td>0.049944</td>\n      <td>-0.536304</td>\n      <td>-0.205263</td>\n      <td>-0.263179</td>\n      <td>-0.640347</td>\n      <td>1.553288</td>\n      <td>0.306641</td>\n      <td>0.450344</td>\n      <td>1.066730</td>\n      <td>0.851883</td>\n      <td>-1.283116</td>\n      <td>0.601296</td>\n      <td>7JthQ6zwNzfxRfIEjp6wUs</td>\n    </tr>\n    <tr>\n      <th>22409</th>\n      <td>-0.752097</td>\n      <td>-0.758877</td>\n      <td>0.934387</td>\n      <td>-0.811258</td>\n      <td>-0.263132</td>\n      <td>-0.078349</td>\n      <td>-0.665962</td>\n      <td>-0.451516</td>\n      <td>-1.040697</td>\n      <td>0.994894</td>\n      <td>0.303264</td>\n      <td>-0.738553</td>\n      <td>-1.640275</td>\n      <td>7lbSsjYACZHn1MSDXPxNF2</td>\n    </tr>\n    <tr>\n      <th>22410</th>\n      <td>0.424630</td>\n      <td>-0.815747</td>\n      <td>-0.182655</td>\n      <td>0.429362</td>\n      <td>-0.259116</td>\n      <td>0.764647</td>\n      <td>-0.759448</td>\n      <td>0.683579</td>\n      <td>-1.164951</td>\n      <td>0.779385</td>\n      <td>-0.482717</td>\n      <td>-0.808350</td>\n      <td>-0.122715</td>\n      <td>7k73EtZwoPs516ZxE72KsO</td>\n    </tr>\n    <tr>\n      <th>22411</th>\n      <td>-0.856768</td>\n      <td>0.884040</td>\n      <td>-0.422855</td>\n      <td>0.920838</td>\n      <td>-0.263179</td>\n      <td>-0.078349</td>\n      <td>-0.119932</td>\n      <td>0.811722</td>\n      <td>-0.046670</td>\n      <td>0.994894</td>\n      <td>-0.256552</td>\n      <td>-0.503871</td>\n      <td>0.179979</td>\n      <td>7n2Ycct7Beij7Dj7meI4X0</td>\n    </tr>\n  </tbody>\n</table>\n<p>22412 rows × 14 columns</p>\n</div>"
     },
     "execution_count": 106,
     "metadata": {},
     "output_type": "execute_result"
    }
   ],
   "source": [
    "from scipy import stats\n",
    "\n",
    "users = d['user_id']\n",
    "items = d['track_id']\n",
    "\n",
    "\n",
    "# _features = pd.DataFrame(tracks['track_id'], columns=['track_id']).merge(tracks, left_on=\"track_id\", right_on=\"id\", how=\"inner\", validate=\"1:1\" )\n",
    "\n",
    "\n",
    "features = pd.concat([stats.zscore(tracks.drop(['id', 'id_artist'], axis=1)), tracks['id_artist']], axis=1)\n",
    "features\n",
    "\n",
    "\n",
    "# _features"
   ]
  },
  {
   "cell_type": "code",
   "execution_count": 107,
   "id": "4117347bb9050b9",
   "metadata": {
    "collapsed": false,
    "ExecuteTime": {
     "end_time": "2023-12-27T15:54:55.943278709Z",
     "start_time": "2023-12-27T15:54:55.850044749Z"
    }
   },
   "outputs": [
    {
     "name": "stdout",
     "output_type": "stream",
     "text": [
      "Num users: 1000, num_items 22412.\n"
     ]
    }
   ],
   "source": [
    "from lightfm.data import Dataset\n",
    "\n",
    "# assert d['track_id'].unique().shape[0] == features.shape[0]\n",
    "\n",
    "dataset = Dataset()\n",
    "dataset.fit(\n",
    "    users=users,\n",
    "    items=items\n",
    ")\n",
    "\n",
    "dataset.fit_partial(\n",
    "    items=tracks['id'],\n",
    "    item_features=tracks.drop('id', axis=1)\n",
    ")\n",
    "\n",
    "num_users, num_items = dataset.interactions_shape()\n",
    "print('Num users: {}, num_items {}.'.format(num_users, num_items))"
   ]
  },
  {
   "cell_type": "code",
   "execution_count": 108,
   "id": "4eb5ed0a862bb63f",
   "metadata": {
    "collapsed": false,
    "ExecuteTime": {
     "end_time": "2023-12-27T15:54:56.485145256Z",
     "start_time": "2023-12-27T15:54:55.934693046Z"
    }
   },
   "outputs": [
    {
     "name": "stdout",
     "output_type": "stream",
     "text": [
      "<1000x22412 sparse matrix of type '<class 'numpy.int32'>'\n",
      "\twith 80371 stored elements in COOrdinate format>\n"
     ]
    }
   ],
   "source": [
    "(interactions, weights) = dataset.build_interactions(d[['user_id', 'track_id']].apply(tuple, axis=1))\n",
    "\n",
    "print(repr(interactions))"
   ]
  },
  {
   "cell_type": "code",
   "execution_count": 109,
   "id": "1461533074210068",
   "metadata": {
    "collapsed": false,
    "ExecuteTime": {
     "end_time": "2023-12-27T15:54:56.485291068Z",
     "start_time": "2023-12-27T15:54:56.451085400Z"
    }
   },
   "outputs": [],
   "source": [
    "from lightfm.cross_validation import random_train_test_split\n",
    "\n",
    "(train, test) = random_train_test_split(interactions)\n"
   ]
  },
  {
   "cell_type": "code",
   "execution_count": 110,
   "id": "184b2aa6fb122232",
   "metadata": {
    "collapsed": false,
    "ExecuteTime": {
     "end_time": "2023-12-27T15:54:56.485345161Z",
     "start_time": "2023-12-27T15:54:56.454688019Z"
    }
   },
   "outputs": [],
   "source": [
    "from lightfm import LightFM\n",
    "from lightfm.evaluation import auc_score, precision_at_k, recall_at_k, reciprocal_rank\n"
   ]
  },
  {
   "cell_type": "code",
   "execution_count": 111,
   "id": "fcb0fbf749c93414",
   "metadata": {
    "collapsed": false,
    "ExecuteTime": {
     "end_time": "2023-12-27T15:54:57.290209839Z",
     "start_time": "2023-12-27T15:54:56.464374766Z"
    }
   },
   "outputs": [
    {
     "name": "stdout",
     "output_type": "stream",
     "text": [
      "<22412x22426 sparse matrix of type '<class 'numpy.float32'>'\n",
      "\twith 305708 stored elements in Compressed Sparse Row format>\n"
     ]
    }
   ],
   "source": [
    "feature_names = d.drop(['user_id', 'track_id', 'weight'], axis=1).columns\n",
    "\n",
    "item_features = dataset.build_item_features(\n",
    "    ((i, feature_names) for i in items), \n",
    "    normalize=False)\n",
    "print(repr(item_features))"
   ]
  },
  {
   "cell_type": "code",
   "execution_count": 112,
   "id": "3ec2802c3e06efad",
   "metadata": {
    "collapsed": false,
    "ExecuteTime": {
     "end_time": "2023-12-27T15:54:59.797078517Z",
     "start_time": "2023-12-27T15:54:57.291630083Z"
    }
   },
   "outputs": [
    {
     "name": "stderr",
     "output_type": "stream",
     "text": [
      "Epoch: 100%|██████████| 5/5 [00:02<00:00,  2.02it/s]\n"
     ]
    },
    {
     "data": {
      "text/plain": "<lightfm.lightfm.LightFM at 0x7fd2413dd330>"
     },
     "execution_count": 112,
     "metadata": {},
     "output_type": "execute_result"
    }
   ],
   "source": [
    "# warp, lr=0.01, no_comp=3-, aplha=1e-6, 5 epochs\n",
    "\n",
    "model_h = LightFM(\n",
    "    loss='warp',\n",
    "    learning_rate=0.003,\n",
    "    # item_alpha=1e-6,\n",
    "    # user_alpha=1e-6,\n",
    "    no_components=30,\n",
    ")\n",
    "model_h.fit(\n",
    "    interactions=train,\n",
    "    item_features=item_features,\n",
    "    epochs=5,\n",
    "    num_threads=12,\n",
    "    verbose=True)\n"
   ]
  },
  {
   "cell_type": "code",
   "execution_count": 113,
   "id": "e21c07a203780fd2",
   "metadata": {
    "collapsed": false,
    "ExecuteTime": {
     "end_time": "2023-12-27T15:55:06.891229390Z",
     "start_time": "2023-12-27T15:54:59.785258829Z"
    }
   },
   "outputs": [
    {
     "name": "stdout",
     "output_type": "stream",
     "text": [
      "AUC: train 0.653648, test 0.623724.\n",
      "Precision: train 0.009900, test 0.002249.\n",
      "Recall: train 0.001453, test 0.001139.\n",
      "Reciprocal rank: train 0.045469, test 0.012844.\n"
     ]
    }
   ],
   "source": [
    "train_auc_h = auc_score(model_h, train, \n",
    "                        item_features=item_features,\n",
    "                        num_threads=12).mean()\n",
    "test_auc_h = auc_score(model_h, test, \n",
    "                       train_interactions=train, \n",
    "                       item_features=item_features, \n",
    "                       num_threads=12).mean()\n",
    "\n",
    "train_precision_h = precision_at_k(model_h, train, k=10,\n",
    "                                   item_features=item_features, \n",
    "                                   num_threads=12).mean()\n",
    "test_precision_h = precision_at_k(model_h, test, k=10, \n",
    "                                  train_interactions=train,\n",
    "                                  item_features=item_features, \n",
    "                                  num_threads=12).mean()\n",
    "\n",
    "train_recall_h = recall_at_k(model_h, train, k=10, \n",
    "                             item_features=item_features,\n",
    "                             num_threads=12).mean()\n",
    "test_recall_h = recall_at_k(model_h, test, k=10, \n",
    "                            train_interactions=train,\n",
    "                            item_features=item_features, \n",
    "                            num_threads=12).mean()\n",
    "\n",
    "train_reciprocal_rank_h = reciprocal_rank(model_h, train,\n",
    "                                          item_features=item_features,\n",
    "                                          num_threads=12).mean()\n",
    "test_reciprocal_rank_h = reciprocal_rank(model_h, test, \n",
    "                                         train_interactions=train,\n",
    "                                         item_features=item_features,\n",
    "                                         num_threads=12).mean()\n",
    "\n",
    "print('AUC: train %.6f, test %.6f.' % (train_auc_h, test_auc_h))\n",
    "print('Precision: train %.6f, test %.6f.' % (train_precision_h, test_precision_h))\n",
    "print('Recall: train %.6f, test %.6f.' % (train_recall_h, test_recall_h))\n",
    "print('Reciprocal rank: train %.6f, test %.6f.' % (train_reciprocal_rank_h, test_reciprocal_rank_h))\n"
   ]
  },
  {
   "cell_type": "code",
   "execution_count": 114,
   "id": "ba8d458dbe5e11fc",
   "metadata": {
    "collapsed": false,
    "ExecuteTime": {
     "end_time": "2023-12-27T15:55:06.915054240Z",
     "start_time": "2023-12-27T15:55:06.889964312Z"
    }
   },
   "outputs": [
    {
     "data": {
      "text/plain": "array([ 1.4685166 ,  1.5172684 ,  3.035224  , ..., -0.12276211,\n       -0.12586237, -0.12728812], dtype=float32)"
     },
     "execution_count": 114,
     "metadata": {},
     "output_type": "execute_result"
    }
   ],
   "source": [
    "predicted_scores = model_h.predict(148, np.arange(interactions.shape[1]), \n",
    "                                   item_features=item_features, \n",
    "                                   num_threads=12)\n",
    "predicted_scores"
   ]
  },
  {
   "cell_type": "code",
   "execution_count": 205,
   "id": "ed4a8d5b38f43117",
   "metadata": {
    "collapsed": false,
    "ExecuteTime": {
     "end_time": "2023-12-27T17:22:38.549416356Z",
     "start_time": "2023-12-27T17:22:38.477267555Z"
    }
   },
   "outputs": [
    {
     "data": {
      "text/plain": "array([ 4171,  3487,  6905,  4204,  2393,  5767,  1339, 10399,  2359,\n       12417,   994, 10363, 14684,  3473,  3976,   567, 10634,  9556,\n        8811,  2307, 11917,  1105,  1725,  1976,  2811,  8974,  6423,\n        7093,  3272,  1629, 11450,  1449,   680,  6966,  1389, 17616,\n        7223, 17900,   888,  2486,  2611,  5276,  6778,  3779,  5319,\n        3516,  8056, 15591,  8944,  7856,  2209, 12642,  9194,  2309,\n       12476,  2605,   496,  3744,  4341,  6695,  1193,  5555,  8868,\n          51, 15623,  3563,  9265, 15174, 14531,   131,  2261,  3698,\n        4796,  3327,  2260,  2458,  2074, 14994,   336, 16458,  5906,\n        7080, 14244,  2247,  1876, 10106,  2700,  3575,  3330,  9129,\n        1259, 13118,  2446,  3010,  3332,  1009,  9508,   255,  5172,\n        2972])"
     },
     "execution_count": 205,
     "metadata": {},
     "output_type": "execute_result"
    }
   ],
   "source": [
    "indices = np.argpartition(predicted_scores, -100)[-100:]\n",
    "indices"
   ]
  },
  {
   "cell_type": "code",
   "execution_count": 206,
   "id": "e7bf0856d2f33497",
   "metadata": {
    "collapsed": false,
    "ExecuteTime": {
     "end_time": "2023-12-27T17:22:38.551108808Z",
     "start_time": "2023-12-27T17:22:38.518997941Z"
    }
   },
   "outputs": [
    {
     "data": {
      "text/plain": "4171    2LBqCSwhJGcFQeTHMVGwy3\n3487    6Db8IlZ7YY1pfIjJllejyH\n6905    6QdwofpqDvvNxX88C9A0iQ\n4204    0j46E9gFXDQND4AY4az8V3\n2393    2Q99zPXVqCPN5RaZawvJWZ\n                 ...          \n1009    0EY1Z9UmZnYZyM7zHs6C0j\n9508    2nvC4i2aMo4CzRjRflysah\n255     6MgGapP3EPFm9kYUvYBTZR\n5172    62oUgHSx7RPfgVWv1AYOpY\n2972    6PPhp1qpAjLUxQr75vSD4H\nName: id, Length: 100, dtype: object"
     },
     "execution_count": 206,
     "metadata": {},
     "output_type": "execute_result"
    }
   ],
   "source": [
    "predicted = pd.DataFrame(tracks).loc[indices]['id']\n",
    "predicted"
   ]
  },
  {
   "cell_type": "code",
   "execution_count": 207,
   "id": "ed36d788618ee89a",
   "metadata": {
    "collapsed": false,
    "ExecuteTime": {
     "end_time": "2023-12-27T17:22:38.551175354Z",
     "start_time": "2023-12-27T17:22:38.519108724Z"
    }
   },
   "outputs": [],
   "source": [
    "user_history = d[d.user_id == 249]"
   ]
  },
  {
   "cell_type": "code",
   "execution_count": 208,
   "outputs": [
    {
     "data": {
      "text/plain": "{'07BuyVse8pYAWd9DXD7B2D',\n '07qHCBBSRswIsfs0waYdjC',\n '0afhq8XCExXpqazXczTSve',\n '0gDyuX5rdHulQTUyrIdSR1',\n '1A9PKAFEHMWgXNLpgf7k4J',\n '1HKl3RJInVzf5ObVnM644j',\n '1HYnjKqSSHh1tdl2Hi57zH',\n '1HbyxkzMjXKIuyiZ5Xn4nB',\n '1N5p1acMejThPZZjmxQ3i5',\n '1bx6spmieE655BQvWdTYKA',\n '2D1hlMwWWXpkc3CZJ5U351',\n '2TdDRjNiF1HuRvnclprnce',\n '2Ygs64z9ywJGakuKU8tr6o',\n '2eLxEzMVfiQih0cJIWIowm',\n '2lD6AoA8qf2t4Dkf2TcmNK',\n '2mIrfke7vosXAEWfz6ucyo',\n '2sMBMXX43vpVOaqh6INXbV',\n '2vH8JFJKfkAgZs1GFlOzGh',\n '422Avi2VjqZKCVzstKmqog',\n '4O7oKy8YADaBrbehcPl0kE',\n '4sI8uN1G3PsoiNizkOqATO',\n '4sLlPACKA3OTNcJryGgWKR',\n '59nRuCsjHNdHNrs6BMj3fR',\n '5BY0p2EH4EznNZ0MFD9mjt',\n '5kQQ3eAIsg5DGbikSHQ8qG',\n '5sC0youR92ljJRn6VatElb',\n '5tNW2HIWbZLnaQLNsYfhj7',\n '6QpZSfLid1YZ6c01BvB5jH',\n '6VrLYoQKdhu1Jruei06t65',\n '6cvFwzez8ZbEWPTs5A0vAm',\n '6v2eEC9Nr9POe5xPUm8361',\n '74oWejX8MG6SEaJiz1334D',\n '7JiCaZ93B0hdj3XwFqwn4W',\n '7gpuC3rLKkI7PoJcEnSIO6'}"
     },
     "execution_count": 208,
     "metadata": {},
     "output_type": "execute_result"
    }
   ],
   "source": [
    "set(user_history['track_id'])"
   ],
   "metadata": {
    "collapsed": false,
    "ExecuteTime": {
     "end_time": "2023-12-27T17:22:38.551322710Z",
     "start_time": "2023-12-27T17:22:38.519169558Z"
    }
   },
   "id": "173eeebd6c1f8fe7"
  },
  {
   "cell_type": "code",
   "execution_count": 209,
   "outputs": [
    {
     "data": {
      "text/plain": "0"
     },
     "execution_count": 209,
     "metadata": {},
     "output_type": "execute_result"
    }
   ],
   "source": [
    "len([i for i in predicted if i in user_history['track_id']])"
   ],
   "metadata": {
    "collapsed": false,
    "ExecuteTime": {
     "end_time": "2023-12-27T17:22:38.551424427Z",
     "start_time": "2023-12-27T17:22:38.519235684Z"
    }
   },
   "id": "b6246887971955e1"
  },
  {
   "cell_type": "code",
   "execution_count": 210,
   "outputs": [
    {
     "data": {
      "text/plain": "set()"
     },
     "execution_count": 210,
     "metadata": {},
     "output_type": "execute_result"
    }
   ],
   "source": [
    "set(predicted).intersection(set(user_history['track_id']))"
   ],
   "metadata": {
    "collapsed": false,
    "ExecuteTime": {
     "end_time": "2023-12-27T17:22:38.551524415Z",
     "start_time": "2023-12-27T17:22:38.519331300Z"
    }
   },
   "id": "b95919396c21b889"
  },
  {
   "cell_type": "code",
   "execution_count": 211,
   "outputs": [
    {
     "name": "stdout",
     "output_type": "stream",
     "text": [
      "0.0\n"
     ]
    }
   ],
   "source": [
    "print(len(set(predicted).intersection(set(user_history['track_id']))) / 1000)"
   ],
   "metadata": {
    "collapsed": false,
    "ExecuteTime": {
     "end_time": "2023-12-27T17:22:38.551610809Z",
     "start_time": "2023-12-27T17:22:38.519375875Z"
    }
   },
   "id": "de30d6dbe599fa5e"
  },
  {
   "cell_type": "code",
   "execution_count": 212,
   "outputs": [
    {
     "data": {
      "text/plain": "0.058694463"
     },
     "execution_count": 212,
     "metadata": {},
     "output_type": "execute_result"
    }
   ],
   "source": [
    "coords = np.take(model_h.get_item_representations()[1], indices, axis=0)\n",
    "center = np.sum(coords, axis=0) / coords.shape[0]\n",
    "mean_dist = np.average(np.apply_along_axis(lambda x: np.linalg.norm(center - x, ord=2), 1, coords))\n",
    "mean_dist"
   ],
   "metadata": {
    "collapsed": false,
    "ExecuteTime": {
     "end_time": "2023-12-27T17:22:38.551725492Z",
     "start_time": "2023-12-27T17:22:38.519427902Z"
    }
   },
   "id": "c3fe6b29857b31de"
  },
  {
   "cell_type": "code",
   "execution_count": 222,
   "outputs": [
    {
     "name": "stderr",
     "output_type": "stream",
     "text": [
      "/tmp/ipykernel_15566/393856704.py:1: DeprecationWarning: This function is deprecated. Please call randint(0, 22426 + 1) instead\n",
      "  coords = np.take(model_h.get_item_representations()[1], np.random.random_integers(low=0, high=len(model_h.get_item_representations()[1]), size=100), axis=0)\n"
     ]
    },
    {
     "data": {
      "text/plain": "0.05512355"
     },
     "execution_count": 222,
     "metadata": {},
     "output_type": "execute_result"
    }
   ],
   "source": [
    "coords = np.take(model_h.get_item_representations()[1], np.random.random_integers(low=0, high=len(model_h.get_item_representations()[1]), size=100), axis=0)\n",
    "center = np.sum(coords, axis=0) / coords.shape[0]\n",
    "mean_dist = np.average(np.apply_along_axis(lambda x: np.linalg.norm(center - x, ord=2), 1, coords))\n",
    "mean_dist"
   ],
   "metadata": {
    "collapsed": false,
    "ExecuteTime": {
     "end_time": "2023-12-27T17:27:44.817309585Z",
     "start_time": "2023-12-27T17:27:44.775472830Z"
    }
   },
   "id": "5f149df665c0d589"
  },
  {
   "cell_type": "code",
   "execution_count": 223,
   "outputs": [
    {
     "name": "stdout",
     "output_type": "stream",
     "text": [
      "99 ['17opN752ZQpNuoptelsNQ1', '32BTFbqhSvYKftE0e8a8d4', '1wVuPmvt6AWvTL5W2GJnzZ', '3xKToHlV3enPcQVpns4kUf', '0EY1Z9UmZnYZyM7zHs6C0j', '6PPhp1qpAjLUxQr75vSD4H', '6ovlMmTTp4fyvD9DBe1zo1', '0YkbYk24ODhuewb79zZZzM', '62oUgHSx7RPfgVWv1AYOpY', '3wCx8pwK7J1LVe13dFXjPm', '0faXHILILebCGnJBPU6KJJ', '2KOt2JrCB720UxIbyzweQo', '6LBnaXnvXFwn1PgLmpxTXM', '3VK8copXwqvAueMPhnBe6K', '32MQwnY0WUaNVT7i4W9d9F', '698eQRku24PIYPQPHItKlA', '5W3cjX2J3tjhG8zb6u0qHn', '3HGctlDltHdllOSTogGKhJ', '11Mq1tJwmFOig3BXxjqcQr', '48q0vSHcJdhK3IiXH8C5WJ']\n"
     ]
    }
   ],
   "source": [
    "def predict_single(user: int, number: int):\n",
    "    predicted_scores = model_h.predict(user, np.arange(interactions.shape[1]), \n",
    "                                   item_features=item_features, \n",
    "                                   num_threads=12)\n",
    "    indices = np.argpartition(predicted_scores, -number)[-number:]\n",
    "    return tracks.loc[indices]['id']\n",
    "\n",
    "\n",
    "def predict_multiple(users: list[int], number: int):\n",
    "    if len(users) == 1:\n",
    "        return frozenset(predict_single(users[0], number))\n",
    "    \n",
    "    predictions = [frozenset(predict_single(u, number)) for u in users]\n",
    "    return predictions[0].intersection(*predictions[1:])\n",
    "\n",
    "res= predict_multiple([123, 124], 100)\n",
    "print(len(res), list(res)[:20])"
   ],
   "metadata": {
    "collapsed": false,
    "ExecuteTime": {
     "end_time": "2023-12-27T18:39:39.050282612Z",
     "start_time": "2023-12-27T18:39:38.990549133Z"
    }
   },
   "id": "b67a9109e8f6f070"
  }
 ],
 "metadata": {
  "kernelspec": {
   "display_name": "Python 3 (ipykernel)",
   "language": "python",
   "name": "python3"
  },
  "language_info": {
   "codemirror_mode": {
    "name": "ipython",
    "version": 3
   },
   "file_extension": ".py",
   "mimetype": "text/x-python",
   "name": "python",
   "nbconvert_exporter": "python",
   "pygments_lexer": "ipython3",
   "version": "3.10.11"
  }
 },
 "nbformat": 4,
 "nbformat_minor": 5
}
