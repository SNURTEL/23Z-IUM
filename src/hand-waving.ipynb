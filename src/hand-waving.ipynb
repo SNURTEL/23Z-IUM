{
 "cells": [
  {
   "cell_type": "markdown",
   "source": [
    "Build dataset\n"
   ],
   "metadata": {
    "collapsed": false
   },
   "id": "683999f8689ef957"
  },
  {
   "cell_type": "code",
   "execution_count": 1,
   "outputs": [],
   "source": [
    "from typing import TypedDict, Type, Any, Callable\n",
    "\n",
    "import warnings\n",
    "\n",
    "warnings.simplefilter(action='ignore', category=FutureWarning)\n",
    "\n",
    "import pandas as pd\n",
    "import numpy as np\n",
    "from matplotlib import pyplot as plt\n",
    "\n",
    "from spark.config import views\n",
    "from spark.create_session import create_session\n",
    "\n",
    "from IPython.display import display\n",
    "\n",
    "from fitter import Fitter, get_common_distributions"
   ],
   "metadata": {
    "collapsed": false,
    "ExecuteTime": {
     "end_time": "2023-12-26T19:27:38.372016316Z",
     "start_time": "2023-12-26T19:27:37.127645127Z"
    }
   },
   "id": "7165c3cf00682744"
  },
  {
   "cell_type": "code",
   "execution_count": 2,
   "outputs": [
    {
     "name": "stderr",
     "output_type": "stream",
     "text": [
      "Setting default log level to \"WARN\".\n",
      "To adjust logging level use sc.setLogLevel(newLevel). For SparkR, use setLogLevel(newLevel).\n",
      "23/12/26 20:27:39 WARN NativeCodeLoader: Unable to load native-hadoop library for your platform... using builtin-java classes where applicable\n",
      "                                                                                \r"
     ]
    }
   ],
   "source": [
    "VIEWS = views(\"v3\")\n",
    "spark = create_session()\n",
    "\n",
    "for view, file in VIEWS.items():\n",
    "    df = spark.read.json(file)\n",
    "    df.createOrReplaceTempView(view)"
   ],
   "metadata": {
    "collapsed": false,
    "ExecuteTime": {
     "end_time": "2023-12-26T19:27:44.294559641Z",
     "start_time": "2023-12-26T19:27:38.374246411Z"
    }
   },
   "id": "bb68bcb393edcbb9"
  },
  {
   "cell_type": "code",
   "execution_count": 3,
   "outputs": [
    {
     "name": "stderr",
     "output_type": "stream",
     "text": [
      "                                                                                \r"
     ]
    }
   ],
   "source": [
    "sessions_full = spark.sql(f\"SELECT * FROM sessions\").toPandas()\n",
    "sessions = spark.sql(f\"SELECT DISTINCT user_id, track_id FROM sessions WHERE event_type like 'like' order by user_id, track_id\").toPandas()\n",
    "tracks = spark.sql(\n",
    "    f\"SELECT DISTINCT id, acousticness, danceability, duration_ms, energy, instrumentalness, key, liveness, loudness, popularity, EXTRACT(year from `release_date`) as release_year, speechiness, tempo, valence FROM tracks \").toPandas()"
   ],
   "metadata": {
    "collapsed": false,
    "ExecuteTime": {
     "end_time": "2023-12-26T19:27:48.240613832Z",
     "start_time": "2023-12-26T19:27:44.297564447Z"
    }
   },
   "id": "a2f9ee82c87bf517"
  },
  {
   "cell_type": "code",
   "execution_count": 4,
   "outputs": [
    {
     "data": {
      "text/plain": "          event_type  session_id                   timestamp  \\\n0               play         124         2023-09-20T07:18:17   \n1               like         124  2023-09-20T07:18:30.069000   \n2               play         125  2023-04-27T00:20:57.181000   \n3               play         126  2023-02-11T05:34:54.160000   \n4       advertisment         126  2023-02-11T05:34:56.685000   \n...              ...         ...                         ...   \n580241          like      102015  2023-11-12T09:06:01.022000   \n580242          play      102015  2023-11-12T09:09:17.564000   \n580243          like      102015  2023-11-12T09:12:19.739000   \n580244          skip      102015  2023-11-12T09:12:58.093000   \n580245          play      102015  2023-11-12T09:13:03.093000   \n\n                      track_id  user_id  \n0       4flBNxpPLGVAdufOzRBIen      101  \n1       4flBNxpPLGVAdufOzRBIen      101  \n2       3uMYq07Kj5m564OQwdSCrD      101  \n3       2RChe0r2cMoyOvuKobZy44      101  \n4                         None      101  \n...                        ...      ...  \n580241  4cLdpErILMO8Db8pQVAVcZ     1100  \n580242  3j8ja2Hq824OaRqIENJPTH     1100  \n580243  3j8ja2Hq824OaRqIENJPTH     1100  \n580244  3j8ja2Hq824OaRqIENJPTH     1100  \n580245  42ocGQCOT0xYtV3f5kJDsD     1100  \n\n[580246 rows x 5 columns]",
      "text/html": "<div>\n<style scoped>\n    .dataframe tbody tr th:only-of-type {\n        vertical-align: middle;\n    }\n\n    .dataframe tbody tr th {\n        vertical-align: top;\n    }\n\n    .dataframe thead th {\n        text-align: right;\n    }\n</style>\n<table border=\"1\" class=\"dataframe\">\n  <thead>\n    <tr style=\"text-align: right;\">\n      <th></th>\n      <th>event_type</th>\n      <th>session_id</th>\n      <th>timestamp</th>\n      <th>track_id</th>\n      <th>user_id</th>\n    </tr>\n  </thead>\n  <tbody>\n    <tr>\n      <th>0</th>\n      <td>play</td>\n      <td>124</td>\n      <td>2023-09-20T07:18:17</td>\n      <td>4flBNxpPLGVAdufOzRBIen</td>\n      <td>101</td>\n    </tr>\n    <tr>\n      <th>1</th>\n      <td>like</td>\n      <td>124</td>\n      <td>2023-09-20T07:18:30.069000</td>\n      <td>4flBNxpPLGVAdufOzRBIen</td>\n      <td>101</td>\n    </tr>\n    <tr>\n      <th>2</th>\n      <td>play</td>\n      <td>125</td>\n      <td>2023-04-27T00:20:57.181000</td>\n      <td>3uMYq07Kj5m564OQwdSCrD</td>\n      <td>101</td>\n    </tr>\n    <tr>\n      <th>3</th>\n      <td>play</td>\n      <td>126</td>\n      <td>2023-02-11T05:34:54.160000</td>\n      <td>2RChe0r2cMoyOvuKobZy44</td>\n      <td>101</td>\n    </tr>\n    <tr>\n      <th>4</th>\n      <td>advertisment</td>\n      <td>126</td>\n      <td>2023-02-11T05:34:56.685000</td>\n      <td>None</td>\n      <td>101</td>\n    </tr>\n    <tr>\n      <th>...</th>\n      <td>...</td>\n      <td>...</td>\n      <td>...</td>\n      <td>...</td>\n      <td>...</td>\n    </tr>\n    <tr>\n      <th>580241</th>\n      <td>like</td>\n      <td>102015</td>\n      <td>2023-11-12T09:06:01.022000</td>\n      <td>4cLdpErILMO8Db8pQVAVcZ</td>\n      <td>1100</td>\n    </tr>\n    <tr>\n      <th>580242</th>\n      <td>play</td>\n      <td>102015</td>\n      <td>2023-11-12T09:09:17.564000</td>\n      <td>3j8ja2Hq824OaRqIENJPTH</td>\n      <td>1100</td>\n    </tr>\n    <tr>\n      <th>580243</th>\n      <td>like</td>\n      <td>102015</td>\n      <td>2023-11-12T09:12:19.739000</td>\n      <td>3j8ja2Hq824OaRqIENJPTH</td>\n      <td>1100</td>\n    </tr>\n    <tr>\n      <th>580244</th>\n      <td>skip</td>\n      <td>102015</td>\n      <td>2023-11-12T09:12:58.093000</td>\n      <td>3j8ja2Hq824OaRqIENJPTH</td>\n      <td>1100</td>\n    </tr>\n    <tr>\n      <th>580245</th>\n      <td>play</td>\n      <td>102015</td>\n      <td>2023-11-12T09:13:03.093000</td>\n      <td>42ocGQCOT0xYtV3f5kJDsD</td>\n      <td>1100</td>\n    </tr>\n  </tbody>\n</table>\n<p>580246 rows × 5 columns</p>\n</div>"
     },
     "metadata": {},
     "output_type": "display_data"
    },
    {
     "data": {
      "text/plain": "       user_id                track_id\n0          101  03LNdMgu3l3Ldc3QMl1bvZ\n1          101  0BVCEJJFVsb8nrQGI11Dj2\n2          101  0PCpQRd0hMAWjBLOmJdR7X\n3          101  0bLOiofyBB62YU2cNnONJG\n4          101  0iJfN2CqrX7O8hkzgAMMAf\n...        ...                     ...\n80366     1100  7FdAQ7CXm9yS4DBtIKopLi\n80367     1100  7a9aeLVkn7DIqFjbanKz0k\n80368     1100  7an1exwMnfYRcdVQm0yDev\n80369     1100  7cioKB5CHVzk09SOtTyn0T\n80370     1100  7mYvtEeBdMqRSyj1Qpv6my\n\n[80371 rows x 2 columns]",
      "text/html": "<div>\n<style scoped>\n    .dataframe tbody tr th:only-of-type {\n        vertical-align: middle;\n    }\n\n    .dataframe tbody tr th {\n        vertical-align: top;\n    }\n\n    .dataframe thead th {\n        text-align: right;\n    }\n</style>\n<table border=\"1\" class=\"dataframe\">\n  <thead>\n    <tr style=\"text-align: right;\">\n      <th></th>\n      <th>user_id</th>\n      <th>track_id</th>\n    </tr>\n  </thead>\n  <tbody>\n    <tr>\n      <th>0</th>\n      <td>101</td>\n      <td>03LNdMgu3l3Ldc3QMl1bvZ</td>\n    </tr>\n    <tr>\n      <th>1</th>\n      <td>101</td>\n      <td>0BVCEJJFVsb8nrQGI11Dj2</td>\n    </tr>\n    <tr>\n      <th>2</th>\n      <td>101</td>\n      <td>0PCpQRd0hMAWjBLOmJdR7X</td>\n    </tr>\n    <tr>\n      <th>3</th>\n      <td>101</td>\n      <td>0bLOiofyBB62YU2cNnONJG</td>\n    </tr>\n    <tr>\n      <th>4</th>\n      <td>101</td>\n      <td>0iJfN2CqrX7O8hkzgAMMAf</td>\n    </tr>\n    <tr>\n      <th>...</th>\n      <td>...</td>\n      <td>...</td>\n    </tr>\n    <tr>\n      <th>80366</th>\n      <td>1100</td>\n      <td>7FdAQ7CXm9yS4DBtIKopLi</td>\n    </tr>\n    <tr>\n      <th>80367</th>\n      <td>1100</td>\n      <td>7a9aeLVkn7DIqFjbanKz0k</td>\n    </tr>\n    <tr>\n      <th>80368</th>\n      <td>1100</td>\n      <td>7an1exwMnfYRcdVQm0yDev</td>\n    </tr>\n    <tr>\n      <th>80369</th>\n      <td>1100</td>\n      <td>7cioKB5CHVzk09SOtTyn0T</td>\n    </tr>\n    <tr>\n      <th>80370</th>\n      <td>1100</td>\n      <td>7mYvtEeBdMqRSyj1Qpv6my</td>\n    </tr>\n  </tbody>\n</table>\n<p>80371 rows × 2 columns</p>\n</div>"
     },
     "metadata": {},
     "output_type": "display_data"
    },
    {
     "data": {
      "text/plain": "                           id  acousticness  danceability  duration_ms  \\\n0      3KfbEIOC7YIv90FIfNSZpo        0.4490         0.688       146333   \n1      1dxbAIfCASqv6jix2R1Taj        0.7840         0.698       148413   \n2      17PXXzOygMyXXUNLngVN5u        0.8820         0.539       173733   \n3      3Um9toULmYFGCpvaIPFw7l        0.4470         0.283       233000   \n4      0GjEhVFGZW8afUYGChu3Rr        0.3580         0.543       230400   \n...                       ...           ...           ...          ...   \n22407  3VbsXTdxBl6IavGjFZbl3R        0.0394         0.720       225012   \n22408  2zurBuX8TGOHkZLhye9Xme        0.0551         0.769       179080   \n22409  3ev1ilsHdVbpXeT7FG6Kw7        0.6410         0.838       229187   \n22410  5qTwnr6WbWeeUDS9dcl5g6        0.3370         0.444       303097   \n22411  5MAjVARSIDzwz8jFG36hFu        0.2180         0.689       186643   \n\n       energy  instrumentalness  key  liveness  loudness  popularity  \\\n0       0.435          0.000000    9    0.1130   -11.359          74   \n1       0.293          0.010600    0    0.0936   -11.361          55   \n2       0.114          0.009020    2    0.1060   -20.575          60   \n3       0.716          0.000000    1    0.3990    -9.632          72   \n4       0.870          0.000939    9    0.7920    -6.514          81   \n...       ...               ...  ...       ...       ...         ...   \n22407   0.824          0.000000   10    0.0509    -5.086          53   \n22408   0.922          0.000000    9    0.1940    -2.779          51   \n22409   0.461          0.000000    1    0.0825    -9.610          54   \n22410   0.523          0.000000    1    0.1130    -4.522          54   \n22411   0.662          0.000032    7    0.3950    -6.732          68   \n\n       release_year  speechiness    tempo  valence  \n0              1965       0.0323  103.239    0.435  \n1              1967       0.0332  117.613    0.724  \n2              1970       0.0346  141.378    0.608  \n3              1971       0.0986  201.960    0.828  \n4              1976       0.0428  100.804    0.754  \n...             ...          ...      ...      ...  \n22407          2020       0.1280  165.998    0.333  \n22408          2020       0.1020  119.991    0.804  \n22409          2017       0.2170  104.979    0.497  \n22410          2019       0.0286  185.872    0.420  \n22411          2019       0.0612  129.957    0.673  \n\n[22412 rows x 14 columns]",
      "text/html": "<div>\n<style scoped>\n    .dataframe tbody tr th:only-of-type {\n        vertical-align: middle;\n    }\n\n    .dataframe tbody tr th {\n        vertical-align: top;\n    }\n\n    .dataframe thead th {\n        text-align: right;\n    }\n</style>\n<table border=\"1\" class=\"dataframe\">\n  <thead>\n    <tr style=\"text-align: right;\">\n      <th></th>\n      <th>id</th>\n      <th>acousticness</th>\n      <th>danceability</th>\n      <th>duration_ms</th>\n      <th>energy</th>\n      <th>instrumentalness</th>\n      <th>key</th>\n      <th>liveness</th>\n      <th>loudness</th>\n      <th>popularity</th>\n      <th>release_year</th>\n      <th>speechiness</th>\n      <th>tempo</th>\n      <th>valence</th>\n    </tr>\n  </thead>\n  <tbody>\n    <tr>\n      <th>0</th>\n      <td>3KfbEIOC7YIv90FIfNSZpo</td>\n      <td>0.4490</td>\n      <td>0.688</td>\n      <td>146333</td>\n      <td>0.435</td>\n      <td>0.000000</td>\n      <td>9</td>\n      <td>0.1130</td>\n      <td>-11.359</td>\n      <td>74</td>\n      <td>1965</td>\n      <td>0.0323</td>\n      <td>103.239</td>\n      <td>0.435</td>\n    </tr>\n    <tr>\n      <th>1</th>\n      <td>1dxbAIfCASqv6jix2R1Taj</td>\n      <td>0.7840</td>\n      <td>0.698</td>\n      <td>148413</td>\n      <td>0.293</td>\n      <td>0.010600</td>\n      <td>0</td>\n      <td>0.0936</td>\n      <td>-11.361</td>\n      <td>55</td>\n      <td>1967</td>\n      <td>0.0332</td>\n      <td>117.613</td>\n      <td>0.724</td>\n    </tr>\n    <tr>\n      <th>2</th>\n      <td>17PXXzOygMyXXUNLngVN5u</td>\n      <td>0.8820</td>\n      <td>0.539</td>\n      <td>173733</td>\n      <td>0.114</td>\n      <td>0.009020</td>\n      <td>2</td>\n      <td>0.1060</td>\n      <td>-20.575</td>\n      <td>60</td>\n      <td>1970</td>\n      <td>0.0346</td>\n      <td>141.378</td>\n      <td>0.608</td>\n    </tr>\n    <tr>\n      <th>3</th>\n      <td>3Um9toULmYFGCpvaIPFw7l</td>\n      <td>0.4470</td>\n      <td>0.283</td>\n      <td>233000</td>\n      <td>0.716</td>\n      <td>0.000000</td>\n      <td>1</td>\n      <td>0.3990</td>\n      <td>-9.632</td>\n      <td>72</td>\n      <td>1971</td>\n      <td>0.0986</td>\n      <td>201.960</td>\n      <td>0.828</td>\n    </tr>\n    <tr>\n      <th>4</th>\n      <td>0GjEhVFGZW8afUYGChu3Rr</td>\n      <td>0.3580</td>\n      <td>0.543</td>\n      <td>230400</td>\n      <td>0.870</td>\n      <td>0.000939</td>\n      <td>9</td>\n      <td>0.7920</td>\n      <td>-6.514</td>\n      <td>81</td>\n      <td>1976</td>\n      <td>0.0428</td>\n      <td>100.804</td>\n      <td>0.754</td>\n    </tr>\n    <tr>\n      <th>...</th>\n      <td>...</td>\n      <td>...</td>\n      <td>...</td>\n      <td>...</td>\n      <td>...</td>\n      <td>...</td>\n      <td>...</td>\n      <td>...</td>\n      <td>...</td>\n      <td>...</td>\n      <td>...</td>\n      <td>...</td>\n      <td>...</td>\n      <td>...</td>\n    </tr>\n    <tr>\n      <th>22407</th>\n      <td>3VbsXTdxBl6IavGjFZbl3R</td>\n      <td>0.0394</td>\n      <td>0.720</td>\n      <td>225012</td>\n      <td>0.824</td>\n      <td>0.000000</td>\n      <td>10</td>\n      <td>0.0509</td>\n      <td>-5.086</td>\n      <td>53</td>\n      <td>2020</td>\n      <td>0.1280</td>\n      <td>165.998</td>\n      <td>0.333</td>\n    </tr>\n    <tr>\n      <th>22408</th>\n      <td>2zurBuX8TGOHkZLhye9Xme</td>\n      <td>0.0551</td>\n      <td>0.769</td>\n      <td>179080</td>\n      <td>0.922</td>\n      <td>0.000000</td>\n      <td>9</td>\n      <td>0.1940</td>\n      <td>-2.779</td>\n      <td>51</td>\n      <td>2020</td>\n      <td>0.1020</td>\n      <td>119.991</td>\n      <td>0.804</td>\n    </tr>\n    <tr>\n      <th>22409</th>\n      <td>3ev1ilsHdVbpXeT7FG6Kw7</td>\n      <td>0.6410</td>\n      <td>0.838</td>\n      <td>229187</td>\n      <td>0.461</td>\n      <td>0.000000</td>\n      <td>1</td>\n      <td>0.0825</td>\n      <td>-9.610</td>\n      <td>54</td>\n      <td>2017</td>\n      <td>0.2170</td>\n      <td>104.979</td>\n      <td>0.497</td>\n    </tr>\n    <tr>\n      <th>22410</th>\n      <td>5qTwnr6WbWeeUDS9dcl5g6</td>\n      <td>0.3370</td>\n      <td>0.444</td>\n      <td>303097</td>\n      <td>0.523</td>\n      <td>0.000000</td>\n      <td>1</td>\n      <td>0.1130</td>\n      <td>-4.522</td>\n      <td>54</td>\n      <td>2019</td>\n      <td>0.0286</td>\n      <td>185.872</td>\n      <td>0.420</td>\n    </tr>\n    <tr>\n      <th>22411</th>\n      <td>5MAjVARSIDzwz8jFG36hFu</td>\n      <td>0.2180</td>\n      <td>0.689</td>\n      <td>186643</td>\n      <td>0.662</td>\n      <td>0.000032</td>\n      <td>7</td>\n      <td>0.3950</td>\n      <td>-6.732</td>\n      <td>68</td>\n      <td>2019</td>\n      <td>0.0612</td>\n      <td>129.957</td>\n      <td>0.673</td>\n    </tr>\n  </tbody>\n</table>\n<p>22412 rows × 14 columns</p>\n</div>"
     },
     "metadata": {},
     "output_type": "display_data"
    }
   ],
   "source": [
    "display(sessions_full)\n",
    "display(sessions)\n",
    "display(tracks)"
   ],
   "metadata": {
    "collapsed": false,
    "ExecuteTime": {
     "end_time": "2023-12-26T19:27:48.276154493Z",
     "start_time": "2023-12-26T19:27:48.245230665Z"
    }
   },
   "id": "a01cee0ebc7f0da"
  },
  {
   "cell_type": "code",
   "execution_count": 5,
   "outputs": [
    {
     "data": {
      "text/plain": "       user_id                track_id  weight  acousticness  danceability  \\\n0          101  03LNdMgu3l3Ldc3QMl1bvZ       1       0.54500         0.674   \n1          101  0BVCEJJFVsb8nrQGI11Dj2       1       0.00522         0.656   \n2          101  0PCpQRd0hMAWjBLOmJdR7X       1       0.02280         0.481   \n3          101  0bLOiofyBB62YU2cNnONJG       1       0.32900         0.457   \n4          101  0iJfN2CqrX7O8hkzgAMMAf       1       0.76700         0.222   \n...        ...                     ...     ...           ...           ...   \n80366     1100  7FdAQ7CXm9yS4DBtIKopLi       1       0.88100         0.444   \n80367     1100  7a9aeLVkn7DIqFjbanKz0k       1       0.31900         0.145   \n80368     1100  7an1exwMnfYRcdVQm0yDev       1       0.21700         0.418   \n80369     1100  7cioKB5CHVzk09SOtTyn0T       1       0.10300         0.436   \n80370     1100  7mYvtEeBdMqRSyj1Qpv6my       1       0.33900         0.727   \n\n       duration_ms  energy  instrumentalness  key  liveness  loudness  \\\n0           182549  0.6370          0.000002    0    0.0483    -3.400   \n1           235253  0.9230          0.000000    2    0.3260    -3.541   \n2           166040  0.8820          0.000220    2    0.1520    -5.068   \n3           404933  0.4280          0.000002    1    0.1690    -9.796   \n4           355634  0.0555          0.923000    0    0.1180   -22.118   \n...            ...     ...               ...  ...       ...       ...   \n80366       250880  0.2660          0.000000    9    0.1460    -9.001   \n80367       271867  0.4520          0.920000    2    0.0753   -13.560   \n80368       239013  0.4820          0.000000    5    0.1230    -5.769   \n80369       369040  0.5340          0.006430    1    0.5070    -9.416   \n80370       215467  0.4450          0.000000    1    0.1800   -11.241   \n\n       popularity  release_year  speechiness    tempo  valence  \n0              52          2014       0.0330  139.867    0.755  \n1              56          2011       0.0339  139.930    0.652  \n2              51          1999       0.0407  141.721    0.718  \n3              55          1975       0.0283  129.980    0.151  \n4              53          1994       0.0321   98.941    0.033  \n...           ...           ...          ...      ...      ...  \n80366          56          2004       0.0366  130.430    0.404  \n80367          55          2007       0.0448   82.297    0.146  \n80368          54          2006       0.0266  175.558    0.261  \n80369          59          2014       0.0773  122.822    0.325  \n80370          53          1998       0.2910   81.125    0.527  \n\n[80371 rows x 16 columns]",
      "text/html": "<div>\n<style scoped>\n    .dataframe tbody tr th:only-of-type {\n        vertical-align: middle;\n    }\n\n    .dataframe tbody tr th {\n        vertical-align: top;\n    }\n\n    .dataframe thead th {\n        text-align: right;\n    }\n</style>\n<table border=\"1\" class=\"dataframe\">\n  <thead>\n    <tr style=\"text-align: right;\">\n      <th></th>\n      <th>user_id</th>\n      <th>track_id</th>\n      <th>weight</th>\n      <th>acousticness</th>\n      <th>danceability</th>\n      <th>duration_ms</th>\n      <th>energy</th>\n      <th>instrumentalness</th>\n      <th>key</th>\n      <th>liveness</th>\n      <th>loudness</th>\n      <th>popularity</th>\n      <th>release_year</th>\n      <th>speechiness</th>\n      <th>tempo</th>\n      <th>valence</th>\n    </tr>\n  </thead>\n  <tbody>\n    <tr>\n      <th>0</th>\n      <td>101</td>\n      <td>03LNdMgu3l3Ldc3QMl1bvZ</td>\n      <td>1</td>\n      <td>0.54500</td>\n      <td>0.674</td>\n      <td>182549</td>\n      <td>0.6370</td>\n      <td>0.000002</td>\n      <td>0</td>\n      <td>0.0483</td>\n      <td>-3.400</td>\n      <td>52</td>\n      <td>2014</td>\n      <td>0.0330</td>\n      <td>139.867</td>\n      <td>0.755</td>\n    </tr>\n    <tr>\n      <th>1</th>\n      <td>101</td>\n      <td>0BVCEJJFVsb8nrQGI11Dj2</td>\n      <td>1</td>\n      <td>0.00522</td>\n      <td>0.656</td>\n      <td>235253</td>\n      <td>0.9230</td>\n      <td>0.000000</td>\n      <td>2</td>\n      <td>0.3260</td>\n      <td>-3.541</td>\n      <td>56</td>\n      <td>2011</td>\n      <td>0.0339</td>\n      <td>139.930</td>\n      <td>0.652</td>\n    </tr>\n    <tr>\n      <th>2</th>\n      <td>101</td>\n      <td>0PCpQRd0hMAWjBLOmJdR7X</td>\n      <td>1</td>\n      <td>0.02280</td>\n      <td>0.481</td>\n      <td>166040</td>\n      <td>0.8820</td>\n      <td>0.000220</td>\n      <td>2</td>\n      <td>0.1520</td>\n      <td>-5.068</td>\n      <td>51</td>\n      <td>1999</td>\n      <td>0.0407</td>\n      <td>141.721</td>\n      <td>0.718</td>\n    </tr>\n    <tr>\n      <th>3</th>\n      <td>101</td>\n      <td>0bLOiofyBB62YU2cNnONJG</td>\n      <td>1</td>\n      <td>0.32900</td>\n      <td>0.457</td>\n      <td>404933</td>\n      <td>0.4280</td>\n      <td>0.000002</td>\n      <td>1</td>\n      <td>0.1690</td>\n      <td>-9.796</td>\n      <td>55</td>\n      <td>1975</td>\n      <td>0.0283</td>\n      <td>129.980</td>\n      <td>0.151</td>\n    </tr>\n    <tr>\n      <th>4</th>\n      <td>101</td>\n      <td>0iJfN2CqrX7O8hkzgAMMAf</td>\n      <td>1</td>\n      <td>0.76700</td>\n      <td>0.222</td>\n      <td>355634</td>\n      <td>0.0555</td>\n      <td>0.923000</td>\n      <td>0</td>\n      <td>0.1180</td>\n      <td>-22.118</td>\n      <td>53</td>\n      <td>1994</td>\n      <td>0.0321</td>\n      <td>98.941</td>\n      <td>0.033</td>\n    </tr>\n    <tr>\n      <th>...</th>\n      <td>...</td>\n      <td>...</td>\n      <td>...</td>\n      <td>...</td>\n      <td>...</td>\n      <td>...</td>\n      <td>...</td>\n      <td>...</td>\n      <td>...</td>\n      <td>...</td>\n      <td>...</td>\n      <td>...</td>\n      <td>...</td>\n      <td>...</td>\n      <td>...</td>\n      <td>...</td>\n    </tr>\n    <tr>\n      <th>80366</th>\n      <td>1100</td>\n      <td>7FdAQ7CXm9yS4DBtIKopLi</td>\n      <td>1</td>\n      <td>0.88100</td>\n      <td>0.444</td>\n      <td>250880</td>\n      <td>0.2660</td>\n      <td>0.000000</td>\n      <td>9</td>\n      <td>0.1460</td>\n      <td>-9.001</td>\n      <td>56</td>\n      <td>2004</td>\n      <td>0.0366</td>\n      <td>130.430</td>\n      <td>0.404</td>\n    </tr>\n    <tr>\n      <th>80367</th>\n      <td>1100</td>\n      <td>7a9aeLVkn7DIqFjbanKz0k</td>\n      <td>1</td>\n      <td>0.31900</td>\n      <td>0.145</td>\n      <td>271867</td>\n      <td>0.4520</td>\n      <td>0.920000</td>\n      <td>2</td>\n      <td>0.0753</td>\n      <td>-13.560</td>\n      <td>55</td>\n      <td>2007</td>\n      <td>0.0448</td>\n      <td>82.297</td>\n      <td>0.146</td>\n    </tr>\n    <tr>\n      <th>80368</th>\n      <td>1100</td>\n      <td>7an1exwMnfYRcdVQm0yDev</td>\n      <td>1</td>\n      <td>0.21700</td>\n      <td>0.418</td>\n      <td>239013</td>\n      <td>0.4820</td>\n      <td>0.000000</td>\n      <td>5</td>\n      <td>0.1230</td>\n      <td>-5.769</td>\n      <td>54</td>\n      <td>2006</td>\n      <td>0.0266</td>\n      <td>175.558</td>\n      <td>0.261</td>\n    </tr>\n    <tr>\n      <th>80369</th>\n      <td>1100</td>\n      <td>7cioKB5CHVzk09SOtTyn0T</td>\n      <td>1</td>\n      <td>0.10300</td>\n      <td>0.436</td>\n      <td>369040</td>\n      <td>0.5340</td>\n      <td>0.006430</td>\n      <td>1</td>\n      <td>0.5070</td>\n      <td>-9.416</td>\n      <td>59</td>\n      <td>2014</td>\n      <td>0.0773</td>\n      <td>122.822</td>\n      <td>0.325</td>\n    </tr>\n    <tr>\n      <th>80370</th>\n      <td>1100</td>\n      <td>7mYvtEeBdMqRSyj1Qpv6my</td>\n      <td>1</td>\n      <td>0.33900</td>\n      <td>0.727</td>\n      <td>215467</td>\n      <td>0.4450</td>\n      <td>0.000000</td>\n      <td>1</td>\n      <td>0.1800</td>\n      <td>-11.241</td>\n      <td>53</td>\n      <td>1998</td>\n      <td>0.2910</td>\n      <td>81.125</td>\n      <td>0.527</td>\n    </tr>\n  </tbody>\n</table>\n<p>80371 rows × 16 columns</p>\n</div>"
     },
     "execution_count": 5,
     "metadata": {},
     "output_type": "execute_result"
    }
   ],
   "source": [
    "# d = spark.sql(\n",
    "#     \"\"\"\n",
    "#     SELECT s.user_id, s.track_id, s.weight, acousticness, danceability, duration_ms, energy, instrumentalness, key, liveness, loudness, popularity, EXTRACT(year from `release_date`) as release_year, speechiness, tempo, valence\n",
    "#     FROM (\n",
    "#         select user_id, track_id, sum(event_weight) as weight\n",
    "#         from (\n",
    "#             SELECT user_id, track_id, CASE WHEN event_type like 'like' THEN 1 ELSE 0.02 END as event_weight\n",
    "#             FROM sessions\n",
    "#             WHERE event_type like 'like' or event_type like 'play'\n",
    "#             ) \n",
    "#         group by user_id, track_id\n",
    "#     ) s\n",
    "#     inner join tracks t on s.track_id = t.id\n",
    "#     order by s.user_id, t.id\n",
    "#     \"\"\").toPandas()\n",
    "d = spark.sql(\n",
    "    \"\"\"\n",
    "    SELECT s.user_id, s.track_id, s.weight, acousticness, danceability, duration_ms, energy, instrumentalness, key, liveness, loudness, popularity, EXTRACT(year from `release_date`) as release_year, speechiness, tempo, valence\n",
    "    FROM (\n",
    "        select user_id, track_id, sum(event_weight) as weight\n",
    "        from (\n",
    "            SELECT user_id, track_id, 1 as event_weight\n",
    "            FROM sessions\n",
    "            WHERE event_type like 'like'\n",
    "            ) \n",
    "        group by user_id, track_id\n",
    "    ) s\n",
    "    inner join tracks t on s.track_id = t.id\n",
    "    order by s.user_id, t.id\n",
    "    \"\"\").toPandas()\n",
    "d"
   ],
   "metadata": {
    "collapsed": false,
    "ExecuteTime": {
     "end_time": "2023-12-26T19:27:49.951051484Z",
     "start_time": "2023-12-26T19:27:48.272430348Z"
    }
   },
   "id": "4eb93be217eeeadd"
  },
  {
   "cell_type": "code",
   "execution_count": 6,
   "outputs": [
    {
     "data": {
      "text/plain": "       acousticness  danceability  duration_ms    energy  instrumentalness  \\\n0          0.998891      0.475696    -0.694795 -0.055256         -0.265465   \n1         -0.947493      0.361782     0.087430  1.302423         -0.265476   \n2         -0.884102     -0.745717    -0.939819  1.107791         -0.264052   \n3          0.220020     -0.897602     2.605795 -1.047407         -0.265462   \n4          1.799398     -2.384814     1.874106 -2.815713          5.711417   \n...             ...           ...          ...       ...               ...   \n80366      2.210469     -0.979874     0.319364 -1.816442         -0.265476   \n80367      0.183961     -2.872114     0.630849 -0.933476          5.691990   \n80368     -0.183839     -1.144416     0.143235 -0.791062         -0.265476   \n80369     -0.594910     -1.030502     2.073076 -0.544211         -0.223839   \n80370      0.256079      0.811110    -0.206231 -0.966705         -0.265476   \n\n            key  liveness  loudness  popularity  release_year  speechiness  \\\n0     -1.479128 -0.863278  1.010233   -1.162493      0.559228    -0.558926   \n1     -0.918726  0.784774  0.972747   -0.666516      0.342740    -0.548871   \n2     -0.918726 -0.247855  0.566784   -1.286487     -0.523216    -0.472903   \n3     -1.198927 -0.146966 -0.690186   -0.790510     -2.255126    -0.611433   \n4     -1.479128 -0.449633 -3.966072   -1.038499     -0.884030    -0.568980   \n...         ...       ...       ...         ...           ...          ...   \n80366  1.042683 -0.283463 -0.478830   -0.666516     -0.162401    -0.518707   \n80367 -0.918726 -0.703042 -1.690871   -0.790510      0.054088    -0.427098   \n80368 -0.078122 -0.419959  0.380419   -0.914504     -0.018075    -0.630425   \n80369 -1.198927  1.858945 -0.589161   -0.294533      0.559228    -0.064014   \n80370 -1.198927 -0.081685 -1.074349   -1.038499     -0.595378     2.323405   \n\n          tempo   valence  \n0      0.607165  0.972939  \n1      0.609285  0.552061  \n2      0.669554  0.821750  \n3      0.274459 -1.495124  \n4     -0.770029 -1.977295  \n...         ...       ...  \n80366  0.289602 -0.461316  \n80367 -1.330114 -1.515555  \n80368  1.808198 -1.045642  \n80369  0.033587 -0.784126  \n80370 -1.369553  0.041286  \n\n[80371 rows x 13 columns]",
      "text/html": "<div>\n<style scoped>\n    .dataframe tbody tr th:only-of-type {\n        vertical-align: middle;\n    }\n\n    .dataframe tbody tr th {\n        vertical-align: top;\n    }\n\n    .dataframe thead th {\n        text-align: right;\n    }\n</style>\n<table border=\"1\" class=\"dataframe\">\n  <thead>\n    <tr style=\"text-align: right;\">\n      <th></th>\n      <th>acousticness</th>\n      <th>danceability</th>\n      <th>duration_ms</th>\n      <th>energy</th>\n      <th>instrumentalness</th>\n      <th>key</th>\n      <th>liveness</th>\n      <th>loudness</th>\n      <th>popularity</th>\n      <th>release_year</th>\n      <th>speechiness</th>\n      <th>tempo</th>\n      <th>valence</th>\n    </tr>\n  </thead>\n  <tbody>\n    <tr>\n      <th>0</th>\n      <td>0.998891</td>\n      <td>0.475696</td>\n      <td>-0.694795</td>\n      <td>-0.055256</td>\n      <td>-0.265465</td>\n      <td>-1.479128</td>\n      <td>-0.863278</td>\n      <td>1.010233</td>\n      <td>-1.162493</td>\n      <td>0.559228</td>\n      <td>-0.558926</td>\n      <td>0.607165</td>\n      <td>0.972939</td>\n    </tr>\n    <tr>\n      <th>1</th>\n      <td>-0.947493</td>\n      <td>0.361782</td>\n      <td>0.087430</td>\n      <td>1.302423</td>\n      <td>-0.265476</td>\n      <td>-0.918726</td>\n      <td>0.784774</td>\n      <td>0.972747</td>\n      <td>-0.666516</td>\n      <td>0.342740</td>\n      <td>-0.548871</td>\n      <td>0.609285</td>\n      <td>0.552061</td>\n    </tr>\n    <tr>\n      <th>2</th>\n      <td>-0.884102</td>\n      <td>-0.745717</td>\n      <td>-0.939819</td>\n      <td>1.107791</td>\n      <td>-0.264052</td>\n      <td>-0.918726</td>\n      <td>-0.247855</td>\n      <td>0.566784</td>\n      <td>-1.286487</td>\n      <td>-0.523216</td>\n      <td>-0.472903</td>\n      <td>0.669554</td>\n      <td>0.821750</td>\n    </tr>\n    <tr>\n      <th>3</th>\n      <td>0.220020</td>\n      <td>-0.897602</td>\n      <td>2.605795</td>\n      <td>-1.047407</td>\n      <td>-0.265462</td>\n      <td>-1.198927</td>\n      <td>-0.146966</td>\n      <td>-0.690186</td>\n      <td>-0.790510</td>\n      <td>-2.255126</td>\n      <td>-0.611433</td>\n      <td>0.274459</td>\n      <td>-1.495124</td>\n    </tr>\n    <tr>\n      <th>4</th>\n      <td>1.799398</td>\n      <td>-2.384814</td>\n      <td>1.874106</td>\n      <td>-2.815713</td>\n      <td>5.711417</td>\n      <td>-1.479128</td>\n      <td>-0.449633</td>\n      <td>-3.966072</td>\n      <td>-1.038499</td>\n      <td>-0.884030</td>\n      <td>-0.568980</td>\n      <td>-0.770029</td>\n      <td>-1.977295</td>\n    </tr>\n    <tr>\n      <th>...</th>\n      <td>...</td>\n      <td>...</td>\n      <td>...</td>\n      <td>...</td>\n      <td>...</td>\n      <td>...</td>\n      <td>...</td>\n      <td>...</td>\n      <td>...</td>\n      <td>...</td>\n      <td>...</td>\n      <td>...</td>\n      <td>...</td>\n    </tr>\n    <tr>\n      <th>80366</th>\n      <td>2.210469</td>\n      <td>-0.979874</td>\n      <td>0.319364</td>\n      <td>-1.816442</td>\n      <td>-0.265476</td>\n      <td>1.042683</td>\n      <td>-0.283463</td>\n      <td>-0.478830</td>\n      <td>-0.666516</td>\n      <td>-0.162401</td>\n      <td>-0.518707</td>\n      <td>0.289602</td>\n      <td>-0.461316</td>\n    </tr>\n    <tr>\n      <th>80367</th>\n      <td>0.183961</td>\n      <td>-2.872114</td>\n      <td>0.630849</td>\n      <td>-0.933476</td>\n      <td>5.691990</td>\n      <td>-0.918726</td>\n      <td>-0.703042</td>\n      <td>-1.690871</td>\n      <td>-0.790510</td>\n      <td>0.054088</td>\n      <td>-0.427098</td>\n      <td>-1.330114</td>\n      <td>-1.515555</td>\n    </tr>\n    <tr>\n      <th>80368</th>\n      <td>-0.183839</td>\n      <td>-1.144416</td>\n      <td>0.143235</td>\n      <td>-0.791062</td>\n      <td>-0.265476</td>\n      <td>-0.078122</td>\n      <td>-0.419959</td>\n      <td>0.380419</td>\n      <td>-0.914504</td>\n      <td>-0.018075</td>\n      <td>-0.630425</td>\n      <td>1.808198</td>\n      <td>-1.045642</td>\n    </tr>\n    <tr>\n      <th>80369</th>\n      <td>-0.594910</td>\n      <td>-1.030502</td>\n      <td>2.073076</td>\n      <td>-0.544211</td>\n      <td>-0.223839</td>\n      <td>-1.198927</td>\n      <td>1.858945</td>\n      <td>-0.589161</td>\n      <td>-0.294533</td>\n      <td>0.559228</td>\n      <td>-0.064014</td>\n      <td>0.033587</td>\n      <td>-0.784126</td>\n    </tr>\n    <tr>\n      <th>80370</th>\n      <td>0.256079</td>\n      <td>0.811110</td>\n      <td>-0.206231</td>\n      <td>-0.966705</td>\n      <td>-0.265476</td>\n      <td>-1.198927</td>\n      <td>-0.081685</td>\n      <td>-1.074349</td>\n      <td>-1.038499</td>\n      <td>-0.595378</td>\n      <td>2.323405</td>\n      <td>-1.369553</td>\n      <td>0.041286</td>\n    </tr>\n  </tbody>\n</table>\n<p>80371 rows × 13 columns</p>\n</div>"
     },
     "execution_count": 6,
     "metadata": {},
     "output_type": "execute_result"
    }
   ],
   "source": [
    "from scipy import stats\n",
    "d_features = stats.zscore(d.drop(['user_id', 'track_id', 'weight'], axis=1))\n",
    "d_features"
   ],
   "metadata": {
    "collapsed": false,
    "ExecuteTime": {
     "end_time": "2023-12-26T19:27:50.038273245Z",
     "start_time": "2023-12-26T19:27:49.952996002Z"
    }
   },
   "id": "b46cbc66d87eecfa"
  },
  {
   "cell_type": "code",
   "execution_count": 7,
   "outputs": [
    {
     "name": "stdout",
     "output_type": "stream",
     "text": [
      "Num users: 1000, num_items 21792.\n"
     ]
    }
   ],
   "source": [
    "from lightfm.data import Dataset\n",
    "\n",
    "dataset = Dataset()\n",
    "dataset.fit(\n",
    "    users=d['user_id'],\n",
    "    items=d['track_id'],\n",
    "    item_features=d_features)\n",
    "\n",
    "num_users, num_items = dataset.interactions_shape()\n",
    "print('Num users: {}, num_items {}.'.format(num_users, num_items))"
   ],
   "metadata": {
    "collapsed": false,
    "ExecuteTime": {
     "end_time": "2023-12-26T19:27:50.104405636Z",
     "start_time": "2023-12-26T19:27:50.014637628Z"
    }
   },
   "id": "4117347bb9050b9"
  },
  {
   "cell_type": "code",
   "execution_count": 8,
   "outputs": [
    {
     "name": "stdout",
     "output_type": "stream",
     "text": [
      "<1000x21792 sparse matrix of type '<class 'numpy.int32'>'\n",
      "\twith 80371 stored elements in COOrdinate format>\n"
     ]
    }
   ],
   "source": [
    "(interactions, weights) = dataset.build_interactions(d[['user_id', 'track_id', 'weight']].apply(tuple, axis=1))\n",
    "\n",
    "print(repr(interactions))"
   ],
   "metadata": {
    "collapsed": false,
    "ExecuteTime": {
     "end_time": "2023-12-26T19:27:50.637329117Z",
     "start_time": "2023-12-26T19:27:50.099492948Z"
    }
   },
   "id": "4eb5ed0a862bb63f"
  },
  {
   "cell_type": "code",
   "execution_count": 9,
   "outputs": [],
   "source": [
    "from lightfm.cross_validation import random_train_test_split\n",
    "\n",
    "(train, test) = random_train_test_split(interactions)\n"
   ],
   "metadata": {
    "collapsed": false,
    "ExecuteTime": {
     "end_time": "2023-12-26T19:27:50.637572433Z",
     "start_time": "2023-12-26T19:27:50.614126197Z"
    }
   },
   "id": "1461533074210068"
  },
  {
   "cell_type": "code",
   "execution_count": 10,
   "outputs": [],
   "source": [
    "from lightfm import LightFM\n",
    "from lightfm.evaluation import auc_score, precision_at_k, recall_at_k, reciprocal_rank\n"
   ],
   "metadata": {
    "collapsed": false,
    "ExecuteTime": {
     "end_time": "2023-12-26T19:27:50.637724871Z",
     "start_time": "2023-12-26T19:27:50.619780462Z"
    }
   },
   "id": "184b2aa6fb122232"
  },
  {
   "cell_type": "code",
   "execution_count": 11,
   "outputs": [
    {
     "name": "stdout",
     "output_type": "stream",
     "text": [
      "<21792x21805 sparse matrix of type '<class 'numpy.float32'>'\n",
      "\twith 305088 stored elements in Compressed Sparse Row format>\n"
     ]
    }
   ],
   "source": [
    "feature_names = d.drop(['user_id', 'track_id', 'weight'], axis=1).columns\n",
    "# feature_names = [\"danceability\", \"energy\", \"key\", \"loudness\", \"speechiness\", \"acousticness\", \"instrumentalness\", \"liveness\", \"valence\", \"tempo\"]\n",
    "\n",
    "item_features = dataset.build_item_features(((i, feature_names) for i in d['track_id']))\n",
    "print(repr(item_features))"
   ],
   "metadata": {
    "collapsed": false,
    "ExecuteTime": {
     "end_time": "2023-12-26T19:27:51.496113667Z",
     "start_time": "2023-12-26T19:27:50.626327800Z"
    }
   },
   "id": "fcb0fbf749c93414"
  },
  {
   "cell_type": "code",
   "execution_count": 12,
   "outputs": [
    {
     "data": {
      "text/plain": "<lightfm.lightfm.LightFM at 0x7fd045a33430>"
     },
     "execution_count": 12,
     "metadata": {},
     "output_type": "execute_result"
    }
   ],
   "source": [
    "model_h = LightFM(\n",
    "    loss='warp-kos',\n",
    "    k=3,\n",
    "    learning_rate=0.02,\n",
    "    item_alpha=1e-4,\n",
    "    user_alpha=1e-4,\n",
    "    no_components=30,\n",
    ")\n",
    "model_h.fit(\n",
    "    interactions=train,\n",
    "    item_features=item_features,\n",
    "    epochs=50,\n",
    "    num_threads=12)"
   ],
   "metadata": {
    "collapsed": false,
    "ExecuteTime": {
     "end_time": "2023-12-26T19:28:18.696432282Z",
     "start_time": "2023-12-26T19:27:51.497741427Z"
    }
   },
   "id": "3ec2802c3e06efad"
  },
  {
   "cell_type": "code",
   "execution_count": 13,
   "outputs": [
    {
     "name": "stdout",
     "output_type": "stream",
     "text": [
      "AUC: train 0.639561, test 0.615446.\n",
      "Precision: train 0.009910, test 0.002424.\n",
      "Recall: train 0.001637, test 0.001553.\n",
      "Reciprocal rank: train 0.043242, test 0.011111.\n"
     ]
    }
   ],
   "source": [
    "train_auc_h = auc_score(model_h, train, item_features=item_features, num_threads=12).mean()\n",
    "test_auc_h = auc_score(model_h, test, train_interactions=train, item_features=item_features, num_threads=12).mean()\n",
    "\n",
    "train_precision_h = precision_at_k(model_h, train, k=10, item_features=item_features, num_threads=12).mean()\n",
    "test_precision_h = precision_at_k(model_h, test, k=10, train_interactions=train, item_features=item_features, num_threads=12).mean()\n",
    "\n",
    "train_recall_h = recall_at_k(model_h, train, k=10, item_features=item_features, num_threads=12).mean()\n",
    "test_recall_h = recall_at_k(model_h, test, k=10, train_interactions=train, item_features=item_features, num_threads=12).mean()\n",
    "\n",
    "train_reciprocal_rank_h = reciprocal_rank(model_h, train, item_features=item_features, num_threads=12).mean()\n",
    "test_reciprocal_rank_h = reciprocal_rank(model_h, test, train_interactions=train, item_features=item_features, num_threads=12).mean()\n",
    "\n",
    "print('AUC: train %.6f, test %.6f.' % (train_auc_h, test_auc_h))\n",
    "print('Precision: train %.6f, test %.6f.' % (train_precision_h, test_precision_h))\n",
    "print('Recall: train %.6f, test %.6f.' % (train_recall_h, test_recall_h))\n",
    "print('Reciprocal rank: train %.6f, test %.6f.' % (train_reciprocal_rank_h, test_reciprocal_rank_h))\n"
   ],
   "metadata": {
    "collapsed": false,
    "ExecuteTime": {
     "end_time": "2023-12-26T19:28:26.322922473Z",
     "start_time": "2023-12-26T19:28:18.676577660Z"
    }
   },
   "id": "e21c07a203780fd2"
  },
  {
   "cell_type": "code",
   "execution_count": 14,
   "outputs": [],
   "source": [
    "from scipy.sparse import csr_matrix\n",
    "\n",
    "i = np.zeros(interactions.shape)\n",
    "i[148][:] = np.ones(interactions.shape[1]) - train.getrow(148)\n",
    "i = csr_matrix(i)\n",
    "w = csr_matrix(np.ones(item_features.shape))\n"
   ],
   "metadata": {
    "collapsed": false,
    "ExecuteTime": {
     "end_time": "2023-12-26T19:29:54.679700418Z",
     "start_time": "2023-12-26T19:28:26.322031797Z"
    }
   },
   "id": "4e67df432e81262d"
  },
  {
   "cell_type": "code",
   "execution_count": 22,
   "outputs": [
    {
     "data": {
      "text/plain": "array([31.796694, 31.83146 , 32.53239 , ..., 30.233364, 30.236204,\n       30.247778], dtype=float32)"
     },
     "execution_count": 22,
     "metadata": {},
     "output_type": "execute_result"
    }
   ],
   "source": [
    "predicted_ranks = model_h.predict_rank(i, item_features=item_features, train_interactions=train, num_threads=12)\n",
    "predicted_ranks\n",
    "predicted_scores = model_h.predict(148 * np.ones((interactions.shape[1])), np.arange(interactions.shape[1]), item_features=item_features, num_threads=12)\n",
    "predicted_scores"
   ],
   "metadata": {
    "collapsed": false,
    "ExecuteTime": {
     "end_time": "2023-12-26T19:43:30.302912678Z",
     "start_time": "2023-12-26T19:43:29.129679189Z"
    }
   },
   "id": "ba8d458dbe5e11fc"
  },
  {
   "cell_type": "code",
   "execution_count": 20,
   "outputs": [
    {
     "ename": "KeyboardInterrupt",
     "evalue": "",
     "output_type": "error",
     "traceback": [
      "\u001B[0;31m---------------------------------------------------------------------------\u001B[0m",
      "\u001B[0;31mKeyboardInterrupt\u001B[0m                         Traceback (most recent call last)",
      "Cell \u001B[0;32mIn[20], line 1\u001B[0m\n\u001B[0;32m----> 1\u001B[0m \u001B[43mpredicted_scores\u001B[49m\n",
      "Cell \u001B[0;32mIn[20], line 1\u001B[0m\n\u001B[0;32m----> 1\u001B[0m \u001B[43mpredicted_scores\u001B[49m\n",
      "File \u001B[0;32m~/.local/share/JetBrains/Toolbox/apps/PyCharm-P/ch-0/232.10227.11/plugins/python/helpers/pydev/_pydevd_bundle/pydevd_frame.py:747\u001B[0m, in \u001B[0;36mPyDBFrame.trace_dispatch\u001B[0;34m(self, frame, event, arg)\u001B[0m\n\u001B[1;32m    745\u001B[0m \u001B[38;5;66;03m# if thread has a suspend flag, we suspend with a busy wait\u001B[39;00m\n\u001B[1;32m    746\u001B[0m \u001B[38;5;28;01mif\u001B[39;00m info\u001B[38;5;241m.\u001B[39mpydev_state \u001B[38;5;241m==\u001B[39m STATE_SUSPEND:\n\u001B[0;32m--> 747\u001B[0m     \u001B[38;5;28;43mself\u001B[39;49m\u001B[38;5;241;43m.\u001B[39;49m\u001B[43mdo_wait_suspend\u001B[49m\u001B[43m(\u001B[49m\u001B[43mthread\u001B[49m\u001B[43m,\u001B[49m\u001B[43m \u001B[49m\u001B[43mframe\u001B[49m\u001B[43m,\u001B[49m\u001B[43m \u001B[49m\u001B[43mevent\u001B[49m\u001B[43m,\u001B[49m\u001B[43m \u001B[49m\u001B[43marg\u001B[49m\u001B[43m)\u001B[49m\n\u001B[1;32m    748\u001B[0m     \u001B[38;5;66;03m# No need to reset frame.f_trace to keep the same trace function.\u001B[39;00m\n\u001B[1;32m    749\u001B[0m     \u001B[38;5;28;01mreturn\u001B[39;00m \u001B[38;5;28mself\u001B[39m\u001B[38;5;241m.\u001B[39mtrace_dispatch\n",
      "File \u001B[0;32m~/.local/share/JetBrains/Toolbox/apps/PyCharm-P/ch-0/232.10227.11/plugins/python/helpers/pydev/_pydevd_bundle/pydevd_frame.py:144\u001B[0m, in \u001B[0;36mPyDBFrame.do_wait_suspend\u001B[0;34m(self, *args, **kwargs)\u001B[0m\n\u001B[1;32m    143\u001B[0m \u001B[38;5;28;01mdef\u001B[39;00m \u001B[38;5;21mdo_wait_suspend\u001B[39m(\u001B[38;5;28mself\u001B[39m, \u001B[38;5;241m*\u001B[39margs, \u001B[38;5;241m*\u001B[39m\u001B[38;5;241m*\u001B[39mkwargs):\n\u001B[0;32m--> 144\u001B[0m     \u001B[38;5;28;43mself\u001B[39;49m\u001B[38;5;241;43m.\u001B[39;49m\u001B[43m_args\u001B[49m\u001B[43m[\u001B[49m\u001B[38;5;241;43m0\u001B[39;49m\u001B[43m]\u001B[49m\u001B[38;5;241;43m.\u001B[39;49m\u001B[43mdo_wait_suspend\u001B[49m\u001B[43m(\u001B[49m\u001B[38;5;241;43m*\u001B[39;49m\u001B[43margs\u001B[49m\u001B[43m,\u001B[49m\u001B[43m \u001B[49m\u001B[38;5;241;43m*\u001B[39;49m\u001B[38;5;241;43m*\u001B[39;49m\u001B[43mkwargs\u001B[49m\u001B[43m)\u001B[49m\n",
      "File \u001B[0;32m~/.local/share/JetBrains/Toolbox/apps/PyCharm-P/ch-0/232.10227.11/plugins/python/helpers/pydev/pydevd.py:1160\u001B[0m, in \u001B[0;36mPyDB.do_wait_suspend\u001B[0;34m(self, thread, frame, event, arg, send_suspend_message, is_unhandled_exception)\u001B[0m\n\u001B[1;32m   1157\u001B[0m         from_this_thread\u001B[38;5;241m.\u001B[39mappend(frame_id)\n\u001B[1;32m   1159\u001B[0m \u001B[38;5;28;01mwith\u001B[39;00m \u001B[38;5;28mself\u001B[39m\u001B[38;5;241m.\u001B[39m_threads_suspended_single_notification\u001B[38;5;241m.\u001B[39mnotify_thread_suspended(thread_id, stop_reason):\n\u001B[0;32m-> 1160\u001B[0m     \u001B[38;5;28;43mself\u001B[39;49m\u001B[38;5;241;43m.\u001B[39;49m\u001B[43m_do_wait_suspend\u001B[49m\u001B[43m(\u001B[49m\u001B[43mthread\u001B[49m\u001B[43m,\u001B[49m\u001B[43m \u001B[49m\u001B[43mframe\u001B[49m\u001B[43m,\u001B[49m\u001B[43m \u001B[49m\u001B[43mevent\u001B[49m\u001B[43m,\u001B[49m\u001B[43m \u001B[49m\u001B[43marg\u001B[49m\u001B[43m,\u001B[49m\u001B[43m \u001B[49m\u001B[43msuspend_type\u001B[49m\u001B[43m,\u001B[49m\u001B[43m \u001B[49m\u001B[43mfrom_this_thread\u001B[49m\u001B[43m)\u001B[49m\n",
      "File \u001B[0;32m~/.local/share/JetBrains/Toolbox/apps/PyCharm-P/ch-0/232.10227.11/plugins/python/helpers/pydev/pydevd.py:1175\u001B[0m, in \u001B[0;36mPyDB._do_wait_suspend\u001B[0;34m(self, thread, frame, event, arg, suspend_type, from_this_thread)\u001B[0m\n\u001B[1;32m   1172\u001B[0m             \u001B[38;5;28mself\u001B[39m\u001B[38;5;241m.\u001B[39m_call_mpl_hook()\n\u001B[1;32m   1174\u001B[0m         \u001B[38;5;28mself\u001B[39m\u001B[38;5;241m.\u001B[39mprocess_internal_commands()\n\u001B[0;32m-> 1175\u001B[0m         \u001B[43mtime\u001B[49m\u001B[38;5;241;43m.\u001B[39;49m\u001B[43msleep\u001B[49m\u001B[43m(\u001B[49m\u001B[38;5;241;43m0.01\u001B[39;49m\u001B[43m)\u001B[49m\n\u001B[1;32m   1177\u001B[0m \u001B[38;5;28mself\u001B[39m\u001B[38;5;241m.\u001B[39mcancel_async_evaluation(get_current_thread_id(thread), \u001B[38;5;28mstr\u001B[39m(\u001B[38;5;28mid\u001B[39m(frame)))\n\u001B[1;32m   1179\u001B[0m \u001B[38;5;66;03m# process any stepping instructions\u001B[39;00m\n",
      "\u001B[0;31mKeyboardInterrupt\u001B[0m: "
     ]
    }
   ],
   "source": [
    "predicted_scores\n"
   ],
   "metadata": {
    "collapsed": false,
    "ExecuteTime": {
     "end_time": "2023-12-26T19:43:01.895777854Z",
     "start_time": "2023-12-26T19:35:00.651648025Z"
    }
   },
   "id": "413297d7e76254d9"
  }
 ],
 "metadata": {
  "kernelspec": {
   "display_name": "Python 3",
   "language": "python",
   "name": "python3"
  },
  "language_info": {
   "codemirror_mode": {
    "name": "ipython",
    "version": 2
   },
   "file_extension": ".py",
   "mimetype": "text/x-python",
   "name": "python",
   "nbconvert_exporter": "python",
   "pygments_lexer": "ipython2",
   "version": "2.7.6"
  }
 },
 "nbformat": 4,
 "nbformat_minor": 5
}
